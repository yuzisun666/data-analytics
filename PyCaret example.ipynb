{
  "nbformat": 4,
  "nbformat_minor": 0,
  "metadata": {
    "colab": {
      "provenance": []
    },
    "kernelspec": {
      "name": "python3",
      "display_name": "Python 3"
    },
    "language_info": {
      "name": "python"
    },
    "widgets": {
      "application/vnd.jupyter.widget-state+json": {
        "3c3aca33c3ae44959fd7dbb3e5e1f2dd": {
          "model_module": "@jupyter-widgets/controls",
          "model_name": "HBoxModel",
          "model_module_version": "1.5.0",
          "state": {
            "_dom_classes": [],
            "_model_module": "@jupyter-widgets/controls",
            "_model_module_version": "1.5.0",
            "_model_name": "HBoxModel",
            "_view_count": null,
            "_view_module": "@jupyter-widgets/controls",
            "_view_module_version": "1.5.0",
            "_view_name": "HBoxView",
            "box_style": "",
            "children": [
              "IPY_MODEL_c12b1e261750450594b09f0f300c6e82",
              "IPY_MODEL_1b3c12220604450683fb29d14f0a9d2c",
              "IPY_MODEL_95bc19cb73ef48b783fb64a2db4a7665"
            ],
            "layout": "IPY_MODEL_74f7ebb57e3d4fa3a50e5bce4bd35881"
          }
        },
        "c12b1e261750450594b09f0f300c6e82": {
          "model_module": "@jupyter-widgets/controls",
          "model_name": "HTMLModel",
          "model_module_version": "1.5.0",
          "state": {
            "_dom_classes": [],
            "_model_module": "@jupyter-widgets/controls",
            "_model_module_version": "1.5.0",
            "_model_name": "HTMLModel",
            "_view_count": null,
            "_view_module": "@jupyter-widgets/controls",
            "_view_module_version": "1.5.0",
            "_view_name": "HTMLView",
            "description": "",
            "description_tooltip": null,
            "layout": "IPY_MODEL_c6bacfafa63e4d5a9ff8dc6db38806e2",
            "placeholder": "​",
            "style": "IPY_MODEL_ac4d360e54b84c86ae115a03f8ffbfbb",
            "value": "Processing: 100%"
          }
        },
        "1b3c12220604450683fb29d14f0a9d2c": {
          "model_module": "@jupyter-widgets/controls",
          "model_name": "FloatProgressModel",
          "model_module_version": "1.5.0",
          "state": {
            "_dom_classes": [],
            "_model_module": "@jupyter-widgets/controls",
            "_model_module_version": "1.5.0",
            "_model_name": "FloatProgressModel",
            "_view_count": null,
            "_view_module": "@jupyter-widgets/controls",
            "_view_module_version": "1.5.0",
            "_view_name": "ProgressView",
            "bar_style": "",
            "description": "",
            "description_tooltip": null,
            "layout": "IPY_MODEL_e9c9cdc711fc45c19fca461e0c499a8f",
            "max": 65,
            "min": 0,
            "orientation": "horizontal",
            "style": "IPY_MODEL_d916dc33a37c4ddfafdb8ec077352bdb",
            "value": 65
          }
        },
        "95bc19cb73ef48b783fb64a2db4a7665": {
          "model_module": "@jupyter-widgets/controls",
          "model_name": "HTMLModel",
          "model_module_version": "1.5.0",
          "state": {
            "_dom_classes": [],
            "_model_module": "@jupyter-widgets/controls",
            "_model_module_version": "1.5.0",
            "_model_name": "HTMLModel",
            "_view_count": null,
            "_view_module": "@jupyter-widgets/controls",
            "_view_module_version": "1.5.0",
            "_view_name": "HTMLView",
            "description": "",
            "description_tooltip": null,
            "layout": "IPY_MODEL_0dd1ff10b99246c3a45a2dde92af3f2c",
            "placeholder": "​",
            "style": "IPY_MODEL_0205b48252514e8c85fc2fdceaf3470e",
            "value": " 65/65 [00:17&lt;00:00,  5.59it/s]"
          }
        },
        "74f7ebb57e3d4fa3a50e5bce4bd35881": {
          "model_module": "@jupyter-widgets/base",
          "model_name": "LayoutModel",
          "model_module_version": "1.2.0",
          "state": {
            "_model_module": "@jupyter-widgets/base",
            "_model_module_version": "1.2.0",
            "_model_name": "LayoutModel",
            "_view_count": null,
            "_view_module": "@jupyter-widgets/base",
            "_view_module_version": "1.2.0",
            "_view_name": "LayoutView",
            "align_content": null,
            "align_items": null,
            "align_self": null,
            "border": null,
            "bottom": null,
            "display": null,
            "flex": null,
            "flex_flow": null,
            "grid_area": null,
            "grid_auto_columns": null,
            "grid_auto_flow": null,
            "grid_auto_rows": null,
            "grid_column": null,
            "grid_gap": null,
            "grid_row": null,
            "grid_template_areas": null,
            "grid_template_columns": null,
            "grid_template_rows": null,
            "height": null,
            "justify_content": null,
            "justify_items": null,
            "left": null,
            "margin": null,
            "max_height": null,
            "max_width": null,
            "min_height": null,
            "min_width": null,
            "object_fit": null,
            "object_position": null,
            "order": null,
            "overflow": null,
            "overflow_x": null,
            "overflow_y": null,
            "padding": null,
            "right": null,
            "top": null,
            "visibility": "hidden",
            "width": null
          }
        },
        "c6bacfafa63e4d5a9ff8dc6db38806e2": {
          "model_module": "@jupyter-widgets/base",
          "model_name": "LayoutModel",
          "model_module_version": "1.2.0",
          "state": {
            "_model_module": "@jupyter-widgets/base",
            "_model_module_version": "1.2.0",
            "_model_name": "LayoutModel",
            "_view_count": null,
            "_view_module": "@jupyter-widgets/base",
            "_view_module_version": "1.2.0",
            "_view_name": "LayoutView",
            "align_content": null,
            "align_items": null,
            "align_self": null,
            "border": null,
            "bottom": null,
            "display": null,
            "flex": null,
            "flex_flow": null,
            "grid_area": null,
            "grid_auto_columns": null,
            "grid_auto_flow": null,
            "grid_auto_rows": null,
            "grid_column": null,
            "grid_gap": null,
            "grid_row": null,
            "grid_template_areas": null,
            "grid_template_columns": null,
            "grid_template_rows": null,
            "height": null,
            "justify_content": null,
            "justify_items": null,
            "left": null,
            "margin": null,
            "max_height": null,
            "max_width": null,
            "min_height": null,
            "min_width": null,
            "object_fit": null,
            "object_position": null,
            "order": null,
            "overflow": null,
            "overflow_x": null,
            "overflow_y": null,
            "padding": null,
            "right": null,
            "top": null,
            "visibility": null,
            "width": null
          }
        },
        "ac4d360e54b84c86ae115a03f8ffbfbb": {
          "model_module": "@jupyter-widgets/controls",
          "model_name": "DescriptionStyleModel",
          "model_module_version": "1.5.0",
          "state": {
            "_model_module": "@jupyter-widgets/controls",
            "_model_module_version": "1.5.0",
            "_model_name": "DescriptionStyleModel",
            "_view_count": null,
            "_view_module": "@jupyter-widgets/base",
            "_view_module_version": "1.2.0",
            "_view_name": "StyleView",
            "description_width": ""
          }
        },
        "e9c9cdc711fc45c19fca461e0c499a8f": {
          "model_module": "@jupyter-widgets/base",
          "model_name": "LayoutModel",
          "model_module_version": "1.2.0",
          "state": {
            "_model_module": "@jupyter-widgets/base",
            "_model_module_version": "1.2.0",
            "_model_name": "LayoutModel",
            "_view_count": null,
            "_view_module": "@jupyter-widgets/base",
            "_view_module_version": "1.2.0",
            "_view_name": "LayoutView",
            "align_content": null,
            "align_items": null,
            "align_self": null,
            "border": null,
            "bottom": null,
            "display": null,
            "flex": null,
            "flex_flow": null,
            "grid_area": null,
            "grid_auto_columns": null,
            "grid_auto_flow": null,
            "grid_auto_rows": null,
            "grid_column": null,
            "grid_gap": null,
            "grid_row": null,
            "grid_template_areas": null,
            "grid_template_columns": null,
            "grid_template_rows": null,
            "height": null,
            "justify_content": null,
            "justify_items": null,
            "left": null,
            "margin": null,
            "max_height": null,
            "max_width": null,
            "min_height": null,
            "min_width": null,
            "object_fit": null,
            "object_position": null,
            "order": null,
            "overflow": null,
            "overflow_x": null,
            "overflow_y": null,
            "padding": null,
            "right": null,
            "top": null,
            "visibility": null,
            "width": null
          }
        },
        "d916dc33a37c4ddfafdb8ec077352bdb": {
          "model_module": "@jupyter-widgets/controls",
          "model_name": "ProgressStyleModel",
          "model_module_version": "1.5.0",
          "state": {
            "_model_module": "@jupyter-widgets/controls",
            "_model_module_version": "1.5.0",
            "_model_name": "ProgressStyleModel",
            "_view_count": null,
            "_view_module": "@jupyter-widgets/base",
            "_view_module_version": "1.2.0",
            "_view_name": "StyleView",
            "bar_color": null,
            "description_width": ""
          }
        },
        "0dd1ff10b99246c3a45a2dde92af3f2c": {
          "model_module": "@jupyter-widgets/base",
          "model_name": "LayoutModel",
          "model_module_version": "1.2.0",
          "state": {
            "_model_module": "@jupyter-widgets/base",
            "_model_module_version": "1.2.0",
            "_model_name": "LayoutModel",
            "_view_count": null,
            "_view_module": "@jupyter-widgets/base",
            "_view_module_version": "1.2.0",
            "_view_name": "LayoutView",
            "align_content": null,
            "align_items": null,
            "align_self": null,
            "border": null,
            "bottom": null,
            "display": null,
            "flex": null,
            "flex_flow": null,
            "grid_area": null,
            "grid_auto_columns": null,
            "grid_auto_flow": null,
            "grid_auto_rows": null,
            "grid_column": null,
            "grid_gap": null,
            "grid_row": null,
            "grid_template_areas": null,
            "grid_template_columns": null,
            "grid_template_rows": null,
            "height": null,
            "justify_content": null,
            "justify_items": null,
            "left": null,
            "margin": null,
            "max_height": null,
            "max_width": null,
            "min_height": null,
            "min_width": null,
            "object_fit": null,
            "object_position": null,
            "order": null,
            "overflow": null,
            "overflow_x": null,
            "overflow_y": null,
            "padding": null,
            "right": null,
            "top": null,
            "visibility": null,
            "width": null
          }
        },
        "0205b48252514e8c85fc2fdceaf3470e": {
          "model_module": "@jupyter-widgets/controls",
          "model_name": "DescriptionStyleModel",
          "model_module_version": "1.5.0",
          "state": {
            "_model_module": "@jupyter-widgets/controls",
            "_model_module_version": "1.5.0",
            "_model_name": "DescriptionStyleModel",
            "_view_count": null,
            "_view_module": "@jupyter-widgets/base",
            "_view_module_version": "1.2.0",
            "_view_name": "StyleView",
            "description_width": ""
          }
        }
      }
    }
  },
  "cells": [
    {
      "cell_type": "code",
      "execution_count": null,
      "metadata": {
        "id": "x4i5Db0e5LKn"
      },
      "outputs": [],
      "source": [
        "!pip install pycaret"
      ]
    },
    {
      "cell_type": "code",
      "source": [
        "# loading sample dataset from pycaret dataset module\n",
        "from pycaret.datasets import get_data\n",
        "data = get_data('diabetes')"
      ],
      "metadata": {
        "id": "nyEwAebf56Hw"
      },
      "execution_count": null,
      "outputs": []
    },
    {
      "cell_type": "code",
      "source": [
        "# import pycaret classification and init setup\n",
        "from pycaret.classification import *\n",
        "s = setup(data, target = 'Class variable', session_id = 123)"
      ],
      "metadata": {
        "colab": {
          "base_uri": "https://localhost:8080/",
          "height": 645
        },
        "id": "nz_YL4Ys56PM",
        "outputId": "5c6a2708-eff2-46f0-a0d7-bf18edea88d1"
      },
      "execution_count": null,
      "outputs": [
        {
          "output_type": "display_data",
          "data": {
            "text/plain": [
              "<pandas.io.formats.style.Styler at 0x7f6c1fab63d0>"
            ],
            "text/html": [
              "<style type=\"text/css\">\n",
              "#T_09483_row8_col1 {\n",
              "  background-color: lightgreen;\n",
              "}\n",
              "</style>\n",
              "<table id=\"T_09483\" class=\"dataframe\">\n",
              "  <thead>\n",
              "    <tr>\n",
              "      <th class=\"blank level0\" >&nbsp;</th>\n",
              "      <th id=\"T_09483_level0_col0\" class=\"col_heading level0 col0\" >Description</th>\n",
              "      <th id=\"T_09483_level0_col1\" class=\"col_heading level0 col1\" >Value</th>\n",
              "    </tr>\n",
              "  </thead>\n",
              "  <tbody>\n",
              "    <tr>\n",
              "      <th id=\"T_09483_level0_row0\" class=\"row_heading level0 row0\" >0</th>\n",
              "      <td id=\"T_09483_row0_col0\" class=\"data row0 col0\" >Session id</td>\n",
              "      <td id=\"T_09483_row0_col1\" class=\"data row0 col1\" >123</td>\n",
              "    </tr>\n",
              "    <tr>\n",
              "      <th id=\"T_09483_level0_row1\" class=\"row_heading level0 row1\" >1</th>\n",
              "      <td id=\"T_09483_row1_col0\" class=\"data row1 col0\" >Target</td>\n",
              "      <td id=\"T_09483_row1_col1\" class=\"data row1 col1\" >Class variable</td>\n",
              "    </tr>\n",
              "    <tr>\n",
              "      <th id=\"T_09483_level0_row2\" class=\"row_heading level0 row2\" >2</th>\n",
              "      <td id=\"T_09483_row2_col0\" class=\"data row2 col0\" >Target type</td>\n",
              "      <td id=\"T_09483_row2_col1\" class=\"data row2 col1\" >Binary</td>\n",
              "    </tr>\n",
              "    <tr>\n",
              "      <th id=\"T_09483_level0_row3\" class=\"row_heading level0 row3\" >3</th>\n",
              "      <td id=\"T_09483_row3_col0\" class=\"data row3 col0\" >Original data shape</td>\n",
              "      <td id=\"T_09483_row3_col1\" class=\"data row3 col1\" >(768, 9)</td>\n",
              "    </tr>\n",
              "    <tr>\n",
              "      <th id=\"T_09483_level0_row4\" class=\"row_heading level0 row4\" >4</th>\n",
              "      <td id=\"T_09483_row4_col0\" class=\"data row4 col0\" >Transformed data shape</td>\n",
              "      <td id=\"T_09483_row4_col1\" class=\"data row4 col1\" >(768, 9)</td>\n",
              "    </tr>\n",
              "    <tr>\n",
              "      <th id=\"T_09483_level0_row5\" class=\"row_heading level0 row5\" >5</th>\n",
              "      <td id=\"T_09483_row5_col0\" class=\"data row5 col0\" >Transformed train set shape</td>\n",
              "      <td id=\"T_09483_row5_col1\" class=\"data row5 col1\" >(537, 9)</td>\n",
              "    </tr>\n",
              "    <tr>\n",
              "      <th id=\"T_09483_level0_row6\" class=\"row_heading level0 row6\" >6</th>\n",
              "      <td id=\"T_09483_row6_col0\" class=\"data row6 col0\" >Transformed test set shape</td>\n",
              "      <td id=\"T_09483_row6_col1\" class=\"data row6 col1\" >(231, 9)</td>\n",
              "    </tr>\n",
              "    <tr>\n",
              "      <th id=\"T_09483_level0_row7\" class=\"row_heading level0 row7\" >7</th>\n",
              "      <td id=\"T_09483_row7_col0\" class=\"data row7 col0\" >Numeric features</td>\n",
              "      <td id=\"T_09483_row7_col1\" class=\"data row7 col1\" >8</td>\n",
              "    </tr>\n",
              "    <tr>\n",
              "      <th id=\"T_09483_level0_row8\" class=\"row_heading level0 row8\" >8</th>\n",
              "      <td id=\"T_09483_row8_col0\" class=\"data row8 col0\" >Preprocess</td>\n",
              "      <td id=\"T_09483_row8_col1\" class=\"data row8 col1\" >True</td>\n",
              "    </tr>\n",
              "    <tr>\n",
              "      <th id=\"T_09483_level0_row9\" class=\"row_heading level0 row9\" >9</th>\n",
              "      <td id=\"T_09483_row9_col0\" class=\"data row9 col0\" >Imputation type</td>\n",
              "      <td id=\"T_09483_row9_col1\" class=\"data row9 col1\" >simple</td>\n",
              "    </tr>\n",
              "    <tr>\n",
              "      <th id=\"T_09483_level0_row10\" class=\"row_heading level0 row10\" >10</th>\n",
              "      <td id=\"T_09483_row10_col0\" class=\"data row10 col0\" >Numeric imputation</td>\n",
              "      <td id=\"T_09483_row10_col1\" class=\"data row10 col1\" >mean</td>\n",
              "    </tr>\n",
              "    <tr>\n",
              "      <th id=\"T_09483_level0_row11\" class=\"row_heading level0 row11\" >11</th>\n",
              "      <td id=\"T_09483_row11_col0\" class=\"data row11 col0\" >Categorical imputation</td>\n",
              "      <td id=\"T_09483_row11_col1\" class=\"data row11 col1\" >mode</td>\n",
              "    </tr>\n",
              "    <tr>\n",
              "      <th id=\"T_09483_level0_row12\" class=\"row_heading level0 row12\" >12</th>\n",
              "      <td id=\"T_09483_row12_col0\" class=\"data row12 col0\" >Fold Generator</td>\n",
              "      <td id=\"T_09483_row12_col1\" class=\"data row12 col1\" >StratifiedKFold</td>\n",
              "    </tr>\n",
              "    <tr>\n",
              "      <th id=\"T_09483_level0_row13\" class=\"row_heading level0 row13\" >13</th>\n",
              "      <td id=\"T_09483_row13_col0\" class=\"data row13 col0\" >Fold Number</td>\n",
              "      <td id=\"T_09483_row13_col1\" class=\"data row13 col1\" >10</td>\n",
              "    </tr>\n",
              "    <tr>\n",
              "      <th id=\"T_09483_level0_row14\" class=\"row_heading level0 row14\" >14</th>\n",
              "      <td id=\"T_09483_row14_col0\" class=\"data row14 col0\" >CPU Jobs</td>\n",
              "      <td id=\"T_09483_row14_col1\" class=\"data row14 col1\" >-1</td>\n",
              "    </tr>\n",
              "    <tr>\n",
              "      <th id=\"T_09483_level0_row15\" class=\"row_heading level0 row15\" >15</th>\n",
              "      <td id=\"T_09483_row15_col0\" class=\"data row15 col0\" >Use GPU</td>\n",
              "      <td id=\"T_09483_row15_col1\" class=\"data row15 col1\" >False</td>\n",
              "    </tr>\n",
              "    <tr>\n",
              "      <th id=\"T_09483_level0_row16\" class=\"row_heading level0 row16\" >16</th>\n",
              "      <td id=\"T_09483_row16_col0\" class=\"data row16 col0\" >Log Experiment</td>\n",
              "      <td id=\"T_09483_row16_col1\" class=\"data row16 col1\" >False</td>\n",
              "    </tr>\n",
              "    <tr>\n",
              "      <th id=\"T_09483_level0_row17\" class=\"row_heading level0 row17\" >17</th>\n",
              "      <td id=\"T_09483_row17_col0\" class=\"data row17 col0\" >Experiment Name</td>\n",
              "      <td id=\"T_09483_row17_col1\" class=\"data row17 col1\" >clf-default-name</td>\n",
              "    </tr>\n",
              "    <tr>\n",
              "      <th id=\"T_09483_level0_row18\" class=\"row_heading level0 row18\" >18</th>\n",
              "      <td id=\"T_09483_row18_col0\" class=\"data row18 col0\" >USI</td>\n",
              "      <td id=\"T_09483_row18_col1\" class=\"data row18 col1\" >f2b6</td>\n",
              "    </tr>\n",
              "  </tbody>\n",
              "</table>\n"
            ]
          },
          "metadata": {}
        }
      ]
    },
    {
      "cell_type": "code",
      "source": [
        "# import ClassificationExperiment and init the class\n",
        "from pycaret.classification import ClassificationExperiment\n",
        "exp = ClassificationExperiment()"
      ],
      "metadata": {
        "id": "t4gw0aYf56SE"
      },
      "execution_count": null,
      "outputs": []
    },
    {
      "cell_type": "code",
      "source": [
        "# init setup on exp\n",
        "exp.setup(data, target = 'Class variable', session_id = 123)"
      ],
      "metadata": {
        "colab": {
          "base_uri": "https://localhost:8080/",
          "height": 662
        },
        "id": "eSDkkfFM56VO",
        "outputId": "e0f6c911-300e-4883-8fd3-6ccb1ffb2151"
      },
      "execution_count": null,
      "outputs": [
        {
          "output_type": "display_data",
          "data": {
            "text/plain": [
              "<pandas.io.formats.style.Styler at 0x7f6c1fcaf490>"
            ],
            "text/html": [
              "<style type=\"text/css\">\n",
              "#T_9d6de_row8_col1 {\n",
              "  background-color: lightgreen;\n",
              "}\n",
              "</style>\n",
              "<table id=\"T_9d6de\" class=\"dataframe\">\n",
              "  <thead>\n",
              "    <tr>\n",
              "      <th class=\"blank level0\" >&nbsp;</th>\n",
              "      <th id=\"T_9d6de_level0_col0\" class=\"col_heading level0 col0\" >Description</th>\n",
              "      <th id=\"T_9d6de_level0_col1\" class=\"col_heading level0 col1\" >Value</th>\n",
              "    </tr>\n",
              "  </thead>\n",
              "  <tbody>\n",
              "    <tr>\n",
              "      <th id=\"T_9d6de_level0_row0\" class=\"row_heading level0 row0\" >0</th>\n",
              "      <td id=\"T_9d6de_row0_col0\" class=\"data row0 col0\" >Session id</td>\n",
              "      <td id=\"T_9d6de_row0_col1\" class=\"data row0 col1\" >123</td>\n",
              "    </tr>\n",
              "    <tr>\n",
              "      <th id=\"T_9d6de_level0_row1\" class=\"row_heading level0 row1\" >1</th>\n",
              "      <td id=\"T_9d6de_row1_col0\" class=\"data row1 col0\" >Target</td>\n",
              "      <td id=\"T_9d6de_row1_col1\" class=\"data row1 col1\" >Class variable</td>\n",
              "    </tr>\n",
              "    <tr>\n",
              "      <th id=\"T_9d6de_level0_row2\" class=\"row_heading level0 row2\" >2</th>\n",
              "      <td id=\"T_9d6de_row2_col0\" class=\"data row2 col0\" >Target type</td>\n",
              "      <td id=\"T_9d6de_row2_col1\" class=\"data row2 col1\" >Binary</td>\n",
              "    </tr>\n",
              "    <tr>\n",
              "      <th id=\"T_9d6de_level0_row3\" class=\"row_heading level0 row3\" >3</th>\n",
              "      <td id=\"T_9d6de_row3_col0\" class=\"data row3 col0\" >Original data shape</td>\n",
              "      <td id=\"T_9d6de_row3_col1\" class=\"data row3 col1\" >(768, 9)</td>\n",
              "    </tr>\n",
              "    <tr>\n",
              "      <th id=\"T_9d6de_level0_row4\" class=\"row_heading level0 row4\" >4</th>\n",
              "      <td id=\"T_9d6de_row4_col0\" class=\"data row4 col0\" >Transformed data shape</td>\n",
              "      <td id=\"T_9d6de_row4_col1\" class=\"data row4 col1\" >(768, 9)</td>\n",
              "    </tr>\n",
              "    <tr>\n",
              "      <th id=\"T_9d6de_level0_row5\" class=\"row_heading level0 row5\" >5</th>\n",
              "      <td id=\"T_9d6de_row5_col0\" class=\"data row5 col0\" >Transformed train set shape</td>\n",
              "      <td id=\"T_9d6de_row5_col1\" class=\"data row5 col1\" >(537, 9)</td>\n",
              "    </tr>\n",
              "    <tr>\n",
              "      <th id=\"T_9d6de_level0_row6\" class=\"row_heading level0 row6\" >6</th>\n",
              "      <td id=\"T_9d6de_row6_col0\" class=\"data row6 col0\" >Transformed test set shape</td>\n",
              "      <td id=\"T_9d6de_row6_col1\" class=\"data row6 col1\" >(231, 9)</td>\n",
              "    </tr>\n",
              "    <tr>\n",
              "      <th id=\"T_9d6de_level0_row7\" class=\"row_heading level0 row7\" >7</th>\n",
              "      <td id=\"T_9d6de_row7_col0\" class=\"data row7 col0\" >Numeric features</td>\n",
              "      <td id=\"T_9d6de_row7_col1\" class=\"data row7 col1\" >8</td>\n",
              "    </tr>\n",
              "    <tr>\n",
              "      <th id=\"T_9d6de_level0_row8\" class=\"row_heading level0 row8\" >8</th>\n",
              "      <td id=\"T_9d6de_row8_col0\" class=\"data row8 col0\" >Preprocess</td>\n",
              "      <td id=\"T_9d6de_row8_col1\" class=\"data row8 col1\" >True</td>\n",
              "    </tr>\n",
              "    <tr>\n",
              "      <th id=\"T_9d6de_level0_row9\" class=\"row_heading level0 row9\" >9</th>\n",
              "      <td id=\"T_9d6de_row9_col0\" class=\"data row9 col0\" >Imputation type</td>\n",
              "      <td id=\"T_9d6de_row9_col1\" class=\"data row9 col1\" >simple</td>\n",
              "    </tr>\n",
              "    <tr>\n",
              "      <th id=\"T_9d6de_level0_row10\" class=\"row_heading level0 row10\" >10</th>\n",
              "      <td id=\"T_9d6de_row10_col0\" class=\"data row10 col0\" >Numeric imputation</td>\n",
              "      <td id=\"T_9d6de_row10_col1\" class=\"data row10 col1\" >mean</td>\n",
              "    </tr>\n",
              "    <tr>\n",
              "      <th id=\"T_9d6de_level0_row11\" class=\"row_heading level0 row11\" >11</th>\n",
              "      <td id=\"T_9d6de_row11_col0\" class=\"data row11 col0\" >Categorical imputation</td>\n",
              "      <td id=\"T_9d6de_row11_col1\" class=\"data row11 col1\" >mode</td>\n",
              "    </tr>\n",
              "    <tr>\n",
              "      <th id=\"T_9d6de_level0_row12\" class=\"row_heading level0 row12\" >12</th>\n",
              "      <td id=\"T_9d6de_row12_col0\" class=\"data row12 col0\" >Fold Generator</td>\n",
              "      <td id=\"T_9d6de_row12_col1\" class=\"data row12 col1\" >StratifiedKFold</td>\n",
              "    </tr>\n",
              "    <tr>\n",
              "      <th id=\"T_9d6de_level0_row13\" class=\"row_heading level0 row13\" >13</th>\n",
              "      <td id=\"T_9d6de_row13_col0\" class=\"data row13 col0\" >Fold Number</td>\n",
              "      <td id=\"T_9d6de_row13_col1\" class=\"data row13 col1\" >10</td>\n",
              "    </tr>\n",
              "    <tr>\n",
              "      <th id=\"T_9d6de_level0_row14\" class=\"row_heading level0 row14\" >14</th>\n",
              "      <td id=\"T_9d6de_row14_col0\" class=\"data row14 col0\" >CPU Jobs</td>\n",
              "      <td id=\"T_9d6de_row14_col1\" class=\"data row14 col1\" >-1</td>\n",
              "    </tr>\n",
              "    <tr>\n",
              "      <th id=\"T_9d6de_level0_row15\" class=\"row_heading level0 row15\" >15</th>\n",
              "      <td id=\"T_9d6de_row15_col0\" class=\"data row15 col0\" >Use GPU</td>\n",
              "      <td id=\"T_9d6de_row15_col1\" class=\"data row15 col1\" >False</td>\n",
              "    </tr>\n",
              "    <tr>\n",
              "      <th id=\"T_9d6de_level0_row16\" class=\"row_heading level0 row16\" >16</th>\n",
              "      <td id=\"T_9d6de_row16_col0\" class=\"data row16 col0\" >Log Experiment</td>\n",
              "      <td id=\"T_9d6de_row16_col1\" class=\"data row16 col1\" >False</td>\n",
              "    </tr>\n",
              "    <tr>\n",
              "      <th id=\"T_9d6de_level0_row17\" class=\"row_heading level0 row17\" >17</th>\n",
              "      <td id=\"T_9d6de_row17_col0\" class=\"data row17 col0\" >Experiment Name</td>\n",
              "      <td id=\"T_9d6de_row17_col1\" class=\"data row17 col1\" >clf-default-name</td>\n",
              "    </tr>\n",
              "    <tr>\n",
              "      <th id=\"T_9d6de_level0_row18\" class=\"row_heading level0 row18\" >18</th>\n",
              "      <td id=\"T_9d6de_row18_col0\" class=\"data row18 col0\" >USI</td>\n",
              "      <td id=\"T_9d6de_row18_col1\" class=\"data row18 col1\" >0f33</td>\n",
              "    </tr>\n",
              "  </tbody>\n",
              "</table>\n"
            ]
          },
          "metadata": {}
        },
        {
          "output_type": "execute_result",
          "data": {
            "text/plain": [
              "<pycaret.classification.oop.ClassificationExperiment at 0x7f6c3e28ae50>"
            ]
          },
          "metadata": {},
          "execution_count": 5
        }
      ]
    },
    {
      "cell_type": "code",
      "source": [
        "# compare baseline models\n",
        "best = compare_models()"
      ],
      "metadata": {
        "colab": {
          "base_uri": "https://localhost:8080/",
          "height": 519,
          "referenced_widgets": [
            "3c3aca33c3ae44959fd7dbb3e5e1f2dd",
            "c12b1e261750450594b09f0f300c6e82",
            "1b3c12220604450683fb29d14f0a9d2c",
            "95bc19cb73ef48b783fb64a2db4a7665",
            "74f7ebb57e3d4fa3a50e5bce4bd35881",
            "c6bacfafa63e4d5a9ff8dc6db38806e2",
            "ac4d360e54b84c86ae115a03f8ffbfbb",
            "e9c9cdc711fc45c19fca461e0c499a8f",
            "d916dc33a37c4ddfafdb8ec077352bdb",
            "0dd1ff10b99246c3a45a2dde92af3f2c",
            "0205b48252514e8c85fc2fdceaf3470e"
          ]
        },
        "id": "qXzRk1TD56Xk",
        "outputId": "e90d857c-25de-4f03-8235-7a93c5d13a1e"
      },
      "execution_count": null,
      "outputs": [
        {
          "output_type": "display_data",
          "data": {
            "text/plain": [
              "<IPython.core.display.HTML object>"
            ],
            "text/html": []
          },
          "metadata": {}
        },
        {
          "output_type": "display_data",
          "data": {
            "text/plain": [
              "<pandas.io.formats.style.Styler at 0x7f6c1d55c250>"
            ],
            "text/html": [
              "<style type=\"text/css\">\n",
              "#T_1b567 th {\n",
              "  text-align: left;\n",
              "}\n",
              "#T_1b567_row0_col0, #T_1b567_row0_col2, #T_1b567_row0_col3, #T_1b567_row0_col4, #T_1b567_row1_col0, #T_1b567_row1_col1, #T_1b567_row1_col2, #T_1b567_row1_col3, #T_1b567_row1_col5, #T_1b567_row1_col6, #T_1b567_row1_col7, #T_1b567_row2_col0, #T_1b567_row2_col1, #T_1b567_row2_col3, #T_1b567_row2_col4, #T_1b567_row2_col5, #T_1b567_row2_col6, #T_1b567_row2_col7, #T_1b567_row3_col0, #T_1b567_row3_col1, #T_1b567_row3_col2, #T_1b567_row3_col3, #T_1b567_row3_col4, #T_1b567_row3_col5, #T_1b567_row3_col6, #T_1b567_row3_col7, #T_1b567_row4_col0, #T_1b567_row4_col1, #T_1b567_row4_col2, #T_1b567_row4_col4, #T_1b567_row4_col5, #T_1b567_row4_col6, #T_1b567_row4_col7, #T_1b567_row5_col0, #T_1b567_row5_col1, #T_1b567_row5_col2, #T_1b567_row5_col3, #T_1b567_row5_col4, #T_1b567_row5_col5, #T_1b567_row5_col6, #T_1b567_row5_col7, #T_1b567_row6_col0, #T_1b567_row6_col1, #T_1b567_row6_col2, #T_1b567_row6_col3, #T_1b567_row6_col4, #T_1b567_row6_col5, #T_1b567_row6_col6, #T_1b567_row6_col7, #T_1b567_row7_col0, #T_1b567_row7_col1, #T_1b567_row7_col2, #T_1b567_row7_col3, #T_1b567_row7_col4, #T_1b567_row7_col5, #T_1b567_row7_col6, #T_1b567_row7_col7, #T_1b567_row8_col0, #T_1b567_row8_col1, #T_1b567_row8_col2, #T_1b567_row8_col3, #T_1b567_row8_col4, #T_1b567_row8_col5, #T_1b567_row8_col6, #T_1b567_row8_col7, #T_1b567_row9_col0, #T_1b567_row9_col1, #T_1b567_row9_col2, #T_1b567_row9_col3, #T_1b567_row9_col4, #T_1b567_row9_col5, #T_1b567_row9_col6, #T_1b567_row9_col7, #T_1b567_row10_col0, #T_1b567_row10_col1, #T_1b567_row10_col2, #T_1b567_row10_col3, #T_1b567_row10_col4, #T_1b567_row10_col5, #T_1b567_row10_col6, #T_1b567_row10_col7, #T_1b567_row11_col0, #T_1b567_row11_col1, #T_1b567_row11_col2, #T_1b567_row11_col3, #T_1b567_row11_col4, #T_1b567_row11_col5, #T_1b567_row11_col6, #T_1b567_row11_col7, #T_1b567_row12_col0, #T_1b567_row12_col1, #T_1b567_row12_col2, #T_1b567_row12_col3, #T_1b567_row12_col4, #T_1b567_row12_col5, #T_1b567_row12_col6, #T_1b567_row12_col7, #T_1b567_row13_col0, #T_1b567_row13_col1, #T_1b567_row13_col2, #T_1b567_row13_col3, #T_1b567_row13_col4, #T_1b567_row13_col5, #T_1b567_row13_col6, #T_1b567_row13_col7, #T_1b567_row14_col0, #T_1b567_row14_col1, #T_1b567_row14_col2, #T_1b567_row14_col3, #T_1b567_row14_col4, #T_1b567_row14_col5, #T_1b567_row14_col6, #T_1b567_row14_col7 {\n",
              "  text-align: left;\n",
              "}\n",
              "#T_1b567_row0_col1, #T_1b567_row0_col5, #T_1b567_row0_col6, #T_1b567_row0_col7, #T_1b567_row1_col4, #T_1b567_row2_col2, #T_1b567_row4_col3 {\n",
              "  text-align: left;\n",
              "  background-color: yellow;\n",
              "}\n",
              "#T_1b567_row0_col8, #T_1b567_row1_col8, #T_1b567_row2_col8, #T_1b567_row3_col8, #T_1b567_row4_col8, #T_1b567_row5_col8, #T_1b567_row6_col8, #T_1b567_row7_col8, #T_1b567_row8_col8, #T_1b567_row9_col8, #T_1b567_row10_col8, #T_1b567_row11_col8, #T_1b567_row12_col8, #T_1b567_row13_col8 {\n",
              "  text-align: left;\n",
              "  background-color: lightgrey;\n",
              "}\n",
              "#T_1b567_row14_col8 {\n",
              "  text-align: left;\n",
              "  background-color: yellow;\n",
              "  background-color: lightgrey;\n",
              "}\n",
              "</style>\n",
              "<table id=\"T_1b567\" class=\"dataframe\">\n",
              "  <thead>\n",
              "    <tr>\n",
              "      <th class=\"blank level0\" >&nbsp;</th>\n",
              "      <th id=\"T_1b567_level0_col0\" class=\"col_heading level0 col0\" >Model</th>\n",
              "      <th id=\"T_1b567_level0_col1\" class=\"col_heading level0 col1\" >Accuracy</th>\n",
              "      <th id=\"T_1b567_level0_col2\" class=\"col_heading level0 col2\" >AUC</th>\n",
              "      <th id=\"T_1b567_level0_col3\" class=\"col_heading level0 col3\" >Recall</th>\n",
              "      <th id=\"T_1b567_level0_col4\" class=\"col_heading level0 col4\" >Prec.</th>\n",
              "      <th id=\"T_1b567_level0_col5\" class=\"col_heading level0 col5\" >F1</th>\n",
              "      <th id=\"T_1b567_level0_col6\" class=\"col_heading level0 col6\" >Kappa</th>\n",
              "      <th id=\"T_1b567_level0_col7\" class=\"col_heading level0 col7\" >MCC</th>\n",
              "      <th id=\"T_1b567_level0_col8\" class=\"col_heading level0 col8\" >TT (Sec)</th>\n",
              "    </tr>\n",
              "  </thead>\n",
              "  <tbody>\n",
              "    <tr>\n",
              "      <th id=\"T_1b567_level0_row0\" class=\"row_heading level0 row0\" >lr</th>\n",
              "      <td id=\"T_1b567_row0_col0\" class=\"data row0 col0\" >Logistic Regression</td>\n",
              "      <td id=\"T_1b567_row0_col1\" class=\"data row0 col1\" >0.7689</td>\n",
              "      <td id=\"T_1b567_row0_col2\" class=\"data row0 col2\" >0.8047</td>\n",
              "      <td id=\"T_1b567_row0_col3\" class=\"data row0 col3\" >0.5602</td>\n",
              "      <td id=\"T_1b567_row0_col4\" class=\"data row0 col4\" >0.7208</td>\n",
              "      <td id=\"T_1b567_row0_col5\" class=\"data row0 col5\" >0.6279</td>\n",
              "      <td id=\"T_1b567_row0_col6\" class=\"data row0 col6\" >0.4641</td>\n",
              "      <td id=\"T_1b567_row0_col7\" class=\"data row0 col7\" >0.4736</td>\n",
              "      <td id=\"T_1b567_row0_col8\" class=\"data row0 col8\" >0.0930</td>\n",
              "    </tr>\n",
              "    <tr>\n",
              "      <th id=\"T_1b567_level0_row1\" class=\"row_heading level0 row1\" >ridge</th>\n",
              "      <td id=\"T_1b567_row1_col0\" class=\"data row1 col0\" >Ridge Classifier</td>\n",
              "      <td id=\"T_1b567_row1_col1\" class=\"data row1 col1\" >0.7670</td>\n",
              "      <td id=\"T_1b567_row1_col2\" class=\"data row1 col2\" >0.0000</td>\n",
              "      <td id=\"T_1b567_row1_col3\" class=\"data row1 col3\" >0.5497</td>\n",
              "      <td id=\"T_1b567_row1_col4\" class=\"data row1 col4\" >0.7235</td>\n",
              "      <td id=\"T_1b567_row1_col5\" class=\"data row1 col5\" >0.6221</td>\n",
              "      <td id=\"T_1b567_row1_col6\" class=\"data row1 col6\" >0.4581</td>\n",
              "      <td id=\"T_1b567_row1_col7\" class=\"data row1 col7\" >0.4690</td>\n",
              "      <td id=\"T_1b567_row1_col8\" class=\"data row1 col8\" >0.0450</td>\n",
              "    </tr>\n",
              "    <tr>\n",
              "      <th id=\"T_1b567_level0_row2\" class=\"row_heading level0 row2\" >lda</th>\n",
              "      <td id=\"T_1b567_row2_col0\" class=\"data row2 col0\" >Linear Discriminant Analysis</td>\n",
              "      <td id=\"T_1b567_row2_col1\" class=\"data row2 col1\" >0.7670</td>\n",
              "      <td id=\"T_1b567_row2_col2\" class=\"data row2 col2\" >0.8055</td>\n",
              "      <td id=\"T_1b567_row2_col3\" class=\"data row2 col3\" >0.5550</td>\n",
              "      <td id=\"T_1b567_row2_col4\" class=\"data row2 col4\" >0.7202</td>\n",
              "      <td id=\"T_1b567_row2_col5\" class=\"data row2 col5\" >0.6243</td>\n",
              "      <td id=\"T_1b567_row2_col6\" class=\"data row2 col6\" >0.4594</td>\n",
              "      <td id=\"T_1b567_row2_col7\" class=\"data row2 col7\" >0.4695</td>\n",
              "      <td id=\"T_1b567_row2_col8\" class=\"data row2 col8\" >0.0530</td>\n",
              "    </tr>\n",
              "    <tr>\n",
              "      <th id=\"T_1b567_level0_row3\" class=\"row_heading level0 row3\" >rf</th>\n",
              "      <td id=\"T_1b567_row3_col0\" class=\"data row3 col0\" >Random Forest Classifier</td>\n",
              "      <td id=\"T_1b567_row3_col1\" class=\"data row3 col1\" >0.7485</td>\n",
              "      <td id=\"T_1b567_row3_col2\" class=\"data row3 col2\" >0.7911</td>\n",
              "      <td id=\"T_1b567_row3_col3\" class=\"data row3 col3\" >0.5284</td>\n",
              "      <td id=\"T_1b567_row3_col4\" class=\"data row3 col4\" >0.6811</td>\n",
              "      <td id=\"T_1b567_row3_col5\" class=\"data row3 col5\" >0.5924</td>\n",
              "      <td id=\"T_1b567_row3_col6\" class=\"data row3 col6\" >0.4150</td>\n",
              "      <td id=\"T_1b567_row3_col7\" class=\"data row3 col7\" >0.4238</td>\n",
              "      <td id=\"T_1b567_row3_col8\" class=\"data row3 col8\" >0.1710</td>\n",
              "    </tr>\n",
              "    <tr>\n",
              "      <th id=\"T_1b567_level0_row4\" class=\"row_heading level0 row4\" >nb</th>\n",
              "      <td id=\"T_1b567_row4_col0\" class=\"data row4 col0\" >Naive Bayes</td>\n",
              "      <td id=\"T_1b567_row4_col1\" class=\"data row4 col1\" >0.7427</td>\n",
              "      <td id=\"T_1b567_row4_col2\" class=\"data row4 col2\" >0.7955</td>\n",
              "      <td id=\"T_1b567_row4_col3\" class=\"data row4 col3\" >0.5702</td>\n",
              "      <td id=\"T_1b567_row4_col4\" class=\"data row4 col4\" >0.6543</td>\n",
              "      <td id=\"T_1b567_row4_col5\" class=\"data row4 col5\" >0.6043</td>\n",
              "      <td id=\"T_1b567_row4_col6\" class=\"data row4 col6\" >0.4156</td>\n",
              "      <td id=\"T_1b567_row4_col7\" class=\"data row4 col7\" >0.4215</td>\n",
              "      <td id=\"T_1b567_row4_col8\" class=\"data row4 col8\" >0.0570</td>\n",
              "    </tr>\n",
              "    <tr>\n",
              "      <th id=\"T_1b567_level0_row5\" class=\"row_heading level0 row5\" >gbc</th>\n",
              "      <td id=\"T_1b567_row5_col0\" class=\"data row5 col0\" >Gradient Boosting Classifier</td>\n",
              "      <td id=\"T_1b567_row5_col1\" class=\"data row5 col1\" >0.7373</td>\n",
              "      <td id=\"T_1b567_row5_col2\" class=\"data row5 col2\" >0.7917</td>\n",
              "      <td id=\"T_1b567_row5_col3\" class=\"data row5 col3\" >0.5550</td>\n",
              "      <td id=\"T_1b567_row5_col4\" class=\"data row5 col4\" >0.6445</td>\n",
              "      <td id=\"T_1b567_row5_col5\" class=\"data row5 col5\" >0.5931</td>\n",
              "      <td id=\"T_1b567_row5_col6\" class=\"data row5 col6\" >0.4013</td>\n",
              "      <td id=\"T_1b567_row5_col7\" class=\"data row5 col7\" >0.4059</td>\n",
              "      <td id=\"T_1b567_row5_col8\" class=\"data row5 col8\" >0.1060</td>\n",
              "    </tr>\n",
              "    <tr>\n",
              "      <th id=\"T_1b567_level0_row6\" class=\"row_heading level0 row6\" >ada</th>\n",
              "      <td id=\"T_1b567_row6_col0\" class=\"data row6 col0\" >Ada Boost Classifier</td>\n",
              "      <td id=\"T_1b567_row6_col1\" class=\"data row6 col1\" >0.7372</td>\n",
              "      <td id=\"T_1b567_row6_col2\" class=\"data row6 col2\" >0.7799</td>\n",
              "      <td id=\"T_1b567_row6_col3\" class=\"data row6 col3\" >0.5275</td>\n",
              "      <td id=\"T_1b567_row6_col4\" class=\"data row6 col4\" >0.6585</td>\n",
              "      <td id=\"T_1b567_row6_col5\" class=\"data row6 col5\" >0.5796</td>\n",
              "      <td id=\"T_1b567_row6_col6\" class=\"data row6 col6\" >0.3926</td>\n",
              "      <td id=\"T_1b567_row6_col7\" class=\"data row6 col7\" >0.4017</td>\n",
              "      <td id=\"T_1b567_row6_col8\" class=\"data row6 col8\" >0.1990</td>\n",
              "    </tr>\n",
              "    <tr>\n",
              "      <th id=\"T_1b567_level0_row7\" class=\"row_heading level0 row7\" >et</th>\n",
              "      <td id=\"T_1b567_row7_col0\" class=\"data row7 col0\" >Extra Trees Classifier</td>\n",
              "      <td id=\"T_1b567_row7_col1\" class=\"data row7 col1\" >0.7299</td>\n",
              "      <td id=\"T_1b567_row7_col2\" class=\"data row7 col2\" >0.7788</td>\n",
              "      <td id=\"T_1b567_row7_col3\" class=\"data row7 col3\" >0.4965</td>\n",
              "      <td id=\"T_1b567_row7_col4\" class=\"data row7 col4\" >0.6516</td>\n",
              "      <td id=\"T_1b567_row7_col5\" class=\"data row7 col5\" >0.5596</td>\n",
              "      <td id=\"T_1b567_row7_col6\" class=\"data row7 col6\" >0.3706</td>\n",
              "      <td id=\"T_1b567_row7_col7\" class=\"data row7 col7\" >0.3802</td>\n",
              "      <td id=\"T_1b567_row7_col8\" class=\"data row7 col8\" >0.1790</td>\n",
              "    </tr>\n",
              "    <tr>\n",
              "      <th id=\"T_1b567_level0_row8\" class=\"row_heading level0 row8\" >qda</th>\n",
              "      <td id=\"T_1b567_row8_col0\" class=\"data row8 col0\" >Quadratic Discriminant Analysis</td>\n",
              "      <td id=\"T_1b567_row8_col1\" class=\"data row8 col1\" >0.7282</td>\n",
              "      <td id=\"T_1b567_row8_col2\" class=\"data row8 col2\" >0.7894</td>\n",
              "      <td id=\"T_1b567_row8_col3\" class=\"data row8 col3\" >0.5281</td>\n",
              "      <td id=\"T_1b567_row8_col4\" class=\"data row8 col4\" >0.6558</td>\n",
              "      <td id=\"T_1b567_row8_col5\" class=\"data row8 col5\" >0.5736</td>\n",
              "      <td id=\"T_1b567_row8_col6\" class=\"data row8 col6\" >0.3785</td>\n",
              "      <td id=\"T_1b567_row8_col7\" class=\"data row8 col7\" >0.3910</td>\n",
              "      <td id=\"T_1b567_row8_col8\" class=\"data row8 col8\" >0.0960</td>\n",
              "    </tr>\n",
              "    <tr>\n",
              "      <th id=\"T_1b567_level0_row9\" class=\"row_heading level0 row9\" >lightgbm</th>\n",
              "      <td id=\"T_1b567_row9_col0\" class=\"data row9 col0\" >Light Gradient Boosting Machine</td>\n",
              "      <td id=\"T_1b567_row9_col1\" class=\"data row9 col1\" >0.7133</td>\n",
              "      <td id=\"T_1b567_row9_col2\" class=\"data row9 col2\" >0.7645</td>\n",
              "      <td id=\"T_1b567_row9_col3\" class=\"data row9 col3\" >0.5398</td>\n",
              "      <td id=\"T_1b567_row9_col4\" class=\"data row9 col4\" >0.6036</td>\n",
              "      <td id=\"T_1b567_row9_col5\" class=\"data row9 col5\" >0.5650</td>\n",
              "      <td id=\"T_1b567_row9_col6\" class=\"data row9 col6\" >0.3534</td>\n",
              "      <td id=\"T_1b567_row9_col7\" class=\"data row9 col7\" >0.3580</td>\n",
              "      <td id=\"T_1b567_row9_col8\" class=\"data row9 col8\" >0.0840</td>\n",
              "    </tr>\n",
              "    <tr>\n",
              "      <th id=\"T_1b567_level0_row10\" class=\"row_heading level0 row10\" >knn</th>\n",
              "      <td id=\"T_1b567_row10_col0\" class=\"data row10 col0\" >K Neighbors Classifier</td>\n",
              "      <td id=\"T_1b567_row10_col1\" class=\"data row10 col1\" >0.7001</td>\n",
              "      <td id=\"T_1b567_row10_col2\" class=\"data row10 col2\" >0.7164</td>\n",
              "      <td id=\"T_1b567_row10_col3\" class=\"data row10 col3\" >0.5020</td>\n",
              "      <td id=\"T_1b567_row10_col4\" class=\"data row10 col4\" >0.5982</td>\n",
              "      <td id=\"T_1b567_row10_col5\" class=\"data row10 col5\" >0.5413</td>\n",
              "      <td id=\"T_1b567_row10_col6\" class=\"data row10 col6\" >0.3209</td>\n",
              "      <td id=\"T_1b567_row10_col7\" class=\"data row10 col7\" >0.3271</td>\n",
              "      <td id=\"T_1b567_row10_col8\" class=\"data row10 col8\" >0.0640</td>\n",
              "    </tr>\n",
              "    <tr>\n",
              "      <th id=\"T_1b567_level0_row11\" class=\"row_heading level0 row11\" >dt</th>\n",
              "      <td id=\"T_1b567_row11_col0\" class=\"data row11 col0\" >Decision Tree Classifier</td>\n",
              "      <td id=\"T_1b567_row11_col1\" class=\"data row11 col1\" >0.6928</td>\n",
              "      <td id=\"T_1b567_row11_col2\" class=\"data row11 col2\" >0.6512</td>\n",
              "      <td id=\"T_1b567_row11_col3\" class=\"data row11 col3\" >0.5137</td>\n",
              "      <td id=\"T_1b567_row11_col4\" class=\"data row11 col4\" >0.5636</td>\n",
              "      <td id=\"T_1b567_row11_col5\" class=\"data row11 col5\" >0.5328</td>\n",
              "      <td id=\"T_1b567_row11_col6\" class=\"data row11 col6\" >0.3070</td>\n",
              "      <td id=\"T_1b567_row11_col7\" class=\"data row11 col7\" >0.3098</td>\n",
              "      <td id=\"T_1b567_row11_col8\" class=\"data row11 col8\" >0.0540</td>\n",
              "    </tr>\n",
              "    <tr>\n",
              "      <th id=\"T_1b567_level0_row12\" class=\"row_heading level0 row12\" >xgboost</th>\n",
              "      <td id=\"T_1b567_row12_col0\" class=\"data row12 col0\" >Extreme Gradient Boosting</td>\n",
              "      <td id=\"T_1b567_row12_col1\" class=\"data row12 col1\" >0.6853</td>\n",
              "      <td id=\"T_1b567_row12_col2\" class=\"data row12 col2\" >0.7516</td>\n",
              "      <td id=\"T_1b567_row12_col3\" class=\"data row12 col3\" >0.4912</td>\n",
              "      <td id=\"T_1b567_row12_col4\" class=\"data row12 col4\" >0.5620</td>\n",
              "      <td id=\"T_1b567_row12_col5\" class=\"data row12 col5\" >0.5216</td>\n",
              "      <td id=\"T_1b567_row12_col6\" class=\"data row12 col6\" >0.2887</td>\n",
              "      <td id=\"T_1b567_row12_col7\" class=\"data row12 col7\" >0.2922</td>\n",
              "      <td id=\"T_1b567_row12_col8\" class=\"data row12 col8\" >0.0920</td>\n",
              "    </tr>\n",
              "    <tr>\n",
              "      <th id=\"T_1b567_level0_row13\" class=\"row_heading level0 row13\" >dummy</th>\n",
              "      <td id=\"T_1b567_row13_col0\" class=\"data row13 col0\" >Dummy Classifier</td>\n",
              "      <td id=\"T_1b567_row13_col1\" class=\"data row13 col1\" >0.6518</td>\n",
              "      <td id=\"T_1b567_row13_col2\" class=\"data row13 col2\" >0.5000</td>\n",
              "      <td id=\"T_1b567_row13_col3\" class=\"data row13 col3\" >0.0000</td>\n",
              "      <td id=\"T_1b567_row13_col4\" class=\"data row13 col4\" >0.0000</td>\n",
              "      <td id=\"T_1b567_row13_col5\" class=\"data row13 col5\" >0.0000</td>\n",
              "      <td id=\"T_1b567_row13_col6\" class=\"data row13 col6\" >0.0000</td>\n",
              "      <td id=\"T_1b567_row13_col7\" class=\"data row13 col7\" >0.0000</td>\n",
              "      <td id=\"T_1b567_row13_col8\" class=\"data row13 col8\" >0.0480</td>\n",
              "    </tr>\n",
              "    <tr>\n",
              "      <th id=\"T_1b567_level0_row14\" class=\"row_heading level0 row14\" >svm</th>\n",
              "      <td id=\"T_1b567_row14_col0\" class=\"data row14 col0\" >SVM - Linear Kernel</td>\n",
              "      <td id=\"T_1b567_row14_col1\" class=\"data row14 col1\" >0.5954</td>\n",
              "      <td id=\"T_1b567_row14_col2\" class=\"data row14 col2\" >0.0000</td>\n",
              "      <td id=\"T_1b567_row14_col3\" class=\"data row14 col3\" >0.3395</td>\n",
              "      <td id=\"T_1b567_row14_col4\" class=\"data row14 col4\" >0.4090</td>\n",
              "      <td id=\"T_1b567_row14_col5\" class=\"data row14 col5\" >0.2671</td>\n",
              "      <td id=\"T_1b567_row14_col6\" class=\"data row14 col6\" >0.0720</td>\n",
              "      <td id=\"T_1b567_row14_col7\" class=\"data row14 col7\" >0.0912</td>\n",
              "      <td id=\"T_1b567_row14_col8\" class=\"data row14 col8\" >0.0440</td>\n",
              "    </tr>\n",
              "  </tbody>\n",
              "</table>\n"
            ]
          },
          "metadata": {}
        },
        {
          "output_type": "display_data",
          "data": {
            "text/plain": [
              "Processing:   0%|          | 0/65 [00:00<?, ?it/s]"
            ],
            "application/vnd.jupyter.widget-view+json": {
              "version_major": 2,
              "version_minor": 0,
              "model_id": "3c3aca33c3ae44959fd7dbb3e5e1f2dd"
            }
          },
          "metadata": {
            "application/vnd.jupyter.widget-view+json": {
              "colab": {
                "custom_widget_manager": {
                  "url": "https://ssl.gstatic.com/colaboratory-static/widgets/colab-cdn-widget-manager/b3e629b1971e1542/manager.min.js"
                }
              }
            }
          }
        },
        {
          "output_type": "display_data",
          "data": {
            "text/plain": [
              "<IPython.core.display.HTML object>"
            ],
            "text/html": []
          },
          "metadata": {}
        }
      ]
    },
    {
      "cell_type": "code",
      "source": [
        "# plot confusion matrix\n",
        "plot_model(best, plot = 'confusion_matrix')"
      ],
      "metadata": {
        "colab": {
          "base_uri": "https://localhost:8080/",
          "height": 551
        },
        "id": "9dbByIog56eF",
        "outputId": "358a1a15-48a9-490d-8ce0-586a924b30a9"
      },
      "execution_count": null,
      "outputs": [
        {
          "output_type": "display_data",
          "data": {
            "text/plain": [
              "<IPython.core.display.HTML object>"
            ],
            "text/html": []
          },
          "metadata": {}
        },
        {
          "output_type": "display_data",
          "data": {
            "text/plain": [
              "<Figure size 800x550 with 1 Axes>"
            ],
            "image/png": "[encoded data removed]"
          },
          "metadata": {}
        }
      ]
    },
    {
      "cell_type": "code",
      "source": [
        "# plot AUC\n",
        "plot_model(best, plot = 'auc')"
      ],
      "metadata": {
        "colab": {
          "base_uri": "https://localhost:8080/",
          "height": 524
        },
        "id": "mo8O7R0N56hg",
        "outputId": "04006a76-8d91-4d2b-fd69-d7076f7f6ad9"
      },
      "execution_count": null,
      "outputs": [
        {
          "output_type": "display_data",
          "data": {
            "text/plain": [
              "<IPython.core.display.HTML object>"
            ],
            "text/html": []
          },
          "metadata": {}
        },
        {
          "output_type": "display_data",
          "data": {
            "text/plain": [
              "<Figure size 800x550 with 1 Axes>"
            ],
            "image/png": "[encoded data removed]"
          },
          "metadata": {}
        }
      ]
    },
    {
      "cell_type": "code",
      "source": [
        "# plot feature importance\n",
        "plot_model(best, plot = 'feature')"
      ],
      "metadata": {
        "id": "IrTYO6XT56ky"
      },
      "execution_count": null,
      "outputs": []
    },
    {
      "cell_type": "code",
      "source": [],
      "metadata": {
        "id": "wxlQfEWt56oP"
      },
      "execution_count": null,
      "outputs": []
    }
  ]
}