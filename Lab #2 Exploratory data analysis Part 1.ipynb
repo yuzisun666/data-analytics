{
 "cells": [
  {
   "cell_type": "markdown",
   "metadata": {},
   "source": [
    "# Lab #2 Part 1: Exploratory Data Analysis - Numerical & Visual Summaries"
   ]
  },
  {
   "cell_type": "markdown",
   "metadata": {},
   "source": [
    "#### Sources\n",
    "\n",
    "- [1] https://seaborn.pydata.org/\n",
    "- [2] https://pypi.org/project/seaborn/\n",
    "- [3] https://www.kaggle.com/saurav9786/cardiogoodfitness\n",
    "- [4] https://www.kaggle.com/saurav9786/cardiogoodfitness?select=CardioGoodFitness.csv\n",
    "- [5] https://www.kaggle.com/ranjeetjain3/seaborn-tips-dataset\n",
    "- [6] https://bookdown.org/rdpeng/exdata/\n",
    "- [7] https://en.wikipedia.org/wiki/Pandas_(software)"
   ]
  },
  {
   "cell_type": "markdown",
   "metadata": {},
   "source": [
    "### Introduction\n",
    "\n",
    "In this module, I will present tools to help you summarize and visualize datasets and extract meaningful information from them. EDA is used by data scientists to: \n",
    "\n",
    "- explore the data and indentify patterns, and deviations from patterns or outliers, hidden information, relations, etc.\n",
    "- check for model assumptions in different machine learning algorithms\n",
    "- communicate their results to different stakeholders in the company\n"
   ]
  },
  {
   "cell_type": "markdown",
   "metadata": {},
   "source": [
    "### <font color='firebrick'> 1. What is `seaborn`? </font>\n",
    "\n",
    "\n",
    "`seaborn` is Python library for creating data visualizations. The creators of `seaborn` aim to make data visualization a central part in the exploratory data analysis process. In the following, I will list some of the fucntionalities that `seaborn` offers:\n",
    "\n",
    "- examining relationships between multiple variables\n",
    "- examining categorical data\n",
    "- visualizing univariate data\n",
    "- visualizing bivariate data\n",
    "- comparing univariate data among different subsets of data\n",
    "- comparing bivariate data amonf different subsets of data\n",
    "- plotting linear regression models\n",
    "- providing multi-plot grid of data visualizations\n",
    "- providing plot styling with several built-in themes\n",
    "- providing tools for choosing color palettes that allows to reveal patterns in data"
   ]
  },
  {
   "cell_type": "markdown",
   "metadata": {},
   "source": [
    "### <font color='firebrick'> 2. What is `pandas`? </font>\n",
    "\n",
    "According to wikipedia, `pandas` is a Python library written for data manipulation and analysis. In particular, it has the following key features:\n",
    "\n",
    "- DataFrame and Series data structures\n",
    "- Tools for reading and writing data from and to different file formats\n",
    "- Tools to handle missing data\n",
    "- Filtering data\n",
    "- Tools to reshape and pivot data sets\n",
    "- Slicing and dicing datasets\n",
    "- Tools to split data, apply functionalities on the data, and then combine it (group by)\n",
    "- Tools to merge and join data tables\n",
    "- Time series functionality\n"
   ]
  },
  {
   "cell_type": "markdown",
   "metadata": {},
   "source": [
    "### <font color='firebrick'> 3. Case Study: Cardio GoodFitness </font>\n",
    "\n",
    "\n",
    "The market research team at AdRight is assigned the task to identify the profile of the typical customer for each treadmill product offered by CardioGood Fitness. The market research team decides to investigate whether there are differences across the product lines with during the last three months.\n",
    "\n",
    "The data is stored in the `CardioGoodFitness.csv` file. \n",
    "\n",
    "The team identifies the following customer variables to study: \n",
    "\n",
    "Variable | Description\n",
    ":--------|:------------------------------------------\n",
    "Product | product purchased (TM195, TM498, or TM798)\n",
    "Age     | age in years\n",
    "Gender  | recorded as Male vs. Female\n",
    "Education | years of education\n",
    "MaritalStatus | relationship status (Partnered or Single)\n",
    "Usage | average number of times the customer plans to use the treadmill each week\n",
    "Fitness | a self-rated fitness on a 1-5 scale (1 is poor and 5 is excellent shape)\n",
    "Income | annual household income\n",
    "Miles | average number of miles the customer expects to walk/run each week"
   ]
  },
  {
   "cell_type": "markdown",
   "metadata": {},
   "source": [
    "### <font color='firebrick'> 4. Numerical and Visual Data Summaries </font>\n",
    "\n",
    "This section is inspired by Roger Peng's book *Exploratory Data Analysis with R* that is available online for free (https://bookdown.org/rdpeng/exdata/). In addition, I use the wikipedia article on *Summary Statistics*. \n",
    "\n",
    "In his book, Roger Peng discusses the importance of visualizing data via graphics at different stages in the data science process. In this module, we will focus on using graphs to explore the data at the beginnig stages of data analysis to understand its basic properties and find hidden patterns in the data.\n",
    "\n",
    "When we look at data, we will first look at each variable seperately using **univariate graphs**, and then we look at relationships between variavbles using **bivariate graphs** and **multivariate graphs**. Note that we will be utilizing color, size, and shape as a third or forth dimension in our analysis. \n",
    "\n",
    "\n",
    "#### Numerical Summaries (Summary Statistics)\n",
    "\n",
    "From wikipedia:\n",
    "\n",
    "In descriptive statistics, summary statistics (numerical summaries) are used to summarize a set of obeservations, in order to communicate the largest amount of information as simply as possible. These summary statistics helps the data scientist to measure the following four concepts:\n",
    "\n",
    "- Central Tendency (Location): e.g. arithmetic mean, median, and mode\n",
    "- Spread (dispersion): e.g. standard deviation, variance, range, etc.\n",
    "- Shape (shape of distribution): e.g. skewness or kurtosis\n",
    "- Dependence (correlation): e.g correlation coefficient\n",
    "\n",
    "\n",
    "#### Univariate Plots \n",
    "\n",
    "- Histograms, boxplots, density plots are used to understand the distributions of numerical variables\n",
    "- Barplots and pie charts are used to understand the distributions of categorical variables.\n",
    "\n",
    "#### Bivariate Plots\n",
    "\n",
    "- Multiple or overlayed 1-D plots are used to visualize relationships between two numerical variables, two categorical variables, or combination of numerical and categorical data\n",
    "- Scatterplots for visualizing relationships between two numerical data\n",
    "- Smooth scatterplots for visualizing relationships between two numerical data (when we have a lot of data points)\n",
    "\n",
    "#### Multivariate Plots\n",
    "\n",
    "- Coplots (conditonal plots), multiple or overlayed 2-D plots are used to show the relationship between two variables as a third (or more) variable changes\n",
    "- Using color, size, and/or shape to add dimension: plotting points with different colors or shapes is useful for indicating a third dimension, where different colors can indicate different categories or ranges of something. Plotting symbols with different sizes can also achieve the same effect when the third dimension is numerical (continuous variable)\n",
    "- Actual 3-D plots: I don't recommend them (and the whole data visualization community don't recommend) for reasons that I will be discussing when we talk about good vs. bad graphs\n",
    "\n",
    "\n",
    "When presented with a dataset, I always execute the following steps to explore the data visually. However, I always start with numerical summeries that are very helpful as well. So here is my usual plan:\n",
    "\n",
    "- Compute numerical summaries\n",
    "\n",
    "- Understand the disribution of each variable\n",
    "\n",
    "- Understand the correlation among two variables\n",
    "\n",
    "- Understand the correlation among three or more variables\n"
   ]
  },
  {
   "cell_type": "markdown",
   "metadata": {},
   "source": [
    "### <font color='firebrick'> 5. Exploratory Data Visualizations for the CardioGood Fitness</font>\n"
   ]
  },
  {
   "cell_type": "markdown",
   "metadata": {},
   "source": [
    "#### 5.1 Reading Data into Python from a CSV file\n",
    "\n",
    "To read a dataset into Python, we will use a predefined procedure or method that comes with a Python package called `pandas`. The `pandas` Python package is very powerful, and it is the most used Python package for data science. It provides data scientists with tools to read data in different formats (text, excel, web, JSON, etc.). In addition, it provides functionalities to explore the data, manipulate and clean the data. We will dive deeper into `pandas` and its functionalities in the coming modules, but for now, I will show you how to use it to read CSV data files. CSV files are text files and the data is seperate with commas (CSV stands for comma seperated values). While you are able to open them in Excel, CSV files are NOT Excel files. They are text files. \n",
    "\n",
    "Other types of text data files are TSV files (tab seperated values). The `cardio` data file is a csv file, so we will use `pandas` functionalities to read it into Python as follows.\n",
    "\n",
    "PS. Python packages extend the core Python distribution. When you install Python, such packages are not installed generally. Since we used Anaconda to install Python, some packages are installed automatically and all we need to do is just `import` them to our Jupyter notebooks. Anaconda comes with the following data science packages installed (`numpy`, `pandas`, `matplotlib`, `seaborn`, `scikit-learn`, and many others)."
   ]
  },
  {
   "cell_type": "code",
   "execution_count": null,
   "metadata": {},
   "outputs": [],
   "source": [
    "# import pandas package into python\n"
   ]
  },
  {
   "cell_type": "code",
   "execution_count": null,
   "metadata": {},
   "outputs": [],
   "source": [
    "## use pandas read_csv() method to read the csv cardio file as follows\n",
    "\n",
    "## Because read_csv is a pandas method, we will need to refer to the package name first followed by a \".\" and\n",
    "## and then the name of the method \"read_csv()\". The method \"read_csv()\" takes the name of the csv file as \n",
    "## an argument between qoutations. \n",
    "\n",
    "### IMPORTANT: please make sure that your jupyter notebook file and the data set are in the same folder, other wise\n",
    "### you will have to specify the whole path to the csv file\n",
    "\n",
    "### Once you execute the following command, Jupyter notebook will show you the first and last observations in the dataset\n",
    "\n"
   ]
  },
  {
   "cell_type": "code",
   "execution_count": null,
   "metadata": {},
   "outputs": [],
   "source": [
    "### Pandas has a lot of methods that you will be utilizing in the data science process. Because of that, \n",
    "### Python allows us to create an alias so we can use it everytime we call a method in pandas\n",
    "\n",
    "# import pandas package and use \"pd\" as an alias so we don't \n",
    "# have to use the whole name of pandas when we use its methods\n",
    "\n"
   ]
  },
  {
   "cell_type": "markdown",
   "metadata": {},
   "source": [
    "So far, we have read the data, but you notice that Python is simply printing the observations for us. In order to access the data in our analysis, we need to save it in a variable. "
   ]
  },
  {
   "cell_type": "code",
   "execution_count": null,
   "metadata": {},
   "outputs": [],
   "source": [
    "## save the dataset in a variable called \"cardio\" so we can access the data later on in our analysis\n",
    "\n"
   ]
  },
  {
   "cell_type": "code",
   "execution_count": null,
   "metadata": {},
   "outputs": [],
   "source": [
    "# let's check the type of the variable\n",
    "\n"
   ]
  },
  {
   "cell_type": "markdown",
   "metadata": {},
   "source": [
    "`pandas` extend Python with not just methods, but also new data structures (other than lists, dictionaries, etc.). In the above example, we can see that `pandas` has returned a `DataFrame` data structure. A `DataFrame` allows us to store tabular data (e.g. the cardio dataset). We will dive more into `DataFrames` in the next few modules when we learn more about the power of `pandas`."
   ]
  },
  {
   "cell_type": "code",
   "execution_count": null,
   "metadata": {},
   "outputs": [],
   "source": [
    "# pandas has a method `info()` that gives information about DataFrames (data types for each variable, missing values, etc.)\n",
    "\n"
   ]
  },
  {
   "cell_type": "code",
   "execution_count": null,
   "metadata": {},
   "outputs": [],
   "source": [
    "# pandas has a method `head()` that allows us to view the first few observations in a DataFrame. \n",
    "\n"
   ]
  },
  {
   "cell_type": "code",
   "execution_count": null,
   "metadata": {},
   "outputs": [],
   "source": [
    "# by default, the `head()` method prints the first 5 observations, but we can change that to print more or less\n",
    "\n"
   ]
  },
  {
   "cell_type": "code",
   "execution_count": null,
   "metadata": {},
   "outputs": [],
   "source": [
    "# we can also look at the tail (last few observations) of the dataset\n",
    "# it's a good practice to check the tail of the dataset to make sure that the whole dataset is read into Python\n",
    "\n"
   ]
  },
  {
   "cell_type": "code",
   "execution_count": null,
   "metadata": {},
   "outputs": [],
   "source": [
    "# we can also specify whatever number of observations (rows of data) to print \n",
    "\n"
   ]
  },
  {
   "cell_type": "code",
   "execution_count": null,
   "metadata": {},
   "outputs": [],
   "source": [
    "# If we are interested in selecting a variable from the dataset, we can use the following notation\n",
    "# indexing the variable 'Age'\n",
    "\n"
   ]
  },
  {
   "cell_type": "code",
   "execution_count": null,
   "metadata": {},
   "outputs": [],
   "source": [
    "# or we can use the . notation to access a variable in a Pandas DataFrame\n",
    "\n"
   ]
  },
  {
   "cell_type": "code",
   "execution_count": null,
   "metadata": {},
   "outputs": [],
   "source": []
  },
  {
   "cell_type": "markdown",
   "metadata": {},
   "source": [
    "`pandas` has another data structure (in addition to `DataFrame` called `Series` that is very useful to data scientists especially when we want to refer to only one variable. For now, you can think of the `Series` data structure as a special list of elements that can only hold either numbers of strings but not both at the same time."
   ]
  },
  {
   "cell_type": "code",
   "execution_count": null,
   "metadata": {},
   "outputs": [],
   "source": [
    "# we can use the method head to view the first few observations in the Series. \n"
   ]
  },
  {
   "cell_type": "code",
   "execution_count": null,
   "metadata": {},
   "outputs": [],
   "source": []
  },
  {
   "cell_type": "markdown",
   "metadata": {},
   "source": [
    "#### 5.2 Numerical Summaries"
   ]
  },
  {
   "cell_type": "markdown",
   "metadata": {},
   "source": [
    "**Central Tendancy**"
   ]
  },
  {
   "cell_type": "code",
   "execution_count": null,
   "metadata": {},
   "outputs": [],
   "source": [
    "#mean: for numeric variables (Age in this example)\n",
    "\n"
   ]
  },
  {
   "cell_type": "code",
   "execution_count": null,
   "metadata": {},
   "outputs": [],
   "source": [
    "# median: for numerica variables (mostly used when the distribution of a variable is skewed)\n",
    "\n"
   ]
  },
  {
   "cell_type": "code",
   "execution_count": null,
   "metadata": {},
   "outputs": [],
   "source": []
  },
  {
   "cell_type": "code",
   "execution_count": null,
   "metadata": {},
   "outputs": [],
   "source": [
    "# mode: for categorical variables (Product in this example)\n",
    "\n"
   ]
  },
  {
   "cell_type": "code",
   "execution_count": null,
   "metadata": {},
   "outputs": [],
   "source": [
    "# if you try to run the following code, you will get an error because mean is a method only for numerical variables\n",
    "# Product is a categorical variable\n",
    "\n",
    "# cardio['Product'].mean()"
   ]
  },
  {
   "cell_type": "markdown",
   "metadata": {},
   "source": [
    "**Spread**"
   ]
  },
  {
   "cell_type": "code",
   "execution_count": null,
   "metadata": {},
   "outputs": [],
   "source": [
    "# standard deviation\n",
    "\n"
   ]
  },
  {
   "cell_type": "code",
   "execution_count": null,
   "metadata": {},
   "outputs": [],
   "source": [
    "# variance \n",
    "\n"
   ]
  },
  {
   "cell_type": "code",
   "execution_count": null,
   "metadata": {},
   "outputs": [],
   "source": [
    "# range = max - min\n",
    "\n"
   ]
  },
  {
   "cell_type": "markdown",
   "metadata": {},
   "source": [
    "**Skewness**\n",
    "\n",
    "We will discuss this concept in a later module."
   ]
  },
  {
   "cell_type": "markdown",
   "metadata": {},
   "source": [
    "**Dependence (correlation)**"
   ]
  },
  {
   "cell_type": "code",
   "execution_count": null,
   "metadata": {
    "scrolled": true
   },
   "outputs": [],
   "source": [
    "# The following code produces a correlation matrix between all numerical variables\n",
    "\n"
   ]
  },
  {
   "cell_type": "markdown",
   "metadata": {},
   "source": [
    "**Numerical Summaries using `describe()` pandas method**"
   ]
  },
  {
   "cell_type": "code",
   "execution_count": null,
   "metadata": {
    "scrolled": true
   },
   "outputs": [],
   "source": []
  },
  {
   "cell_type": "markdown",
   "metadata": {},
   "source": [
    "#### 5.3 Categorical Summaries"
   ]
  },
  {
   "cell_type": "code",
   "execution_count": null,
   "metadata": {
    "scrolled": true
   },
   "outputs": [],
   "source": []
  },
  {
   "cell_type": "code",
   "execution_count": null,
   "metadata": {},
   "outputs": [],
   "source": [
    "# The method `value_counts()` allows us to count the number of observations that belong to each category\n",
    "\n",
    "# Product is a categorical variables with three categories (TM195, TM498, TM798)\n",
    "\n"
   ]
  },
  {
   "cell_type": "code",
   "execution_count": null,
   "metadata": {},
   "outputs": [],
   "source": [
    "# Gender is a categorical variable with two categories (Male, Female)\n",
    "\n"
   ]
  },
  {
   "cell_type": "code",
   "execution_count": null,
   "metadata": {},
   "outputs": [],
   "source": [
    "# Education is a categorical variable with limited numeric categories. We call it ordinal variable because\n",
    "# we can sort the different values for the Education variable in a meaningful way. \n",
    "\n",
    "# In this case we should probably be treating it as a categorical variable when we look at its data visually\n",
    "# However, we can still for example compute the mean of Education because it makes sense.\n",
    "\n"
   ]
  },
  {
   "cell_type": "code",
   "execution_count": null,
   "metadata": {},
   "outputs": [],
   "source": [
    "# In general age is a numeric variables. We have lot's of values so it's not a good idea if we treat it \n",
    "# as a categorical variable. At some point, we will learn how to create smaller categories (e.g. young, mature, old) \n",
    "# for age given the numeric variable. \n",
    "\n"
   ]
  },
  {
   "cell_type": "code",
   "execution_count": null,
   "metadata": {},
   "outputs": [],
   "source": [
    "# Marital Status is a categorical variable\n",
    "\n"
   ]
  },
  {
   "cell_type": "code",
   "execution_count": null,
   "metadata": {},
   "outputs": [],
   "source": [
    "# Usuage is a categorical variable. In this case we can treat it as a numeric variable\n",
    "\n"
   ]
  },
  {
   "cell_type": "code",
   "execution_count": null,
   "metadata": {},
   "outputs": [],
   "source": [
    "# Fitness is definitly a categorical variable here (ordinal). There are only five options \n",
    "\n"
   ]
  },
  {
   "cell_type": "code",
   "execution_count": null,
   "metadata": {},
   "outputs": [],
   "source": [
    "# Income is numerical variable\n",
    "\n"
   ]
  },
  {
   "cell_type": "code",
   "execution_count": null,
   "metadata": {
    "scrolled": true
   },
   "outputs": [],
   "source": [
    "# Cardio is numeric variable\n",
    "\n"
   ]
  },
  {
   "cell_type": "markdown",
   "metadata": {},
   "source": [
    "### <font color='blue'>  DIY-1: Finding Numerical Summaries </font>\n",
    "\n",
    "- What is the mean, standard deviation, and range of income?\n",
    "- How many customers rated themselves 5 on fitness? "
   ]
  },
  {
   "cell_type": "code",
   "execution_count": null,
   "metadata": {},
   "outputs": [],
   "source": []
  },
  {
   "cell_type": "code",
   "execution_count": null,
   "metadata": {},
   "outputs": [],
   "source": []
  },
  {
   "cell_type": "code",
   "execution_count": null,
   "metadata": {},
   "outputs": [],
   "source": []
  },
  {
   "cell_type": "code",
   "execution_count": null,
   "metadata": {},
   "outputs": [],
   "source": []
  },
  {
   "cell_type": "markdown",
   "metadata": {},
   "source": [
    "Sometimes, we might have a categorical variables and its categories are represent as numbers. If we have a categorical variable with numbers as categories and if their sorting makes sense (such as Education in the cardio dataset), then we should probably be treating them as categorical variables whenp performing visual analysis."
   ]
  },
  {
   "cell_type": "markdown",
   "metadata": {},
   "source": [
    "#### 5.3 Univariate Distributions\n",
    "\n",
    "- Numerical Variables \n",
    "    - Histograms & Density Plots\n",
    "    - Boxplots (different versions: Strip Plots, Swarm Plots, Violin Plots, Boxen Plots)\n",
    "- Categorical Variables\n",
    "    - Count Plot\n",
    "    - Pie Plot\n",
    "    "
   ]
  },
  {
   "cell_type": "code",
   "execution_count": null,
   "metadata": {},
   "outputs": [],
   "source": [
    "# Which variables in our dataset are numerical and which are categorical?\n",
    "# According to the output below, we can see that we have:\n",
    "\n",
    "# Numerical variables: Age, Income, and Miles\n",
    "# Categorical variables: Product, Gender, MaritalStatus, Education, Usage, Fitness\n",
    "\n"
   ]
  },
  {
   "cell_type": "markdown",
   "metadata": {},
   "source": [
    "**5.3.1 Numerical Variables: Histograms & Density Plots**"
   ]
  },
  {
   "cell_type": "markdown",
   "metadata": {},
   "source": [
    "Histograms are only for numerical variables. Based on our data exploration before, we should be studing the distribution of Age, Income and Miles using a histogram.\n",
    "\n",
    "https://seaborn.pydata.org/generated/seaborn.distplot.html"
   ]
  },
  {
   "cell_type": "code",
   "execution_count": null,
   "metadata": {},
   "outputs": [],
   "source": [
    "# use the distribution plot `distplot()` method in seaborn to create histograms for all numerical variables\n",
    "\n"
   ]
  },
  {
   "cell_type": "code",
   "execution_count": null,
   "metadata": {
    "scrolled": true
   },
   "outputs": [],
   "source": [
    "# we can see here that age is right skewed and it ranges between approximately 20 and 50. Most of the ages are between\n",
    "# btween 20 and 30 with a peak at 25.\n",
    "\n"
   ]
  },
  {
   "cell_type": "code",
   "execution_count": null,
   "metadata": {},
   "outputs": [],
   "source": [
    "# we can also just show the denisty plot with no histogram as follows \n",
    "\n"
   ]
  },
  {
   "cell_type": "code",
   "execution_count": null,
   "metadata": {
    "scrolled": true
   },
   "outputs": [],
   "source": [
    "# we can see here that Income is right skewed and it ranges between approximately 30K and 100K. \n",
    "# Most of the incomes are between btween 30K and 60K with a peak around 40K.\n",
    "\n"
   ]
  },
  {
   "cell_type": "code",
   "execution_count": null,
   "metadata": {
    "scrolled": false
   },
   "outputs": [],
   "source": [
    "# we can see here that Miles is also right skewed and it ranges between approximately 0 and 400. \n",
    "# Most of the distances are between btween 50 and 110 miles with a peak around 80 miles.\n",
    "\n"
   ]
  },
  {
   "cell_type": "code",
   "execution_count": null,
   "metadata": {},
   "outputs": [],
   "source": [
    "# we can add rug plot to our histogram\n",
    "\n"
   ]
  },
  {
   "cell_type": "markdown",
   "metadata": {},
   "source": [
    "While the graphs are informative, we can change the style to make them more beautiful. `seanborn` is a package that was built on Python's orginal data visualization package `matplotlib`, and it inherits a lot of its features. This means that we can use `matplotlib` functionalities to update our `seaborn` graphs. \n",
    "\n",
    "If you have used R before, `seaborn` to Python is the `ggplot2` to R.\n",
    "\n",
    "So, let's update the style of the graphs going foward using the following command (Note that we usually assign the styles at the begining of our code so it applies to all graphs that comes after."
   ]
  },
  {
   "cell_type": "code",
   "execution_count": null,
   "metadata": {},
   "outputs": [],
   "source": [
    "# import the pyplot module from matplotlib\n",
    "\n",
    "\n",
    "# create seaborn plots using the fivethirtyeight style (all style are available \n",
    "# here: https://matplotlib.org/gallery/style_sheets/style_sheets_reference.html)\n",
    "\n",
    "\n",
    "\n",
    "# We can also set the style without the need to involve matplotlib using only seabotn.\n",
    "# The following commented code will do the job \n",
    "\n",
    "########sns.set(style = \"darkgrid\")\n",
    "\n",
    "\n",
    "# The styles available in seaborn are: white, dark, whitegrid, darkgrid, ticks\n"
   ]
  },
  {
   "cell_type": "code",
   "execution_count": null,
   "metadata": {},
   "outputs": [],
   "source": []
  },
  {
   "cell_type": "code",
   "execution_count": null,
   "metadata": {},
   "outputs": [],
   "source": []
  },
  {
   "cell_type": "code",
   "execution_count": null,
   "metadata": {
    "scrolled": false
   },
   "outputs": [],
   "source": []
  },
  {
   "cell_type": "code",
   "execution_count": null,
   "metadata": {
    "scrolled": false
   },
   "outputs": [],
   "source": [
    "# Going forward I will use the fivethirtyeight style\n",
    "\n"
   ]
  },
  {
   "cell_type": "markdown",
   "metadata": {},
   "source": [
    "**5.3.2  Numerical Variables: Box Plots (different versions: Strip Plots, Swarm Plots, and Violin Plots)**\n",
    "\n",
    "Boxplots are only for numerical variables. Based on our data exploration before, we should be studing the distribution of Age, Income and Miles using a histogram.\n",
    "\n",
    "This kind of plot shows the three quartile values of the distribution along with extreme values. The “whiskers” extend to points that lie within 1.5 IQRs of the lower and upper quartile, and then observations that fall outside this range are displayed independently. This means that each value in the boxplot corresponds to an actual observation in the data.\n",
    "\n",
    "https://seaborn.pydata.org/generated/seaborn.boxplot.html"
   ]
  },
  {
   "cell_type": "code",
   "execution_count": null,
   "metadata": {},
   "outputs": [],
   "source": [
    "# Income Distribution\n",
    "\n",
    "# Based on the boxplot, we can see that:\n",
    "\n",
    "# income ranges between 30K and 100K. \n",
    "# 50% of the CardioGood customers have income between 45K and 60K\n",
    "# 25% of the customers have income higher than 60K\n",
    "# 25% of the customers have income lower than 30K\n",
    "# the median income for customers is around 50K (i.e. 50% of the customers earn more than 50K)\n",
    "# we see some customers with an outlier income (80K and above)\n",
    "\n"
   ]
  },
  {
   "cell_type": "code",
   "execution_count": null,
   "metadata": {},
   "outputs": [],
   "source": [
    "# Horizontal Boxplot\n",
    "\n"
   ]
  },
  {
   "cell_type": "code",
   "execution_count": null,
   "metadata": {
    "scrolled": false
   },
   "outputs": [],
   "source": [
    "# Age Distribution\n",
    "\n",
    "# Based on the boxplot, we can see that:\n",
    "\n",
    "# age ranges between 17 and 50. \n",
    "# 50% of the CardioGood customers have age between 23 and 32\n",
    "# 25% of the customers have age higher than 32\n",
    "# 25% of the customers have age lower than 23\n",
    "# the median age for customers is around 26 (i.e. 50% of the customers are older than 26)\n",
    "# we see some customers with an outlier age (46 and above)\n",
    "\n",
    "\n"
   ]
  },
  {
   "cell_type": "code",
   "execution_count": null,
   "metadata": {},
   "outputs": [],
   "source": [
    "# Miles Distribution\n",
    "\n",
    "# Based on the boxplot, we can see that:\n",
    "\n",
    "# the average number of miles the customers expects to run/walk ranges between approximately 20 and 350 miles per week\n",
    "# 50% of the CardioGood customers expects to run/walk between 60 and 130 miles per week\n",
    "# 25% of the customers expects to run/walk more than 130 miles on average per week\n",
    "# 25% of the customers expects to run/walk less than 20 miles on average per week\n",
    "# the median number of miles for customers is around 90 miles per week (i.e. 50% of the customers expect to walk \n",
    "# more than 90 miles per week)\n",
    "# we see some customers with an outlier run/walk expectations (180 miles per week and above)\n",
    "\n"
   ]
  },
  {
   "cell_type": "markdown",
   "metadata": {},
   "source": [
    "In what follows, I will show you some other versions of the boxplots. "
   ]
  },
  {
   "cell_type": "code",
   "execution_count": null,
   "metadata": {},
   "outputs": [],
   "source": [
    "# strip plots:  a good complement to a box plot in cases where you want to show all observations along \n",
    "# with some representation of the underlying distribution.\n",
    "\n",
    "# https://seaborn.pydata.org/generated/seaborn.stripplot.html\n",
    "\n"
   ]
  },
  {
   "cell_type": "code",
   "execution_count": null,
   "metadata": {},
   "outputs": [],
   "source": [
    "# Swarm plots: This function is similar to stripplot(), but the points are adjusted so that they don’t overlap. \n",
    "# This gives a better representation of the distribution of values, but it does not scale well to large numbers \n",
    "# of observations. This style of plot is sometimes called a “beeswarm”.\n",
    "\n",
    "# https://seaborn.pydata.org/generated/seaborn.swarmplot.html\n",
    "\n"
   ]
  },
  {
   "cell_type": "code",
   "execution_count": null,
   "metadata": {
    "scrolled": false
   },
   "outputs": [],
   "source": [
    "# Violin plots: A violin plot plays a similar role as a box and whisker plot. It shows the distribution of \n",
    "# quantitative data. Unlike a box plot, in which all of the plot components correspond to actual datapoints, \n",
    "# the violin plot features a kernel density estimation of the underlying distribution.\n",
    "\n",
    "# https://seaborn.pydata.org/generated/seaborn.violinplot.html\n",
    "\n"
   ]
  },
  {
   "cell_type": "markdown",
   "metadata": {},
   "source": [
    "**5.3.3 Categorical Variables: Count plots**\n",
    "\n",
    "The categorical variablesin our dataset are: Product, Gender, MaritalStatus, Education, Usage, Fitness\n",
    "\n",
    "A count plot can be thought of as a histogram across a categorical,instead of quantitative, variable.\n",
    "\n",
    "https://seaborn.pydata.org/generated/seaborn.countplot.html\n",
    "\n"
   ]
  },
  {
   "cell_type": "code",
   "execution_count": null,
   "metadata": {},
   "outputs": [],
   "source": [
    "# let's find out the size of our sample using the shape attribute for the cardio DataFrame\n",
    "\n"
   ]
  },
  {
   "cell_type": "code",
   "execution_count": null,
   "metadata": {
    "scrolled": false
   },
   "outputs": [],
   "source": [
    "# Variable: Product\n",
    "\n",
    "# We see that the company sells three products: TM195, TM498, and TM798\n",
    "# The TM195 model is the most popular among customers. The least popular is TM798\n",
    "# The TM195 model sells twice the TM798 model\n",
    "# In this sample of customers, there was 44% TM195 customer, 33% TM498 customers, and 22% TM798 customers\n",
    "\n",
    "\n"
   ]
  },
  {
   "cell_type": "code",
   "execution_count": null,
   "metadata": {},
   "outputs": [],
   "source": [
    "# Find the count for each category in Product variable\n",
    "\n"
   ]
  },
  {
   "cell_type": "code",
   "execution_count": null,
   "metadata": {},
   "outputs": [],
   "source": [
    "# let's find out the percentages\n",
    "\n"
   ]
  },
  {
   "cell_type": "code",
   "execution_count": null,
   "metadata": {
    "scrolled": false
   },
   "outputs": [],
   "source": [
    "# Variable: Gender\n",
    "\n",
    "# Based on the sample, we see that males buy a little bit more CardioGood products than females. \n",
    "# In this sample of customers, there was 58% male customers, and around 42% customers\n",
    "\n",
    "\n"
   ]
  },
  {
   "cell_type": "code",
   "execution_count": null,
   "metadata": {},
   "outputs": [],
   "source": [
    "# Find the count for each category in Gender variable\n",
    "\n"
   ]
  },
  {
   "cell_type": "code",
   "execution_count": null,
   "metadata": {
    "scrolled": false
   },
   "outputs": [],
   "source": [
    "# Variable: MaritalStatus\n",
    "\n",
    "# Based on the sample, we see that partnered customers buy more CardioGood products than singles. \n",
    "# In this sample of customers, there was 60% partnered customers, and 40% customers\n",
    "\n"
   ]
  },
  {
   "cell_type": "code",
   "execution_count": null,
   "metadata": {},
   "outputs": [],
   "source": [
    "# Find the count for each category in MaritalStatus variable\n",
    "\n"
   ]
  },
  {
   "cell_type": "code",
   "execution_count": null,
   "metadata": {},
   "outputs": [],
   "source": [
    "# Variable: Education \n",
    "\n",
    "# Notice that I decided not to sort this count plot by the count. I kept it as is, because \n",
    "# the variable Education represents the number of years which represent time. \n",
    "\n",
    "# Also note that it would be better to see the percentage instead of counts for such plots (easier to interpret \n",
    "# since we are working with a sample and not the full data). We will come back to this example when we learn how \n",
    "# to aggregate data using pandas in the next couple of weeks. \n",
    "\n",
    "# Customers with 16 years of education followed by those with 14 year of education \n",
    "# represents their top customers (80% of the customers)\n",
    "# Customers with 18 years of education represent their third top population, but this group is small (12%) compared \n",
    "# to the top two customer groups (14 and 16 years of education)\n",
    "# The company does not sell much for customer with 12, 13, 15, 20 and 21 years of education\n",
    "\n",
    "\n",
    "\n"
   ]
  },
  {
   "cell_type": "code",
   "execution_count": null,
   "metadata": {},
   "outputs": [],
   "source": [
    "# Find the count for each category in Education variable\n",
    "\n"
   ]
  },
  {
   "cell_type": "markdown",
   "metadata": {},
   "source": [
    "### <font color='blue'>  DIY-2: Count plots </font>\n",
    "\n",
    "- Create a count plot that shows the distribution of the treadmill usage among GoodFitness customers. What insights do you get from the plot?\n",
    "- Repeat the same question for the variable \"Fitness\". "
   ]
  },
  {
   "cell_type": "code",
   "execution_count": null,
   "metadata": {},
   "outputs": [],
   "source": [
    "# Variable: Usage\n",
    "\n",
    "\n",
    "\n"
   ]
  },
  {
   "cell_type": "code",
   "execution_count": null,
   "metadata": {},
   "outputs": [],
   "source": [
    "# Find the count for each category in Usage variable\n",
    "\n"
   ]
  },
  {
   "cell_type": "code",
   "execution_count": null,
   "metadata": {},
   "outputs": [],
   "source": [
    "# Variable: Fitness\n",
    "\n",
    "\n"
   ]
  },
  {
   "cell_type": "code",
   "execution_count": null,
   "metadata": {
    "scrolled": true
   },
   "outputs": [],
   "source": [
    "# Find the count for each category in Fitness variable\n",
    "\n"
   ]
  },
  {
   "cell_type": "markdown",
   "metadata": {},
   "source": [
    "**5.3.3 Categorical Variables: Pie plots**\n",
    "\n",
    "No pie charts. Sorry! lol\n",
    "\n",
    "Check out this funny conversation when a github user asked the creator of `seaborn` why seaborn does not support pie charts. The conversation could be found here: https://github.com/mwaskom/seaborn/issues/766\n",
    "\n",
    "Here is the creator of `seaborn`'s webpage where he discusses his curriculum vita."
   ]
  },
  {
   "cell_type": "markdown",
   "metadata": {},
   "source": [
    "#### 5.4. Bivariate Distributions\n",
    "\n",
    "numerical $\\times$ categorical variables:\n",
    "\n",
    "- Boxplots & its variations\n",
    "- Barplots\n",
    "\n",
    "\n",
    "\n",
    "numerical $\\times$ numerical variables:\n",
    "\n",
    "- Scatterplots\n",
    "- Hexbin scatterplots\n",
    "\n",
    "\n",
    "\n",
    "categorical $\\times$ categorical variables:\n",
    "\n",
    "- Heatmap"
   ]
  },
  {
   "cell_type": "markdown",
   "metadata": {},
   "source": [
    "**5.4.1 Bivariate Distributions: One numerical and one categorical variables**\n"
   ]
  },
  {
   "cell_type": "code",
   "execution_count": null,
   "metadata": {},
   "outputs": [],
   "source": []
  },
  {
   "cell_type": "markdown",
   "metadata": {},
   "source": [
    "*- Bivariate Distributions: Box plots and its variations*"
   ]
  },
  {
   "cell_type": "code",
   "execution_count": null,
   "metadata": {},
   "outputs": [],
   "source": [
    "# Interaction: Product x Age\n",
    "\n",
    "# We can see that the TM195 and TM498 products are used by almost all ages (15-50)\n",
    "# The TM498 product is used mostly by customers who are in their 20's and early 30's\n",
    "# The median age of customers who uses all products is arounf 25\n",
    "\n"
   ]
  },
  {
   "cell_type": "code",
   "execution_count": null,
   "metadata": {},
   "outputs": [],
   "source": []
  },
  {
   "cell_type": "code",
   "execution_count": null,
   "metadata": {},
   "outputs": [],
   "source": [
    "# Interaction: Product x Income\n",
    "\n",
    "# We can see that prodcut TM798 is baught by customer with high income compared to the other two products\n",
    "# The other two products (TM195 and TM498) are mostly bought by people of lower income (less than 70K with majority less than 55K)\n",
    "\n",
    "\n"
   ]
  },
  {
   "cell_type": "code",
   "execution_count": null,
   "metadata": {},
   "outputs": [],
   "source": [
    "# Interaction: Product x Miles\n",
    "\n",
    "# It seems that people who expect to walk/run more miles per week are using the product TM798 \n",
    "# 75% expects to move more than 140 miles per week\n",
    "# Customers who baught TM195 and TM498 expect to walk/run less per than 140 miles per week\n",
    "\n"
   ]
  },
  {
   "cell_type": "code",
   "execution_count": null,
   "metadata": {},
   "outputs": [],
   "source": [
    "# Interaction: Fitness x Age\n",
    "\n",
    "# Customers who rated themselves very low on fitness are in their 20's mostly\n",
    "# That does not mean that all customers in their 20's rated themselves low\n",
    "\n",
    "\n"
   ]
  },
  {
   "cell_type": "code",
   "execution_count": null,
   "metadata": {},
   "outputs": [],
   "source": [
    "# Interaction: Fitness x Income\n",
    "\n",
    "# Customers with higher income rated themselves highly on fitness (very athlete!)\n",
    "# Almost all customers who rated themselves 1-4 has lower income (70K and below) \n",
    "# Almost 50% of those who gave themselves full score (5) earn above 75K\n",
    "\n",
    "\n"
   ]
  },
  {
   "cell_type": "code",
   "execution_count": null,
   "metadata": {},
   "outputs": [],
   "source": [
    "# Interaction: Fitness x Miles\n",
    "\n",
    "# There is an clear positive corrlation between fitness ratings and the number of miles customers expect to walk/run\n",
    "# Customers who rated themselves as \"athletes\" expect to run a lot of miles (more than 75% expect to walk/run more than 150 miles per week)\n",
    "\n",
    "\n"
   ]
  },
  {
   "cell_type": "markdown",
   "metadata": {},
   "source": [
    "Notice that I could have done more for the following interactions (please don't leave any variable behind!)\n",
    "\n",
    "- Age x Gender\n",
    "- Income x Gender\n",
    "- Miles x Gender \n",
    "\n",
    "\n",
    "- Age x Education\n",
    "- Income x Education\n",
    "- Miles x Education\n",
    "\n",
    "\n",
    "- Age x MaritalStatus\n",
    "- Income x MaritalStatus\n",
    "- Miles x MaritalStatus\n",
    "\n",
    "- Age x Usage\n",
    "- Income x Usage\n",
    "- Miles x Usage"
   ]
  },
  {
   "cell_type": "code",
   "execution_count": null,
   "metadata": {
    "scrolled": false
   },
   "outputs": [],
   "source": [
    "# Example on how to use boxplot variations to show interaction between categorical and numerical variable\n",
    "\n"
   ]
  },
  {
   "cell_type": "markdown",
   "metadata": {},
   "source": [
    "*- Bivariate Distributions: Barplots:*\n",
    "\n",
    "A bar plot represents an estimate of central tendency for a numeric variable with the height of each rectangle and provides some indication of the uncertainty around that estimate using error bars. The x-axis represents the levels of a given categorical variable, and the y-axis represents the central tendency of a numeric variable.\n",
    "\n",
    "It is also important to keep in mind that a bar plot shows only the mean (or other estimator) value, but in many cases it may be more informative to show the distribution of values at each level of the categorical variables. In that case, other approaches such as a box or violin plot may be more appropriate.\n",
    "\n",
    "https://seaborn.pydata.org/generated/seaborn.barplot.html"
   ]
  },
  {
   "cell_type": "code",
   "execution_count": null,
   "metadata": {},
   "outputs": [],
   "source": []
  },
  {
   "cell_type": "code",
   "execution_count": null,
   "metadata": {},
   "outputs": [],
   "source": [
    "# by default, the barplot shows us a 95% confidence interval (ci) for the estimated average for \"Income\" variable\n",
    "\n"
   ]
  },
  {
   "cell_type": "code",
   "execution_count": null,
   "metadata": {},
   "outputs": [],
   "source": [
    "# We can get rid of the ci around the mean value as follows\n",
    "\n"
   ]
  },
  {
   "cell_type": "markdown",
   "metadata": {},
   "source": [
    "**5.4.2 Bivariate Distributions: One numerical vs. one numerical variables**\n",
    "\n",
    "- Scatterplots\n",
    "- Hexbin scatterplots\n"
   ]
  },
  {
   "cell_type": "markdown",
   "metadata": {},
   "source": [
    "*- Bivariate Distributions: Scatterplots:*\n",
    "\n",
    "\n",
    "https://seaborn.pydata.org/generated/seaborn.scatterplot.html"
   ]
  },
  {
   "cell_type": "code",
   "execution_count": null,
   "metadata": {},
   "outputs": [],
   "source": [
    "# Age x Miles\n",
    "\n",
    "# Here we don't see a clear relationship between the age of customers and the miles they expect to walk/run per week\n",
    "# We can see however, that customers among different ages expect to walk/run below 200 miles except for few outlier \n",
    "# customers (age btween 25 and 35). These customers expects to walk/run more than 200 miles per week.\n",
    "\n",
    "\n"
   ]
  },
  {
   "cell_type": "code",
   "execution_count": null,
   "metadata": {},
   "outputs": [],
   "source": [
    "# Age x Income\n",
    "\n",
    "# we can see that their is a positive linear trend between Age and Income. As age increases, we tend to see an\n",
    "# an increase in salary\n",
    "\n"
   ]
  },
  {
   "cell_type": "markdown",
   "metadata": {},
   "source": [
    "*- Bivariate Distributions: Hexbin plots:*\n",
    "\n",
    "This kind of plot is very useful when we have large dataset, and the points are overlapping with each other when we create a scatter plot\n",
    "\n",
    "https://seaborn.pydata.org/generated/seaborn.jointplot.html"
   ]
  },
  {
   "cell_type": "code",
   "execution_count": null,
   "metadata": {},
   "outputs": [],
   "source": [
    "# This hexbin plot tells us that there is a linear trend. In addition, it shows us that most of our customers\n",
    "# are young (20-30 years old), will income on the lower range (30K-50K).\n",
    "\n",
    "# In addition, the jointplot shows us the marginal distributions of each of the numeric variables\n",
    "\n",
    "\n"
   ]
  },
  {
   "cell_type": "code",
   "execution_count": null,
   "metadata": {},
   "outputs": [],
   "source": [
    "# Other forms of Joint plots\n",
    "\n"
   ]
  },
  {
   "cell_type": "code",
   "execution_count": null,
   "metadata": {},
   "outputs": [],
   "source": [
    "# Other forms of Joint plots\n",
    "\n"
   ]
  },
  {
   "cell_type": "markdown",
   "metadata": {},
   "source": [
    "**5.4.3 Bivariate Distributions: One categorical and one categorical variables**\n"
   ]
  },
  {
   "cell_type": "markdown",
   "metadata": {},
   "source": [
    "*- Bivariate Distributions: Heatmap*\n",
    "\n",
    "The best way to visualize the relationship between two categorical variables is to use a heatmap that shows the crosstabluation among the different levels of the categorical variables. \n",
    "\n",
    "\n",
    "https://seaborn.pydata.org/generated/seaborn.heatmap.html"
   ]
  },
  {
   "cell_type": "code",
   "execution_count": null,
   "metadata": {},
   "outputs": [],
   "source": [
    "# Cross tabulation for two categorical variables\n",
    "\n"
   ]
  },
  {
   "cell_type": "code",
   "execution_count": null,
   "metadata": {},
   "outputs": [],
   "source": [
    "# save the cross tabluation into a variable\n",
    "# note that the result of running a cross tabulation is saved into a DataFrame data structure (that's how seaborn expects the data)\n",
    "\n"
   ]
  },
  {
   "cell_type": "code",
   "execution_count": null,
   "metadata": {},
   "outputs": [],
   "source": []
  },
  {
   "cell_type": "code",
   "execution_count": null,
   "metadata": {},
   "outputs": [],
   "source": []
  },
  {
   "cell_type": "code",
   "execution_count": null,
   "metadata": {},
   "outputs": [],
   "source": [
    "# notice that the default color map might not be intutive. In the previous graph, we see\n",
    "# that large numerbers are assigned to lighter colors, and small numbers are assigned to darker colors\n",
    "# we generally tend to think in an oposit way (darker = more , ligher = less)\n",
    "\n",
    "# so, we can use a different color map. In this case, I am using 'YlGnBu'\n",
    "# we will cover color in more details later in the semeser, but for not please refer to the following website to \n",
    "# select the color map you need for your visualization\n",
    "\n",
    "# https://matplotlib.org/3.1.1/gallery/color/colormap_reference.html \n",
    "\n",
    "\n"
   ]
  },
  {
   "cell_type": "code",
   "execution_count": null,
   "metadata": {},
   "outputs": [],
   "source": [
    "# In the heatmap case, we need to use sequential colors where low numbers are represented with a light color\n",
    "# and the high number are represented with a darker color \n",
    "\n"
   ]
  },
  {
   "cell_type": "markdown",
   "metadata": {},
   "source": [
    "#### 5.5 Multivariate Distributions\n",
    "\n",
    "More than three numerical variables\n",
    "\n",
    "- Pairplot\n",
    "- Correlation heatmap\n",
    "\n",
    "Two categorical variables and one numerical variable\n",
    "\n",
    "- Pointplots\n",
    "- Boxplot for the numerical variable acoss the different levels in the categorical variable, and use color of the box to represent a the second categorical variable\n",
    "\n",
    "\n",
    "Two numerical and one categorical variables\n",
    "\n",
    "- Scatterplot for the numerical variables, and use color of the point for one of the categorical variable\n",
    "- Scatterplot for the numerical variables, and use size of the point for one of the categorical variable\n",
    "- Scatterplot for the numerical variables, and use shape of the point for one of the categorical variable\n",
    "\n",
    "\n",
    "Two numerical and two categorical variables\n",
    "\n",
    "- Scatterplot for the numerical variables, and use color for one of the categorical variable and size for the other\n",
    "\n",
    "Any combination of variables\n",
    "\n",
    "- Facet plots"
   ]
  },
  {
   "cell_type": "markdown",
   "metadata": {},
   "source": [
    "**5.5.1 More than three numerical variables**\n",
    "\n",
    "- Pairplot\n",
    "- Correlation heatmap"
   ]
  },
  {
   "cell_type": "code",
   "execution_count": null,
   "metadata": {},
   "outputs": [],
   "source": [
    "# pairplot\n",
    "\n"
   ]
  },
  {
   "cell_type": "code",
   "execution_count": null,
   "metadata": {},
   "outputs": [],
   "source": [
    "# correlation heatmap\n",
    "\n"
   ]
  },
  {
   "cell_type": "code",
   "execution_count": null,
   "metadata": {},
   "outputs": [],
   "source": []
  },
  {
   "cell_type": "markdown",
   "metadata": {},
   "source": [
    "**5.5.2 Two categorical variables and one numerical variable**\n",
    "\n",
    "- Pointplots\n",
    "- Boxplot for the numerical variable acoss the different levels in the categorical variable, and use color of the box to represent a the second categorical variable\n"
   ]
  },
  {
   "cell_type": "code",
   "execution_count": null,
   "metadata": {},
   "outputs": [],
   "source": [
    "# pointplots \n",
    "# This function also encodes the value of the estimate with height on the other axis, \n",
    "# but rather than showing a full bar, it plots the point estimate and confidence interval. \n",
    "# Additionally, `pointplot()` connects points from the same hue category. \n",
    "# This makes it easy to see how the main relationship is changing as a function of the hue semantic,\n",
    "# because your eyes are quite good at picking up on differences of slopes:\n",
    "\n",
    "# https://seaborn.pydata.org/generated/seaborn.pointplot.html\n",
    "\n"
   ]
  },
  {
   "cell_type": "code",
   "execution_count": null,
   "metadata": {},
   "outputs": [],
   "source": [
    "# boxplots\n",
    "\n"
   ]
  },
  {
   "cell_type": "code",
   "execution_count": null,
   "metadata": {},
   "outputs": [],
   "source": []
  },
  {
   "cell_type": "code",
   "execution_count": null,
   "metadata": {},
   "outputs": [],
   "source": []
  },
  {
   "cell_type": "code",
   "execution_count": null,
   "metadata": {},
   "outputs": [],
   "source": []
  },
  {
   "cell_type": "code",
   "execution_count": null,
   "metadata": {},
   "outputs": [],
   "source": []
  },
  {
   "cell_type": "code",
   "execution_count": null,
   "metadata": {},
   "outputs": [],
   "source": []
  }
 ],
 "metadata": {
  "kernelspec": {
   "display_name": "Python 3",
   "language": "python",
   "name": "python3"
  },
  "language_info": {
   "codemirror_mode": {
    "name": "ipython",
    "version": 3
   },
   "file_extension": ".py",
   "mimetype": "text/x-python",
   "name": "python",
   "nbconvert_exporter": "python",
   "pygments_lexer": "ipython3",
   "version": "3.8.3"
  }
 },
 "nbformat": 4,
 "nbformat_minor": 4
}
