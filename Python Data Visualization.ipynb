{
 "cells": [
  {
   "cell_type": "markdown",
   "metadata": {
    "id": "o9pA3S402PNi"
   },
   "source": [
    "<p style=\"text-align: center;\"> <span style=\"color:firebrick\"> <font size=\"5\"> <b> USC Marshall School of Business </b> </font> </p> </span> \n",
    "\n",
    "<p style=\"text-align: center;\"> <b> <font font size=\"5\"> DSO 559: HW #1 </p> </b></font>\n"
   ]
  },
  {
   "cell_type": "code",
   "execution_count": null,
   "metadata": {
    "id": "2QKCafIB2PNn"
   },
   "outputs": [],
   "source": [
    "YUZI SUN## <span style=\"color:blue\">  REPLACE THIS TEXT WITH YOUR NAME </span>"
   ]
  },
  {
   "cell_type": "markdown",
   "metadata": {
    "id": "lsQzp7tW2PNp"
   },
   "source": [
    "## <span style=\"color:firebrick\"> Grading & Expectations </span>\n"
   ]
  },
  {
   "cell_type": "markdown",
   "metadata": {
    "id": "P3LNub912PNq"
   },
   "source": [
    "- You will earn **1 point** for each question\n",
    "- Use this Notebook as a template and add your code to it and execute\n",
    "- Save Notebook with executed your code: File -> Download as -> Notebook (.ipynb)\n",
    "- Upload your notebook in blackboard"
   ]
  },
  {
   "cell_type": "markdown",
   "metadata": {},
   "source": [
    "# Part I"
   ]
  },
  {
   "cell_type": "markdown",
   "metadata": {
    "id": "eAOuUbEz2PNq"
   },
   "source": [
    "## <span style=\"color:firebrick\"> Business Concepts </span>\n",
    "\n",
    "    \n",
    "**Concept**    |**Definition**\n",
    ":---------------|:-------------------------------------\n",
    "**Fixed Cost** | costs that do not change with the quantiy of goods or services produced <br>(e.g. utilities, labor, marketing, rent, insurance, operating costs, etc.)\n",
    "**Variable Cost** | costs that do change with quantity of goods or services produced <br> (e.g. materials, shipping, etc.)\n",
    "**Total Cost** | cost of running a business, defined in two components: total fixed costs and <br> total variable costs <br> $Total Cost = Total Variable Cost + Total Fixed Cost$\n",
    "**Revenue** | sales generated for a particular product <br> $Revenue = Price \\times Quantity$\n",
    "**Profit** | gain after subtracting its costs from revenue <br> $Profit = Revenue - Total Cost$ \n",
    "\n",
    "\n",
    "**Source**: *Interview Math* by Lewis C. Lin"
   ]
  },
  {
   "cell_type": "markdown",
   "metadata": {
    "id": "b2gxcDWh2PNr"
   },
   "source": [
    "## <span style=\"color:firebrick\"> Assignment Description </span>"
   ]
  },
  {
   "cell_type": "markdown",
   "metadata": {
    "id": "nMccvoUx2PNs"
   },
   "source": [
    "### Profitability of Melrose Shoes\n",
    "\n",
    "*Melrose Shoes* is a running shoe manufacturer that sells shoes for \\$100 a pair to shoe shops in Los Angeles. To produce **each pair**, the company spends \\$10 in materials and \\$5 in labor. They have 1 million dollars in monthly operating costs, and they sell 30,000 pairs a month. \n",
    "\n",
    "Suppose that you are applying for internship at Melorse Shoes. The hiring manager wants to check your ability to (1) create variables in Python, and (2) compute monthly profit for the company. "
   ]
  },
  {
   "cell_type": "markdown",
   "metadata": {
    "id": "t-zGlvnc2PNt"
   },
   "source": [
    "**(a)** Create variables `companyName`, `price`, `materialCost`, `laborCost`, `operatingCost`, and `quantity` to store their respective values that are given above.  "
   ]
  },
  {
   "cell_type": "code",
   "execution_count": 3,
   "metadata": {
    "id": "8NXOhwkI2PNu"
   },
   "outputs": [],
   "source": [
    "companyName = \"Melrose Shoes\"\n",
    "price = 100\n",
    "materialCost = 10*30000\n",
    "laborCost = 5*30000\n",
    "operatingCost = 1000000\n",
    "quantity = 30000"
   ]
  },
  {
   "cell_type": "markdown",
   "metadata": {
    "id": "phs89_3-2PNv"
   },
   "source": [
    "**(b)** Print the value of all variables defined in part a."
   ]
  },
  {
   "cell_type": "code",
   "execution_count": 4,
   "metadata": {
    "id": "imkUH0NF2PNv"
   },
   "outputs": [
    {
     "name": "stdout",
     "output_type": "stream",
     "text": [
      "Melrose Shoes\n",
      "100\n",
      "300000\n",
      "150000\n",
      "1000000\n",
      "30000\n"
     ]
    }
   ],
   "source": [
    "print(companyName)\n",
    "print(price)\n",
    "print(materialCost)\n",
    "print(laborCost)\n",
    "print(operatingCost)\n",
    "print(quantity)"
   ]
  },
  {
   "cell_type": "markdown",
   "metadata": {
    "id": "clmW-KbA2PNw"
   },
   "source": [
    "**(c)** What is the data type for each of the variables? "
   ]
  },
  {
   "cell_type": "code",
   "execution_count": 5,
   "metadata": {
    "id": "hkdLH0162PNw"
   },
   "outputs": [
    {
     "data": {
      "text/plain": [
       "int"
      ]
     },
     "execution_count": 5,
     "metadata": {},
     "output_type": "execute_result"
    }
   ],
   "source": [
    "type(companyName)\n",
    "\n",
    "type(price)\n",
    "type(materialCost)\n",
    "type(laborCost)\n",
    "type(operatingCost)\n",
    "type(quantity)"
   ]
  },
  {
   "cell_type": "markdown",
   "metadata": {
    "id": "clU0X6l82PNx"
   },
   "source": [
    "**(d)** What is the monthly total **fixed cost** for the company? Creat a variable `totalFixedCost` to store the total fixed value cost (show computations if needed, and print the value) for the company. Assume **fixed cost** = operating cost."
   ]
  },
  {
   "cell_type": "code",
   "execution_count": 6,
   "metadata": {
    "id": "olLhaE492PNx"
   },
   "outputs": [
    {
     "name": "stdout",
     "output_type": "stream",
     "text": [
      "1000000\n"
     ]
    }
   ],
   "source": [
    "totalFixedCost = 1000000\n",
    "print(totalFixedCost)"
   ]
  },
  {
   "cell_type": "markdown",
   "metadata": {
    "id": "XO-d4TM-2PNx"
   },
   "source": [
    "**(e)** What is the monthly total **variable cost** for the company? Create a variable `totalVariableCost` to store the total variable cost (show computations if needed, and print the value) for the company. Assume total variable cost = (material cost + labor cost) * quantity "
   ]
  },
  {
   "cell_type": "code",
   "execution_count": 7,
   "metadata": {
    "id": "OYTzPeJ52PNy"
   },
   "outputs": [
    {
     "name": "stdout",
     "output_type": "stream",
     "text": [
      "450000\n"
     ]
    }
   ],
   "source": [
    "totalVariableCost = (10+5)*30000\n",
    "print(totalVariableCost)"
   ]
  },
  {
   "cell_type": "markdown",
   "metadata": {
    "id": "_sq7aUFy2PNy"
   },
   "source": [
    "**(f)** What is the monthly total **revenue** for the company? Create a variable `revenue` to store the total revenue (show computations, and print the value) for the company. Assume revnue = price * quantity"
   ]
  },
  {
   "cell_type": "code",
   "execution_count": 8,
   "metadata": {
    "id": "bAIbSY5A2PNy"
   },
   "outputs": [
    {
     "name": "stdout",
     "output_type": "stream",
     "text": [
      "3000000\n"
     ]
    }
   ],
   "source": [
    "revenue = 100*30000\n",
    "print(revenue)"
   ]
  },
  {
   "cell_type": "markdown",
   "metadata": {
    "id": "27EI5uCm2PNy"
   },
   "source": [
    "**(g)** What is the monthly **total cost** for the company? Create a variable `totalCost` to store the total revenue (show computations, and print the value) for the company."
   ]
  },
  {
   "cell_type": "code",
   "execution_count": 9,
   "metadata": {
    "id": "m5Vnz5is2PNz"
   },
   "outputs": [
    {
     "name": "stdout",
     "output_type": "stream",
     "text": [
      "1450000\n"
     ]
    }
   ],
   "source": [
    "totalCost = 1000000+450000\n",
    "print(totalCost)"
   ]
  },
  {
   "cell_type": "markdown",
   "metadata": {
    "id": "j7I3qkaf2PNz"
   },
   "source": [
    "**(h)** What is the monthly total **profit** for the company? Create a variable `profit` to store the profit (show computations, and print the value) for the company."
   ]
  },
  {
   "cell_type": "code",
   "execution_count": 10,
   "metadata": {
    "id": "BmZ1_hYI2PNz"
   },
   "outputs": [
    {
     "name": "stdout",
     "output_type": "stream",
     "text": [
      "1550000\n"
     ]
    }
   ],
   "source": [
    "profit = 3000000-1450000\n",
    "print(profit)"
   ]
  },
  {
   "cell_type": "markdown",
   "metadata": {
    "id": "AA-STEAo2PNz"
   },
   "source": [
    "**(i)** The hiring manager at Melrose Shoes is impressed by your skills so far. Now, she is askig you to compute the profit, however, she expects you to use a dictionary data structure (`financials`) to store the values of `companyName`, `price`, `materialCost`, `laborCost`, `operatingCost`, and `quantity` instead of storing each of their values seperately. Create the `financials` dictionary, and print its value. \n"
   ]
  },
  {
   "cell_type": "code",
   "execution_count": 11,
   "metadata": {
    "id": "dhfXY6Nk2PN0",
    "scrolled": true
   },
   "outputs": [
    {
     "name": "stdout",
     "output_type": "stream",
     "text": [
      "{'companyName': 'Melrose Shoes', 'price': 100, 'materialCost': 300000, 'laborCost': 150000, 'operatingCost': 1000000, 'quantity': 30000}\n"
     ]
    }
   ],
   "source": [
    "financials = {'companyName': 'Melrose Shoes', 'price':100, 'materialCost':300000, 'laborCost':150000, 'operatingCost':1000000, 'quantity'\n",
    ":30000}\n",
    "print(financials)"
   ]
  },
  {
   "cell_type": "markdown",
   "metadata": {
    "id": "EYIPub-t2PN0"
   },
   "source": [
    "**(j)** Use the `financials` data structure to compute the `revenue`. You are expected to access the value of price and quantity from the `financials` dictionary. "
   ]
  },
  {
   "cell_type": "code",
   "execution_count": 12,
   "metadata": {
    "id": "cQfkOZBt2PN0"
   },
   "outputs": [
    {
     "name": "stdout",
     "output_type": "stream",
     "text": [
      "100\n",
      "30000\n",
      "3000000\n"
     ]
    }
   ],
   "source": [
    "print(financials['price'])\n",
    "print(financials['quantity'])\n",
    "revenue = price*quantity\n",
    "print(revenue)\n"
   ]
  },
  {
   "cell_type": "markdown",
   "metadata": {},
   "source": [
    "# Part II"
   ]
  },
  {
   "cell_type": "markdown",
   "metadata": {},
   "source": [
    "## <span style=\"color:firebrick\"> Dataset </span>\n",
    "\n",
    "The dataset consists of 29 variables. Most of the variable names are self explanatory. The following are some of the variables that might need some clarification:\n",
    "    \n",
    "|**Variables**    |**Explanation**|\n",
    "|:-----------------|:--------------|\n",
    "|`NumCompaniesWorked`| number of companies worked at before IBM\n",
    "|`OverTime`| does the employee work overtime?\n",
    "|`PerformanceRating`| employee's last year performance rating\n",
    "|`TotalWorkingYear` | number of years the employee has been in the workforce\n",
    "|`WorkLifeBalance`| employees rated themselves on their work like balance\n",
    "|`YearsInCurrentRole`| years in current role\n",
    "|`YearsWithCurrManager` | years with current manager"
   ]
  },
  {
   "cell_type": "markdown",
   "metadata": {},
   "source": [
    "### HR Employee Attrition \n",
    "\n",
    "Top tech companies are now fighting for talent among each other. It is important for the HR departments to identify the reasons that attract employees to stay with them or to leave them. \n",
    "\n",
    "In this assignment, we will apply **univariate EDA** on a hypothetical dataset released by IBM's data scientist for the data science community on IBM's HR attrition.\n",
    "\n",
    "You are expected to perform both **numerical** and **visual** univariate summaries, and come up with key facts and insights from the dataset. "
   ]
  },
  {
   "cell_type": "markdown",
   "metadata": {},
   "source": [
    "**1.** Import pandas, seaborn and matplotlib.pyplot libraries."
   ]
  },
  {
   "cell_type": "code",
   "execution_count": 13,
   "metadata": {},
   "outputs": [],
   "source": [
    "import pandas as pd\n",
    "import seaborn as sns\n",
    "import matplotlib.pyplot as plt"
   ]
  },
  {
   "cell_type": "markdown",
   "metadata": {},
   "source": [
    "**2.** Import file HR.csv from github https://raw.githubusercontent.com/robertasgabrys/DSO559/main/HR.csv and call it hr. "
   ]
  },
  {
   "cell_type": "code",
   "execution_count": 14,
   "metadata": {},
   "outputs": [],
   "source": [
    "hr = pd.read_csv(\"https://raw.githubusercontent.com/robertasgabrys/DSO559/main/HR.csv\")"
   ]
  },
  {
   "cell_type": "markdown",
   "metadata": {},
   "source": [
    "**3.** In what data structure hr table is stored? (write python command that provides teh answer to this question). "
   ]
  },
  {
   "cell_type": "code",
   "execution_count": 15,
   "metadata": {},
   "outputs": [
    {
     "name": "stdout",
     "output_type": "stream",
     "text": [
      "<class 'pandas.core.frame.DataFrame'>\n",
      "RangeIndex: 1470 entries, 0 to 1469\n",
      "Data columns (total 29 columns):\n",
      " #   Column                   Non-Null Count  Dtype \n",
      "---  ------                   --------------  ----- \n",
      " 0   Age                      1470 non-null   int64 \n",
      " 1   Attrition                1470 non-null   object\n",
      " 2   BusinessTravel           1470 non-null   object\n",
      " 3   DailyRate                1470 non-null   int64 \n",
      " 4   Department               1470 non-null   object\n",
      " 5   DistanceFromHome         1470 non-null   int64 \n",
      " 6   Education                1470 non-null   int64 \n",
      " 7   EducationField           1470 non-null   object\n",
      " 8   EmployeeCount            1470 non-null   int64 \n",
      " 9   EmployeeNumber           1470 non-null   int64 \n",
      " 10  EnvironmentSatisfaction  1470 non-null   int64 \n",
      " 11  Gender                   1470 non-null   object\n",
      " 12  HourlyRate               1470 non-null   int64 \n",
      " 13  JobInvolvement           1470 non-null   int64 \n",
      " 14  JobLevel                 1470 non-null   int64 \n",
      " 15  JobRole                  1470 non-null   object\n",
      " 16  JobSatisfaction          1470 non-null   int64 \n",
      " 17  MaritalStatus            1470 non-null   object\n",
      " 18  MonthlyIncome            1470 non-null   int64 \n",
      " 19  MonthlyRate              1470 non-null   int64 \n",
      " 20  NumCompaniesWorked       1470 non-null   int64 \n",
      " 21  OverTime                 1470 non-null   object\n",
      " 22  PerformanceRating        1470 non-null   int64 \n",
      " 23  TotalWorkingYears        1470 non-null   int64 \n",
      " 24  WorkLifeBalance          1470 non-null   int64 \n",
      " 25  YearsAtCompany           1470 non-null   int64 \n",
      " 26  YearsInCurrentRole       1470 non-null   int64 \n",
      " 27  YearsSinceLastPromotion  1470 non-null   int64 \n",
      " 28  YearsWithCurrManager     1470 non-null   int64 \n",
      "dtypes: int64(21), object(8)\n",
      "memory usage: 333.2+ KB\n"
     ]
    }
   ],
   "source": [
    "type(hr)\n",
    "hr.info()"
   ]
  },
  {
   "cell_type": "markdown",
   "metadata": {},
   "source": [
    "**4.** How many emplyees are in this file? "
   ]
  },
  {
   "cell_type": "code",
   "execution_count": 16,
   "metadata": {},
   "outputs": [
    {
     "data": {
      "text/plain": [
       "EmployeeCount    1470\n",
       "dtype: int64"
      ]
     },
     "execution_count": 16,
     "metadata": {},
     "output_type": "execute_result"
    }
   ],
   "source": [
    "hr[['EmployeeCount']].sum()"
   ]
  },
  {
   "cell_type": "markdown",
   "metadata": {},
   "source": [
    "**5.** Display the first 4 and the last 4 rows of the data table. "
   ]
  },
  {
   "cell_type": "code",
   "execution_count": 38,
   "metadata": {},
   "outputs": [
    {
     "data": {
      "text/html": [
       "<div>\n",
       "<style scoped>\n",
       "    .dataframe tbody tr th:only-of-type {\n",
       "        vertical-align: middle;\n",
       "    }\n",
       "\n",
       "    .dataframe tbody tr th {\n",
       "        vertical-align: top;\n",
       "    }\n",
       "\n",
       "    .dataframe thead th {\n",
       "        text-align: right;\n",
       "    }\n",
       "</style>\n",
       "<table border=\"1\" class=\"dataframe\">\n",
       "  <thead>\n",
       "    <tr style=\"text-align: right;\">\n",
       "      <th></th>\n",
       "      <th>Age</th>\n",
       "      <th>Attrition</th>\n",
       "      <th>BusinessTravel</th>\n",
       "      <th>DailyRate</th>\n",
       "      <th>Department</th>\n",
       "      <th>DistanceFromHome</th>\n",
       "      <th>Education</th>\n",
       "      <th>EducationField</th>\n",
       "      <th>EmployeeCount</th>\n",
       "      <th>EmployeeNumber</th>\n",
       "      <th>...</th>\n",
       "      <th>MonthlyRate</th>\n",
       "      <th>NumCompaniesWorked</th>\n",
       "      <th>OverTime</th>\n",
       "      <th>PerformanceRating</th>\n",
       "      <th>TotalWorkingYears</th>\n",
       "      <th>WorkLifeBalance</th>\n",
       "      <th>YearsAtCompany</th>\n",
       "      <th>YearsInCurrentRole</th>\n",
       "      <th>YearsSinceLastPromotion</th>\n",
       "      <th>YearsWithCurrManager</th>\n",
       "    </tr>\n",
       "  </thead>\n",
       "  <tbody>\n",
       "    <tr>\n",
       "      <th>0</th>\n",
       "      <td>41</td>\n",
       "      <td>Yes</td>\n",
       "      <td>Travel_Rarely</td>\n",
       "      <td>1102</td>\n",
       "      <td>Sales</td>\n",
       "      <td>1</td>\n",
       "      <td>2</td>\n",
       "      <td>Life Sciences</td>\n",
       "      <td>1</td>\n",
       "      <td>1</td>\n",
       "      <td>...</td>\n",
       "      <td>19479</td>\n",
       "      <td>8</td>\n",
       "      <td>Yes</td>\n",
       "      <td>3</td>\n",
       "      <td>8</td>\n",
       "      <td>1</td>\n",
       "      <td>6</td>\n",
       "      <td>4</td>\n",
       "      <td>0</td>\n",
       "      <td>5</td>\n",
       "    </tr>\n",
       "    <tr>\n",
       "      <th>1</th>\n",
       "      <td>49</td>\n",
       "      <td>No</td>\n",
       "      <td>Travel_Frequently</td>\n",
       "      <td>279</td>\n",
       "      <td>Research &amp; Development</td>\n",
       "      <td>8</td>\n",
       "      <td>1</td>\n",
       "      <td>Life Sciences</td>\n",
       "      <td>1</td>\n",
       "      <td>2</td>\n",
       "      <td>...</td>\n",
       "      <td>24907</td>\n",
       "      <td>1</td>\n",
       "      <td>No</td>\n",
       "      <td>4</td>\n",
       "      <td>10</td>\n",
       "      <td>3</td>\n",
       "      <td>10</td>\n",
       "      <td>7</td>\n",
       "      <td>1</td>\n",
       "      <td>7</td>\n",
       "    </tr>\n",
       "    <tr>\n",
       "      <th>2</th>\n",
       "      <td>37</td>\n",
       "      <td>Yes</td>\n",
       "      <td>Travel_Rarely</td>\n",
       "      <td>1373</td>\n",
       "      <td>Research &amp; Development</td>\n",
       "      <td>2</td>\n",
       "      <td>2</td>\n",
       "      <td>Other</td>\n",
       "      <td>1</td>\n",
       "      <td>4</td>\n",
       "      <td>...</td>\n",
       "      <td>2396</td>\n",
       "      <td>6</td>\n",
       "      <td>Yes</td>\n",
       "      <td>3</td>\n",
       "      <td>7</td>\n",
       "      <td>3</td>\n",
       "      <td>0</td>\n",
       "      <td>0</td>\n",
       "      <td>0</td>\n",
       "      <td>0</td>\n",
       "    </tr>\n",
       "    <tr>\n",
       "      <th>3</th>\n",
       "      <td>33</td>\n",
       "      <td>No</td>\n",
       "      <td>Travel_Frequently</td>\n",
       "      <td>1392</td>\n",
       "      <td>Research &amp; Development</td>\n",
       "      <td>3</td>\n",
       "      <td>4</td>\n",
       "      <td>Life Sciences</td>\n",
       "      <td>1</td>\n",
       "      <td>5</td>\n",
       "      <td>...</td>\n",
       "      <td>23159</td>\n",
       "      <td>1</td>\n",
       "      <td>Yes</td>\n",
       "      <td>3</td>\n",
       "      <td>8</td>\n",
       "      <td>3</td>\n",
       "      <td>8</td>\n",
       "      <td>7</td>\n",
       "      <td>3</td>\n",
       "      <td>0</td>\n",
       "    </tr>\n",
       "  </tbody>\n",
       "</table>\n",
       "<p>4 rows × 29 columns</p>\n",
       "</div>"
      ],
      "text/plain": [
       "   Age Attrition     BusinessTravel  DailyRate              Department  \\\n",
       "0   41       Yes      Travel_Rarely       1102                   Sales   \n",
       "1   49        No  Travel_Frequently        279  Research & Development   \n",
       "2   37       Yes      Travel_Rarely       1373  Research & Development   \n",
       "3   33        No  Travel_Frequently       1392  Research & Development   \n",
       "\n",
       "   DistanceFromHome  Education EducationField  EmployeeCount  EmployeeNumber  \\\n",
       "0                 1          2  Life Sciences              1               1   \n",
       "1                 8          1  Life Sciences              1               2   \n",
       "2                 2          2          Other              1               4   \n",
       "3                 3          4  Life Sciences              1               5   \n",
       "\n",
       "   ...  MonthlyRate NumCompaniesWorked  OverTime  PerformanceRating  \\\n",
       "0  ...        19479                  8       Yes                  3   \n",
       "1  ...        24907                  1        No                  4   \n",
       "2  ...         2396                  6       Yes                  3   \n",
       "3  ...        23159                  1       Yes                  3   \n",
       "\n",
       "   TotalWorkingYears WorkLifeBalance  YearsAtCompany YearsInCurrentRole  \\\n",
       "0                  8               1               6                  4   \n",
       "1                 10               3              10                  7   \n",
       "2                  7               3               0                  0   \n",
       "3                  8               3               8                  7   \n",
       "\n",
       "   YearsSinceLastPromotion  YearsWithCurrManager  \n",
       "0                        0                     5  \n",
       "1                        1                     7  \n",
       "2                        0                     0  \n",
       "3                        3                     0  \n",
       "\n",
       "[4 rows x 29 columns]"
      ]
     },
     "execution_count": 38,
     "metadata": {},
     "output_type": "execute_result"
    }
   ],
   "source": [
    "hr.head(4)"
   ]
  },
  {
   "cell_type": "code",
   "execution_count": 18,
   "metadata": {},
   "outputs": [
    {
     "data": {
      "text/html": [
       "<div>\n",
       "<style scoped>\n",
       "    .dataframe tbody tr th:only-of-type {\n",
       "        vertical-align: middle;\n",
       "    }\n",
       "\n",
       "    .dataframe tbody tr th {\n",
       "        vertical-align: top;\n",
       "    }\n",
       "\n",
       "    .dataframe thead th {\n",
       "        text-align: right;\n",
       "    }\n",
       "</style>\n",
       "<table border=\"1\" class=\"dataframe\">\n",
       "  <thead>\n",
       "    <tr style=\"text-align: right;\">\n",
       "      <th></th>\n",
       "      <th>Age</th>\n",
       "      <th>Attrition</th>\n",
       "      <th>BusinessTravel</th>\n",
       "      <th>DailyRate</th>\n",
       "      <th>Department</th>\n",
       "      <th>DistanceFromHome</th>\n",
       "      <th>Education</th>\n",
       "      <th>EducationField</th>\n",
       "      <th>EmployeeCount</th>\n",
       "      <th>EmployeeNumber</th>\n",
       "      <th>...</th>\n",
       "      <th>MonthlyRate</th>\n",
       "      <th>NumCompaniesWorked</th>\n",
       "      <th>OverTime</th>\n",
       "      <th>PerformanceRating</th>\n",
       "      <th>TotalWorkingYears</th>\n",
       "      <th>WorkLifeBalance</th>\n",
       "      <th>YearsAtCompany</th>\n",
       "      <th>YearsInCurrentRole</th>\n",
       "      <th>YearsSinceLastPromotion</th>\n",
       "      <th>YearsWithCurrManager</th>\n",
       "    </tr>\n",
       "  </thead>\n",
       "  <tbody>\n",
       "    <tr>\n",
       "      <th>1466</th>\n",
       "      <td>39</td>\n",
       "      <td>No</td>\n",
       "      <td>Travel_Rarely</td>\n",
       "      <td>613</td>\n",
       "      <td>Research &amp; Development</td>\n",
       "      <td>6</td>\n",
       "      <td>1</td>\n",
       "      <td>Medical</td>\n",
       "      <td>1</td>\n",
       "      <td>2062</td>\n",
       "      <td>...</td>\n",
       "      <td>21457</td>\n",
       "      <td>4</td>\n",
       "      <td>No</td>\n",
       "      <td>3</td>\n",
       "      <td>9</td>\n",
       "      <td>3</td>\n",
       "      <td>7</td>\n",
       "      <td>7</td>\n",
       "      <td>1</td>\n",
       "      <td>7</td>\n",
       "    </tr>\n",
       "    <tr>\n",
       "      <th>1467</th>\n",
       "      <td>27</td>\n",
       "      <td>No</td>\n",
       "      <td>Travel_Rarely</td>\n",
       "      <td>155</td>\n",
       "      <td>Research &amp; Development</td>\n",
       "      <td>4</td>\n",
       "      <td>3</td>\n",
       "      <td>Life Sciences</td>\n",
       "      <td>1</td>\n",
       "      <td>2064</td>\n",
       "      <td>...</td>\n",
       "      <td>5174</td>\n",
       "      <td>1</td>\n",
       "      <td>Yes</td>\n",
       "      <td>4</td>\n",
       "      <td>6</td>\n",
       "      <td>3</td>\n",
       "      <td>6</td>\n",
       "      <td>2</td>\n",
       "      <td>0</td>\n",
       "      <td>3</td>\n",
       "    </tr>\n",
       "    <tr>\n",
       "      <th>1468</th>\n",
       "      <td>49</td>\n",
       "      <td>No</td>\n",
       "      <td>Travel_Frequently</td>\n",
       "      <td>1023</td>\n",
       "      <td>Sales</td>\n",
       "      <td>2</td>\n",
       "      <td>3</td>\n",
       "      <td>Medical</td>\n",
       "      <td>1</td>\n",
       "      <td>2065</td>\n",
       "      <td>...</td>\n",
       "      <td>13243</td>\n",
       "      <td>2</td>\n",
       "      <td>No</td>\n",
       "      <td>3</td>\n",
       "      <td>17</td>\n",
       "      <td>2</td>\n",
       "      <td>9</td>\n",
       "      <td>6</td>\n",
       "      <td>0</td>\n",
       "      <td>8</td>\n",
       "    </tr>\n",
       "    <tr>\n",
       "      <th>1469</th>\n",
       "      <td>34</td>\n",
       "      <td>No</td>\n",
       "      <td>Travel_Rarely</td>\n",
       "      <td>628</td>\n",
       "      <td>Research &amp; Development</td>\n",
       "      <td>8</td>\n",
       "      <td>3</td>\n",
       "      <td>Medical</td>\n",
       "      <td>1</td>\n",
       "      <td>2068</td>\n",
       "      <td>...</td>\n",
       "      <td>10228</td>\n",
       "      <td>2</td>\n",
       "      <td>No</td>\n",
       "      <td>3</td>\n",
       "      <td>6</td>\n",
       "      <td>4</td>\n",
       "      <td>4</td>\n",
       "      <td>3</td>\n",
       "      <td>1</td>\n",
       "      <td>2</td>\n",
       "    </tr>\n",
       "  </tbody>\n",
       "</table>\n",
       "<p>4 rows × 29 columns</p>\n",
       "</div>"
      ],
      "text/plain": [
       "      Age Attrition     BusinessTravel  DailyRate              Department  \\\n",
       "1466   39        No      Travel_Rarely        613  Research & Development   \n",
       "1467   27        No      Travel_Rarely        155  Research & Development   \n",
       "1468   49        No  Travel_Frequently       1023                   Sales   \n",
       "1469   34        No      Travel_Rarely        628  Research & Development   \n",
       "\n",
       "      DistanceFromHome  Education EducationField  EmployeeCount  \\\n",
       "1466                 6          1        Medical              1   \n",
       "1467                 4          3  Life Sciences              1   \n",
       "1468                 2          3        Medical              1   \n",
       "1469                 8          3        Medical              1   \n",
       "\n",
       "      EmployeeNumber  ...  MonthlyRate NumCompaniesWorked  OverTime  \\\n",
       "1466            2062  ...        21457                  4        No   \n",
       "1467            2064  ...         5174                  1       Yes   \n",
       "1468            2065  ...        13243                  2        No   \n",
       "1469            2068  ...        10228                  2        No   \n",
       "\n",
       "      PerformanceRating  TotalWorkingYears WorkLifeBalance  YearsAtCompany  \\\n",
       "1466                  3                  9               3               7   \n",
       "1467                  4                  6               3               6   \n",
       "1468                  3                 17               2               9   \n",
       "1469                  3                  6               4               4   \n",
       "\n",
       "     YearsInCurrentRole  YearsSinceLastPromotion  YearsWithCurrManager  \n",
       "1466                  7                        1                     7  \n",
       "1467                  2                        0                     3  \n",
       "1468                  6                        0                     8  \n",
       "1469                  3                        1                     2  \n",
       "\n",
       "[4 rows x 29 columns]"
      ]
     },
     "execution_count": 18,
     "metadata": {},
     "output_type": "execute_result"
    }
   ],
   "source": [
    "hr.tail(4)"
   ]
  },
  {
   "cell_type": "markdown",
   "metadata": {},
   "source": [
    "**6.** What is the attrition rate in this data set? Round yoru answer to the second decimal place. "
   ]
  },
  {
   "cell_type": "code",
   "execution_count": 19,
   "metadata": {},
   "outputs": [
    {
     "data": {
      "text/plain": [
       "No     1233\n",
       "Yes     237\n",
       "Name: Attrition, dtype: int64"
      ]
     },
     "execution_count": 19,
     "metadata": {},
     "output_type": "execute_result"
    }
   ],
   "source": [
    "hr.Attrition.value_counts()"
   ]
  },
  {
   "cell_type": "code",
   "execution_count": 20,
   "metadata": {},
   "outputs": [
    {
     "data": {
      "text/plain": [
       "No     0.84\n",
       "Yes    0.16\n",
       "Name: Attrition, dtype: float64"
      ]
     },
     "execution_count": 20,
     "metadata": {},
     "output_type": "execute_result"
    }
   ],
   "source": [
    "round(hr.Attrition.value_counts(normalize=True),2) \n",
    "#attrition rate is 0.16"
   ]
  },
  {
   "cell_type": "markdown",
   "metadata": {},
   "source": [
    "**7.** How many employees are in each department?"
   ]
  },
  {
   "cell_type": "code",
   "execution_count": 32,
   "metadata": {},
   "outputs": [
    {
     "data": {
      "text/plain": [
       "<AxesSubplot:xlabel='Department', ylabel='count'>"
      ]
     },
     "execution_count": 32,
     "metadata": {},
     "output_type": "execute_result"
    },
    {
     "data": {
      "image/png": "[encoded data removed]",
      "text/plain": [
       "<Figure size 640x480 with 1 Axes>"
      ]
     },
     "metadata": {},
     "output_type": "display_data"
    }
   ],
   "source": [
    "sns.countplot(data=hr,x='Department')   \n",
    "#sales department has about 430 employees; R&D department has about 900 employees; HR department has about 40 employees"
   ]
  },
  {
   "cell_type": "code",
   "execution_count": 41,
   "metadata": {},
   "outputs": [
    {
     "data": {
      "text/plain": [
       "446"
      ]
     },
     "execution_count": 41,
     "metadata": {},
     "output_type": "execute_result"
    }
   ],
   "source": [
    "(hr['Department']=='Sales').sum()"
   ]
  },
  {
   "cell_type": "code",
   "execution_count": 42,
   "metadata": {},
   "outputs": [
    {
     "data": {
      "text/plain": [
       "961"
      ]
     },
     "execution_count": 42,
     "metadata": {},
     "output_type": "execute_result"
    }
   ],
   "source": [
    "(hr['Department']=='Research & Development').sum()"
   ]
  },
  {
   "cell_type": "code",
   "execution_count": 43,
   "metadata": {},
   "outputs": [
    {
     "data": {
      "text/plain": [
       "63"
      ]
     },
     "execution_count": 43,
     "metadata": {},
     "output_type": "execute_result"
    }
   ],
   "source": [
    "(hr['Department']=='Human Resources').sum()"
   ]
  },
  {
   "cell_type": "markdown",
   "metadata": {},
   "source": [
    "**8.** Create a bar graph that shows teh number of employees in each department. "
   ]
  },
  {
   "cell_type": "code",
   "execution_count": 45,
   "metadata": {},
   "outputs": [
    {
     "data": {
      "text/plain": [
       "<AxesSubplot:xlabel='Department', ylabel='EmployeeNumber'>"
      ]
     },
     "execution_count": 45,
     "metadata": {},
     "output_type": "execute_result"
    },
    {
     "data": {
      "image/png": "[encoded data removed]",
      "text/plain": [
       "<Figure size 640x480 with 1 Axes>"
      ]
     },
     "metadata": {},
     "output_type": "display_data"
    }
   ],
   "source": [
    "sns.barplot(data=hr, y= 'EmployeeNumber',x='Department')"
   ]
  },
  {
   "cell_type": "markdown",
   "metadata": {},
   "source": [
    "**9.** Visualize the distribution variable Age. "
   ]
  },
  {
   "cell_type": "code",
   "execution_count": 30,
   "metadata": {},
   "outputs": [
    {
     "name": "stderr",
     "output_type": "stream",
     "text": [
      "/Users/yuzisun/opt/anaconda3/lib/python3.9/site-packages/seaborn/distributions.py:2619: FutureWarning: `distplot` is a deprecated function and will be removed in a future version. Please adapt your code to use either `displot` (a figure-level function with similar flexibility) or `histplot` (an axes-level function for histograms).\n",
      "  warnings.warn(msg, FutureWarning)\n"
     ]
    },
    {
     "data": {
      "text/plain": [
       "<AxesSubplot:xlabel='Age', ylabel='Density'>"
      ]
     },
     "execution_count": 30,
     "metadata": {},
     "output_type": "execute_result"
    },
    {
     "data": {
      "image/png": "[encoded data removed]",
      "text/plain": [
       "<Figure size 640x480 with 1 Axes>"
      ]
     },
     "metadata": {},
     "output_type": "display_data"
    }
   ],
   "source": [
    "sns.distplot(hr.Age)"
   ]
  },
  {
   "cell_type": "markdown",
   "metadata": {},
   "source": [
    "**10.** Usign side by side boxplots compare the distributions of DailyRate for different levels oif attrition. "
   ]
  },
  {
   "cell_type": "code",
   "execution_count": 26,
   "metadata": {},
   "outputs": [
    {
     "data": {
      "text/plain": [
       "<AxesSubplot:xlabel='Attrition', ylabel='DailyRate'>"
      ]
     },
     "execution_count": 26,
     "metadata": {},
     "output_type": "execute_result"
    },
    {
     "data": {
      "image/png": "[encoded data removed]",
      "text/plain": [
       "<Figure size 640x480 with 1 Axes>"
      ]
     },
     "metadata": {},
     "output_type": "display_data"
    }
   ],
   "source": [
    "sns.boxplot(data=hr,y='DailyRate',x='Attrition')"
   ]
  }
 ],
 "metadata": {
  "colab": {
   "collapsed_sections": [],
   "name": "HW #1.ipynb",
   "provenance": []
  },
  "kernelspec": {
   "display_name": "Python 3 (ipykernel)",
   "language": "python",
   "name": "python3"
  },
  "language_info": {
   "codemirror_mode": {
    "name": "ipython",
    "version": 3
   },
   "file_extension": ".py",
   "mimetype": "text/x-python",
   "name": "python",
   "nbconvert_exporter": "python",
   "pygments_lexer": "ipython3",
   "version": "3.9.13"
  }
 },
 "nbformat": 4,
 "nbformat_minor": 1
}
