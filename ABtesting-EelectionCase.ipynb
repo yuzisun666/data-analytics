{
  "nbformat": 4,
  "nbformat_minor": 0,
  "metadata": {
    "colab": {
      "provenance": []
    },
    "kernelspec": {
      "name": "python3",
      "display_name": "Python 3"
    },
    "language_info": {
      "name": "python"
    }
  },
  "cells": [
    {
      "cell_type": "code",
      "execution_count": null,
      "metadata": {
        "id": "UV2jQKa2rvVt"
      },
      "outputs": [],
      "source": [
        "import pandas as pd\n",
        "from statsmodels.stats.weightstats import ztest"
      ]
    },
    {
      "cell_type": "code",
      "source": [
        "df = pd.read_excel('https://github.com/robertasgabrys/DSO559/blob/main/email_data.xlsx?raw=true')\n",
        "df.head()"
      ],
      "metadata": {
        "colab": {
          "base_uri": "https://localhost:8080/",
          "height": 206
        },
        "id": "L2rwiqE6vjdf",
        "outputId": "bea6bfc8-00af-474e-915f-22b387797e16"
      },
      "execution_count": null,
      "outputs": [
        {
          "output_type": "execute_result",
          "data": {
            "text/plain": [
              "  Gender    Age  Variant     Party  Donate  DonationAmt Newsletter Share  \\\n",
              "0      F  18-24        1  Democrat       0            0          N     N   \n",
              "1      F  35-44        1  Democrat       0            0          N     N   \n",
              "2      M    65+        2  Democrat       0            0          N     N   \n",
              "3      M    65+        2  Democrat       0            0          N     N   \n",
              "4      M  35-44        1  Democrat       0            0          N     N   \n",
              "\n",
              "  ShareType  \n",
              "0       NaN  \n",
              "1       NaN  \n",
              "2       NaN  \n",
              "3       NaN  \n",
              "4       NaN  "
            ],
            "text/html": [
              "\n",
              "  <div id=\"df-5e6d972b-0b39-480f-97d1-0b7179a0ab1a\">\n",
              "    <div class=\"colab-df-container\">\n",
              "      <div>\n",
              "<style scoped>\n",
              "    .dataframe tbody tr th:only-of-type {\n",
              "        vertical-align: middle;\n",
              "    }\n",
              "\n",
              "    .dataframe tbody tr th {\n",
              "        vertical-align: top;\n",
              "    }\n",
              "\n",
              "    .dataframe thead th {\n",
              "        text-align: right;\n",
              "    }\n",
              "</style>\n",
              "<table border=\"1\" class=\"dataframe\">\n",
              "  <thead>\n",
              "    <tr style=\"text-align: right;\">\n",
              "      <th></th>\n",
              "      <th>Gender</th>\n",
              "      <th>Age</th>\n",
              "      <th>Variant</th>\n",
              "      <th>Party</th>\n",
              "      <th>Donate</th>\n",
              "      <th>DonationAmt</th>\n",
              "      <th>Newsletter</th>\n",
              "      <th>Share</th>\n",
              "      <th>ShareType</th>\n",
              "    </tr>\n",
              "  </thead>\n",
              "  <tbody>\n",
              "    <tr>\n",
              "      <th>0</th>\n",
              "      <td>F</td>\n",
              "      <td>18-24</td>\n",
              "      <td>1</td>\n",
              "      <td>Democrat</td>\n",
              "      <td>0</td>\n",
              "      <td>0</td>\n",
              "      <td>N</td>\n",
              "      <td>N</td>\n",
              "      <td>NaN</td>\n",
              "    </tr>\n",
              "    <tr>\n",
              "      <th>1</th>\n",
              "      <td>F</td>\n",
              "      <td>35-44</td>\n",
              "      <td>1</td>\n",
              "      <td>Democrat</td>\n",
              "      <td>0</td>\n",
              "      <td>0</td>\n",
              "      <td>N</td>\n",
              "      <td>N</td>\n",
              "      <td>NaN</td>\n",
              "    </tr>\n",
              "    <tr>\n",
              "      <th>2</th>\n",
              "      <td>M</td>\n",
              "      <td>65+</td>\n",
              "      <td>2</td>\n",
              "      <td>Democrat</td>\n",
              "      <td>0</td>\n",
              "      <td>0</td>\n",
              "      <td>N</td>\n",
              "      <td>N</td>\n",
              "      <td>NaN</td>\n",
              "    </tr>\n",
              "    <tr>\n",
              "      <th>3</th>\n",
              "      <td>M</td>\n",
              "      <td>65+</td>\n",
              "      <td>2</td>\n",
              "      <td>Democrat</td>\n",
              "      <td>0</td>\n",
              "      <td>0</td>\n",
              "      <td>N</td>\n",
              "      <td>N</td>\n",
              "      <td>NaN</td>\n",
              "    </tr>\n",
              "    <tr>\n",
              "      <th>4</th>\n",
              "      <td>M</td>\n",
              "      <td>35-44</td>\n",
              "      <td>1</td>\n",
              "      <td>Democrat</td>\n",
              "      <td>0</td>\n",
              "      <td>0</td>\n",
              "      <td>N</td>\n",
              "      <td>N</td>\n",
              "      <td>NaN</td>\n",
              "    </tr>\n",
              "  </tbody>\n",
              "</table>\n",
              "</div>\n",
              "      <button class=\"colab-df-convert\" onclick=\"convertToInteractive('df-5e6d972b-0b39-480f-97d1-0b7179a0ab1a')\"\n",
              "              title=\"Convert this dataframe to an interactive table.\"\n",
              "              style=\"display:none;\">\n",
              "        \n",
              "  <svg xmlns=\"http://www.w3.org/2000/svg\" height=\"24px\"viewBox=\"0 0 24 24\"\n",
              "       width=\"24px\">\n",
              "    <path d=\"M0 0h24v24H0V0z\" fill=\"none\"/>\n",
              "    <path d=\"M18.56 5.44l.94 2.06.94-2.06 2.06-.94-2.06-.94-.94-2.06-.94 2.06-2.06.94zm-11 1L8.5 8.5l.94-2.06 2.06-.94-2.06-.94L8.5 2.5l-.94 2.06-2.06.94zm10 10l.94 2.06.94-2.06 2.06-.94-2.06-.94-.94-2.06-.94 2.06-2.06.94z\"/><path d=\"M17.41 7.96l-1.37-1.37c-.4-.4-.92-.59-1.43-.59-.52 0-1.04.2-1.43.59L10.3 9.45l-7.72 7.72c-.78.78-.78 2.05 0 2.83L4 21.41c.39.39.9.59 1.41.59.51 0 1.02-.2 1.41-.59l7.78-7.78 2.81-2.81c.8-.78.8-2.07 0-2.86zM5.41 20L4 18.59l7.72-7.72 1.47 1.35L5.41 20z\"/>\n",
              "  </svg>\n",
              "      </button>\n",
              "      \n",
              "  <style>\n",
              "    .colab-df-container {\n",
              "      display:flex;\n",
              "      flex-wrap:wrap;\n",
              "      gap: 12px;\n",
              "    }\n",
              "\n",
              "    .colab-df-convert {\n",
              "      background-color: #E8F0FE;\n",
              "      border: none;\n",
              "      border-radius: 50%;\n",
              "      cursor: pointer;\n",
              "      display: none;\n",
              "      fill: #1967D2;\n",
              "      height: 32px;\n",
              "      padding: 0 0 0 0;\n",
              "      width: 32px;\n",
              "    }\n",
              "\n",
              "    .colab-df-convert:hover {\n",
              "      background-color: #E2EBFA;\n",
              "      box-shadow: 0px 1px 2px rgba(60, 64, 67, 0.3), 0px 1px 3px 1px rgba(60, 64, 67, 0.15);\n",
              "      fill: #174EA6;\n",
              "    }\n",
              "\n",
              "    [theme=dark] .colab-df-convert {\n",
              "      background-color: #3B4455;\n",
              "      fill: #D2E3FC;\n",
              "    }\n",
              "\n",
              "    [theme=dark] .colab-df-convert:hover {\n",
              "      background-color: #434B5C;\n",
              "      box-shadow: 0px 1px 3px 1px rgba(0, 0, 0, 0.15);\n",
              "      filter: drop-shadow(0px 1px 2px rgba(0, 0, 0, 0.3));\n",
              "      fill: #FFFFFF;\n",
              "    }\n",
              "  </style>\n",
              "\n",
              "      <script>\n",
              "        const buttonEl =\n",
              "          document.querySelector('#df-5e6d972b-0b39-480f-97d1-0b7179a0ab1a button.colab-df-convert');\n",
              "        buttonEl.style.display =\n",
              "          google.colab.kernel.accessAllowed ? 'block' : 'none';\n",
              "\n",
              "        async function convertToInteractive(key) {\n",
              "          const element = document.querySelector('#df-5e6d972b-0b39-480f-97d1-0b7179a0ab1a');\n",
              "          const dataTable =\n",
              "            await google.colab.kernel.invokeFunction('convertToInteractive',\n",
              "                                                     [key], {});\n",
              "          if (!dataTable) return;\n",
              "\n",
              "          const docLinkHtml = 'Like what you see? Visit the ' +\n",
              "            '<a target=\"_blank\" href=https://colab.research.google.com/notebooks/data_table.ipynb>data table notebook</a>'\n",
              "            + ' to learn more about interactive tables.';\n",
              "          element.innerHTML = '';\n",
              "          dataTable['output_type'] = 'display_data';\n",
              "          await google.colab.output.renderOutput(dataTable, element);\n",
              "          const docLink = document.createElement('div');\n",
              "          docLink.innerHTML = docLinkHtml;\n",
              "          element.appendChild(docLink);\n",
              "        }\n",
              "      </script>\n",
              "    </div>\n",
              "  </div>\n",
              "  "
            ]
          },
          "metadata": {},
          "execution_count": 2
        }
      ]
    },
    {
      "cell_type": "markdown",
      "source": [
        "**Step 1**: formulate a question:\n",
        "\n",
        "Test 1: Is V2 (new/guilty) better than V1(old/innocnet)?\n",
        "\n",
        "Test 2: Is V3 (new/guilty) better than V1 (old/innocnet)?\n",
        "\n",
        "**Step 2**: assume the answer to the question above\n",
        "\n",
        "Test 1: V2 is NOT better than V1\n",
        "\n",
        "Test 2: V3 is NOT better than V1\n",
        "\n",
        "**Combining Step1 and Step 12 we can formulate Ho and Ha:**\n",
        "\n",
        "**Test 1**:\n",
        "\n",
        "Ho: V2 is NOT better than V1\n",
        "\n",
        "Ha: V2 is better than V1\n",
        "\n",
        "**Test 2**:\n",
        "\n",
        "Ho: V3 is NOT better than V1\n",
        "\n",
        "Ha: V3 is better than V1\n",
        "\n",
        "Step 2 -> we **assume** that Ho is TRUE"
      ],
      "metadata": {
        "id": "MzgYS7fQwkHk"
      }
    },
    {
      "cell_type": "markdown",
      "source": [
        "**Step 3:** set the tolerance/significance level (probablity of Type I error = probablity of reject Ho when Ho is true, i.e. incorrectly concluding that a new method is better) \n",
        "\n",
        "Since we have 2 new subjectlines we want to test, let's use alpha = 5% / 2 = 2.5% for each test."
      ],
      "metadata": {
        "id": "e93OXTxpyqZS"
      }
    },
    {
      "cell_type": "code",
      "source": [
        "df.loc[df['Variant'] == 2,'Share']"
      ],
      "metadata": {
        "colab": {
          "base_uri": "https://localhost:8080/"
        },
        "id": "cd8WBgVo0voD",
        "outputId": "d33d2271-2403-4d8f-d2a9-41a667a78f6c"
      },
      "execution_count": null,
      "outputs": [
        {
          "output_type": "execute_result",
          "data": {
            "text/plain": [
              "2        N\n",
              "3        N\n",
              "5        N\n",
              "9        N\n",
              "10       N\n",
              "        ..\n",
              "15989    N\n",
              "15992    N\n",
              "15994    N\n",
              "15996    N\n",
              "15999    N\n",
              "Name: Share, Length: 5322, dtype: object"
            ]
          },
          "metadata": {},
          "execution_count": 5
        }
      ]
    },
    {
      "cell_type": "code",
      "source": [
        "# replace N Y with 0 and 1 in Share column\n",
        "df.loc[df['Share'] == 'N','Share'] = 0\n",
        "df.loc[df['Share'] == 'Y','Share'] = 1"
      ],
      "metadata": {
        "id": "YF-zN1w52EBp"
      },
      "execution_count": null,
      "outputs": []
    },
    {
      "cell_type": "code",
      "source": [
        "# Is V2 better than V1?\n",
        "ztest(x1 = df.loc[df['Variant'] == 2,'Share'] , x2 = df.loc[df['Variant'] == 1,'Share'],alternative='larger')[1]\n",
        "# since the pvalue > 0.025 -> V2 is not better than V1"
      ],
      "metadata": {
        "colab": {
          "base_uri": "https://localhost:8080/"
        },
        "id": "eMSk6TeRx_5T",
        "outputId": "0f3c341e-7520-4ec0-8b4f-6c580c9830f8"
      },
      "execution_count": null,
      "outputs": [
        {
          "output_type": "execute_result",
          "data": {
            "text/plain": [
              "0.5072431032624405"
            ]
          },
          "metadata": {},
          "execution_count": 9
        }
      ]
    },
    {
      "cell_type": "code",
      "source": [
        "# Is V3 better than V1?\n",
        "ztest(x1 = df.loc[df['Variant'] == 3,'Share'] , x2 = df.loc[df['Variant'] == 1,'Share'],alternative='larger')[1]\n",
        "# since the pvalue > 0.025 -> V3 is not better than V1"
      ],
      "metadata": {
        "id": "_hjsza1F2zUN",
        "outputId": "2a5eddc7-e26e-47b1-d624-0ec9ebcf4cad",
        "colab": {
          "base_uri": "https://localhost:8080/"
        }
      },
      "execution_count": null,
      "outputs": [
        {
          "output_type": "execute_result",
          "data": {
            "text/plain": [
              "0.2781302982795702"
            ]
          },
          "metadata": {},
          "execution_count": 10
        }
      ]
    }
  ]
}
