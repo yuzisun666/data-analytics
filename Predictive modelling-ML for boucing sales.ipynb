{
  "nbformat": 4,
  "nbformat_minor": 0,
  "metadata": {
    "colab": {
      "provenance": []
    },
    "kernelspec": {
      "name": "python3",
      "display_name": "Python 3"
    },
    "language_info": {
      "name": "python"
    }
  },
  "cells": [
    {
      "cell_type": "code",
      "execution_count": 1,
      "metadata": {
        "id": "EdsV7qzzsImP"
      },
      "outputs": [],
      "source": [
        "import pandas as pd\n",
        "from sklearn.model_selection import train_test_split\n",
        "from sklearn.tree import DecisionTreeClassifier\n",
        "import graphviz\n",
        "from sklearn.tree import export_graphviz\n",
        "from IPython.display import display\n",
        "from sklearn import metrics\n",
        "from sklearn.metrics import  make_scorer\n",
        "# from sklearn.metrics import confusion_matrix\n",
        "import numpy as np\n",
        "import matplotlib.pyplot as plt\n",
        "import seaborn as sns\n",
        "from sklearn.model_selection import GridSearchCV"
      ]
    },
    {
      "cell_type": "code",
      "source": [
        "df=pd.read_csv('https://raw.githubusercontent.com/robertasgabrys/DSO559/main/AllDayBouncing.csv')\n",
        "df.head()"
      ],
      "metadata": {
        "id": "pCqULmNwsMn_",
        "colab": {
          "base_uri": "https://localhost:8080/",
          "height": 270
        },
        "outputId": "f76d6192-4af0-45db-9a4e-a6dfcbbc43e3"
      },
      "execution_count": 2,
      "outputs": [
        {
          "output_type": "execute_result",
          "data": {
            "text/plain": [
              "  SeniorCitizen WeekendBouncer  avgBounceTime bounceInStreet phoneType  \\\n",
              "0            No             No              1             No   Unknown   \n",
              "1            No             No             34            Yes   Unknown   \n",
              "2            No             No              2            Yes   Unknown   \n",
              "3            No             No             45             No   Unknown   \n",
              "4            No             No              2            Yes   Android   \n",
              "\n",
              "  avgBounceDistance avgBounceHeight PaperlessBilling  monthlyDistanceBounced  \\\n",
              "0            <1 ft.          <1 ft.              Yes                   29.85   \n",
              "1            <1 ft.         1-2 ft.               No                   56.95   \n",
              "2            <1 ft.          <1 ft.              Yes                   53.85   \n",
              "3           1-4 ft.         1-2 ft.               No                   42.30   \n",
              "4            <1 ft.          <1 ft.              Yes                   70.70   \n",
              "\n",
              "   totalDistanceBounced     Churn  \n",
              "0                 29.85  No_Churn  \n",
              "1               1889.50  No_Churn  \n",
              "2                108.15     Churn  \n",
              "3               1840.75  No_Churn  \n",
              "4                151.65     Churn  "
            ],
            "text/html": [
              "\n",
              "  <div id=\"df-ddf1b40c-3c66-42ed-a63d-3ef0527d0fc3\">\n",
              "    <div class=\"colab-df-container\">\n",
              "      <div>\n",
              "<style scoped>\n",
              "    .dataframe tbody tr th:only-of-type {\n",
              "        vertical-align: middle;\n",
              "    }\n",
              "\n",
              "    .dataframe tbody tr th {\n",
              "        vertical-align: top;\n",
              "    }\n",
              "\n",
              "    .dataframe thead th {\n",
              "        text-align: right;\n",
              "    }\n",
              "</style>\n",
              "<table border=\"1\" class=\"dataframe\">\n",
              "  <thead>\n",
              "    <tr style=\"text-align: right;\">\n",
              "      <th></th>\n",
              "      <th>SeniorCitizen</th>\n",
              "      <th>WeekendBouncer</th>\n",
              "      <th>avgBounceTime</th>\n",
              "      <th>bounceInStreet</th>\n",
              "      <th>phoneType</th>\n",
              "      <th>avgBounceDistance</th>\n",
              "      <th>avgBounceHeight</th>\n",
              "      <th>PaperlessBilling</th>\n",
              "      <th>monthlyDistanceBounced</th>\n",
              "      <th>totalDistanceBounced</th>\n",
              "      <th>Churn</th>\n",
              "    </tr>\n",
              "  </thead>\n",
              "  <tbody>\n",
              "    <tr>\n",
              "      <th>0</th>\n",
              "      <td>No</td>\n",
              "      <td>No</td>\n",
              "      <td>1</td>\n",
              "      <td>No</td>\n",
              "      <td>Unknown</td>\n",
              "      <td>&lt;1 ft.</td>\n",
              "      <td>&lt;1 ft.</td>\n",
              "      <td>Yes</td>\n",
              "      <td>29.85</td>\n",
              "      <td>29.85</td>\n",
              "      <td>No_Churn</td>\n",
              "    </tr>\n",
              "    <tr>\n",
              "      <th>1</th>\n",
              "      <td>No</td>\n",
              "      <td>No</td>\n",
              "      <td>34</td>\n",
              "      <td>Yes</td>\n",
              "      <td>Unknown</td>\n",
              "      <td>&lt;1 ft.</td>\n",
              "      <td>1-2 ft.</td>\n",
              "      <td>No</td>\n",
              "      <td>56.95</td>\n",
              "      <td>1889.50</td>\n",
              "      <td>No_Churn</td>\n",
              "    </tr>\n",
              "    <tr>\n",
              "      <th>2</th>\n",
              "      <td>No</td>\n",
              "      <td>No</td>\n",
              "      <td>2</td>\n",
              "      <td>Yes</td>\n",
              "      <td>Unknown</td>\n",
              "      <td>&lt;1 ft.</td>\n",
              "      <td>&lt;1 ft.</td>\n",
              "      <td>Yes</td>\n",
              "      <td>53.85</td>\n",
              "      <td>108.15</td>\n",
              "      <td>Churn</td>\n",
              "    </tr>\n",
              "    <tr>\n",
              "      <th>3</th>\n",
              "      <td>No</td>\n",
              "      <td>No</td>\n",
              "      <td>45</td>\n",
              "      <td>No</td>\n",
              "      <td>Unknown</td>\n",
              "      <td>1-4 ft.</td>\n",
              "      <td>1-2 ft.</td>\n",
              "      <td>No</td>\n",
              "      <td>42.30</td>\n",
              "      <td>1840.75</td>\n",
              "      <td>No_Churn</td>\n",
              "    </tr>\n",
              "    <tr>\n",
              "      <th>4</th>\n",
              "      <td>No</td>\n",
              "      <td>No</td>\n",
              "      <td>2</td>\n",
              "      <td>Yes</td>\n",
              "      <td>Android</td>\n",
              "      <td>&lt;1 ft.</td>\n",
              "      <td>&lt;1 ft.</td>\n",
              "      <td>Yes</td>\n",
              "      <td>70.70</td>\n",
              "      <td>151.65</td>\n",
              "      <td>Churn</td>\n",
              "    </tr>\n",
              "  </tbody>\n",
              "</table>\n",
              "</div>\n",
              "      <button class=\"colab-df-convert\" onclick=\"convertToInteractive('df-ddf1b40c-3c66-42ed-a63d-3ef0527d0fc3')\"\n",
              "              title=\"Convert this dataframe to an interactive table.\"\n",
              "              style=\"display:none;\">\n",
              "        \n",
              "  <svg xmlns=\"http://www.w3.org/2000/svg\" height=\"24px\"viewBox=\"0 0 24 24\"\n",
              "       width=\"24px\">\n",
              "    <path d=\"M0 0h24v24H0V0z\" fill=\"none\"/>\n",
              "    <path d=\"M18.56 5.44l.94 2.06.94-2.06 2.06-.94-2.06-.94-.94-2.06-.94 2.06-2.06.94zm-11 1L8.5 8.5l.94-2.06 2.06-.94-2.06-.94L8.5 2.5l-.94 2.06-2.06.94zm10 10l.94 2.06.94-2.06 2.06-.94-2.06-.94-.94-2.06-.94 2.06-2.06.94z\"/><path d=\"M17.41 7.96l-1.37-1.37c-.4-.4-.92-.59-1.43-.59-.52 0-1.04.2-1.43.59L10.3 9.45l-7.72 7.72c-.78.78-.78 2.05 0 2.83L4 21.41c.39.39.9.59 1.41.59.51 0 1.02-.2 1.41-.59l7.78-7.78 2.81-2.81c.8-.78.8-2.07 0-2.86zM5.41 20L4 18.59l7.72-7.72 1.47 1.35L5.41 20z\"/>\n",
              "  </svg>\n",
              "      </button>\n",
              "      \n",
              "  <style>\n",
              "    .colab-df-container {\n",
              "      display:flex;\n",
              "      flex-wrap:wrap;\n",
              "      gap: 12px;\n",
              "    }\n",
              "\n",
              "    .colab-df-convert {\n",
              "      background-color: #E8F0FE;\n",
              "      border: none;\n",
              "      border-radius: 50%;\n",
              "      cursor: pointer;\n",
              "      display: none;\n",
              "      fill: #1967D2;\n",
              "      height: 32px;\n",
              "      padding: 0 0 0 0;\n",
              "      width: 32px;\n",
              "    }\n",
              "\n",
              "    .colab-df-convert:hover {\n",
              "      background-color: #E2EBFA;\n",
              "      box-shadow: 0px 1px 2px rgba(60, 64, 67, 0.3), 0px 1px 3px 1px rgba(60, 64, 67, 0.15);\n",
              "      fill: #174EA6;\n",
              "    }\n",
              "\n",
              "    [theme=dark] .colab-df-convert {\n",
              "      background-color: #3B4455;\n",
              "      fill: #D2E3FC;\n",
              "    }\n",
              "\n",
              "    [theme=dark] .colab-df-convert:hover {\n",
              "      background-color: #434B5C;\n",
              "      box-shadow: 0px 1px 3px 1px rgba(0, 0, 0, 0.15);\n",
              "      filter: drop-shadow(0px 1px 2px rgba(0, 0, 0, 0.3));\n",
              "      fill: #FFFFFF;\n",
              "    }\n",
              "  </style>\n",
              "\n",
              "      <script>\n",
              "        const buttonEl =\n",
              "          document.querySelector('#df-ddf1b40c-3c66-42ed-a63d-3ef0527d0fc3 button.colab-df-convert');\n",
              "        buttonEl.style.display =\n",
              "          google.colab.kernel.accessAllowed ? 'block' : 'none';\n",
              "\n",
              "        async function convertToInteractive(key) {\n",
              "          const element = document.querySelector('#df-ddf1b40c-3c66-42ed-a63d-3ef0527d0fc3');\n",
              "          const dataTable =\n",
              "            await google.colab.kernel.invokeFunction('convertToInteractive',\n",
              "                                                     [key], {});\n",
              "          if (!dataTable) return;\n",
              "\n",
              "          const docLinkHtml = 'Like what you see? Visit the ' +\n",
              "            '<a target=\"_blank\" href=https://colab.research.google.com/notebooks/data_table.ipynb>data table notebook</a>'\n",
              "            + ' to learn more about interactive tables.';\n",
              "          element.innerHTML = '';\n",
              "          dataTable['output_type'] = 'display_data';\n",
              "          await google.colab.output.renderOutput(dataTable, element);\n",
              "          const docLink = document.createElement('div');\n",
              "          docLink.innerHTML = docLinkHtml;\n",
              "          element.appendChild(docLink);\n",
              "        }\n",
              "      </script>\n",
              "    </div>\n",
              "  </div>\n",
              "  "
            ]
          },
          "metadata": {},
          "execution_count": 2
        }
      ]
    },
    {
      "cell_type": "code",
      "source": [
        "# 10\n",
        "print(len(df))\n",
        "print(df.Churn.value_counts())\n",
        "print(df.Churn.value_counts()['Churn']*20)\n",
        "print(df.Churn.value_counts(normalize=True))"
      ],
      "metadata": {
        "colab": {
          "base_uri": "https://localhost:8080/"
        },
        "id": "XiftYCoXsbyX",
        "outputId": "377877d5-e4fc-4737-e4f6-964760aeb994"
      },
      "execution_count": 3,
      "outputs": [
        {
          "output_type": "stream",
          "name": "stdout",
          "text": [
            "7043\n",
            "No_Churn    5174\n",
            "Churn       1869\n",
            "Name: Churn, dtype: int64\n",
            "37380\n",
            "No_Churn    0.73463\n",
            "Churn       0.26537\n",
            "Name: Churn, dtype: float64\n"
          ]
        }
      ]
    },
    {
      "cell_type": "code",
      "source": [
        "# 11\n",
        "sns.histplot(data = df,x='avgBounceTime',hue='Churn',kde=True)"
      ],
      "metadata": {
        "colab": {
          "base_uri": "https://localhost:8080/",
          "height": 467
        },
        "id": "A2MQzJZysbvf",
        "outputId": "f0c4be19-977e-4c97-b75c-1f0e41e40331"
      },
      "execution_count": 4,
      "outputs": [
        {
          "output_type": "execute_result",
          "data": {
            "text/plain": [
              "<Axes: xlabel='avgBounceTime', ylabel='Count'>"
            ]
          },
          "metadata": {},
          "execution_count": 4
        },
        {
          "output_type": "display_data",
          "data": {
            "text/plain": [
              "<Figure size 640x480 with 1 Axes>"
            ],
            "image/png": "[encoded data removed]"
          },
          "metadata": {}
        }
      ]
    },
    {
      "cell_type": "code",
      "source": [
        "#12\n",
        "# Remove them from the data set\n",
        "df = df[df.avgBounceTime!=0]"
      ],
      "metadata": {
        "id": "TwhUSQ6nsbmv"
      },
      "execution_count": 5,
      "outputs": []
    },
    {
      "cell_type": "code",
      "source": [
        "# Recode Churn\n",
        "df = df.assign(Churn = df['Churn'].map({'Churn':1,'No_Churn':0}))"
      ],
      "metadata": {
        "id": "Zv5eErJM0G9H"
      },
      "execution_count": 6,
      "outputs": []
    },
    {
      "cell_type": "code",
      "source": [
        "# Create X and y objects.\n",
        "X = df.drop('Churn', axis=1)\n",
        "X = pd.get_dummies(X,drop_first=False) # transform categorical non numeric columns to dummies, numeric columns are not affected by this function\n",
        "y = df['Churn']"
      ],
      "metadata": {
        "id": "KzKyuthnvuPb"
      },
      "execution_count": 7,
      "outputs": []
    },
    {
      "cell_type": "code",
      "source": [
        "# Randomly divide data into training and testing sets\n",
        "X_train,X_test,y_train,y_test = train_test_split(X,y,test_size=0.3,random_state = 1)"
      ],
      "metadata": {
        "id": "k1OiCl54v-ML"
      },
      "execution_count": 8,
      "outputs": []
    },
    {
      "cell_type": "code",
      "source": [
        "M = DecisionTreeClassifier(min_samples_split=30, min_samples_leaf=10,random_state=1).fit(X_train,y_train)"
      ],
      "metadata": {
        "id": "_DwXOkISwqz6"
      },
      "execution_count": 9,
      "outputs": []
    },
    {
      "cell_type": "code",
      "source": [
        "# dot_data = export_graphviz(M, feature_names = X_train.columns,class_names=['0','1'],filled=True,proportion=True)\n",
        "# graph = graphviz.Source(dot_data)\n",
        "# display(graph)"
      ],
      "metadata": {
        "id": "Jn7IkXar2um1"
      },
      "execution_count": 10,
      "outputs": []
    },
    {
      "cell_type": "code",
      "source": [
        "# What is the proportion of correct predictions of testing set?\n",
        "print(M.score(X_train,y_train))\n",
        "print(M.score(X_test,y_test))"
      ],
      "metadata": {
        "colab": {
          "base_uri": "https://localhost:8080/"
        },
        "id": "3o05X--ZwtVq",
        "outputId": "39180824-d99d-4a09-a058-5a1b5577cb84"
      },
      "execution_count": 11,
      "outputs": [
        {
          "output_type": "stream",
          "name": "stdout",
          "text": [
            "0.8396993092238927\n",
            "0.7696682464454976\n"
          ]
        }
      ]
    },
    {
      "cell_type": "code",
      "source": [
        "# What is the recall on both? Recall = proportion of correctly predicted churns\n",
        "print(\"Training set\", round(metrics.recall_score(y_true = y_train, y_pred = M.predict(X_train))*100,2))\n",
        "print(\"Testing set\", round(metrics.recall_score(y_true = y_test, y_pred = M.predict(X_test))*100,2))"
      ],
      "metadata": {
        "colab": {
          "base_uri": "https://localhost:8080/"
        },
        "id": "eLkDV3DJyq3g",
        "outputId": "86ce4a9d-ef48-47f4-f85f-08c952ead3b3"
      },
      "execution_count": 12,
      "outputs": [
        {
          "output_type": "stream",
          "name": "stdout",
          "text": [
            "Training set 62.02\n",
            "Testing set 52.43\n"
          ]
        }
      ]
    },
    {
      "cell_type": "code",
      "source": [
        "# What is the precission on both? Precision = proportion of of predicted churns that are actually churns\n",
        "print(\"Training set\", round(metrics.precision_score(y_true = y_train, y_pred = M.predict(X_train))*100,2))\n",
        "print(\"Testing set\", round(metrics.precision_score(y_true = y_test, y_pred = M.predict(X_test))*100,2))"
      ],
      "metadata": {
        "colab": {
          "base_uri": "https://localhost:8080/"
        },
        "id": "dQgYtH9o1ASX",
        "outputId": "38e5a7bb-6306-4fe0-ca9b-c76d2d0bcb7e"
      },
      "execution_count": 13,
      "outputs": [
        {
          "output_type": "stream",
          "name": "stdout",
          "text": [
            "Training set 73.76\n",
            "Testing set 56.73\n"
          ]
        }
      ]
    },
    {
      "cell_type": "markdown",
      "source": [
        "![image.png](data:image/png;base64,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)"
      ],
      "metadata": {
        "id": "NVKYSs_S1xQG"
      }
    },
    {
      "cell_type": "code",
      "source": [
        "# Notice that F1-score takes both precision and recall into account, which also means it accounts for both FPs and FNs. \n",
        "# The higher the precision and recall, the higher the F1-score. F1-score ranges between 0 and 1. The closer it is to 1, the better the model.\n",
        "# F1 score can be interpreted as a measure of overall model performance from 0 to 1, where 1 is the best. \n",
        "# To be more specific, F1 score can be interpreted as the model’s balanced ability to both capture positive cases (recall) and \n",
        "# be accurate with the cases it does capture (precision).\n",
        "print(\"Training set\", round(metrics.f1_score(y_true = y_train, y_pred = M.predict(X_train))*100,2))\n",
        "print(\"Testing set\", round(metrics.f1_score(y_true = y_test, y_pred = M.predict(X_test))*100,2))"
      ],
      "metadata": {
        "colab": {
          "base_uri": "https://localhost:8080/"
        },
        "id": "DG_TCqorzOvt",
        "outputId": "9d074fa6-6ed9-4fd1-fc4f-98fbe2ad27b3"
      },
      "execution_count": 14,
      "outputs": [
        {
          "output_type": "stream",
          "name": "stdout",
          "text": [
            "Training set 67.38\n",
            "Testing set 54.49\n"
          ]
        }
      ]
    },
    {
      "cell_type": "code",
      "source": [
        "#13\n",
        "thresholds = [0.2,0.4,0.6,0.8]\n",
        "# misclassification error = 1 - accuracy\n",
        "misclassification_errors = [1-metrics.accuracy_score(y_true = y_test, y_pred = (M.predict_proba(X_test)[:,1] >= threshold)*1) for threshold in thresholds]\n",
        "np.array(thresholds)[misclassification_errors==min(misclassification_errors)]"
      ],
      "metadata": {
        "colab": {
          "base_uri": "https://localhost:8080/"
        },
        "id": "V1woOmQ9kvO0",
        "outputId": "728288c6-f831-4afa-e03b-b4b16bb869a4"
      },
      "execution_count": 15,
      "outputs": [
        {
          "output_type": "execute_result",
          "data": {
            "text/plain": [
              "array([0.6])"
            ]
          },
          "metadata": {},
          "execution_count": 15
        }
      ]
    },
    {
      "cell_type": "code",
      "source": [
        "#14\n",
        "threshold = 0.45\n",
        "confusionMatrix = pd.crosstab(index = y_test, columns = (M.predict_proba(X_test)[:,1] >= threshold)*1,\n",
        "                              margins = True,margins_name=\"Total\",colnames=['Predicted Churn'],rownames=['Actual Churn'])\n",
        "confusionMatrix"
      ],
      "metadata": {
        "colab": {
          "base_uri": "https://localhost:8080/",
          "height": 175
        },
        "id": "XcvSolj-mgMd",
        "outputId": "e934fc83-3ab3-41bb-dfeb-fafb0f63d842"
      },
      "execution_count": 16,
      "outputs": [
        {
          "output_type": "execute_result",
          "data": {
            "text/plain": [
              "Predicted Churn     0    1  Total\n",
              "Actual Churn                     \n",
              "0                1310  245   1555\n",
              "1                 238  317    555\n",
              "Total            1548  562   2110"
            ],
            "text/html": [
              "\n",
              "  <div id=\"df-2984e7a1-2c32-4d78-8356-4b1d91746abc\">\n",
              "    <div class=\"colab-df-container\">\n",
              "      <div>\n",
              "<style scoped>\n",
              "    .dataframe tbody tr th:only-of-type {\n",
              "        vertical-align: middle;\n",
              "    }\n",
              "\n",
              "    .dataframe tbody tr th {\n",
              "        vertical-align: top;\n",
              "    }\n",
              "\n",
              "    .dataframe thead th {\n",
              "        text-align: right;\n",
              "    }\n",
              "</style>\n",
              "<table border=\"1\" class=\"dataframe\">\n",
              "  <thead>\n",
              "    <tr style=\"text-align: right;\">\n",
              "      <th>Predicted Churn</th>\n",
              "      <th>0</th>\n",
              "      <th>1</th>\n",
              "      <th>Total</th>\n",
              "    </tr>\n",
              "    <tr>\n",
              "      <th>Actual Churn</th>\n",
              "      <th></th>\n",
              "      <th></th>\n",
              "      <th></th>\n",
              "    </tr>\n",
              "  </thead>\n",
              "  <tbody>\n",
              "    <tr>\n",
              "      <th>0</th>\n",
              "      <td>1310</td>\n",
              "      <td>245</td>\n",
              "      <td>1555</td>\n",
              "    </tr>\n",
              "    <tr>\n",
              "      <th>1</th>\n",
              "      <td>238</td>\n",
              "      <td>317</td>\n",
              "      <td>555</td>\n",
              "    </tr>\n",
              "    <tr>\n",
              "      <th>Total</th>\n",
              "      <td>1548</td>\n",
              "      <td>562</td>\n",
              "      <td>2110</td>\n",
              "    </tr>\n",
              "  </tbody>\n",
              "</table>\n",
              "</div>\n",
              "      <button class=\"colab-df-convert\" onclick=\"convertToInteractive('df-2984e7a1-2c32-4d78-8356-4b1d91746abc')\"\n",
              "              title=\"Convert this dataframe to an interactive table.\"\n",
              "              style=\"display:none;\">\n",
              "        \n",
              "  <svg xmlns=\"http://www.w3.org/2000/svg\" height=\"24px\"viewBox=\"0 0 24 24\"\n",
              "       width=\"24px\">\n",
              "    <path d=\"M0 0h24v24H0V0z\" fill=\"none\"/>\n",
              "    <path d=\"M18.56 5.44l.94 2.06.94-2.06 2.06-.94-2.06-.94-.94-2.06-.94 2.06-2.06.94zm-11 1L8.5 8.5l.94-2.06 2.06-.94-2.06-.94L8.5 2.5l-.94 2.06-2.06.94zm10 10l.94 2.06.94-2.06 2.06-.94-2.06-.94-.94-2.06-.94 2.06-2.06.94z\"/><path d=\"M17.41 7.96l-1.37-1.37c-.4-.4-.92-.59-1.43-.59-.52 0-1.04.2-1.43.59L10.3 9.45l-7.72 7.72c-.78.78-.78 2.05 0 2.83L4 21.41c.39.39.9.59 1.41.59.51 0 1.02-.2 1.41-.59l7.78-7.78 2.81-2.81c.8-.78.8-2.07 0-2.86zM5.41 20L4 18.59l7.72-7.72 1.47 1.35L5.41 20z\"/>\n",
              "  </svg>\n",
              "      </button>\n",
              "      \n",
              "  <style>\n",
              "    .colab-df-container {\n",
              "      display:flex;\n",
              "      flex-wrap:wrap;\n",
              "      gap: 12px;\n",
              "    }\n",
              "\n",
              "    .colab-df-convert {\n",
              "      background-color: #E8F0FE;\n",
              "      border: none;\n",
              "      border-radius: 50%;\n",
              "      cursor: pointer;\n",
              "      display: none;\n",
              "      fill: #1967D2;\n",
              "      height: 32px;\n",
              "      padding: 0 0 0 0;\n",
              "      width: 32px;\n",
              "    }\n",
              "\n",
              "    .colab-df-convert:hover {\n",
              "      background-color: #E2EBFA;\n",
              "      box-shadow: 0px 1px 2px rgba(60, 64, 67, 0.3), 0px 1px 3px 1px rgba(60, 64, 67, 0.15);\n",
              "      fill: #174EA6;\n",
              "    }\n",
              "\n",
              "    [theme=dark] .colab-df-convert {\n",
              "      background-color: #3B4455;\n",
              "      fill: #D2E3FC;\n",
              "    }\n",
              "\n",
              "    [theme=dark] .colab-df-convert:hover {\n",
              "      background-color: #434B5C;\n",
              "      box-shadow: 0px 1px 3px 1px rgba(0, 0, 0, 0.15);\n",
              "      filter: drop-shadow(0px 1px 2px rgba(0, 0, 0, 0.3));\n",
              "      fill: #FFFFFF;\n",
              "    }\n",
              "  </style>\n",
              "\n",
              "      <script>\n",
              "        const buttonEl =\n",
              "          document.querySelector('#df-2984e7a1-2c32-4d78-8356-4b1d91746abc button.colab-df-convert');\n",
              "        buttonEl.style.display =\n",
              "          google.colab.kernel.accessAllowed ? 'block' : 'none';\n",
              "\n",
              "        async function convertToInteractive(key) {\n",
              "          const element = document.querySelector('#df-2984e7a1-2c32-4d78-8356-4b1d91746abc');\n",
              "          const dataTable =\n",
              "            await google.colab.kernel.invokeFunction('convertToInteractive',\n",
              "                                                     [key], {});\n",
              "          if (!dataTable) return;\n",
              "\n",
              "          const docLinkHtml = 'Like what you see? Visit the ' +\n",
              "            '<a target=\"_blank\" href=https://colab.research.google.com/notebooks/data_table.ipynb>data table notebook</a>'\n",
              "            + ' to learn more about interactive tables.';\n",
              "          element.innerHTML = '';\n",
              "          dataTable['output_type'] = 'display_data';\n",
              "          await google.colab.output.renderOutput(dataTable, element);\n",
              "          const docLink = document.createElement('div');\n",
              "          docLink.innerHTML = docLinkHtml;\n",
              "          element.appendChild(docLink);\n",
              "        }\n",
              "      </script>\n",
              "    </div>\n",
              "  </div>\n",
              "  "
            ]
          },
          "metadata": {},
          "execution_count": 16
        }
      ]
    },
    {
      "cell_type": "code",
      "source": [
        "print((1310+317)/2110)\n",
        "print(555/2110)\n",
        "print(1548/2110)\n",
        "print(317/555)\n",
        "print(238)"
      ],
      "metadata": {
        "colab": {
          "base_uri": "https://localhost:8080/"
        },
        "id": "1xU5BU68mgKD",
        "outputId": "28846a0d-7747-4c50-ed84-86af1af8e87e"
      },
      "execution_count": 17,
      "outputs": [
        {
          "output_type": "stream",
          "name": "stdout",
          "text": [
            "0.771090047393365\n",
            "0.26303317535545023\n",
            "0.7336492890995261\n",
            "0.5711711711711712\n",
            "238\n"
          ]
        }
      ]
    },
    {
      "cell_type": "code",
      "source": [
        "#15\n",
        "membership = 20\n",
        "discount = 0.2\n",
        "postage = 1\n",
        "renewalRate = 0.5\n",
        "\n",
        "TN = confusionMatrix.loc[0,0]\n",
        "FP = confusionMatrix.loc[0,1]\n",
        "FN = confusionMatrix.loc[1,0]\n",
        "TP = confusionMatrix.loc[1,1]\n",
        "\n",
        "revenueNoModel = membership * confusionMatrix.loc[0,'Total'] \n",
        "print(revenueNoModel)\n",
        "\n",
        "revenue = membership * TN + (membership*(1-discount) + postage) * FP +\\\n",
        "0 * FN + (membership*(1-discount) + postage) * renewalRate * TP + 0 * (1-renewalRate) * TP\n",
        "\n",
        "print(revenue)"
      ],
      "metadata": {
        "colab": {
          "base_uri": "https://localhost:8080/"
        },
        "id": "x4oOsLMjmgHC",
        "outputId": "2bea85eb-0b74-4858-8bc6-cb891d76d045"
      },
      "execution_count": 18,
      "outputs": [
        {
          "output_type": "stream",
          "name": "stdout",
          "text": [
            "31100\n",
            "33059.5\n"
          ]
        }
      ]
    },
    {
      "cell_type": "code",
      "source": [
        "#16\n",
        "thresholds = np.linspace(0,1,100)\n",
        "AccuracyScores = [round(metrics.accuracy_score(y_true = y_test, y_pred = (M.predict_proba(X_test)[:,1] >= threshold)*1)*100,2) for threshold in thresholds]\n",
        "RecallScores = [round(metrics.recall_score(y_true = y_test, y_pred = (M.predict_proba(X_test)[:,1] >= threshold)*1)*100,2) for threshold in thresholds]\n",
        "PrecissionScores = [round(metrics.precision_score(y_true = y_test, y_pred = (M.predict_proba(X_test)[:,1] >= threshold)*1)*100,2) for threshold in thresholds]\n",
        "F1Scores = [round(metrics.f1_score(y_true = y_test, y_pred = (M.predict_proba(X_test)[:,1] >= threshold)*1)*100,2) for threshold in thresholds]"
      ],
      "metadata": {
        "id": "0t9DJleFmgEc"
      },
      "execution_count": 19,
      "outputs": []
    },
    {
      "cell_type": "code",
      "source": [
        "print('Optimal accuracy threshold',thresholds[AccuracyScores==max(AccuracyScores)])\n",
        "print('Optimal recall threshold',thresholds[RecallScores==max(RecallScores)])\n",
        "print('Optimal F1 threshold',thresholds[F1Scores==max(F1Scores)])\n",
        "print('Optimal precision threshold',thresholds[PrecissionScores==max(PrecissionScores)])"
      ],
      "metadata": {
        "colab": {
          "base_uri": "https://localhost:8080/"
        },
        "id": "-n-wC-FVnmzF",
        "outputId": "363e69cb-a22e-4bf1-a439-cdf66683fb24"
      },
      "execution_count": 20,
      "outputs": [
        {
          "output_type": "stream",
          "name": "stdout",
          "text": [
            "Optimal accuracy threshold [0.63636364]\n",
            "Optimal recall threshold [0.]\n",
            "Optimal F1 threshold [0.31313131]\n",
            "Optimal precision threshold [0.91919192]\n"
          ]
        }
      ]
    },
    {
      "cell_type": "code",
      "source": [
        "threshold = thresholds[AccuracyScores==max(AccuracyScores)]\n",
        "confusionMatrix = pd.crosstab(index = y_test, columns = (M.predict_proba(X_test)[:,1] >= threshold)*1,\n",
        "                              margins = True,margins_name=\"Total\",colnames=['Predicted Churn'],rownames=['Actual Churn'])\n",
        "TN = confusionMatrix.loc[0,0]\n",
        "FP = confusionMatrix.loc[0,1]\n",
        "FN = confusionMatrix.loc[1,0]\n",
        "TP = confusionMatrix.loc[1,1]\n",
        "revenue = membership * TN + (membership*(1-discount) + postage) * FP +\\\n",
        "0 * FN + (membership*(1-discount) + postage) * renewalRate * TP + 0 * (1-renewalRate) * TP\n",
        "revenue"
      ],
      "metadata": {
        "colab": {
          "base_uri": "https://localhost:8080/"
        },
        "id": "FWjuXpF9nm12",
        "outputId": "089f7eaf-7e67-4682-b55b-5219cb7c0697"
      },
      "execution_count": 21,
      "outputs": [
        {
          "output_type": "execute_result",
          "data": {
            "text/plain": [
              "32567.0"
            ]
          },
          "metadata": {},
          "execution_count": 21
        }
      ]
    },
    {
      "cell_type": "code",
      "source": [
        "threshold = thresholds[RecallScores==max(RecallScores)]\n",
        "confusionMatrix = pd.crosstab(index = y_test, columns = (M.predict_proba(X_test)[:,1] >= threshold)*1,\n",
        "                              margins = True,margins_name=\"Total\",colnames=['Predicted Churn'],rownames=['Actual Churn'])\n",
        "TN = 0 # confusionMatrix.loc[0,0] there are no TN's for threshold of 0\n",
        "FP = confusionMatrix.loc[0,1]\n",
        "FN = 0 # confusionMatrix.loc[1,0] there are no TN's for threshold of 0\n",
        "TP = confusionMatrix.loc[1,1]\n",
        "revenue = membership * TN + (membership*(1-discount) + postage) * FP +\\\n",
        "0 * FN + (membership*(1-discount) + postage) * renewalRate * TP + 0 * (1-renewalRate) * TP\n",
        "revenue"
      ],
      "metadata": {
        "colab": {
          "base_uri": "https://localhost:8080/"
        },
        "id": "_JJOvUxSnm4j",
        "outputId": "539019d8-1821-4d30-a908-00143d7f7fc6"
      },
      "execution_count": 22,
      "outputs": [
        {
          "output_type": "execute_result",
          "data": {
            "text/plain": [
              "31152.5"
            ]
          },
          "metadata": {},
          "execution_count": 22
        }
      ]
    },
    {
      "cell_type": "code",
      "source": [
        "threshold = thresholds[F1Scores==max(F1Scores)]\n",
        "confusionMatrix = pd.crosstab(index = y_test, columns = (M.predict_proba(X_test)[:,1] >= threshold)*1,\n",
        "                              margins = True,margins_name=\"Total\",colnames=['Predicted Churn'],rownames=['Actual Churn'])\n",
        "TN = confusionMatrix.loc[0,0]\n",
        "FP = confusionMatrix.loc[0,1]\n",
        "FN = confusionMatrix.loc[1,0]\n",
        "TP = confusionMatrix.loc[1,1]\n",
        "revenue = membership * TN + (membership*(1-discount) + postage) * FP +\\\n",
        "0 * FN + (membership*(1-discount) + postage) * renewalRate * TP + 0 * (1-renewalRate) * TP\n",
        "revenue"
      ],
      "metadata": {
        "colab": {
          "base_uri": "https://localhost:8080/"
        },
        "id": "w_aFH4Lznm7F",
        "outputId": "c8debf4f-3b94-41b6-d9b6-a28a8c4e11be"
      },
      "execution_count": 23,
      "outputs": [
        {
          "output_type": "execute_result",
          "data": {
            "text/plain": [
              "33271.5"
            ]
          },
          "metadata": {},
          "execution_count": 23
        }
      ]
    },
    {
      "cell_type": "code",
      "source": [
        "threshold = thresholds[PrecissionScores==max(PrecissionScores)]\n",
        "confusionMatrix = pd.crosstab(index = y_test, columns = (M.predict_proba(X_test)[:,1] >= threshold)*1,\n",
        "                              margins = True,margins_name=\"Total\",colnames=['Predicted Churn'],rownames=['Actual Churn'])\n",
        "TN = confusionMatrix.loc[0,0]\n",
        "FP = confusionMatrix.loc[0,1]\n",
        "FN = confusionMatrix.loc[1,0]\n",
        "TP = confusionMatrix.loc[1,1]\n",
        "revenue = membership * TN + (membership*(1-discount) + postage) * FP +\\\n",
        "0 * FN + (membership*(1-discount) + postage) * renewalRate * TP + 0 * (1-renewalRate) * TP\n",
        "revenue"
      ],
      "metadata": {
        "colab": {
          "base_uri": "https://localhost:8080/"
        },
        "id": "QsNjo0o-mgBy",
        "outputId": "26b5d426-4995-477f-e0c5-33101a4405f1"
      },
      "execution_count": 24,
      "outputs": [
        {
          "output_type": "execute_result",
          "data": {
            "text/plain": [
              "31675.5"
            ]
          },
          "metadata": {},
          "execution_count": 24
        }
      ]
    },
    {
      "cell_type": "code",
      "source": [],
      "metadata": {
        "id": "n8GWqzoQmf_E"
      },
      "execution_count": 24,
      "outputs": []
    }
  ]
}
