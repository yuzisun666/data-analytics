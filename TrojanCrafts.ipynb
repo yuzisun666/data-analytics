{
  "nbformat": 4,
  "nbformat_minor": 0,
  "metadata": {
    "colab": {
      "provenance": []
    },
    "kernelspec": {
      "name": "python3",
      "display_name": "Python 3"
    },
    "language_info": {
      "name": "python"
    }
  },
  "cells": [
    {
      "cell_type": "code",
      "execution_count": 1,
      "metadata": {
        "id": "X4AQ14a4iyT-"
      },
      "outputs": [],
      "source": [
        "import pandas as pd\n",
        "import datetime as dt\n",
        "from plotnine import * # from plotnine library import all functions "
      ]
    },
    {
      "cell_type": "code",
      "source": [
        "shipments = pd.read_csv('https://raw.githubusercontent.com/robertasgabrys/DSO559/main/Shipments.csv')\n",
        "manufacturingCost = pd.read_csv('https://raw.githubusercontent.com/robertasgabrys/DSO559/main/ManufacturingCost.csv')\n",
        "transportationCost = pd.read_csv('https://raw.githubusercontent.com/robertasgabrys/DSO559/main/TransportationCost.csv')"
      ],
      "metadata": {
        "id": "jfwaUYjMrAQZ"
      },
      "execution_count": 2,
      "outputs": []
    },
    {
      "cell_type": "code",
      "source": [
        "print(shipments.head())\n",
        "print(manufacturingCost.head())\n",
        "print(transportationCost.head())"
      ],
      "metadata": {
        "id": "LEdxB4YyrATY",
        "outputId": "eda7ac6c-25c7-41bc-add6-c7945dd9b62a",
        "colab": {
          "base_uri": "https://localhost:8080/"
        }
      },
      "execution_count": 3,
      "outputs": [
        {
          "output_type": "stream",
          "name": "stdout",
          "text": [
            "       Date Factory     Market  Shipment\n",
            "0  3/1/2012  Austin  Australia       107\n",
            "1  3/1/2012  Austin     Brazil       235\n",
            "2  3/1/2012  Austin     Canada       165\n",
            "3  3/1/2012  Austin      China        86\n",
            "4  3/1/2012  Austin     France        81\n",
            "        Factory  ManufacturingCost\n",
            "0      New York               9.35\n",
            "1   Los Angeles               6.98\n",
            "2       Chicago               6.73\n",
            "3       Houston              11.09\n",
            "4  Philadelphia              12.40\n",
            "        Factory  China  Japan  India  Germany  Russia  United Kingdom  Brazil  \\\n",
            "0      New York   2.09   3.16   4.34     1.06    4.74            1.98    1.44   \n",
            "1   Los Angeles   1.72   1.16   1.62     4.66    2.92            1.02    1.58   \n",
            "2       Chicago   2.24   3.52   4.73     3.81    4.68            3.23    3.62   \n",
            "3       Houston   1.88   1.85   2.05     4.90    4.45            4.87    4.76   \n",
            "4  Philadelphia   2.24   3.07   1.48     4.15    0.59            2.90    1.08   \n",
            "\n",
            "   France  Italy  ...  South Korea  Spain  Canada  Indonesia  Turkey  \\\n",
            "0    1.84   0.85  ...         5.45   3.64    1.97       1.19    2.63   \n",
            "1    4.99   5.03  ...         3.80   2.87    0.97       0.71    3.98   \n",
            "2    4.86   2.54  ...         3.40   3.02    2.13       4.78    4.88   \n",
            "3    3.93   0.64  ...         4.52   0.60    0.99       5.45    2.10   \n",
            "4    2.07   3.71  ...         2.19   4.33    5.16       1.81    3.97   \n",
            "\n",
            "   Australia  Taiwan  Iran  Poland  Netherlands  \n",
            "0       1.23    1.78  3.29    4.22         0.60  \n",
            "1       1.97    5.27  4.80    3.13         5.48  \n",
            "2       1.75    5.39  1.88    1.52         1.07  \n",
            "3       3.13    3.89  3.76    3.40         4.02  \n",
            "4       2.39    4.89  4.91    3.50         3.19  \n",
            "\n",
            "[5 rows x 21 columns]\n"
          ]
        }
      ]
    },
    {
      "cell_type": "code",
      "source": [
        "# 6\n",
        "shipments = pd.merge(shipments,manufacturingCost,on='Factory')\n",
        "shipments['ManufacturingCostPerShipment'] = shipments['Shipment'] * shipments['ManufacturingCost']\n",
        "shipments['ManufacturingCostPerShipment'].sum().round(2)"
      ],
      "metadata": {
        "colab": {
          "base_uri": "https://localhost:8080/"
        },
        "id": "wJ0cO1SOrAV1",
        "outputId": "9aab6ec2-496d-40a5-f9af-e2fa4a99da6f"
      },
      "execution_count": 4,
      "outputs": [
        {
          "output_type": "execute_result",
          "data": {
            "text/plain": [
              "29625889.2"
            ]
          },
          "metadata": {},
          "execution_count": 4
        }
      ]
    },
    {
      "cell_type": "code",
      "source": [
        "shipments.columns"
      ],
      "metadata": {
        "colab": {
          "base_uri": "https://localhost:8080/"
        },
        "id": "OnavEk98vwcU",
        "outputId": "9604bfb6-277f-4ae7-ec9b-f8bc783dcdd3"
      },
      "execution_count": 5,
      "outputs": [
        {
          "output_type": "execute_result",
          "data": {
            "text/plain": [
              "Index(['Date', 'Factory', 'Market', 'Shipment', 'ManufacturingCost',\n",
              "       'ManufacturingCostPerShipment'],\n",
              "      dtype='object')"
            ]
          },
          "metadata": {},
          "execution_count": 5
        }
      ]
    },
    {
      "cell_type": "code",
      "source": [
        "# 7\n",
        "shipments[['Factory','ManufacturingCostPerShipment']].groupby(['Factory']).sum().sort_values(by='ManufacturingCostPerShipment',ascending=False).index[0]"
      ],
      "metadata": {
        "colab": {
          "base_uri": "https://localhost:8080/",
          "height": 35
        },
        "id": "hV5h2ah-rAYh",
        "outputId": "b4be1908-49b2-44c3-aa78-cd5874c11195"
      },
      "execution_count": 6,
      "outputs": [
        {
          "output_type": "execute_result",
          "data": {
            "text/plain": [
              "'Louisville-Jefferson County'"
            ],
            "application/vnd.google.colaboratory.intrinsic+json": {
              "type": "string"
            }
          },
          "metadata": {},
          "execution_count": 6
        }
      ]
    },
    {
      "cell_type": "code",
      "source": [
        "# 8\n"
      ],
      "metadata": {
        "id": "yoSOax6gyiv6"
      },
      "execution_count": 7,
      "outputs": []
    },
    {
      "cell_type": "code",
      "source": [
        "transportationCost = transportationCost.set_index('Factory').stack().reset_index()\n",
        "transportationCost.columns = ['Factory','Market','TransportationCost']"
      ],
      "metadata": {
        "id": "k2rx8bHsrAbD"
      },
      "execution_count": 8,
      "outputs": []
    },
    {
      "cell_type": "code",
      "source": [
        "shipments = pd.merge(shipments,transportationCost, left_on = ['Factory','Market'],right_on =['Factory','Market'],how='inner')\n",
        "shipments['TransportationCostPerShipment'] = shipments['Shipment'] * shipments['TransportationCost']\n",
        "shipments['TransportationCostPerShipment'].sum().round(2)"
      ],
      "metadata": {
        "colab": {
          "base_uri": "https://localhost:8080/"
        },
        "id": "meyCyOvUy4i1",
        "outputId": "817ab8a2-98d2-43e6-f932-c1c545f216aa"
      },
      "execution_count": 9,
      "outputs": [
        {
          "output_type": "execute_result",
          "data": {
            "text/plain": [
              "9182368.58"
            ]
          },
          "metadata": {},
          "execution_count": 9
        }
      ]
    },
    {
      "cell_type": "code",
      "source": [
        "shipments[['Market','TransportationCostPerShipment']].groupby(['Market']).sum().sort_values(by='TransportationCostPerShipment',ascending=False).index[0]"
      ],
      "metadata": {
        "colab": {
          "base_uri": "https://localhost:8080/",
          "height": 35
        },
        "id": "9Av-G9_Ny4ld",
        "outputId": "265ac7e8-81b9-43a4-99a2-4c456d1356ef"
      },
      "execution_count": 10,
      "outputs": [
        {
          "output_type": "execute_result",
          "data": {
            "text/plain": [
              "'Mexico'"
            ],
            "application/vnd.google.colaboratory.intrinsic+json": {
              "type": "string"
            }
          },
          "metadata": {},
          "execution_count": 10
        }
      ]
    }
  ]
}