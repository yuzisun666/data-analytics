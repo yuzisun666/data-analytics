{
  "nbformat": 4,
  "nbformat_minor": 0,
  "metadata": {
    "colab": {
      "provenance": []
    },
    "kernelspec": {
      "name": "python3",
      "display_name": "Python 3"
    },
    "language_info": {
      "name": "python"
    }
  },
  "cells": [
    {
      "cell_type": "code",
      "execution_count": 343,
      "metadata": {
        "id": "plUBRgNJmBOH"
      },
      "outputs": [],
      "source": [
        "import pandas as pd\n",
        "from sklearn.model_selection import train_test_split,GridSearchCV\n",
        "from sklearn.tree import DecisionTreeClassifier\n",
        "\n",
        "import graphviz\n",
        "from sklearn.tree import export_graphviz\n",
        "from IPython.display import display\n",
        "\n",
        "from sklearn import metrics\n",
        "\n",
        "# from sklearn.metrics import confusion_matrix\n",
        "\n",
        "import numpy as np\n",
        "\n",
        "import matplotlib.pyplot as plt"
      ]
    },
    {
      "cell_type": "code",
      "source": [
        "df = pd.read_csv('https://raw.githubusercontent.com/robertasgabrys/DSO559/main/hotelCancelations.csv')\n",
        "df.head()"
      ],
      "metadata": {
        "id": "_MzFt2cwmKG5",
        "colab": {
          "base_uri": "https://localhost:8080/",
          "height": 300
        },
        "outputId": "9151e140-dd81-4ab9-df2f-76e5368f1745"
      },
      "execution_count": 344,
      "outputs": [
        {
          "output_type": "execute_result",
          "data": {
            "text/plain": [
              "  booking_ID  no_of_adults  no_of_children  no_of_weekend_nights  \\\n",
              "0   INN00027             2               0                     1   \n",
              "1   INN00049             2               0                     0   \n",
              "2   INN00052             2               0                     2   \n",
              "3   INN00056             2               0                     1   \n",
              "4   INN00064             1               0                     0   \n",
              "\n",
              "   no_of_week_nights  meal_plan_1  meal_plan_2  no_meal_plan  \\\n",
              "0                  1            1            0             0   \n",
              "1                  4            0            0             1   \n",
              "2                  2            0            0             0   \n",
              "3                  3            1            0             0   \n",
              "4                  1            1            0             0   \n",
              "\n",
              "   required_car_parking_space  room_type_1  ...  Complementary  Corporate  \\\n",
              "0                           0            1  ...              0          0   \n",
              "1                           0            1  ...              0          0   \n",
              "2                           0            1  ...              0          0   \n",
              "3                           0            1  ...              0          0   \n",
              "4                           0            1  ...              1          0   \n",
              "\n",
              "   Offline  Online  repeated_guest  no_of_previous_cancellations  \\\n",
              "0        1       0               0                             0   \n",
              "1        0       1               0                             0   \n",
              "2        0       1               0                             0   \n",
              "3        0       1               0                             0   \n",
              "4        0       0               0                             0   \n",
              "\n",
              "   no_of_previous_bookings_not_canceled  avg_price_per_room  \\\n",
              "0                                     0                65.0   \n",
              "1                                     0                79.2   \n",
              "2                                     0               106.0   \n",
              "3                                     0               136.0   \n",
              "4                                     0                 0.0   \n",
              "\n",
              "   no_of_special_requests  canceled  \n",
              "0                       0         0  \n",
              "1                       1         0  \n",
              "2                       0         1  \n",
              "3                       1         0  \n",
              "4                       1         0  \n",
              "\n",
              "[5 rows x 30 columns]"
            ],
            "text/html": [
              "\n",
              "  <div id=\"df-01b00e70-26be-434e-a6b6-2631787fd5b0\">\n",
              "    <div class=\"colab-df-container\">\n",
              "      <div>\n",
              "<style scoped>\n",
              "    .dataframe tbody tr th:only-of-type {\n",
              "        vertical-align: middle;\n",
              "    }\n",
              "\n",
              "    .dataframe tbody tr th {\n",
              "        vertical-align: top;\n",
              "    }\n",
              "\n",
              "    .dataframe thead th {\n",
              "        text-align: right;\n",
              "    }\n",
              "</style>\n",
              "<table border=\"1\" class=\"dataframe\">\n",
              "  <thead>\n",
              "    <tr style=\"text-align: right;\">\n",
              "      <th></th>\n",
              "      <th>booking_ID</th>\n",
              "      <th>no_of_adults</th>\n",
              "      <th>no_of_children</th>\n",
              "      <th>no_of_weekend_nights</th>\n",
              "      <th>no_of_week_nights</th>\n",
              "      <th>meal_plan_1</th>\n",
              "      <th>meal_plan_2</th>\n",
              "      <th>no_meal_plan</th>\n",
              "      <th>required_car_parking_space</th>\n",
              "      <th>room_type_1</th>\n",
              "      <th>...</th>\n",
              "      <th>Complementary</th>\n",
              "      <th>Corporate</th>\n",
              "      <th>Offline</th>\n",
              "      <th>Online</th>\n",
              "      <th>repeated_guest</th>\n",
              "      <th>no_of_previous_cancellations</th>\n",
              "      <th>no_of_previous_bookings_not_canceled</th>\n",
              "      <th>avg_price_per_room</th>\n",
              "      <th>no_of_special_requests</th>\n",
              "      <th>canceled</th>\n",
              "    </tr>\n",
              "  </thead>\n",
              "  <tbody>\n",
              "    <tr>\n",
              "      <th>0</th>\n",
              "      <td>INN00027</td>\n",
              "      <td>2</td>\n",
              "      <td>0</td>\n",
              "      <td>1</td>\n",
              "      <td>1</td>\n",
              "      <td>1</td>\n",
              "      <td>0</td>\n",
              "      <td>0</td>\n",
              "      <td>0</td>\n",
              "      <td>1</td>\n",
              "      <td>...</td>\n",
              "      <td>0</td>\n",
              "      <td>0</td>\n",
              "      <td>1</td>\n",
              "      <td>0</td>\n",
              "      <td>0</td>\n",
              "      <td>0</td>\n",
              "      <td>0</td>\n",
              "      <td>65.0</td>\n",
              "      <td>0</td>\n",
              "      <td>0</td>\n",
              "    </tr>\n",
              "    <tr>\n",
              "      <th>1</th>\n",
              "      <td>INN00049</td>\n",
              "      <td>2</td>\n",
              "      <td>0</td>\n",
              "      <td>0</td>\n",
              "      <td>4</td>\n",
              "      <td>0</td>\n",
              "      <td>0</td>\n",
              "      <td>1</td>\n",
              "      <td>0</td>\n",
              "      <td>1</td>\n",
              "      <td>...</td>\n",
              "      <td>0</td>\n",
              "      <td>0</td>\n",
              "      <td>0</td>\n",
              "      <td>1</td>\n",
              "      <td>0</td>\n",
              "      <td>0</td>\n",
              "      <td>0</td>\n",
              "      <td>79.2</td>\n",
              "      <td>1</td>\n",
              "      <td>0</td>\n",
              "    </tr>\n",
              "    <tr>\n",
              "      <th>2</th>\n",
              "      <td>INN00052</td>\n",
              "      <td>2</td>\n",
              "      <td>0</td>\n",
              "      <td>2</td>\n",
              "      <td>2</td>\n",
              "      <td>0</td>\n",
              "      <td>0</td>\n",
              "      <td>0</td>\n",
              "      <td>0</td>\n",
              "      <td>1</td>\n",
              "      <td>...</td>\n",
              "      <td>0</td>\n",
              "      <td>0</td>\n",
              "      <td>0</td>\n",
              "      <td>1</td>\n",
              "      <td>0</td>\n",
              "      <td>0</td>\n",
              "      <td>0</td>\n",
              "      <td>106.0</td>\n",
              "      <td>0</td>\n",
              "      <td>1</td>\n",
              "    </tr>\n",
              "    <tr>\n",
              "      <th>3</th>\n",
              "      <td>INN00056</td>\n",
              "      <td>2</td>\n",
              "      <td>0</td>\n",
              "      <td>1</td>\n",
              "      <td>3</td>\n",
              "      <td>1</td>\n",
              "      <td>0</td>\n",
              "      <td>0</td>\n",
              "      <td>0</td>\n",
              "      <td>1</td>\n",
              "      <td>...</td>\n",
              "      <td>0</td>\n",
              "      <td>0</td>\n",
              "      <td>0</td>\n",
              "      <td>1</td>\n",
              "      <td>0</td>\n",
              "      <td>0</td>\n",
              "      <td>0</td>\n",
              "      <td>136.0</td>\n",
              "      <td>1</td>\n",
              "      <td>0</td>\n",
              "    </tr>\n",
              "    <tr>\n",
              "      <th>4</th>\n",
              "      <td>INN00064</td>\n",
              "      <td>1</td>\n",
              "      <td>0</td>\n",
              "      <td>0</td>\n",
              "      <td>1</td>\n",
              "      <td>1</td>\n",
              "      <td>0</td>\n",
              "      <td>0</td>\n",
              "      <td>0</td>\n",
              "      <td>1</td>\n",
              "      <td>...</td>\n",
              "      <td>1</td>\n",
              "      <td>0</td>\n",
              "      <td>0</td>\n",
              "      <td>0</td>\n",
              "      <td>0</td>\n",
              "      <td>0</td>\n",
              "      <td>0</td>\n",
              "      <td>0.0</td>\n",
              "      <td>1</td>\n",
              "      <td>0</td>\n",
              "    </tr>\n",
              "  </tbody>\n",
              "</table>\n",
              "<p>5 rows × 30 columns</p>\n",
              "</div>\n",
              "      <button class=\"colab-df-convert\" onclick=\"convertToInteractive('df-01b00e70-26be-434e-a6b6-2631787fd5b0')\"\n",
              "              title=\"Convert this dataframe to an interactive table.\"\n",
              "              style=\"display:none;\">\n",
              "        \n",
              "  <svg xmlns=\"http://www.w3.org/2000/svg\" height=\"24px\"viewBox=\"0 0 24 24\"\n",
              "       width=\"24px\">\n",
              "    <path d=\"M0 0h24v24H0V0z\" fill=\"none\"/>\n",
              "    <path d=\"M18.56 5.44l.94 2.06.94-2.06 2.06-.94-2.06-.94-.94-2.06-.94 2.06-2.06.94zm-11 1L8.5 8.5l.94-2.06 2.06-.94-2.06-.94L8.5 2.5l-.94 2.06-2.06.94zm10 10l.94 2.06.94-2.06 2.06-.94-2.06-.94-.94-2.06-.94 2.06-2.06.94z\"/><path d=\"M17.41 7.96l-1.37-1.37c-.4-.4-.92-.59-1.43-.59-.52 0-1.04.2-1.43.59L10.3 9.45l-7.72 7.72c-.78.78-.78 2.05 0 2.83L4 21.41c.39.39.9.59 1.41.59.51 0 1.02-.2 1.41-.59l7.78-7.78 2.81-2.81c.8-.78.8-2.07 0-2.86zM5.41 20L4 18.59l7.72-7.72 1.47 1.35L5.41 20z\"/>\n",
              "  </svg>\n",
              "      </button>\n",
              "      \n",
              "  <style>\n",
              "    .colab-df-container {\n",
              "      display:flex;\n",
              "      flex-wrap:wrap;\n",
              "      gap: 12px;\n",
              "    }\n",
              "\n",
              "    .colab-df-convert {\n",
              "      background-color: #E8F0FE;\n",
              "      border: none;\n",
              "      border-radius: 50%;\n",
              "      cursor: pointer;\n",
              "      display: none;\n",
              "      fill: #1967D2;\n",
              "      height: 32px;\n",
              "      padding: 0 0 0 0;\n",
              "      width: 32px;\n",
              "    }\n",
              "\n",
              "    .colab-df-convert:hover {\n",
              "      background-color: #E2EBFA;\n",
              "      box-shadow: 0px 1px 2px rgba(60, 64, 67, 0.3), 0px 1px 3px 1px rgba(60, 64, 67, 0.15);\n",
              "      fill: #174EA6;\n",
              "    }\n",
              "\n",
              "    [theme=dark] .colab-df-convert {\n",
              "      background-color: #3B4455;\n",
              "      fill: #D2E3FC;\n",
              "    }\n",
              "\n",
              "    [theme=dark] .colab-df-convert:hover {\n",
              "      background-color: #434B5C;\n",
              "      box-shadow: 0px 1px 3px 1px rgba(0, 0, 0, 0.15);\n",
              "      filter: drop-shadow(0px 1px 2px rgba(0, 0, 0, 0.3));\n",
              "      fill: #FFFFFF;\n",
              "    }\n",
              "  </style>\n",
              "\n",
              "      <script>\n",
              "        const buttonEl =\n",
              "          document.querySelector('#df-01b00e70-26be-434e-a6b6-2631787fd5b0 button.colab-df-convert');\n",
              "        buttonEl.style.display =\n",
              "          google.colab.kernel.accessAllowed ? 'block' : 'none';\n",
              "\n",
              "        async function convertToInteractive(key) {\n",
              "          const element = document.querySelector('#df-01b00e70-26be-434e-a6b6-2631787fd5b0');\n",
              "          const dataTable =\n",
              "            await google.colab.kernel.invokeFunction('convertToInteractive',\n",
              "                                                     [key], {});\n",
              "          if (!dataTable) return;\n",
              "\n",
              "          const docLinkHtml = 'Like what you see? Visit the ' +\n",
              "            '<a target=\"_blank\" href=https://colab.research.google.com/notebooks/data_table.ipynb>data table notebook</a>'\n",
              "            + ' to learn more about interactive tables.';\n",
              "          element.innerHTML = '';\n",
              "          dataTable['output_type'] = 'display_data';\n",
              "          await google.colab.output.renderOutput(dataTable, element);\n",
              "          const docLink = document.createElement('div');\n",
              "          docLink.innerHTML = docLinkHtml;\n",
              "          element.appendChild(docLink);\n",
              "        }\n",
              "      </script>\n",
              "    </div>\n",
              "  </div>\n",
              "  "
            ]
          },
          "metadata": {},
          "execution_count": 344
        }
      ]
    },
    {
      "cell_type": "markdown",
      "source": [
        "**Question1**"
      ],
      "metadata": {
        "id": "gmfmexXncbgw"
      }
    },
    {
      "cell_type": "code",
      "source": [
        "# How many bookings are in the data set?\n",
        "booking_num = df['booking_ID'].nunique()\n",
        "print(booking_num)"
      ],
      "metadata": {
        "colab": {
          "base_uri": "https://localhost:8080/"
        },
        "id": "hvAXzIfEd3sK",
        "outputId": "160abfe7-26b5-4930-8424-884b4df29c64"
      },
      "execution_count": 345,
      "outputs": [
        {
          "output_type": "stream",
          "name": "stdout",
          "text": [
            "3000\n"
          ]
        }
      ]
    },
    {
      "cell_type": "code",
      "source": [
        "# Randomly divide data into training and testing sets\n",
        "# Create X and y objects:\n",
        "# X = explanatory variables that we believe can help predict target variable 'canceled'\n",
        "# y = target variable 'canceled'\n",
        "X = df.drop('canceled', axis=1)\n",
        "y = df['canceled']"
      ],
      "metadata": {
        "id": "snLlsaWbssVp"
      },
      "execution_count": 346,
      "outputs": []
    },
    {
      "cell_type": "code",
      "source": [
        "# How many reservations were canceled in the data set?  \n",
        "y.value_counts()"
      ],
      "metadata": {
        "id": "N6C_ve8VtakS",
        "colab": {
          "base_uri": "https://localhost:8080/"
        },
        "outputId": "0ba70f3a-123a-43d6-ebca-5e5a9e03b905"
      },
      "execution_count": 347,
      "outputs": [
        {
          "output_type": "execute_result",
          "data": {
            "text/plain": [
              "0    1994\n",
              "1    1006\n",
              "Name: canceled, dtype: int64"
            ]
          },
          "metadata": {},
          "execution_count": 347
        }
      ]
    },
    {
      "cell_type": "code",
      "source": [
        "y.value_counts(normalize = True)"
      ],
      "metadata": {
        "id": "AoH_Bng5mSwi",
        "colab": {
          "base_uri": "https://localhost:8080/"
        },
        "outputId": "d5a011df-39ac-4682-c123-e2e1cc872579"
      },
      "execution_count": 348,
      "outputs": [
        {
          "output_type": "execute_result",
          "data": {
            "text/plain": [
              "0    0.664667\n",
              "1    0.335333\n",
              "Name: canceled, dtype: float64"
            ]
          },
          "metadata": {},
          "execution_count": 348
        }
      ]
    },
    {
      "cell_type": "markdown",
      "source": [
        "**Question2**"
      ],
      "metadata": {
        "id": "bjFfENhJlk7D"
      }
    },
    {
      "cell_type": "code",
      "source": [
        "# show histogram of the average price per night\n",
        "plt.hist(df['avg_price_per_room'])\n",
        "plt.xlabel('avg_price_per_room')\n",
        "plt.ylabel('Frequency')\n",
        "plt.show()\n",
        "print(\"The distrubution of the average nightly price is right skewed\")\n",
        "print(\"The median is a more suitable metric for representing the typical nightly price at this hotel\")"
      ],
      "metadata": {
        "colab": {
          "base_uri": "https://localhost:8080/",
          "height": 486
        },
        "id": "Ay3jNfmteIHZ",
        "outputId": "f426f8ba-846c-489c-e9d9-b6e0c11cbc14"
      },
      "execution_count": 349,
      "outputs": [
        {
          "output_type": "display_data",
          "data": {
            "text/plain": [
              "<Figure size 640x480 with 1 Axes>"
            ],
            "image/png": "[encoded data removed]"
          },
          "metadata": {}
        },
        {
          "output_type": "stream",
          "name": "stdout",
          "text": [
            "The distrubution of the average nightly price is right skewed\n",
            "The median is a more suitable metric for representing the typical nightly price at this hotel\n"
          ]
        }
      ]
    },
    {
      "cell_type": "markdown",
      "source": [
        "**Question3**"
      ],
      "metadata": {
        "id": "BNRUJXKDlp14"
      }
    },
    {
      "cell_type": "code",
      "source": [
        "# How many reservations have average nigthly value of zero?\n",
        "(df['avg_price_per_room'] == 0).sum()"
      ],
      "metadata": {
        "colab": {
          "base_uri": "https://localhost:8080/"
        },
        "id": "8-URRAaygH4t",
        "outputId": "78f10841-c719-4d4a-ad2b-a1afc4334ca9"
      },
      "execution_count": 350,
      "outputs": [
        {
          "output_type": "execute_result",
          "data": {
            "text/plain": [
              "49"
            ]
          },
          "metadata": {},
          "execution_count": 350
        }
      ]
    },
    {
      "cell_type": "markdown",
      "source": [
        "**Question4**"
      ],
      "metadata": {
        "id": "xyZduB6elxRn"
      }
    },
    {
      "cell_type": "code",
      "source": [
        "#Remove reservations with an average nightly rate of 0. Delete the column 'booking_ID'\n",
        "df = df[df.avg_price_per_room != 0]\n",
        "df.drop('booking_ID', axis=1, inplace=True)\n"
      ],
      "metadata": {
        "colab": {
          "base_uri": "https://localhost:8080/"
        },
        "id": "-PR_hPjWg_8c",
        "outputId": "e232bd40-d15a-4188-c46d-a872c6128de6"
      },
      "execution_count": 351,
      "outputs": [
        {
          "output_type": "stream",
          "name": "stderr",
          "text": [
            "<ipython-input-351-34f4edb6c2f2>:3: SettingWithCopyWarning: \n",
            "A value is trying to be set on a copy of a slice from a DataFrame\n",
            "\n",
            "See the caveats in the documentation: https://pandas.pydata.org/pandas-docs/stable/user_guide/indexing.html#returning-a-view-versus-a-copy\n",
            "  df.drop('booking_ID', axis=1, inplace=True)\n"
          ]
        }
      ]
    },
    {
      "cell_type": "code",
      "source": [
        "df.head()"
      ],
      "metadata": {
        "colab": {
          "base_uri": "https://localhost:8080/",
          "height": 300
        },
        "id": "YpB2DzqLho1I",
        "outputId": "b000d5a1-da74-4cf0-e4fc-b4b63adf1f66"
      },
      "execution_count": 352,
      "outputs": [
        {
          "output_type": "execute_result",
          "data": {
            "text/plain": [
              "   no_of_adults  no_of_children  no_of_weekend_nights  no_of_week_nights  \\\n",
              "0             2               0                     1                  1   \n",
              "1             2               0                     0                  4   \n",
              "2             2               0                     2                  2   \n",
              "3             2               0                     1                  3   \n",
              "5             2               0                     0                  2   \n",
              "\n",
              "   meal_plan_1  meal_plan_2  no_meal_plan  required_car_parking_space  \\\n",
              "0            1            0             0                           0   \n",
              "1            0            0             1                           0   \n",
              "2            0            0             0                           0   \n",
              "3            1            0             0                           0   \n",
              "5            1            0             0                           0   \n",
              "\n",
              "   room_type_1  room_type_2  ...  Complementary  Corporate  Offline  Online  \\\n",
              "0            1            0  ...              0          0        1       0   \n",
              "1            1            0  ...              0          0        0       1   \n",
              "2            1            0  ...              0          0        0       1   \n",
              "3            1            0  ...              0          0        0       1   \n",
              "5            1            0  ...              0          0        0       1   \n",
              "\n",
              "   repeated_guest  no_of_previous_cancellations  \\\n",
              "0               0                             0   \n",
              "1               0                             0   \n",
              "2               0                             0   \n",
              "3               0                             0   \n",
              "5               0                             0   \n",
              "\n",
              "   no_of_previous_bookings_not_canceled  avg_price_per_room  \\\n",
              "0                                     0                65.0   \n",
              "1                                     0                79.2   \n",
              "2                                     0               106.0   \n",
              "3                                     0               136.0   \n",
              "5                                     0               100.0   \n",
              "\n",
              "   no_of_special_requests  canceled  \n",
              "0                       0         0  \n",
              "1                       1         0  \n",
              "2                       0         1  \n",
              "3                       1         0  \n",
              "5                       0         1  \n",
              "\n",
              "[5 rows x 29 columns]"
            ],
            "text/html": [
              "\n",
              "  <div id=\"df-16d5e7ec-6429-4512-a0d0-ea283d8acfc8\">\n",
              "    <div class=\"colab-df-container\">\n",
              "      <div>\n",
              "<style scoped>\n",
              "    .dataframe tbody tr th:only-of-type {\n",
              "        vertical-align: middle;\n",
              "    }\n",
              "\n",
              "    .dataframe tbody tr th {\n",
              "        vertical-align: top;\n",
              "    }\n",
              "\n",
              "    .dataframe thead th {\n",
              "        text-align: right;\n",
              "    }\n",
              "</style>\n",
              "<table border=\"1\" class=\"dataframe\">\n",
              "  <thead>\n",
              "    <tr style=\"text-align: right;\">\n",
              "      <th></th>\n",
              "      <th>no_of_adults</th>\n",
              "      <th>no_of_children</th>\n",
              "      <th>no_of_weekend_nights</th>\n",
              "      <th>no_of_week_nights</th>\n",
              "      <th>meal_plan_1</th>\n",
              "      <th>meal_plan_2</th>\n",
              "      <th>no_meal_plan</th>\n",
              "      <th>required_car_parking_space</th>\n",
              "      <th>room_type_1</th>\n",
              "      <th>room_type_2</th>\n",
              "      <th>...</th>\n",
              "      <th>Complementary</th>\n",
              "      <th>Corporate</th>\n",
              "      <th>Offline</th>\n",
              "      <th>Online</th>\n",
              "      <th>repeated_guest</th>\n",
              "      <th>no_of_previous_cancellations</th>\n",
              "      <th>no_of_previous_bookings_not_canceled</th>\n",
              "      <th>avg_price_per_room</th>\n",
              "      <th>no_of_special_requests</th>\n",
              "      <th>canceled</th>\n",
              "    </tr>\n",
              "  </thead>\n",
              "  <tbody>\n",
              "    <tr>\n",
              "      <th>0</th>\n",
              "      <td>2</td>\n",
              "      <td>0</td>\n",
              "      <td>1</td>\n",
              "      <td>1</td>\n",
              "      <td>1</td>\n",
              "      <td>0</td>\n",
              "      <td>0</td>\n",
              "      <td>0</td>\n",
              "      <td>1</td>\n",
              "      <td>0</td>\n",
              "      <td>...</td>\n",
              "      <td>0</td>\n",
              "      <td>0</td>\n",
              "      <td>1</td>\n",
              "      <td>0</td>\n",
              "      <td>0</td>\n",
              "      <td>0</td>\n",
              "      <td>0</td>\n",
              "      <td>65.0</td>\n",
              "      <td>0</td>\n",
              "      <td>0</td>\n",
              "    </tr>\n",
              "    <tr>\n",
              "      <th>1</th>\n",
              "      <td>2</td>\n",
              "      <td>0</td>\n",
              "      <td>0</td>\n",
              "      <td>4</td>\n",
              "      <td>0</td>\n",
              "      <td>0</td>\n",
              "      <td>1</td>\n",
              "      <td>0</td>\n",
              "      <td>1</td>\n",
              "      <td>0</td>\n",
              "      <td>...</td>\n",
              "      <td>0</td>\n",
              "      <td>0</td>\n",
              "      <td>0</td>\n",
              "      <td>1</td>\n",
              "      <td>0</td>\n",
              "      <td>0</td>\n",
              "      <td>0</td>\n",
              "      <td>79.2</td>\n",
              "      <td>1</td>\n",
              "      <td>0</td>\n",
              "    </tr>\n",
              "    <tr>\n",
              "      <th>2</th>\n",
              "      <td>2</td>\n",
              "      <td>0</td>\n",
              "      <td>2</td>\n",
              "      <td>2</td>\n",
              "      <td>0</td>\n",
              "      <td>0</td>\n",
              "      <td>0</td>\n",
              "      <td>0</td>\n",
              "      <td>1</td>\n",
              "      <td>0</td>\n",
              "      <td>...</td>\n",
              "      <td>0</td>\n",
              "      <td>0</td>\n",
              "      <td>0</td>\n",
              "      <td>1</td>\n",
              "      <td>0</td>\n",
              "      <td>0</td>\n",
              "      <td>0</td>\n",
              "      <td>106.0</td>\n",
              "      <td>0</td>\n",
              "      <td>1</td>\n",
              "    </tr>\n",
              "    <tr>\n",
              "      <th>3</th>\n",
              "      <td>2</td>\n",
              "      <td>0</td>\n",
              "      <td>1</td>\n",
              "      <td>3</td>\n",
              "      <td>1</td>\n",
              "      <td>0</td>\n",
              "      <td>0</td>\n",
              "      <td>0</td>\n",
              "      <td>1</td>\n",
              "      <td>0</td>\n",
              "      <td>...</td>\n",
              "      <td>0</td>\n",
              "      <td>0</td>\n",
              "      <td>0</td>\n",
              "      <td>1</td>\n",
              "      <td>0</td>\n",
              "      <td>0</td>\n",
              "      <td>0</td>\n",
              "      <td>136.0</td>\n",
              "      <td>1</td>\n",
              "      <td>0</td>\n",
              "    </tr>\n",
              "    <tr>\n",
              "      <th>5</th>\n",
              "      <td>2</td>\n",
              "      <td>0</td>\n",
              "      <td>0</td>\n",
              "      <td>2</td>\n",
              "      <td>1</td>\n",
              "      <td>0</td>\n",
              "      <td>0</td>\n",
              "      <td>0</td>\n",
              "      <td>1</td>\n",
              "      <td>0</td>\n",
              "      <td>...</td>\n",
              "      <td>0</td>\n",
              "      <td>0</td>\n",
              "      <td>0</td>\n",
              "      <td>1</td>\n",
              "      <td>0</td>\n",
              "      <td>0</td>\n",
              "      <td>0</td>\n",
              "      <td>100.0</td>\n",
              "      <td>0</td>\n",
              "      <td>1</td>\n",
              "    </tr>\n",
              "  </tbody>\n",
              "</table>\n",
              "<p>5 rows × 29 columns</p>\n",
              "</div>\n",
              "      <button class=\"colab-df-convert\" onclick=\"convertToInteractive('df-16d5e7ec-6429-4512-a0d0-ea283d8acfc8')\"\n",
              "              title=\"Convert this dataframe to an interactive table.\"\n",
              "              style=\"display:none;\">\n",
              "        \n",
              "  <svg xmlns=\"http://www.w3.org/2000/svg\" height=\"24px\"viewBox=\"0 0 24 24\"\n",
              "       width=\"24px\">\n",
              "    <path d=\"M0 0h24v24H0V0z\" fill=\"none\"/>\n",
              "    <path d=\"M18.56 5.44l.94 2.06.94-2.06 2.06-.94-2.06-.94-.94-2.06-.94 2.06-2.06.94zm-11 1L8.5 8.5l.94-2.06 2.06-.94-2.06-.94L8.5 2.5l-.94 2.06-2.06.94zm10 10l.94 2.06.94-2.06 2.06-.94-2.06-.94-.94-2.06-.94 2.06-2.06.94z\"/><path d=\"M17.41 7.96l-1.37-1.37c-.4-.4-.92-.59-1.43-.59-.52 0-1.04.2-1.43.59L10.3 9.45l-7.72 7.72c-.78.78-.78 2.05 0 2.83L4 21.41c.39.39.9.59 1.41.59.51 0 1.02-.2 1.41-.59l7.78-7.78 2.81-2.81c.8-.78.8-2.07 0-2.86zM5.41 20L4 18.59l7.72-7.72 1.47 1.35L5.41 20z\"/>\n",
              "  </svg>\n",
              "      </button>\n",
              "      \n",
              "  <style>\n",
              "    .colab-df-container {\n",
              "      display:flex;\n",
              "      flex-wrap:wrap;\n",
              "      gap: 12px;\n",
              "    }\n",
              "\n",
              "    .colab-df-convert {\n",
              "      background-color: #E8F0FE;\n",
              "      border: none;\n",
              "      border-radius: 50%;\n",
              "      cursor: pointer;\n",
              "      display: none;\n",
              "      fill: #1967D2;\n",
              "      height: 32px;\n",
              "      padding: 0 0 0 0;\n",
              "      width: 32px;\n",
              "    }\n",
              "\n",
              "    .colab-df-convert:hover {\n",
              "      background-color: #E2EBFA;\n",
              "      box-shadow: 0px 1px 2px rgba(60, 64, 67, 0.3), 0px 1px 3px 1px rgba(60, 64, 67, 0.15);\n",
              "      fill: #174EA6;\n",
              "    }\n",
              "\n",
              "    [theme=dark] .colab-df-convert {\n",
              "      background-color: #3B4455;\n",
              "      fill: #D2E3FC;\n",
              "    }\n",
              "\n",
              "    [theme=dark] .colab-df-convert:hover {\n",
              "      background-color: #434B5C;\n",
              "      box-shadow: 0px 1px 3px 1px rgba(0, 0, 0, 0.15);\n",
              "      filter: drop-shadow(0px 1px 2px rgba(0, 0, 0, 0.3));\n",
              "      fill: #FFFFFF;\n",
              "    }\n",
              "  </style>\n",
              "\n",
              "      <script>\n",
              "        const buttonEl =\n",
              "          document.querySelector('#df-16d5e7ec-6429-4512-a0d0-ea283d8acfc8 button.colab-df-convert');\n",
              "        buttonEl.style.display =\n",
              "          google.colab.kernel.accessAllowed ? 'block' : 'none';\n",
              "\n",
              "        async function convertToInteractive(key) {\n",
              "          const element = document.querySelector('#df-16d5e7ec-6429-4512-a0d0-ea283d8acfc8');\n",
              "          const dataTable =\n",
              "            await google.colab.kernel.invokeFunction('convertToInteractive',\n",
              "                                                     [key], {});\n",
              "          if (!dataTable) return;\n",
              "\n",
              "          const docLinkHtml = 'Like what you see? Visit the ' +\n",
              "            '<a target=\"_blank\" href=https://colab.research.google.com/notebooks/data_table.ipynb>data table notebook</a>'\n",
              "            + ' to learn more about interactive tables.';\n",
              "          element.innerHTML = '';\n",
              "          dataTable['output_type'] = 'display_data';\n",
              "          await google.colab.output.renderOutput(dataTable, element);\n",
              "          const docLink = document.createElement('div');\n",
              "          docLink.innerHTML = docLinkHtml;\n",
              "          element.appendChild(docLink);\n",
              "        }\n",
              "      </script>\n",
              "    </div>\n",
              "  </div>\n",
              "  "
            ]
          },
          "metadata": {},
          "execution_count": 352
        }
      ]
    },
    {
      "cell_type": "code",
      "source": [
        "# Randomly divide data into training and testing sets\n",
        "# Create X and y objects:\n",
        "# X = explanatory variables that we believe can help predict target variable 'canceled'\n",
        "# y = target variable 'canceled'\n",
        "X = df.drop('canceled', axis=1)\n",
        "y = df['canceled']"
      ],
      "metadata": {
        "id": "NQodlQqFh2g9"
      },
      "execution_count": 353,
      "outputs": []
    },
    {
      "cell_type": "code",
      "source": [
        "# Randomly divide data into training and testing sets\n",
        "X_train,X_test,y_train,y_test = train_test_split(X,y,test_size=0.3,random_state = 1) # ,stratify = y)"
      ],
      "metadata": {
        "id": "JBJjASRKuLtW"
      },
      "execution_count": 354,
      "outputs": []
    },
    {
      "cell_type": "code",
      "source": [
        "# How many reservations are in the training set?\n",
        "X_train.shape[0]\n"
      ],
      "metadata": {
        "colab": {
          "base_uri": "https://localhost:8080/"
        },
        "id": "76ihZQ9Sj-Un",
        "outputId": "f26e609d-d663-419f-dcab-213230196dea"
      },
      "execution_count": 355,
      "outputs": [
        {
          "output_type": "execute_result",
          "data": {
            "text/plain": [
              "2065"
            ]
          },
          "metadata": {},
          "execution_count": 355
        }
      ]
    },
    {
      "cell_type": "code",
      "source": [
        "y_train.shape[0]"
      ],
      "metadata": {
        "colab": {
          "base_uri": "https://localhost:8080/"
        },
        "id": "MVhXBXDQNp1v",
        "outputId": "04b199e8-8e03-47cb-9787-d981d1aaa996"
      },
      "execution_count": 356,
      "outputs": [
        {
          "output_type": "execute_result",
          "data": {
            "text/plain": [
              "2065"
            ]
          },
          "metadata": {},
          "execution_count": 356
        }
      ]
    },
    {
      "cell_type": "code",
      "source": [
        "# How many reservations are in the testing set?\n",
        "X_test.shape[0]"
      ],
      "metadata": {
        "colab": {
          "base_uri": "https://localhost:8080/"
        },
        "id": "yYmeAuwIkMLC",
        "outputId": "c4f616b4-e2ac-4d4b-b437-ce353941b50f"
      },
      "execution_count": 357,
      "outputs": [
        {
          "output_type": "execute_result",
          "data": {
            "text/plain": [
              "886"
            ]
          },
          "metadata": {},
          "execution_count": 357
        }
      ]
    },
    {
      "cell_type": "code",
      "source": [
        "y_train.value_counts(normalize = True)"
      ],
      "metadata": {
        "id": "U6HQ5fddSDoI",
        "colab": {
          "base_uri": "https://localhost:8080/"
        },
        "outputId": "021acb09-7362-464e-8b0e-cb66e65d9a3a"
      },
      "execution_count": 358,
      "outputs": [
        {
          "output_type": "execute_result",
          "data": {
            "text/plain": [
              "0    0.666828\n",
              "1    0.333172\n",
              "Name: canceled, dtype: float64"
            ]
          },
          "metadata": {},
          "execution_count": 358
        }
      ]
    },
    {
      "cell_type": "code",
      "source": [
        "y_test.value_counts(normalize = True)"
      ],
      "metadata": {
        "id": "G87HiPGASFCZ",
        "colab": {
          "base_uri": "https://localhost:8080/"
        },
        "outputId": "afe62aaa-11e3-4bab-a144-da9246eebfff"
      },
      "execution_count": 359,
      "outputs": [
        {
          "output_type": "execute_result",
          "data": {
            "text/plain": [
              "0    0.642212\n",
              "1    0.357788\n",
              "Name: canceled, dtype: float64"
            ]
          },
          "metadata": {},
          "execution_count": 359
        }
      ]
    },
    {
      "cell_type": "markdown",
      "source": [
        "**Question5**"
      ],
      "metadata": {
        "id": "whoV-JA0l_FJ"
      }
    },
    {
      "cell_type": "code",
      "source": [
        "#Using the training set, X_train and y_train, construct a decision tree\n",
        "#Do not split leaves with fewer than 30 reservations into smaller leaves.\n",
        "#Do not perform splitting if at least one resulting child node would contain fewer than 5 reservations.\n",
        "#set random_state=1.\n",
        "M = DecisionTreeClassifier(random_state=1, min_samples_split=30, min_samples_leaf=5).fit(X_train,y_train)\n",
        "M.fit(X_train, y_train)"
      ],
      "metadata": {
        "id": "Tu8M_xWfllPy",
        "colab": {
          "base_uri": "https://localhost:8080/",
          "height": 75
        },
        "outputId": "5506705d-70aa-466a-9a77-e21dfdd243c3"
      },
      "execution_count": 360,
      "outputs": [
        {
          "output_type": "execute_result",
          "data": {
            "text/plain": [
              "DecisionTreeClassifier(min_samples_leaf=5, min_samples_split=30, random_state=1)"
            ],
            "text/html": [
              "<style>#sk-container-id-10 {color: black;background-color: white;}#sk-container-id-10 pre{padding: 0;}#sk-container-id-10 div.sk-toggleable {background-color: white;}#sk-container-id-10 label.sk-toggleable__label {cursor: pointer;display: block;width: 100%;margin-bottom: 0;padding: 0.3em;box-sizing: border-box;text-align: center;}#sk-container-id-10 label.sk-toggleable__label-arrow:before {content: \"▸\";float: left;margin-right: 0.25em;color: #696969;}#sk-container-id-10 label.sk-toggleable__label-arrow:hover:before {color: black;}#sk-container-id-10 div.sk-estimator:hover label.sk-toggleable__label-arrow:before {color: black;}#sk-container-id-10 div.sk-toggleable__content {max-height: 0;max-width: 0;overflow: hidden;text-align: left;background-color: #f0f8ff;}#sk-container-id-10 div.sk-toggleable__content pre {margin: 0.2em;color: black;border-radius: 0.25em;background-color: #f0f8ff;}#sk-container-id-10 input.sk-toggleable__control:checked~div.sk-toggleable__content {max-height: 200px;max-width: 100%;overflow: auto;}#sk-container-id-10 input.sk-toggleable__control:checked~label.sk-toggleable__label-arrow:before {content: \"▾\";}#sk-container-id-10 div.sk-estimator input.sk-toggleable__control:checked~label.sk-toggleable__label {background-color: #d4ebff;}#sk-container-id-10 div.sk-label input.sk-toggleable__control:checked~label.sk-toggleable__label {background-color: #d4ebff;}#sk-container-id-10 input.sk-hidden--visually {border: 0;clip: rect(1px 1px 1px 1px);clip: rect(1px, 1px, 1px, 1px);height: 1px;margin: -1px;overflow: hidden;padding: 0;position: absolute;width: 1px;}#sk-container-id-10 div.sk-estimator {font-family: monospace;background-color: #f0f8ff;border: 1px dotted black;border-radius: 0.25em;box-sizing: border-box;margin-bottom: 0.5em;}#sk-container-id-10 div.sk-estimator:hover {background-color: #d4ebff;}#sk-container-id-10 div.sk-parallel-item::after {content: \"\";width: 100%;border-bottom: 1px solid gray;flex-grow: 1;}#sk-container-id-10 div.sk-label:hover label.sk-toggleable__label {background-color: #d4ebff;}#sk-container-id-10 div.sk-serial::before {content: \"\";position: absolute;border-left: 1px solid gray;box-sizing: border-box;top: 0;bottom: 0;left: 50%;z-index: 0;}#sk-container-id-10 div.sk-serial {display: flex;flex-direction: column;align-items: center;background-color: white;padding-right: 0.2em;padding-left: 0.2em;position: relative;}#sk-container-id-10 div.sk-item {position: relative;z-index: 1;}#sk-container-id-10 div.sk-parallel {display: flex;align-items: stretch;justify-content: center;background-color: white;position: relative;}#sk-container-id-10 div.sk-item::before, #sk-container-id-10 div.sk-parallel-item::before {content: \"\";position: absolute;border-left: 1px solid gray;box-sizing: border-box;top: 0;bottom: 0;left: 50%;z-index: -1;}#sk-container-id-10 div.sk-parallel-item {display: flex;flex-direction: column;z-index: 1;position: relative;background-color: white;}#sk-container-id-10 div.sk-parallel-item:first-child::after {align-self: flex-end;width: 50%;}#sk-container-id-10 div.sk-parallel-item:last-child::after {align-self: flex-start;width: 50%;}#sk-container-id-10 div.sk-parallel-item:only-child::after {width: 0;}#sk-container-id-10 div.sk-dashed-wrapped {border: 1px dashed gray;margin: 0 0.4em 0.5em 0.4em;box-sizing: border-box;padding-bottom: 0.4em;background-color: white;}#sk-container-id-10 div.sk-label label {font-family: monospace;font-weight: bold;display: inline-block;line-height: 1.2em;}#sk-container-id-10 div.sk-label-container {text-align: center;}#sk-container-id-10 div.sk-container {/* jupyter's `normalize.less` sets `[hidden] { display: none; }` but bootstrap.min.css set `[hidden] { display: none !important; }` so we also need the `!important` here to be able to override the default hidden behavior on the sphinx rendered scikit-learn.org. See: https://github.com/scikit-learn/scikit-learn/issues/21755 */display: inline-block !important;position: relative;}#sk-container-id-10 div.sk-text-repr-fallback {display: none;}</style><div id=\"sk-container-id-10\" class=\"sk-top-container\"><div class=\"sk-text-repr-fallback\"><pre>DecisionTreeClassifier(min_samples_leaf=5, min_samples_split=30, random_state=1)</pre><b>In a Jupyter environment, please rerun this cell to show the HTML representation or trust the notebook. <br />On GitHub, the HTML representation is unable to render, please try loading this page with nbviewer.org.</b></div><div class=\"sk-container\" hidden><div class=\"sk-item\"><div class=\"sk-estimator sk-toggleable\"><input class=\"sk-toggleable__control sk-hidden--visually\" id=\"sk-estimator-id-10\" type=\"checkbox\" checked><label for=\"sk-estimator-id-10\" class=\"sk-toggleable__label sk-toggleable__label-arrow\">DecisionTreeClassifier</label><div class=\"sk-toggleable__content\"><pre>DecisionTreeClassifier(min_samples_leaf=5, min_samples_split=30, random_state=1)</pre></div></div></div></div></div>"
            ]
          },
          "metadata": {},
          "execution_count": 360
        }
      ]
    },
    {
      "cell_type": "code",
      "source": [
        "# What is the accuracy (score) of this model ON THE TRAINING SET? Accuracy = proportion of correct predictions\n",
        "M.score(X_train,y_train)"
      ],
      "metadata": {
        "colab": {
          "base_uri": "https://localhost:8080/"
        },
        "id": "0mk7qF0HmFXN",
        "outputId": "950c8c6d-bb1f-4395-b9f3-26d0f956687e"
      },
      "execution_count": 361,
      "outputs": [
        {
          "output_type": "execute_result",
          "data": {
            "text/plain": [
              "0.8731234866828087"
            ]
          },
          "metadata": {},
          "execution_count": 361
        }
      ]
    },
    {
      "cell_type": "code",
      "source": [
        "#What is the accuracy on the testing set?\n",
        "M.score(X_test,y_test)"
      ],
      "metadata": {
        "colab": {
          "base_uri": "https://localhost:8080/"
        },
        "id": "gCY-7qvSm_Kc",
        "outputId": "6a5b6f75-463f-41e0-a54f-f5e340fdd0d0"
      },
      "execution_count": 362,
      "outputs": [
        {
          "output_type": "execute_result",
          "data": {
            "text/plain": [
              "0.8024830699774267"
            ]
          },
          "metadata": {},
          "execution_count": 362
        }
      ]
    },
    {
      "cell_type": "markdown",
      "source": [
        "**Question6**"
      ],
      "metadata": {
        "id": "2xQQFLJ5mcwG"
      }
    },
    {
      "cell_type": "code",
      "source": [
        "dot_data = export_graphviz(M,feature_names = X_train.columns,class_names=['0','1'],filled=True,proportion=True)\n",
        "graph = graphviz.Source(dot_data)\n",
        "display(graph)"
      ],
      "metadata": {
        "id": "xGqhU3O6SfCz",
        "colab": {
          "base_uri": "https://localhost:8080/",
          "height": 1000
        },
        "outputId": "2665ce27-ed39-44d2-b7b1-2ce6cba293f4"
      },
      "execution_count": 363,
      "outputs": [
        {
          "output_type": "display_data",
          "data": {
            "image/svg+xml": "<?xml version=\"1.0\" encoding=\"UTF-8\" standalone=\"no\"?>\n<!DOCTYPE svg PUBLIC \"-//W3C//DTD SVG 1.1//EN\"\n \"http://www.w3.org/Graphics/SVG/1.1/DTD/svg11.dtd\">\n<!-- Generated by graphviz version 2.43.0 (0)\n -->\n<!-- Title: Tree Pages: 1 -->\n<svg width=\"5908pt\" height=\"1742pt\"\n viewBox=\"0.00 0.00 5907.50 1742.00\" xmlns=\"http://www.w3.org/2000/svg\" xmlns:xlink=\"http://www.w3.org/1999/xlink\">\n<g id=\"graph0\" class=\"graph\" transform=\"scale(1 1) rotate(0) translate(4 1738)\">\n<title>Tree</title>\n<polygon fill=\"white\" stroke=\"transparent\" points=\"-4,4 -4,-1738 5903.5,-1738 5903.5,4 -4,4\"/>\n<!-- 0 -->\n<g id=\"node1\" class=\"node\">\n<title>0</title>\n<polygon fill=\"#f2c09c\" stroke=\"black\" points=\"4612,-1734 4465,-1734 4465,-1651 4612,-1651 4612,-1734\"/>\n<text text-anchor=\"middle\" x=\"4538.5\" y=\"-1718.8\" font-family=\"Helvetica,sans-Serif\" font-size=\"14.00\">lead_time &lt;= 147.5</text>\n<text text-anchor=\"middle\" x=\"4538.5\" y=\"-1703.8\" font-family=\"Helvetica,sans-Serif\" font-size=\"14.00\">gini = 0.444</text>\n<text text-anchor=\"middle\" x=\"4538.5\" y=\"-1688.8\" font-family=\"Helvetica,sans-Serif\" font-size=\"14.00\">samples = 100.0%</text>\n<text text-anchor=\"middle\" x=\"4538.5\" y=\"-1673.8\" font-family=\"Helvetica,sans-Serif\" font-size=\"14.00\">value = [0.667, 0.333]</text>\n<text text-anchor=\"middle\" x=\"4538.5\" y=\"-1658.8\" font-family=\"Helvetica,sans-Serif\" font-size=\"14.00\">class = 0</text>\n</g>\n<!-- 1 -->\n<g id=\"node2\" class=\"node\">\n<title>1</title>\n<polygon fill=\"#eda775\" stroke=\"black\" points=\"4111.5,-1615 3909.5,-1615 3909.5,-1532 4111.5,-1532 4111.5,-1615\"/>\n<text text-anchor=\"middle\" x=\"4010.5\" y=\"-1599.8\" font-family=\"Helvetica,sans-Serif\" font-size=\"14.00\">no_of_special_requests &lt;= 0.5</text>\n<text text-anchor=\"middle\" x=\"4010.5\" y=\"-1584.8\" font-family=\"Helvetica,sans-Serif\" font-size=\"14.00\">gini = 0.358</text>\n<text text-anchor=\"middle\" x=\"4010.5\" y=\"-1569.8\" font-family=\"Helvetica,sans-Serif\" font-size=\"14.00\">samples = 79.5%</text>\n<text text-anchor=\"middle\" x=\"4010.5\" y=\"-1554.8\" font-family=\"Helvetica,sans-Serif\" font-size=\"14.00\">value = [0.766, 0.234]</text>\n<text text-anchor=\"middle\" x=\"4010.5\" y=\"-1539.8\" font-family=\"Helvetica,sans-Serif\" font-size=\"14.00\">class = 0</text>\n</g>\n<!-- 0&#45;&gt;1 -->\n<g id=\"edge1\" class=\"edge\">\n<title>0&#45;&gt;1</title>\n<path fill=\"none\" stroke=\"black\" d=\"M4464.81,-1675.17C4375.66,-1655.42 4224.72,-1621.97 4121.47,-1599.09\"/>\n<polygon fill=\"black\" stroke=\"black\" points=\"4122.15,-1595.66 4111.63,-1596.91 4120.64,-1602.49 4122.15,-1595.66\"/>\n<text text-anchor=\"middle\" x=\"4125.07\" y=\"-1614.29\" font-family=\"Helvetica,sans-Serif\" font-size=\"14.00\">True</text>\n</g>\n<!-- 154 -->\n<g id=\"node155\" class=\"node\">\n<title>154</title>\n<polygon fill=\"#87c4ef\" stroke=\"black\" points=\"5201.5,-1615 4995.5,-1615 4995.5,-1532 5201.5,-1532 5201.5,-1615\"/>\n<text text-anchor=\"middle\" x=\"5098.5\" y=\"-1599.8\" font-family=\"Helvetica,sans-Serif\" font-size=\"14.00\">avg_price_per_room &lt;= 100.15</text>\n<text text-anchor=\"middle\" x=\"5098.5\" y=\"-1584.8\" font-family=\"Helvetica,sans-Serif\" font-size=\"14.00\">gini = 0.406</text>\n<text text-anchor=\"middle\" x=\"5098.5\" y=\"-1569.8\" font-family=\"Helvetica,sans-Serif\" font-size=\"14.00\">samples = 20.5%</text>\n<text text-anchor=\"middle\" x=\"5098.5\" y=\"-1554.8\" font-family=\"Helvetica,sans-Serif\" font-size=\"14.00\">value = [0.283, 0.717]</text>\n<text text-anchor=\"middle\" x=\"5098.5\" y=\"-1539.8\" font-family=\"Helvetica,sans-Serif\" font-size=\"14.00\">class = 1</text>\n</g>\n<!-- 0&#45;&gt;154 -->\n<g id=\"edge154\" class=\"edge\">\n<title>0&#45;&gt;154</title>\n<path fill=\"none\" stroke=\"black\" d=\"M4612.29,-1676.08C4707.5,-1656.19 4874.09,-1621.39 4985.35,-1598.14\"/>\n<polygon fill=\"black\" stroke=\"black\" points=\"4986.2,-1601.54 4995.27,-1596.07 4984.77,-1594.69 4986.2,-1601.54\"/>\n<text text-anchor=\"middle\" x=\"4981.58\" y=\"-1613.29\" font-family=\"Helvetica,sans-Serif\" font-size=\"14.00\">False</text>\n</g>\n<!-- 2 -->\n<g id=\"node3\" class=\"node\">\n<title>2</title>\n<polygon fill=\"#f2c19e\" stroke=\"black\" points=\"2436,-1496 2289,-1496 2289,-1413 2436,-1413 2436,-1496\"/>\n<text text-anchor=\"middle\" x=\"2362.5\" y=\"-1480.8\" font-family=\"Helvetica,sans-Serif\" font-size=\"14.00\">Online &lt;= 0.5</text>\n<text text-anchor=\"middle\" x=\"2362.5\" y=\"-1465.8\" font-family=\"Helvetica,sans-Serif\" font-size=\"14.00\">gini = 0.448</text>\n<text text-anchor=\"middle\" x=\"2362.5\" y=\"-1450.8\" font-family=\"Helvetica,sans-Serif\" font-size=\"14.00\">samples = 39.7%</text>\n<text text-anchor=\"middle\" x=\"2362.5\" y=\"-1435.8\" font-family=\"Helvetica,sans-Serif\" font-size=\"14.00\">value = [0.662, 0.338]</text>\n<text text-anchor=\"middle\" x=\"2362.5\" y=\"-1420.8\" font-family=\"Helvetica,sans-Serif\" font-size=\"14.00\">class = 0</text>\n</g>\n<!-- 1&#45;&gt;2 -->\n<g id=\"edge2\" class=\"edge\">\n<title>1&#45;&gt;2</title>\n<path fill=\"none\" stroke=\"black\" d=\"M3909.27,-1565.31C3608.36,-1543.95 2723.1,-1481.1 2446.24,-1461.45\"/>\n<polygon fill=\"black\" stroke=\"black\" points=\"2446.48,-1457.95 2436.26,-1460.74 2445.99,-1464.94 2446.48,-1457.95\"/>\n</g>\n<!-- 91 -->\n<g id=\"node92\" class=\"node\">\n<title>91</title>\n<polygon fill=\"#e99457\" stroke=\"black\" points=\"4076.5,-1496 3944.5,-1496 3944.5,-1413 4076.5,-1413 4076.5,-1496\"/>\n<text text-anchor=\"middle\" x=\"4010.5\" y=\"-1480.8\" font-family=\"Helvetica,sans-Serif\" font-size=\"14.00\">lead_time &lt;= 30.5</text>\n<text text-anchor=\"middle\" x=\"4010.5\" y=\"-1465.8\" font-family=\"Helvetica,sans-Serif\" font-size=\"14.00\">gini = 0.226</text>\n<text text-anchor=\"middle\" x=\"4010.5\" y=\"-1450.8\" font-family=\"Helvetica,sans-Serif\" font-size=\"14.00\">samples = 39.8%</text>\n<text text-anchor=\"middle\" x=\"4010.5\" y=\"-1435.8\" font-family=\"Helvetica,sans-Serif\" font-size=\"14.00\">value = [0.87, 0.13]</text>\n<text text-anchor=\"middle\" x=\"4010.5\" y=\"-1420.8\" font-family=\"Helvetica,sans-Serif\" font-size=\"14.00\">class = 0</text>\n</g>\n<!-- 1&#45;&gt;91 -->\n<g id=\"edge91\" class=\"edge\">\n<title>1&#45;&gt;91</title>\n<path fill=\"none\" stroke=\"black\" d=\"M4010.5,-1531.91C4010.5,-1523.65 4010.5,-1514.86 4010.5,-1506.3\"/>\n<polygon fill=\"black\" stroke=\"black\" points=\"4014,-1506.02 4010.5,-1496.02 4007,-1506.02 4014,-1506.02\"/>\n</g>\n<!-- 3 -->\n<g id=\"node4\" class=\"node\">\n<title>3</title>\n<polygon fill=\"#ea995e\" stroke=\"black\" points=\"1616,-1377 1469,-1377 1469,-1294 1616,-1294 1616,-1377\"/>\n<text text-anchor=\"middle\" x=\"1542.5\" y=\"-1361.8\" font-family=\"Helvetica,sans-Serif\" font-size=\"14.00\">lead_time &lt;= 102.5</text>\n<text text-anchor=\"middle\" x=\"1542.5\" y=\"-1346.8\" font-family=\"Helvetica,sans-Serif\" font-size=\"14.00\">gini = 0.265</text>\n<text text-anchor=\"middle\" x=\"1542.5\" y=\"-1331.8\" font-family=\"Helvetica,sans-Serif\" font-size=\"14.00\">samples = 19.4%</text>\n<text text-anchor=\"middle\" x=\"1542.5\" y=\"-1316.8\" font-family=\"Helvetica,sans-Serif\" font-size=\"14.00\">value = [0.842, 0.158]</text>\n<text text-anchor=\"middle\" x=\"1542.5\" y=\"-1301.8\" font-family=\"Helvetica,sans-Serif\" font-size=\"14.00\">class = 0</text>\n</g>\n<!-- 2&#45;&gt;3 -->\n<g id=\"edge3\" class=\"edge\">\n<title>2&#45;&gt;3</title>\n<path fill=\"none\" stroke=\"black\" d=\"M2288.65,-1442.96C2136.1,-1421.2 1787.08,-1371.4 1626.35,-1348.46\"/>\n<polygon fill=\"black\" stroke=\"black\" points=\"1626.43,-1344.94 1616.04,-1346.99 1625.44,-1351.87 1626.43,-1344.94\"/>\n</g>\n<!-- 38 -->\n<g id=\"node39\" class=\"node\">\n<title>38</title>\n<polygon fill=\"#f7fbfe\" stroke=\"black\" points=\"2436,-1377 2289,-1377 2289,-1294 2436,-1294 2436,-1377\"/>\n<text text-anchor=\"middle\" x=\"2362.5\" y=\"-1361.8\" font-family=\"Helvetica,sans-Serif\" font-size=\"14.00\">lead_time &lt;= 3.5</text>\n<text text-anchor=\"middle\" x=\"2362.5\" y=\"-1346.8\" font-family=\"Helvetica,sans-Serif\" font-size=\"14.00\">gini = 0.5</text>\n<text text-anchor=\"middle\" x=\"2362.5\" y=\"-1331.8\" font-family=\"Helvetica,sans-Serif\" font-size=\"14.00\">samples = 20.3%</text>\n<text text-anchor=\"middle\" x=\"2362.5\" y=\"-1316.8\" font-family=\"Helvetica,sans-Serif\" font-size=\"14.00\">value = [0.489, 0.511]</text>\n<text text-anchor=\"middle\" x=\"2362.5\" y=\"-1301.8\" font-family=\"Helvetica,sans-Serif\" font-size=\"14.00\">class = 1</text>\n</g>\n<!-- 2&#45;&gt;38 -->\n<g id=\"edge38\" class=\"edge\">\n<title>2&#45;&gt;38</title>\n<path fill=\"none\" stroke=\"black\" d=\"M2362.5,-1412.91C2362.5,-1404.65 2362.5,-1395.86 2362.5,-1387.3\"/>\n<polygon fill=\"black\" stroke=\"black\" points=\"2366,-1387.02 2362.5,-1377.02 2359,-1387.02 2366,-1387.02\"/>\n</g>\n<!-- 4 -->\n<g id=\"node5\" class=\"node\">\n<title>4</title>\n<polygon fill=\"#e89152\" stroke=\"black\" points=\"1094.5,-1258 896.5,-1258 896.5,-1175 1094.5,-1175 1094.5,-1258\"/>\n<text text-anchor=\"middle\" x=\"995.5\" y=\"-1242.8\" font-family=\"Helvetica,sans-Serif\" font-size=\"14.00\">no_of_weekend_nights &lt;= 0.5</text>\n<text text-anchor=\"middle\" x=\"995.5\" y=\"-1227.8\" font-family=\"Helvetica,sans-Serif\" font-size=\"14.00\">gini = 0.201</text>\n<text text-anchor=\"middle\" x=\"995.5\" y=\"-1212.8\" font-family=\"Helvetica,sans-Serif\" font-size=\"14.00\">samples = 16.2%</text>\n<text text-anchor=\"middle\" x=\"995.5\" y=\"-1197.8\" font-family=\"Helvetica,sans-Serif\" font-size=\"14.00\">value = [0.887, 0.113]</text>\n<text text-anchor=\"middle\" x=\"995.5\" y=\"-1182.8\" font-family=\"Helvetica,sans-Serif\" font-size=\"14.00\">class = 0</text>\n</g>\n<!-- 3&#45;&gt;4 -->\n<g id=\"edge4\" class=\"edge\">\n<title>3&#45;&gt;4</title>\n<path fill=\"none\" stroke=\"black\" d=\"M1468.73,-1318.72C1375.13,-1298.7 1212.9,-1264 1104.87,-1240.89\"/>\n<polygon fill=\"black\" stroke=\"black\" points=\"1105.43,-1237.43 1094.92,-1238.77 1103.97,-1244.28 1105.43,-1237.43\"/>\n</g>\n<!-- 31 -->\n<g id=\"node32\" class=\"node\">\n<title>31</title>\n<polygon fill=\"#f5d0b5\" stroke=\"black\" points=\"1616,-1258 1469,-1258 1469,-1175 1616,-1175 1616,-1258\"/>\n<text text-anchor=\"middle\" x=\"1542.5\" y=\"-1242.8\" font-family=\"Helvetica,sans-Serif\" font-size=\"14.00\">lead_time &lt;= 117.5</text>\n<text text-anchor=\"middle\" x=\"1542.5\" y=\"-1227.8\" font-family=\"Helvetica,sans-Serif\" font-size=\"14.00\">gini = 0.473</text>\n<text text-anchor=\"middle\" x=\"1542.5\" y=\"-1212.8\" font-family=\"Helvetica,sans-Serif\" font-size=\"14.00\">samples = 3.1%</text>\n<text text-anchor=\"middle\" x=\"1542.5\" y=\"-1197.8\" font-family=\"Helvetica,sans-Serif\" font-size=\"14.00\">value = [0.615, 0.385]</text>\n<text text-anchor=\"middle\" x=\"1542.5\" y=\"-1182.8\" font-family=\"Helvetica,sans-Serif\" font-size=\"14.00\">class = 0</text>\n</g>\n<!-- 3&#45;&gt;31 -->\n<g id=\"edge31\" class=\"edge\">\n<title>3&#45;&gt;31</title>\n<path fill=\"none\" stroke=\"black\" d=\"M1542.5,-1293.91C1542.5,-1285.65 1542.5,-1276.86 1542.5,-1268.3\"/>\n<polygon fill=\"black\" stroke=\"black\" points=\"1546,-1268.02 1542.5,-1258.02 1539,-1268.02 1546,-1268.02\"/>\n</g>\n<!-- 5 -->\n<g id=\"node6\" class=\"node\">\n<title>5</title>\n<polygon fill=\"#e68742\" stroke=\"black\" points=\"635,-1139 488,-1139 488,-1056 635,-1056 635,-1139\"/>\n<text text-anchor=\"middle\" x=\"561.5\" y=\"-1123.8\" font-family=\"Helvetica,sans-Serif\" font-size=\"14.00\">Offline &lt;= 0.5</text>\n<text text-anchor=\"middle\" x=\"561.5\" y=\"-1108.8\" font-family=\"Helvetica,sans-Serif\" font-size=\"14.00\">gini = 0.08</text>\n<text text-anchor=\"middle\" x=\"561.5\" y=\"-1093.8\" font-family=\"Helvetica,sans-Serif\" font-size=\"14.00\">samples = 9.2%</text>\n<text text-anchor=\"middle\" x=\"561.5\" y=\"-1078.8\" font-family=\"Helvetica,sans-Serif\" font-size=\"14.00\">value = [0.958, 0.042]</text>\n<text text-anchor=\"middle\" x=\"561.5\" y=\"-1063.8\" font-family=\"Helvetica,sans-Serif\" font-size=\"14.00\">class = 0</text>\n</g>\n<!-- 4&#45;&gt;5 -->\n<g id=\"edge5\" class=\"edge\">\n<title>4&#45;&gt;5</title>\n<path fill=\"none\" stroke=\"black\" d=\"M896.48,-1188.8C820.49,-1168.32 716.78,-1140.36 644.98,-1121.01\"/>\n<polygon fill=\"black\" stroke=\"black\" points=\"645.63,-1117.56 635.07,-1118.33 643.81,-1124.31 645.63,-1117.56\"/>\n</g>\n<!-- 16 -->\n<g id=\"node17\" class=\"node\">\n<title>16</title>\n<polygon fill=\"#eca26d\" stroke=\"black\" points=\"1069,-1139 922,-1139 922,-1056 1069,-1056 1069,-1139\"/>\n<text text-anchor=\"middle\" x=\"995.5\" y=\"-1123.8\" font-family=\"Helvetica,sans-Serif\" font-size=\"14.00\">lead_time &lt;= 63.5</text>\n<text text-anchor=\"middle\" x=\"995.5\" y=\"-1108.8\" font-family=\"Helvetica,sans-Serif\" font-size=\"14.00\">gini = 0.33</text>\n<text text-anchor=\"middle\" x=\"995.5\" y=\"-1093.8\" font-family=\"Helvetica,sans-Serif\" font-size=\"14.00\">samples = 7.0%</text>\n<text text-anchor=\"middle\" x=\"995.5\" y=\"-1078.8\" font-family=\"Helvetica,sans-Serif\" font-size=\"14.00\">value = [0.792, 0.208]</text>\n<text text-anchor=\"middle\" x=\"995.5\" y=\"-1063.8\" font-family=\"Helvetica,sans-Serif\" font-size=\"14.00\">class = 0</text>\n</g>\n<!-- 4&#45;&gt;16 -->\n<g id=\"edge16\" class=\"edge\">\n<title>4&#45;&gt;16</title>\n<path fill=\"none\" stroke=\"black\" d=\"M995.5,-1174.91C995.5,-1166.65 995.5,-1157.86 995.5,-1149.3\"/>\n<polygon fill=\"black\" stroke=\"black\" points=\"999,-1149.02 995.5,-1139.02 992,-1149.02 999,-1149.02\"/>\n</g>\n<!-- 6 -->\n<g id=\"node7\" class=\"node\">\n<title>6</title>\n<polygon fill=\"#e89253\" stroke=\"black\" points=\"356,-1020 209,-1020 209,-937 356,-937 356,-1020\"/>\n<text text-anchor=\"middle\" x=\"282.5\" y=\"-1004.8\" font-family=\"Helvetica,sans-Serif\" font-size=\"14.00\">no_of_adults &lt;= 1.5</text>\n<text text-anchor=\"middle\" x=\"282.5\" y=\"-989.8\" font-family=\"Helvetica,sans-Serif\" font-size=\"14.00\">gini = 0.206</text>\n<text text-anchor=\"middle\" x=\"282.5\" y=\"-974.8\" font-family=\"Helvetica,sans-Serif\" font-size=\"14.00\">samples = 2.1%</text>\n<text text-anchor=\"middle\" x=\"282.5\" y=\"-959.8\" font-family=\"Helvetica,sans-Serif\" font-size=\"14.00\">value = [0.884, 0.116]</text>\n<text text-anchor=\"middle\" x=\"282.5\" y=\"-944.8\" font-family=\"Helvetica,sans-Serif\" font-size=\"14.00\">class = 0</text>\n</g>\n<!-- 5&#45;&gt;6 -->\n<g id=\"edge6\" class=\"edge\">\n<title>5&#45;&gt;6</title>\n<path fill=\"none\" stroke=\"black\" d=\"M487.83,-1065.61C450.33,-1049.88 404.58,-1030.7 365.8,-1014.43\"/>\n<polygon fill=\"black\" stroke=\"black\" points=\"366.67,-1011 356.1,-1010.36 363.97,-1017.46 366.67,-1011\"/>\n</g>\n<!-- 11 -->\n<g id=\"node12\" class=\"node\">\n<title>11</title>\n<polygon fill=\"#e6843d\" stroke=\"black\" points=\"627.5,-1020 495.5,-1020 495.5,-937 627.5,-937 627.5,-1020\"/>\n<text text-anchor=\"middle\" x=\"561.5\" y=\"-1004.8\" font-family=\"Helvetica,sans-Serif\" font-size=\"14.00\">lead_time &lt;= 89.0</text>\n<text text-anchor=\"middle\" x=\"561.5\" y=\"-989.8\" font-family=\"Helvetica,sans-Serif\" font-size=\"14.00\">gini = 0.04</text>\n<text text-anchor=\"middle\" x=\"561.5\" y=\"-974.8\" font-family=\"Helvetica,sans-Serif\" font-size=\"14.00\">samples = 7.2%</text>\n<text text-anchor=\"middle\" x=\"561.5\" y=\"-959.8\" font-family=\"Helvetica,sans-Serif\" font-size=\"14.00\">value = [0.98, 0.02]</text>\n<text text-anchor=\"middle\" x=\"561.5\" y=\"-944.8\" font-family=\"Helvetica,sans-Serif\" font-size=\"14.00\">class = 0</text>\n</g>\n<!-- 5&#45;&gt;11 -->\n<g id=\"edge11\" class=\"edge\">\n<title>5&#45;&gt;11</title>\n<path fill=\"none\" stroke=\"black\" d=\"M561.5,-1055.91C561.5,-1047.65 561.5,-1038.86 561.5,-1030.3\"/>\n<polygon fill=\"black\" stroke=\"black\" points=\"565,-1030.02 561.5,-1020.02 558,-1030.02 565,-1030.02\"/>\n</g>\n<!-- 7 -->\n<g id=\"node8\" class=\"node\">\n<title>7</title>\n<polygon fill=\"#e78945\" stroke=\"black\" points=\"191,-901 0,-901 0,-818 191,-818 191,-901\"/>\n<text text-anchor=\"middle\" x=\"95.5\" y=\"-885.8\" font-family=\"Helvetica,sans-Serif\" font-size=\"14.00\">avg_price_per_room &lt;= 92.0</text>\n<text text-anchor=\"middle\" x=\"95.5\" y=\"-870.8\" font-family=\"Helvetica,sans-Serif\" font-size=\"14.00\">gini = 0.111</text>\n<text text-anchor=\"middle\" x=\"95.5\" y=\"-855.8\" font-family=\"Helvetica,sans-Serif\" font-size=\"14.00\">samples = 1.6%</text>\n<text text-anchor=\"middle\" x=\"95.5\" y=\"-840.8\" font-family=\"Helvetica,sans-Serif\" font-size=\"14.00\">value = [0.941, 0.059]</text>\n<text text-anchor=\"middle\" x=\"95.5\" y=\"-825.8\" font-family=\"Helvetica,sans-Serif\" font-size=\"14.00\">class = 0</text>\n</g>\n<!-- 6&#45;&gt;7 -->\n<g id=\"edge7\" class=\"edge\">\n<title>6&#45;&gt;7</title>\n<path fill=\"none\" stroke=\"black\" d=\"M217.62,-936.91C201.96,-927.11 185.1,-916.56 169.07,-906.53\"/>\n<polygon fill=\"black\" stroke=\"black\" points=\"170.6,-903.36 160.26,-901.02 166.89,-909.29 170.6,-903.36\"/>\n</g>\n<!-- 10 -->\n<g id=\"node11\" class=\"node\">\n<title>10</title>\n<polygon fill=\"#f2c09c\" stroke=\"black\" points=\"356,-893.5 209,-893.5 209,-825.5 356,-825.5 356,-893.5\"/>\n<text text-anchor=\"middle\" x=\"282.5\" y=\"-878.3\" font-family=\"Helvetica,sans-Serif\" font-size=\"14.00\">gini = 0.444</text>\n<text text-anchor=\"middle\" x=\"282.5\" y=\"-863.3\" font-family=\"Helvetica,sans-Serif\" font-size=\"14.00\">samples = 0.4%</text>\n<text text-anchor=\"middle\" x=\"282.5\" y=\"-848.3\" font-family=\"Helvetica,sans-Serif\" font-size=\"14.00\">value = [0.667, 0.333]</text>\n<text text-anchor=\"middle\" x=\"282.5\" y=\"-833.3\" font-family=\"Helvetica,sans-Serif\" font-size=\"14.00\">class = 0</text>\n</g>\n<!-- 6&#45;&gt;10 -->\n<g id=\"edge10\" class=\"edge\">\n<title>6&#45;&gt;10</title>\n<path fill=\"none\" stroke=\"black\" d=\"M282.5,-936.91C282.5,-926.2 282.5,-914.62 282.5,-903.78\"/>\n<polygon fill=\"black\" stroke=\"black\" points=\"286,-903.67 282.5,-893.67 279,-903.67 286,-903.67\"/>\n</g>\n<!-- 8 -->\n<g id=\"node9\" class=\"node\">\n<title>8</title>\n<polygon fill=\"#e58139\" stroke=\"black\" points=\"133,-774.5 16,-774.5 16,-706.5 133,-706.5 133,-774.5\"/>\n<text text-anchor=\"middle\" x=\"74.5\" y=\"-759.3\" font-family=\"Helvetica,sans-Serif\" font-size=\"14.00\">gini = 0.0</text>\n<text text-anchor=\"middle\" x=\"74.5\" y=\"-744.3\" font-family=\"Helvetica,sans-Serif\" font-size=\"14.00\">samples = 1.3%</text>\n<text text-anchor=\"middle\" x=\"74.5\" y=\"-729.3\" font-family=\"Helvetica,sans-Serif\" font-size=\"14.00\">value = [1.0, 0.0]</text>\n<text text-anchor=\"middle\" x=\"74.5\" y=\"-714.3\" font-family=\"Helvetica,sans-Serif\" font-size=\"14.00\">class = 0</text>\n</g>\n<!-- 7&#45;&gt;8 -->\n<g id=\"edge8\" class=\"edge\">\n<title>7&#45;&gt;8</title>\n<path fill=\"none\" stroke=\"black\" d=\"M88.21,-817.91C86.29,-807.2 84.21,-795.62 82.27,-784.78\"/>\n<polygon fill=\"black\" stroke=\"black\" points=\"85.66,-783.89 80.45,-774.67 78.77,-785.13 85.66,-783.89\"/>\n</g>\n<!-- 9 -->\n<g id=\"node10\" class=\"node\">\n<title>9</title>\n<polygon fill=\"#eeab7b\" stroke=\"black\" points=\"283.5,-774.5 151.5,-774.5 151.5,-706.5 283.5,-706.5 283.5,-774.5\"/>\n<text text-anchor=\"middle\" x=\"217.5\" y=\"-759.3\" font-family=\"Helvetica,sans-Serif\" font-size=\"14.00\">gini = 0.375</text>\n<text text-anchor=\"middle\" x=\"217.5\" y=\"-744.3\" font-family=\"Helvetica,sans-Serif\" font-size=\"14.00\">samples = 0.4%</text>\n<text text-anchor=\"middle\" x=\"217.5\" y=\"-729.3\" font-family=\"Helvetica,sans-Serif\" font-size=\"14.00\">value = [0.75, 0.25]</text>\n<text text-anchor=\"middle\" x=\"217.5\" y=\"-714.3\" font-family=\"Helvetica,sans-Serif\" font-size=\"14.00\">class = 0</text>\n</g>\n<!-- 7&#45;&gt;9 -->\n<g id=\"edge9\" class=\"edge\">\n<title>7&#45;&gt;9</title>\n<path fill=\"none\" stroke=\"black\" d=\"M137.83,-817.91C150.02,-806.21 163.32,-793.46 175.5,-781.78\"/>\n<polygon fill=\"black\" stroke=\"black\" points=\"178.12,-784.11 182.92,-774.67 173.28,-779.06 178.12,-784.11\"/>\n</g>\n<!-- 12 -->\n<g id=\"node13\" class=\"node\">\n<title>12</title>\n<polygon fill=\"#e5823a\" stroke=\"black\" points=\"573,-901 374,-901 374,-818 573,-818 573,-901\"/>\n<text text-anchor=\"middle\" x=\"473.5\" y=\"-885.8\" font-family=\"Helvetica,sans-Serif\" font-size=\"14.00\">avg_price_per_room &lt;= 139.0</text>\n<text text-anchor=\"middle\" x=\"473.5\" y=\"-870.8\" font-family=\"Helvetica,sans-Serif\" font-size=\"14.00\">gini = 0.014</text>\n<text text-anchor=\"middle\" x=\"473.5\" y=\"-855.8\" font-family=\"Helvetica,sans-Serif\" font-size=\"14.00\">samples = 6.7%</text>\n<text text-anchor=\"middle\" x=\"473.5\" y=\"-840.8\" font-family=\"Helvetica,sans-Serif\" font-size=\"14.00\">value = [0.993, 0.007]</text>\n<text text-anchor=\"middle\" x=\"473.5\" y=\"-825.8\" font-family=\"Helvetica,sans-Serif\" font-size=\"14.00\">class = 0</text>\n</g>\n<!-- 11&#45;&gt;12 -->\n<g id=\"edge12\" class=\"edge\">\n<title>11&#45;&gt;12</title>\n<path fill=\"none\" stroke=\"black\" d=\"M530.97,-936.91C524.21,-927.92 516.98,-918.32 510.02,-909.05\"/>\n<polygon fill=\"black\" stroke=\"black\" points=\"512.79,-906.91 503.98,-901.02 507.19,-911.12 512.79,-906.91\"/>\n</g>\n<!-- 15 -->\n<g id=\"node16\" class=\"node\">\n<title>15</title>\n<polygon fill=\"#eca06a\" stroke=\"black\" points=\"708,-893.5 591,-893.5 591,-825.5 708,-825.5 708,-893.5\"/>\n<text text-anchor=\"middle\" x=\"649.5\" y=\"-878.3\" font-family=\"Helvetica,sans-Serif\" font-size=\"14.00\">gini = 0.32</text>\n<text text-anchor=\"middle\" x=\"649.5\" y=\"-863.3\" font-family=\"Helvetica,sans-Serif\" font-size=\"14.00\">samples = 0.5%</text>\n<text text-anchor=\"middle\" x=\"649.5\" y=\"-848.3\" font-family=\"Helvetica,sans-Serif\" font-size=\"14.00\">value = [0.8, 0.2]</text>\n<text text-anchor=\"middle\" x=\"649.5\" y=\"-833.3\" font-family=\"Helvetica,sans-Serif\" font-size=\"14.00\">class = 0</text>\n</g>\n<!-- 11&#45;&gt;15 -->\n<g id=\"edge15\" class=\"edge\">\n<title>11&#45;&gt;15</title>\n<path fill=\"none\" stroke=\"black\" d=\"M592.03,-936.91C600.58,-925.54 609.88,-913.18 618.46,-901.77\"/>\n<polygon fill=\"black\" stroke=\"black\" points=\"621.34,-903.76 624.55,-893.67 615.75,-899.55 621.34,-903.76\"/>\n</g>\n<!-- 13 -->\n<g id=\"node14\" class=\"node\">\n<title>13</title>\n<polygon fill=\"#e58139\" stroke=\"black\" points=\"475,-774.5 358,-774.5 358,-706.5 475,-706.5 475,-774.5\"/>\n<text text-anchor=\"middle\" x=\"416.5\" y=\"-759.3\" font-family=\"Helvetica,sans-Serif\" font-size=\"14.00\">gini = 0.0</text>\n<text text-anchor=\"middle\" x=\"416.5\" y=\"-744.3\" font-family=\"Helvetica,sans-Serif\" font-size=\"14.00\">samples = 6.4%</text>\n<text text-anchor=\"middle\" x=\"416.5\" y=\"-729.3\" font-family=\"Helvetica,sans-Serif\" font-size=\"14.00\">value = [1.0, 0.0]</text>\n<text text-anchor=\"middle\" x=\"416.5\" y=\"-714.3\" font-family=\"Helvetica,sans-Serif\" font-size=\"14.00\">class = 0</text>\n</g>\n<!-- 12&#45;&gt;13 -->\n<g id=\"edge13\" class=\"edge\">\n<title>12&#45;&gt;13</title>\n<path fill=\"none\" stroke=\"black\" d=\"M453.72,-817.91C448.35,-806.87 442.51,-794.9 437.09,-783.77\"/>\n<polygon fill=\"black\" stroke=\"black\" points=\"440.18,-782.12 432.66,-774.67 433.89,-785.19 440.18,-782.12\"/>\n</g>\n<!-- 14 -->\n<g id=\"node15\" class=\"node\">\n<title>14</title>\n<polygon fill=\"#eca06a\" stroke=\"black\" points=\"610,-774.5 493,-774.5 493,-706.5 610,-706.5 610,-774.5\"/>\n<text text-anchor=\"middle\" x=\"551.5\" y=\"-759.3\" font-family=\"Helvetica,sans-Serif\" font-size=\"14.00\">gini = 0.32</text>\n<text text-anchor=\"middle\" x=\"551.5\" y=\"-744.3\" font-family=\"Helvetica,sans-Serif\" font-size=\"14.00\">samples = 0.2%</text>\n<text text-anchor=\"middle\" x=\"551.5\" y=\"-729.3\" font-family=\"Helvetica,sans-Serif\" font-size=\"14.00\">value = [0.8, 0.2]</text>\n<text text-anchor=\"middle\" x=\"551.5\" y=\"-714.3\" font-family=\"Helvetica,sans-Serif\" font-size=\"14.00\">class = 0</text>\n</g>\n<!-- 12&#45;&gt;14 -->\n<g id=\"edge14\" class=\"edge\">\n<title>12&#45;&gt;14</title>\n<path fill=\"none\" stroke=\"black\" d=\"M500.56,-817.91C508.07,-806.65 516.22,-794.42 523.76,-783.11\"/>\n<polygon fill=\"black\" stroke=\"black\" points=\"526.75,-784.93 529.39,-774.67 520.93,-781.05 526.75,-784.93\"/>\n</g>\n<!-- 17 -->\n<g id=\"node18\" class=\"node\">\n<title>17</title>\n<polygon fill=\"#e99559\" stroke=\"black\" points=\"978.5,-1020 802.5,-1020 802.5,-937 978.5,-937 978.5,-1020\"/>\n<text text-anchor=\"middle\" x=\"890.5\" y=\"-1004.8\" font-family=\"Helvetica,sans-Serif\" font-size=\"14.00\">no_of_week_nights &lt;= 6.0</text>\n<text text-anchor=\"middle\" x=\"890.5\" y=\"-989.8\" font-family=\"Helvetica,sans-Serif\" font-size=\"14.00\">gini = 0.239</text>\n<text text-anchor=\"middle\" x=\"890.5\" y=\"-974.8\" font-family=\"Helvetica,sans-Serif\" font-size=\"14.00\">samples = 5.2%</text>\n<text text-anchor=\"middle\" x=\"890.5\" y=\"-959.8\" font-family=\"Helvetica,sans-Serif\" font-size=\"14.00\">value = [0.861, 0.139]</text>\n<text text-anchor=\"middle\" x=\"890.5\" y=\"-944.8\" font-family=\"Helvetica,sans-Serif\" font-size=\"14.00\">class = 0</text>\n</g>\n<!-- 16&#45;&gt;17 -->\n<g id=\"edge17\" class=\"edge\">\n<title>16&#45;&gt;17</title>\n<path fill=\"none\" stroke=\"black\" d=\"M959.07,-1055.91C950.85,-1046.74 942.04,-1036.93 933.57,-1027.49\"/>\n<polygon fill=\"black\" stroke=\"black\" points=\"936.15,-1025.13 926.86,-1020.02 930.94,-1029.8 936.15,-1025.13\"/>\n</g>\n<!-- 28 -->\n<g id=\"node29\" class=\"node\">\n<title>28</title>\n<polygon fill=\"#f8dbc6\" stroke=\"black\" points=\"1202.5,-1020 996.5,-1020 996.5,-937 1202.5,-937 1202.5,-1020\"/>\n<text text-anchor=\"middle\" x=\"1099.5\" y=\"-1004.8\" font-family=\"Helvetica,sans-Serif\" font-size=\"14.00\">avg_price_per_room &lt;= 103.84</text>\n<text text-anchor=\"middle\" x=\"1099.5\" y=\"-989.8\" font-family=\"Helvetica,sans-Serif\" font-size=\"14.00\">gini = 0.486</text>\n<text text-anchor=\"middle\" x=\"1099.5\" y=\"-974.8\" font-family=\"Helvetica,sans-Serif\" font-size=\"14.00\">samples = 1.7%</text>\n<text text-anchor=\"middle\" x=\"1099.5\" y=\"-959.8\" font-family=\"Helvetica,sans-Serif\" font-size=\"14.00\">value = [0.583, 0.417]</text>\n<text text-anchor=\"middle\" x=\"1099.5\" y=\"-944.8\" font-family=\"Helvetica,sans-Serif\" font-size=\"14.00\">class = 0</text>\n</g>\n<!-- 16&#45;&gt;28 -->\n<g id=\"edge28\" class=\"edge\">\n<title>16&#45;&gt;28</title>\n<path fill=\"none\" stroke=\"black\" d=\"M1031.58,-1055.91C1039.65,-1046.83 1048.28,-1037.12 1056.59,-1027.77\"/>\n<polygon fill=\"black\" stroke=\"black\" points=\"1059.45,-1029.82 1063.48,-1020.02 1054.22,-1025.17 1059.45,-1029.82\"/>\n</g>\n<!-- 18 -->\n<g id=\"node19\" class=\"node\">\n<title>18</title>\n<polygon fill=\"#e89253\" stroke=\"black\" points=\"873,-901 726,-901 726,-818 873,-818 873,-901\"/>\n<text text-anchor=\"middle\" x=\"799.5\" y=\"-885.8\" font-family=\"Helvetica,sans-Serif\" font-size=\"14.00\">lead_time &lt;= 3.5</text>\n<text text-anchor=\"middle\" x=\"799.5\" y=\"-870.8\" font-family=\"Helvetica,sans-Serif\" font-size=\"14.00\">gini = 0.206</text>\n<text text-anchor=\"middle\" x=\"799.5\" y=\"-855.8\" font-family=\"Helvetica,sans-Serif\" font-size=\"14.00\">samples = 5.0%</text>\n<text text-anchor=\"middle\" x=\"799.5\" y=\"-840.8\" font-family=\"Helvetica,sans-Serif\" font-size=\"14.00\">value = [0.883, 0.117]</text>\n<text text-anchor=\"middle\" x=\"799.5\" y=\"-825.8\" font-family=\"Helvetica,sans-Serif\" font-size=\"14.00\">class = 0</text>\n</g>\n<!-- 17&#45;&gt;18 -->\n<g id=\"edge18\" class=\"edge\">\n<title>17&#45;&gt;18</title>\n<path fill=\"none\" stroke=\"black\" d=\"M858.93,-936.91C851.94,-927.92 844.47,-918.32 837.26,-909.05\"/>\n<polygon fill=\"black\" stroke=\"black\" points=\"839.92,-906.77 831.02,-901.02 834.39,-911.06 839.92,-906.77\"/>\n</g>\n<!-- 27 -->\n<g id=\"node28\" class=\"node\">\n<title>27</title>\n<polygon fill=\"#bddef6\" stroke=\"black\" points=\"1008,-893.5 891,-893.5 891,-825.5 1008,-825.5 1008,-893.5\"/>\n<text text-anchor=\"middle\" x=\"949.5\" y=\"-878.3\" font-family=\"Helvetica,sans-Serif\" font-size=\"14.00\">gini = 0.48</text>\n<text text-anchor=\"middle\" x=\"949.5\" y=\"-863.3\" font-family=\"Helvetica,sans-Serif\" font-size=\"14.00\">samples = 0.2%</text>\n<text text-anchor=\"middle\" x=\"949.5\" y=\"-848.3\" font-family=\"Helvetica,sans-Serif\" font-size=\"14.00\">value = [0.4, 0.6]</text>\n<text text-anchor=\"middle\" x=\"949.5\" y=\"-833.3\" font-family=\"Helvetica,sans-Serif\" font-size=\"14.00\">class = 1</text>\n</g>\n<!-- 17&#45;&gt;27 -->\n<g id=\"edge27\" class=\"edge\">\n<title>17&#45;&gt;27</title>\n<path fill=\"none\" stroke=\"black\" d=\"M910.97,-936.91C916.53,-925.87 922.57,-913.9 928.18,-902.77\"/>\n<polygon fill=\"black\" stroke=\"black\" points=\"931.4,-904.17 932.77,-893.67 925.15,-901.02 931.4,-904.17\"/>\n</g>\n<!-- 19 -->\n<g id=\"node20\" class=\"node\">\n<title>19</title>\n<polygon fill=\"#f0b890\" stroke=\"black\" points=\"824,-774.5 677,-774.5 677,-706.5 824,-706.5 824,-774.5\"/>\n<text text-anchor=\"middle\" x=\"750.5\" y=\"-759.3\" font-family=\"Helvetica,sans-Serif\" font-size=\"14.00\">gini = 0.423</text>\n<text text-anchor=\"middle\" x=\"750.5\" y=\"-744.3\" font-family=\"Helvetica,sans-Serif\" font-size=\"14.00\">samples = 1.1%</text>\n<text text-anchor=\"middle\" x=\"750.5\" y=\"-729.3\" font-family=\"Helvetica,sans-Serif\" font-size=\"14.00\">value = [0.696, 0.304]</text>\n<text text-anchor=\"middle\" x=\"750.5\" y=\"-714.3\" font-family=\"Helvetica,sans-Serif\" font-size=\"14.00\">class = 0</text>\n</g>\n<!-- 18&#45;&gt;19 -->\n<g id=\"edge19\" class=\"edge\">\n<title>18&#45;&gt;19</title>\n<path fill=\"none\" stroke=\"black\" d=\"M782.5,-817.91C777.92,-806.98 772.96,-795.14 768.34,-784.11\"/>\n<polygon fill=\"black\" stroke=\"black\" points=\"771.48,-782.54 764.39,-774.67 765.03,-785.24 771.48,-782.54\"/>\n</g>\n<!-- 20 -->\n<g id=\"node21\" class=\"node\">\n<title>20</title>\n<polygon fill=\"#e78946\" stroke=\"black\" points=\"989,-782 842,-782 842,-699 989,-699 989,-782\"/>\n<text text-anchor=\"middle\" x=\"915.5\" y=\"-766.8\" font-family=\"Helvetica,sans-Serif\" font-size=\"14.00\">lead_time &lt;= 18.5</text>\n<text text-anchor=\"middle\" x=\"915.5\" y=\"-751.8\" font-family=\"Helvetica,sans-Serif\" font-size=\"14.00\">gini = 0.117</text>\n<text text-anchor=\"middle\" x=\"915.5\" y=\"-736.8\" font-family=\"Helvetica,sans-Serif\" font-size=\"14.00\">samples = 3.9%</text>\n<text text-anchor=\"middle\" x=\"915.5\" y=\"-721.8\" font-family=\"Helvetica,sans-Serif\" font-size=\"14.00\">value = [0.938, 0.062]</text>\n<text text-anchor=\"middle\" x=\"915.5\" y=\"-706.8\" font-family=\"Helvetica,sans-Serif\" font-size=\"14.00\">class = 0</text>\n</g>\n<!-- 18&#45;&gt;20 -->\n<g id=\"edge20\" class=\"edge\">\n<title>18&#45;&gt;20</title>\n<path fill=\"none\" stroke=\"black\" d=\"M839.75,-817.91C848.92,-808.65 858.76,-798.73 868.2,-789.21\"/>\n<polygon fill=\"black\" stroke=\"black\" points=\"870.77,-791.59 875.33,-782.02 865.8,-786.66 870.77,-791.59\"/>\n</g>\n<!-- 21 -->\n<g id=\"node22\" class=\"node\">\n<title>21</title>\n<polygon fill=\"#e58139\" stroke=\"black\" points=\"904,-655.5 787,-655.5 787,-587.5 904,-587.5 904,-655.5\"/>\n<text text-anchor=\"middle\" x=\"845.5\" y=\"-640.3\" font-family=\"Helvetica,sans-Serif\" font-size=\"14.00\">gini = 0.0</text>\n<text text-anchor=\"middle\" x=\"845.5\" y=\"-625.3\" font-family=\"Helvetica,sans-Serif\" font-size=\"14.00\">samples = 1.5%</text>\n<text text-anchor=\"middle\" x=\"845.5\" y=\"-610.3\" font-family=\"Helvetica,sans-Serif\" font-size=\"14.00\">value = [1.0, 0.0]</text>\n<text text-anchor=\"middle\" x=\"845.5\" y=\"-595.3\" font-family=\"Helvetica,sans-Serif\" font-size=\"14.00\">class = 0</text>\n</g>\n<!-- 20&#45;&gt;21 -->\n<g id=\"edge21\" class=\"edge\">\n<title>20&#45;&gt;21</title>\n<path fill=\"none\" stroke=\"black\" d=\"M891.21,-698.91C884.55,-687.76 877.3,-675.66 870.59,-664.44\"/>\n<polygon fill=\"black\" stroke=\"black\" points=\"873.48,-662.45 865.34,-655.67 867.47,-666.05 873.48,-662.45\"/>\n</g>\n<!-- 22 -->\n<g id=\"node23\" class=\"node\">\n<title>22</title>\n<polygon fill=\"#e88f4f\" stroke=\"black\" points=\"1048.5,-663 922.5,-663 922.5,-580 1048.5,-580 1048.5,-663\"/>\n<text text-anchor=\"middle\" x=\"985.5\" y=\"-647.8\" font-family=\"Helvetica,sans-Serif\" font-size=\"14.00\">lead_time &lt;= 51.5</text>\n<text text-anchor=\"middle\" x=\"985.5\" y=\"-632.8\" font-family=\"Helvetica,sans-Serif\" font-size=\"14.00\">gini = 0.18</text>\n<text text-anchor=\"middle\" x=\"985.5\" y=\"-617.8\" font-family=\"Helvetica,sans-Serif\" font-size=\"14.00\">samples = 2.4%</text>\n<text text-anchor=\"middle\" x=\"985.5\" y=\"-602.8\" font-family=\"Helvetica,sans-Serif\" font-size=\"14.00\">value = [0.9, 0.1]</text>\n<text text-anchor=\"middle\" x=\"985.5\" y=\"-587.8\" font-family=\"Helvetica,sans-Serif\" font-size=\"14.00\">class = 0</text>\n</g>\n<!-- 20&#45;&gt;22 -->\n<g id=\"edge22\" class=\"edge\">\n<title>20&#45;&gt;22</title>\n<path fill=\"none\" stroke=\"black\" d=\"M939.79,-698.91C945.05,-690.1 950.68,-680.7 956.12,-671.61\"/>\n<polygon fill=\"black\" stroke=\"black\" points=\"959.13,-673.4 961.26,-663.02 953.12,-669.81 959.13,-673.4\"/>\n</g>\n<!-- 23 -->\n<g id=\"node24\" class=\"node\">\n<title>23</title>\n<polygon fill=\"#e99559\" stroke=\"black\" points=\"997,-544 798,-544 798,-461 997,-461 997,-544\"/>\n<text text-anchor=\"middle\" x=\"897.5\" y=\"-528.8\" font-family=\"Helvetica,sans-Serif\" font-size=\"14.00\">avg_price_per_room &lt;= 80.28</text>\n<text text-anchor=\"middle\" x=\"897.5\" y=\"-513.8\" font-family=\"Helvetica,sans-Serif\" font-size=\"14.00\">gini = 0.239</text>\n<text text-anchor=\"middle\" x=\"897.5\" y=\"-498.8\" font-family=\"Helvetica,sans-Serif\" font-size=\"14.00\">samples = 1.7%</text>\n<text text-anchor=\"middle\" x=\"897.5\" y=\"-483.8\" font-family=\"Helvetica,sans-Serif\" font-size=\"14.00\">value = [0.861, 0.139]</text>\n<text text-anchor=\"middle\" x=\"897.5\" y=\"-468.8\" font-family=\"Helvetica,sans-Serif\" font-size=\"14.00\">class = 0</text>\n</g>\n<!-- 22&#45;&gt;23 -->\n<g id=\"edge23\" class=\"edge\">\n<title>22&#45;&gt;23</title>\n<path fill=\"none\" stroke=\"black\" d=\"M954.97,-579.91C948.21,-570.92 940.98,-561.32 934.02,-552.05\"/>\n<polygon fill=\"black\" stroke=\"black\" points=\"936.79,-549.91 927.98,-544.02 931.19,-554.12 936.79,-549.91\"/>\n</g>\n<!-- 26 -->\n<g id=\"node27\" class=\"node\">\n<title>26</title>\n<polygon fill=\"#e58139\" stroke=\"black\" points=\"1132,-536.5 1015,-536.5 1015,-468.5 1132,-468.5 1132,-536.5\"/>\n<text text-anchor=\"middle\" x=\"1073.5\" y=\"-521.3\" font-family=\"Helvetica,sans-Serif\" font-size=\"14.00\">gini = 0.0</text>\n<text text-anchor=\"middle\" x=\"1073.5\" y=\"-506.3\" font-family=\"Helvetica,sans-Serif\" font-size=\"14.00\">samples = 0.7%</text>\n<text text-anchor=\"middle\" x=\"1073.5\" y=\"-491.3\" font-family=\"Helvetica,sans-Serif\" font-size=\"14.00\">value = [1.0, 0.0]</text>\n<text text-anchor=\"middle\" x=\"1073.5\" y=\"-476.3\" font-family=\"Helvetica,sans-Serif\" font-size=\"14.00\">class = 0</text>\n</g>\n<!-- 22&#45;&gt;26 -->\n<g id=\"edge26\" class=\"edge\">\n<title>22&#45;&gt;26</title>\n<path fill=\"none\" stroke=\"black\" d=\"M1016.03,-579.91C1024.58,-568.54 1033.88,-556.18 1042.46,-544.77\"/>\n<polygon fill=\"black\" stroke=\"black\" points=\"1045.34,-546.76 1048.55,-536.67 1039.75,-542.55 1045.34,-546.76\"/>\n</g>\n<!-- 24 -->\n<g id=\"node25\" class=\"node\">\n<title>24</title>\n<polygon fill=\"#eca572\" stroke=\"black\" points=\"889,-417.5 742,-417.5 742,-349.5 889,-349.5 889,-417.5\"/>\n<text text-anchor=\"middle\" x=\"815.5\" y=\"-402.3\" font-family=\"Helvetica,sans-Serif\" font-size=\"14.00\">gini = 0.346</text>\n<text text-anchor=\"middle\" x=\"815.5\" y=\"-387.3\" font-family=\"Helvetica,sans-Serif\" font-size=\"14.00\">samples = 0.9%</text>\n<text text-anchor=\"middle\" x=\"815.5\" y=\"-372.3\" font-family=\"Helvetica,sans-Serif\" font-size=\"14.00\">value = [0.778, 0.222]</text>\n<text text-anchor=\"middle\" x=\"815.5\" y=\"-357.3\" font-family=\"Helvetica,sans-Serif\" font-size=\"14.00\">class = 0</text>\n</g>\n<!-- 23&#45;&gt;24 -->\n<g id=\"edge24\" class=\"edge\">\n<title>23&#45;&gt;24</title>\n<path fill=\"none\" stroke=\"black\" d=\"M869.05,-460.91C861.16,-449.65 852.59,-437.42 844.66,-426.11\"/>\n<polygon fill=\"black\" stroke=\"black\" points=\"847.35,-423.85 838.75,-417.67 841.62,-427.86 847.35,-423.85\"/>\n</g>\n<!-- 25 -->\n<g id=\"node26\" class=\"node\">\n<title>25</title>\n<polygon fill=\"#e78845\" stroke=\"black\" points=\"1054,-417.5 907,-417.5 907,-349.5 1054,-349.5 1054,-417.5\"/>\n<text text-anchor=\"middle\" x=\"980.5\" y=\"-402.3\" font-family=\"Helvetica,sans-Serif\" font-size=\"14.00\">gini = 0.105</text>\n<text text-anchor=\"middle\" x=\"980.5\" y=\"-387.3\" font-family=\"Helvetica,sans-Serif\" font-size=\"14.00\">samples = 0.9%</text>\n<text text-anchor=\"middle\" x=\"980.5\" y=\"-372.3\" font-family=\"Helvetica,sans-Serif\" font-size=\"14.00\">value = [0.944, 0.056]</text>\n<text text-anchor=\"middle\" x=\"980.5\" y=\"-357.3\" font-family=\"Helvetica,sans-Serif\" font-size=\"14.00\">class = 0</text>\n</g>\n<!-- 23&#45;&gt;25 -->\n<g id=\"edge25\" class=\"edge\">\n<title>23&#45;&gt;25</title>\n<path fill=\"none\" stroke=\"black\" d=\"M926.3,-460.91C934.28,-449.65 942.96,-437.42 950.98,-426.11\"/>\n<polygon fill=\"black\" stroke=\"black\" points=\"954.04,-427.85 956.97,-417.67 948.33,-423.8 954.04,-427.85\"/>\n</g>\n<!-- 29 -->\n<g id=\"node30\" class=\"node\">\n<title>29</title>\n<polygon fill=\"#efb388\" stroke=\"black\" points=\"1173,-893.5 1026,-893.5 1026,-825.5 1173,-825.5 1173,-893.5\"/>\n<text text-anchor=\"middle\" x=\"1099.5\" y=\"-878.3\" font-family=\"Helvetica,sans-Serif\" font-size=\"14.00\">gini = 0.408</text>\n<text text-anchor=\"middle\" x=\"1099.5\" y=\"-863.3\" font-family=\"Helvetica,sans-Serif\" font-size=\"14.00\">samples = 1.4%</text>\n<text text-anchor=\"middle\" x=\"1099.5\" y=\"-848.3\" font-family=\"Helvetica,sans-Serif\" font-size=\"14.00\">value = [0.714, 0.286]</text>\n<text text-anchor=\"middle\" x=\"1099.5\" y=\"-833.3\" font-family=\"Helvetica,sans-Serif\" font-size=\"14.00\">class = 0</text>\n</g>\n<!-- 28&#45;&gt;29 -->\n<g id=\"edge29\" class=\"edge\">\n<title>28&#45;&gt;29</title>\n<path fill=\"none\" stroke=\"black\" d=\"M1099.5,-936.91C1099.5,-926.2 1099.5,-914.62 1099.5,-903.78\"/>\n<polygon fill=\"black\" stroke=\"black\" points=\"1103,-903.67 1099.5,-893.67 1096,-903.67 1103,-903.67\"/>\n</g>\n<!-- 30 -->\n<g id=\"node31\" class=\"node\">\n<title>30</title>\n<polygon fill=\"#55abe9\" stroke=\"black\" points=\"1338,-893.5 1191,-893.5 1191,-825.5 1338,-825.5 1338,-893.5\"/>\n<text text-anchor=\"middle\" x=\"1264.5\" y=\"-878.3\" font-family=\"Helvetica,sans-Serif\" font-size=\"14.00\">gini = 0.219</text>\n<text text-anchor=\"middle\" x=\"1264.5\" y=\"-863.3\" font-family=\"Helvetica,sans-Serif\" font-size=\"14.00\">samples = 0.4%</text>\n<text text-anchor=\"middle\" x=\"1264.5\" y=\"-848.3\" font-family=\"Helvetica,sans-Serif\" font-size=\"14.00\">value = [0.125, 0.875]</text>\n<text text-anchor=\"middle\" x=\"1264.5\" y=\"-833.3\" font-family=\"Helvetica,sans-Serif\" font-size=\"14.00\">class = 1</text>\n</g>\n<!-- 28&#45;&gt;30 -->\n<g id=\"edge30\" class=\"edge\">\n<title>28&#45;&gt;30</title>\n<path fill=\"none\" stroke=\"black\" d=\"M1156.75,-936.91C1173.86,-924.77 1192.59,-911.49 1209.55,-899.46\"/>\n<polygon fill=\"black\" stroke=\"black\" points=\"1211.59,-902.31 1217.73,-893.67 1207.54,-896.6 1211.59,-902.31\"/>\n</g>\n<!-- 32 -->\n<g id=\"node33\" class=\"node\">\n<title>32</title>\n<polygon fill=\"#e8f3fc\" stroke=\"black\" points=\"1544,-1139 1353,-1139 1353,-1056 1544,-1056 1544,-1139\"/>\n<text text-anchor=\"middle\" x=\"1448.5\" y=\"-1123.8\" font-family=\"Helvetica,sans-Serif\" font-size=\"14.00\">avg_price_per_room &lt;= 75.5</text>\n<text text-anchor=\"middle\" x=\"1448.5\" y=\"-1108.8\" font-family=\"Helvetica,sans-Serif\" font-size=\"14.00\">gini = 0.498</text>\n<text text-anchor=\"middle\" x=\"1448.5\" y=\"-1093.8\" font-family=\"Helvetica,sans-Serif\" font-size=\"14.00\">samples = 1.5%</text>\n<text text-anchor=\"middle\" x=\"1448.5\" y=\"-1078.8\" font-family=\"Helvetica,sans-Serif\" font-size=\"14.00\">value = [0.469, 0.531]</text>\n<text text-anchor=\"middle\" x=\"1448.5\" y=\"-1063.8\" font-family=\"Helvetica,sans-Serif\" font-size=\"14.00\">class = 1</text>\n</g>\n<!-- 31&#45;&gt;32 -->\n<g id=\"edge32\" class=\"edge\">\n<title>31&#45;&gt;32</title>\n<path fill=\"none\" stroke=\"black\" d=\"M1509.89,-1174.91C1502.67,-1165.92 1494.95,-1156.32 1487.51,-1147.05\"/>\n<polygon fill=\"black\" stroke=\"black\" points=\"1490.05,-1144.62 1481.06,-1139.02 1484.59,-1149.01 1490.05,-1144.62\"/>\n</g>\n<!-- 35 -->\n<g id=\"node36\" class=\"node\">\n<title>35</title>\n<polygon fill=\"#eda978\" stroke=\"black\" points=\"1709,-1139 1562,-1139 1562,-1056 1709,-1056 1709,-1139\"/>\n<text text-anchor=\"middle\" x=\"1635.5\" y=\"-1123.8\" font-family=\"Helvetica,sans-Serif\" font-size=\"14.00\">meal_plan_1 &lt;= 0.5</text>\n<text text-anchor=\"middle\" x=\"1635.5\" y=\"-1108.8\" font-family=\"Helvetica,sans-Serif\" font-size=\"14.00\">gini = 0.367</text>\n<text text-anchor=\"middle\" x=\"1635.5\" y=\"-1093.8\" font-family=\"Helvetica,sans-Serif\" font-size=\"14.00\">samples = 1.6%</text>\n<text text-anchor=\"middle\" x=\"1635.5\" y=\"-1078.8\" font-family=\"Helvetica,sans-Serif\" font-size=\"14.00\">value = [0.758, 0.242]</text>\n<text text-anchor=\"middle\" x=\"1635.5\" y=\"-1063.8\" font-family=\"Helvetica,sans-Serif\" font-size=\"14.00\">class = 0</text>\n</g>\n<!-- 31&#45;&gt;35 -->\n<g id=\"edge35\" class=\"edge\">\n<title>31&#45;&gt;35</title>\n<path fill=\"none\" stroke=\"black\" d=\"M1574.77,-1174.91C1581.91,-1165.92 1589.54,-1156.32 1596.91,-1147.05\"/>\n<polygon fill=\"black\" stroke=\"black\" points=\"1599.81,-1149.03 1603.29,-1139.02 1594.33,-1144.67 1599.81,-1149.03\"/>\n</g>\n<!-- 33 -->\n<g id=\"node34\" class=\"node\">\n<title>33</title>\n<polygon fill=\"#91c9f1\" stroke=\"black\" points=\"1368,-1012.5 1221,-1012.5 1221,-944.5 1368,-944.5 1368,-1012.5\"/>\n<text text-anchor=\"middle\" x=\"1294.5\" y=\"-997.3\" font-family=\"Helvetica,sans-Serif\" font-size=\"14.00\">gini = 0.426</text>\n<text text-anchor=\"middle\" x=\"1294.5\" y=\"-982.3\" font-family=\"Helvetica,sans-Serif\" font-size=\"14.00\">samples = 0.6%</text>\n<text text-anchor=\"middle\" x=\"1294.5\" y=\"-967.3\" font-family=\"Helvetica,sans-Serif\" font-size=\"14.00\">value = [0.308, 0.692]</text>\n<text text-anchor=\"middle\" x=\"1294.5\" y=\"-952.3\" font-family=\"Helvetica,sans-Serif\" font-size=\"14.00\">class = 1</text>\n</g>\n<!-- 32&#45;&gt;33 -->\n<g id=\"edge33\" class=\"edge\">\n<title>32&#45;&gt;33</title>\n<path fill=\"none\" stroke=\"black\" d=\"M1395.07,-1055.91C1379.24,-1043.88 1361.94,-1030.73 1346.22,-1018.79\"/>\n<polygon fill=\"black\" stroke=\"black\" points=\"1348.24,-1015.93 1338.16,-1012.67 1344,-1021.5 1348.24,-1015.93\"/>\n</g>\n<!-- 34 -->\n<g id=\"node35\" class=\"node\">\n<title>34</title>\n<polygon fill=\"#f8ddc9\" stroke=\"black\" points=\"1533,-1012.5 1386,-1012.5 1386,-944.5 1533,-944.5 1533,-1012.5\"/>\n<text text-anchor=\"middle\" x=\"1459.5\" y=\"-997.3\" font-family=\"Helvetica,sans-Serif\" font-size=\"14.00\">gini = 0.488</text>\n<text text-anchor=\"middle\" x=\"1459.5\" y=\"-982.3\" font-family=\"Helvetica,sans-Serif\" font-size=\"14.00\">samples = 0.9%</text>\n<text text-anchor=\"middle\" x=\"1459.5\" y=\"-967.3\" font-family=\"Helvetica,sans-Serif\" font-size=\"14.00\">value = [0.579, 0.421]</text>\n<text text-anchor=\"middle\" x=\"1459.5\" y=\"-952.3\" font-family=\"Helvetica,sans-Serif\" font-size=\"14.00\">class = 0</text>\n</g>\n<!-- 32&#45;&gt;34 -->\n<g id=\"edge34\" class=\"edge\">\n<title>32&#45;&gt;34</title>\n<path fill=\"none\" stroke=\"black\" d=\"M1452.32,-1055.91C1453.32,-1045.2 1454.41,-1033.62 1455.43,-1022.78\"/>\n<polygon fill=\"black\" stroke=\"black\" points=\"1458.93,-1022.95 1456.38,-1012.67 1451.96,-1022.3 1458.93,-1022.95\"/>\n</g>\n<!-- 36 -->\n<g id=\"node37\" class=\"node\">\n<title>36</title>\n<polygon fill=\"#9ccef2\" stroke=\"black\" points=\"1698,-1012.5 1551,-1012.5 1551,-944.5 1698,-944.5 1698,-1012.5\"/>\n<text text-anchor=\"middle\" x=\"1624.5\" y=\"-997.3\" font-family=\"Helvetica,sans-Serif\" font-size=\"14.00\">gini = 0.444</text>\n<text text-anchor=\"middle\" x=\"1624.5\" y=\"-982.3\" font-family=\"Helvetica,sans-Serif\" font-size=\"14.00\">samples = 0.3%</text>\n<text text-anchor=\"middle\" x=\"1624.5\" y=\"-967.3\" font-family=\"Helvetica,sans-Serif\" font-size=\"14.00\">value = [0.333, 0.667]</text>\n<text text-anchor=\"middle\" x=\"1624.5\" y=\"-952.3\" font-family=\"Helvetica,sans-Serif\" font-size=\"14.00\">class = 1</text>\n</g>\n<!-- 35&#45;&gt;36 -->\n<g id=\"edge36\" class=\"edge\">\n<title>35&#45;&gt;36</title>\n<path fill=\"none\" stroke=\"black\" d=\"M1631.68,-1055.91C1630.68,-1045.2 1629.59,-1033.62 1628.57,-1022.78\"/>\n<polygon fill=\"black\" stroke=\"black\" points=\"1632.04,-1022.3 1627.62,-1012.67 1625.07,-1022.95 1632.04,-1022.3\"/>\n</g>\n<!-- 37 -->\n<g id=\"node38\" class=\"node\">\n<title>37</title>\n<polygon fill=\"#ea975b\" stroke=\"black\" points=\"1863,-1012.5 1716,-1012.5 1716,-944.5 1863,-944.5 1863,-1012.5\"/>\n<text text-anchor=\"middle\" x=\"1789.5\" y=\"-997.3\" font-family=\"Helvetica,sans-Serif\" font-size=\"14.00\">gini = 0.252</text>\n<text text-anchor=\"middle\" x=\"1789.5\" y=\"-982.3\" font-family=\"Helvetica,sans-Serif\" font-size=\"14.00\">samples = 1.3%</text>\n<text text-anchor=\"middle\" x=\"1789.5\" y=\"-967.3\" font-family=\"Helvetica,sans-Serif\" font-size=\"14.00\">value = [0.852, 0.148]</text>\n<text text-anchor=\"middle\" x=\"1789.5\" y=\"-952.3\" font-family=\"Helvetica,sans-Serif\" font-size=\"14.00\">class = 0</text>\n</g>\n<!-- 35&#45;&gt;37 -->\n<g id=\"edge37\" class=\"edge\">\n<title>35&#45;&gt;37</title>\n<path fill=\"none\" stroke=\"black\" d=\"M1688.93,-1055.91C1704.76,-1043.88 1722.06,-1030.73 1737.78,-1018.79\"/>\n<polygon fill=\"black\" stroke=\"black\" points=\"1740,-1021.5 1745.84,-1012.67 1735.76,-1015.93 1740,-1021.5\"/>\n</g>\n<!-- 39 -->\n<g id=\"node40\" class=\"node\">\n<title>39</title>\n<polygon fill=\"#e78a47\" stroke=\"black\" points=\"2351,-1258 2152,-1258 2152,-1175 2351,-1175 2351,-1258\"/>\n<text text-anchor=\"middle\" x=\"2251.5\" y=\"-1242.8\" font-family=\"Helvetica,sans-Serif\" font-size=\"14.00\">avg_price_per_room &lt;= 156.5</text>\n<text text-anchor=\"middle\" x=\"2251.5\" y=\"-1227.8\" font-family=\"Helvetica,sans-Serif\" font-size=\"14.00\">gini = 0.124</text>\n<text text-anchor=\"middle\" x=\"2251.5\" y=\"-1212.8\" font-family=\"Helvetica,sans-Serif\" font-size=\"14.00\">samples = 2.2%</text>\n<text text-anchor=\"middle\" x=\"2251.5\" y=\"-1197.8\" font-family=\"Helvetica,sans-Serif\" font-size=\"14.00\">value = [0.933, 0.067]</text>\n<text text-anchor=\"middle\" x=\"2251.5\" y=\"-1182.8\" font-family=\"Helvetica,sans-Serif\" font-size=\"14.00\">class = 0</text>\n</g>\n<!-- 38&#45;&gt;39 -->\n<g id=\"edge39\" class=\"edge\">\n<title>38&#45;&gt;39</title>\n<path fill=\"none\" stroke=\"black\" d=\"M2323.99,-1293.91C2315.29,-1284.74 2305.98,-1274.93 2297.03,-1265.49\"/>\n<polygon fill=\"black\" stroke=\"black\" points=\"2299.36,-1262.87 2289.94,-1258.02 2294.29,-1267.68 2299.36,-1262.87\"/>\n</g>\n<!-- 44 -->\n<g id=\"node45\" class=\"node\">\n<title>44</title>\n<polygon fill=\"#d2e9f9\" stroke=\"black\" points=\"2575.5,-1258 2369.5,-1258 2369.5,-1175 2575.5,-1175 2575.5,-1258\"/>\n<text text-anchor=\"middle\" x=\"2472.5\" y=\"-1242.8\" font-family=\"Helvetica,sans-Serif\" font-size=\"14.00\">avg_price_per_room &lt;= 111.87</text>\n<text text-anchor=\"middle\" x=\"2472.5\" y=\"-1227.8\" font-family=\"Helvetica,sans-Serif\" font-size=\"14.00\">gini = 0.492</text>\n<text text-anchor=\"middle\" x=\"2472.5\" y=\"-1212.8\" font-family=\"Helvetica,sans-Serif\" font-size=\"14.00\">samples = 18.1%</text>\n<text text-anchor=\"middle\" x=\"2472.5\" y=\"-1197.8\" font-family=\"Helvetica,sans-Serif\" font-size=\"14.00\">value = [0.436, 0.564]</text>\n<text text-anchor=\"middle\" x=\"2472.5\" y=\"-1182.8\" font-family=\"Helvetica,sans-Serif\" font-size=\"14.00\">class = 1</text>\n</g>\n<!-- 38&#45;&gt;44 -->\n<g id=\"edge44\" class=\"edge\">\n<title>38&#45;&gt;44</title>\n<path fill=\"none\" stroke=\"black\" d=\"M2400.66,-1293.91C2409.28,-1284.74 2418.51,-1274.93 2427.38,-1265.49\"/>\n<polygon fill=\"black\" stroke=\"black\" points=\"2430.1,-1267.7 2434.4,-1258.02 2425,-1262.91 2430.1,-1267.7\"/>\n</g>\n<!-- 40 -->\n<g id=\"node41\" class=\"node\">\n<title>40</title>\n<polygon fill=\"#e6843e\" stroke=\"black\" points=\"2161,-1139 2014,-1139 2014,-1056 2161,-1056 2161,-1139\"/>\n<text text-anchor=\"middle\" x=\"2087.5\" y=\"-1123.8\" font-family=\"Helvetica,sans-Serif\" font-size=\"14.00\">lead_time &lt;= 1.5</text>\n<text text-anchor=\"middle\" x=\"2087.5\" y=\"-1108.8\" font-family=\"Helvetica,sans-Serif\" font-size=\"14.00\">gini = 0.05</text>\n<text text-anchor=\"middle\" x=\"2087.5\" y=\"-1093.8\" font-family=\"Helvetica,sans-Serif\" font-size=\"14.00\">samples = 1.9%</text>\n<text text-anchor=\"middle\" x=\"2087.5\" y=\"-1078.8\" font-family=\"Helvetica,sans-Serif\" font-size=\"14.00\">value = [0.974, 0.026]</text>\n<text text-anchor=\"middle\" x=\"2087.5\" y=\"-1063.8\" font-family=\"Helvetica,sans-Serif\" font-size=\"14.00\">class = 0</text>\n</g>\n<!-- 39&#45;&gt;40 -->\n<g id=\"edge40\" class=\"edge\">\n<title>39&#45;&gt;40</title>\n<path fill=\"none\" stroke=\"black\" d=\"M2194.6,-1174.91C2181.12,-1165.29 2166.63,-1154.95 2152.81,-1145.09\"/>\n<polygon fill=\"black\" stroke=\"black\" points=\"2154.47,-1141.98 2144.3,-1139.02 2150.41,-1147.68 2154.47,-1141.98\"/>\n</g>\n<!-- 43 -->\n<g id=\"node44\" class=\"node\">\n<title>43</title>\n<polygon fill=\"#f2c09c\" stroke=\"black\" points=\"2326,-1131.5 2179,-1131.5 2179,-1063.5 2326,-1063.5 2326,-1131.5\"/>\n<text text-anchor=\"middle\" x=\"2252.5\" y=\"-1116.3\" font-family=\"Helvetica,sans-Serif\" font-size=\"14.00\">gini = 0.444</text>\n<text text-anchor=\"middle\" x=\"2252.5\" y=\"-1101.3\" font-family=\"Helvetica,sans-Serif\" font-size=\"14.00\">samples = 0.3%</text>\n<text text-anchor=\"middle\" x=\"2252.5\" y=\"-1086.3\" font-family=\"Helvetica,sans-Serif\" font-size=\"14.00\">value = [0.667, 0.333]</text>\n<text text-anchor=\"middle\" x=\"2252.5\" y=\"-1071.3\" font-family=\"Helvetica,sans-Serif\" font-size=\"14.00\">class = 0</text>\n</g>\n<!-- 39&#45;&gt;43 -->\n<g id=\"edge43\" class=\"edge\">\n<title>39&#45;&gt;43</title>\n<path fill=\"none\" stroke=\"black\" d=\"M2251.85,-1174.91C2251.94,-1164.2 2252.04,-1152.62 2252.13,-1141.78\"/>\n<polygon fill=\"black\" stroke=\"black\" points=\"2255.63,-1141.7 2252.22,-1131.67 2248.63,-1141.64 2255.63,-1141.7\"/>\n</g>\n<!-- 41 -->\n<g id=\"node42\" class=\"node\">\n<title>41</title>\n<polygon fill=\"#e58139\" stroke=\"black\" points=\"1998,-1012.5 1881,-1012.5 1881,-944.5 1998,-944.5 1998,-1012.5\"/>\n<text text-anchor=\"middle\" x=\"1939.5\" y=\"-997.3\" font-family=\"Helvetica,sans-Serif\" font-size=\"14.00\">gini = 0.0</text>\n<text text-anchor=\"middle\" x=\"1939.5\" y=\"-982.3\" font-family=\"Helvetica,sans-Serif\" font-size=\"14.00\">samples = 1.4%</text>\n<text text-anchor=\"middle\" x=\"1939.5\" y=\"-967.3\" font-family=\"Helvetica,sans-Serif\" font-size=\"14.00\">value = [1.0, 0.0]</text>\n<text text-anchor=\"middle\" x=\"1939.5\" y=\"-952.3\" font-family=\"Helvetica,sans-Serif\" font-size=\"14.00\">class = 0</text>\n</g>\n<!-- 40&#45;&gt;41 -->\n<g id=\"edge41\" class=\"edge\">\n<title>40&#45;&gt;41</title>\n<path fill=\"none\" stroke=\"black\" d=\"M2036.15,-1055.91C2021.08,-1043.99 2004.61,-1030.98 1989.62,-1019.12\"/>\n<polygon fill=\"black\" stroke=\"black\" points=\"1991.47,-1016.12 1981.45,-1012.67 1987.13,-1021.61 1991.47,-1016.12\"/>\n</g>\n<!-- 42 -->\n<g id=\"node43\" class=\"node\">\n<title>42</title>\n<polygon fill=\"#e88e4d\" stroke=\"black\" points=\"2163,-1012.5 2016,-1012.5 2016,-944.5 2163,-944.5 2163,-1012.5\"/>\n<text text-anchor=\"middle\" x=\"2089.5\" y=\"-997.3\" font-family=\"Helvetica,sans-Serif\" font-size=\"14.00\">gini = 0.165</text>\n<text text-anchor=\"middle\" x=\"2089.5\" y=\"-982.3\" font-family=\"Helvetica,sans-Serif\" font-size=\"14.00\">samples = 0.5%</text>\n<text text-anchor=\"middle\" x=\"2089.5\" y=\"-967.3\" font-family=\"Helvetica,sans-Serif\" font-size=\"14.00\">value = [0.909, 0.091]</text>\n<text text-anchor=\"middle\" x=\"2089.5\" y=\"-952.3\" font-family=\"Helvetica,sans-Serif\" font-size=\"14.00\">class = 0</text>\n</g>\n<!-- 40&#45;&gt;42 -->\n<g id=\"edge42\" class=\"edge\">\n<title>40&#45;&gt;42</title>\n<path fill=\"none\" stroke=\"black\" d=\"M2088.19,-1055.91C2088.38,-1045.2 2088.57,-1033.62 2088.76,-1022.78\"/>\n<polygon fill=\"black\" stroke=\"black\" points=\"2092.26,-1022.73 2088.93,-1012.67 2085.26,-1022.61 2092.26,-1022.73\"/>\n</g>\n<!-- 45 -->\n<g id=\"node46\" class=\"node\">\n<title>45</title>\n<polygon fill=\"#f9e3d4\" stroke=\"black\" points=\"2540,-1139 2393,-1139 2393,-1056 2540,-1056 2540,-1139\"/>\n<text text-anchor=\"middle\" x=\"2466.5\" y=\"-1123.8\" font-family=\"Helvetica,sans-Serif\" font-size=\"14.00\">lead_time &lt;= 41.0</text>\n<text text-anchor=\"middle\" x=\"2466.5\" y=\"-1108.8\" font-family=\"Helvetica,sans-Serif\" font-size=\"14.00\">gini = 0.492</text>\n<text text-anchor=\"middle\" x=\"2466.5\" y=\"-1093.8\" font-family=\"Helvetica,sans-Serif\" font-size=\"14.00\">samples = 9.1%</text>\n<text text-anchor=\"middle\" x=\"2466.5\" y=\"-1078.8\" font-family=\"Helvetica,sans-Serif\" font-size=\"14.00\">value = [0.561, 0.439]</text>\n<text text-anchor=\"middle\" x=\"2466.5\" y=\"-1063.8\" font-family=\"Helvetica,sans-Serif\" font-size=\"14.00\">class = 0</text>\n</g>\n<!-- 44&#45;&gt;45 -->\n<g id=\"edge45\" class=\"edge\">\n<title>44&#45;&gt;45</title>\n<path fill=\"none\" stroke=\"black\" d=\"M2470.42,-1174.91C2469.99,-1166.56 2469.53,-1157.67 2469.09,-1149.02\"/>\n<polygon fill=\"black\" stroke=\"black\" points=\"2472.59,-1148.83 2468.58,-1139.02 2465.59,-1149.19 2472.59,-1148.83\"/>\n</g>\n<!-- 68 -->\n<g id=\"node69\" class=\"node\">\n<title>68</title>\n<polygon fill=\"#92c9f1\" stroke=\"black\" points=\"2748.5,-1139 2596.5,-1139 2596.5,-1056 2748.5,-1056 2748.5,-1139\"/>\n<text text-anchor=\"middle\" x=\"2672.5\" y=\"-1123.8\" font-family=\"Helvetica,sans-Serif\" font-size=\"14.00\">arrival_year &lt;= 2017.5</text>\n<text text-anchor=\"middle\" x=\"2672.5\" y=\"-1108.8\" font-family=\"Helvetica,sans-Serif\" font-size=\"14.00\">gini = 0.428</text>\n<text text-anchor=\"middle\" x=\"2672.5\" y=\"-1093.8\" font-family=\"Helvetica,sans-Serif\" font-size=\"14.00\">samples = 9.1%</text>\n<text text-anchor=\"middle\" x=\"2672.5\" y=\"-1078.8\" font-family=\"Helvetica,sans-Serif\" font-size=\"14.00\">value = [0.31, 0.69]</text>\n<text text-anchor=\"middle\" x=\"2672.5\" y=\"-1063.8\" font-family=\"Helvetica,sans-Serif\" font-size=\"14.00\">class = 1</text>\n</g>\n<!-- 44&#45;&gt;68 -->\n<g id=\"edge68\" class=\"edge\">\n<title>44&#45;&gt;68</title>\n<path fill=\"none\" stroke=\"black\" d=\"M2541.89,-1174.91C2558.8,-1165.02 2577,-1154.37 2594.29,-1144.25\"/>\n<polygon fill=\"black\" stroke=\"black\" points=\"2596.37,-1147.09 2603.23,-1139.02 2592.83,-1141.05 2596.37,-1147.09\"/>\n</g>\n<!-- 46 -->\n<g id=\"node47\" class=\"node\">\n<title>46</title>\n<polygon fill=\"#eeaf81\" stroke=\"black\" points=\"2372,-1020 2181,-1020 2181,-937 2372,-937 2372,-1020\"/>\n<text text-anchor=\"middle\" x=\"2276.5\" y=\"-1004.8\" font-family=\"Helvetica,sans-Serif\" font-size=\"14.00\">avg_price_per_room &lt;= 95.7</text>\n<text text-anchor=\"middle\" x=\"2276.5\" y=\"-989.8\" font-family=\"Helvetica,sans-Serif\" font-size=\"14.00\">gini = 0.39</text>\n<text text-anchor=\"middle\" x=\"2276.5\" y=\"-974.8\" font-family=\"Helvetica,sans-Serif\" font-size=\"14.00\">samples = 3.8%</text>\n<text text-anchor=\"middle\" x=\"2276.5\" y=\"-959.8\" font-family=\"Helvetica,sans-Serif\" font-size=\"14.00\">value = [0.734, 0.266]</text>\n<text text-anchor=\"middle\" x=\"2276.5\" y=\"-944.8\" font-family=\"Helvetica,sans-Serif\" font-size=\"14.00\">class = 0</text>\n</g>\n<!-- 45&#45;&gt;46 -->\n<g id=\"edge46\" class=\"edge\">\n<title>45&#45;&gt;46</title>\n<path fill=\"none\" stroke=\"black\" d=\"M2400.58,-1055.91C2384.66,-1046.11 2367.54,-1035.56 2351.25,-1025.53\"/>\n<polygon fill=\"black\" stroke=\"black\" points=\"2352.65,-1022.28 2342.3,-1020.02 2348.98,-1028.24 2352.65,-1022.28\"/>\n</g>\n<!-- 55 -->\n<g id=\"node56\" class=\"node\">\n<title>55</title>\n<polygon fill=\"#d2e9f9\" stroke=\"black\" points=\"2540,-1020 2393,-1020 2393,-937 2540,-937 2540,-1020\"/>\n<text text-anchor=\"middle\" x=\"2466.5\" y=\"-1004.8\" font-family=\"Helvetica,sans-Serif\" font-size=\"14.00\">arrival_day &lt;= 21.5</text>\n<text text-anchor=\"middle\" x=\"2466.5\" y=\"-989.8\" font-family=\"Helvetica,sans-Serif\" font-size=\"14.00\">gini = 0.492</text>\n<text text-anchor=\"middle\" x=\"2466.5\" y=\"-974.8\" font-family=\"Helvetica,sans-Serif\" font-size=\"14.00\">samples = 5.2%</text>\n<text text-anchor=\"middle\" x=\"2466.5\" y=\"-959.8\" font-family=\"Helvetica,sans-Serif\" font-size=\"14.00\">value = [0.435, 0.565]</text>\n<text text-anchor=\"middle\" x=\"2466.5\" y=\"-944.8\" font-family=\"Helvetica,sans-Serif\" font-size=\"14.00\">class = 1</text>\n</g>\n<!-- 45&#45;&gt;55 -->\n<g id=\"edge55\" class=\"edge\">\n<title>45&#45;&gt;55</title>\n<path fill=\"none\" stroke=\"black\" d=\"M2466.5,-1055.91C2466.5,-1047.65 2466.5,-1038.86 2466.5,-1030.3\"/>\n<polygon fill=\"black\" stroke=\"black\" points=\"2470,-1030.02 2466.5,-1020.02 2463,-1030.02 2470,-1030.02\"/>\n</g>\n<!-- 47 -->\n<g id=\"node48\" class=\"node\">\n<title>47</title>\n<polygon fill=\"#eca16c\" stroke=\"black\" points=\"2175.5,-901 1999.5,-901 1999.5,-818 2175.5,-818 2175.5,-901\"/>\n<text text-anchor=\"middle\" x=\"2087.5\" y=\"-885.8\" font-family=\"Helvetica,sans-Serif\" font-size=\"14.00\">no_of_week_nights &lt;= 0.5</text>\n<text text-anchor=\"middle\" x=\"2087.5\" y=\"-870.8\" font-family=\"Helvetica,sans-Serif\" font-size=\"14.00\">gini = 0.324</text>\n<text text-anchor=\"middle\" x=\"2087.5\" y=\"-855.8\" font-family=\"Helvetica,sans-Serif\" font-size=\"14.00\">samples = 2.9%</text>\n<text text-anchor=\"middle\" x=\"2087.5\" y=\"-840.8\" font-family=\"Helvetica,sans-Serif\" font-size=\"14.00\">value = [0.797, 0.203]</text>\n<text text-anchor=\"middle\" x=\"2087.5\" y=\"-825.8\" font-family=\"Helvetica,sans-Serif\" font-size=\"14.00\">class = 0</text>\n</g>\n<!-- 46&#45;&gt;47 -->\n<g id=\"edge47\" class=\"edge\">\n<title>46&#45;&gt;47</title>\n<path fill=\"none\" stroke=\"black\" d=\"M2210.93,-936.91C2195.09,-927.11 2178.06,-916.56 2161.86,-906.53\"/>\n<polygon fill=\"black\" stroke=\"black\" points=\"2163.3,-903.31 2152.96,-901.02 2159.62,-909.26 2163.3,-903.31\"/>\n</g>\n<!-- 54 -->\n<g id=\"node55\" class=\"node\">\n<title>54</title>\n<polygon fill=\"#fae8db\" stroke=\"black\" points=\"2325.5,-893.5 2193.5,-893.5 2193.5,-825.5 2325.5,-825.5 2325.5,-893.5\"/>\n<text text-anchor=\"middle\" x=\"2259.5\" y=\"-878.3\" font-family=\"Helvetica,sans-Serif\" font-size=\"14.00\">gini = 0.495</text>\n<text text-anchor=\"middle\" x=\"2259.5\" y=\"-863.3\" font-family=\"Helvetica,sans-Serif\" font-size=\"14.00\">samples = 1.0%</text>\n<text text-anchor=\"middle\" x=\"2259.5\" y=\"-848.3\" font-family=\"Helvetica,sans-Serif\" font-size=\"14.00\">value = [0.55, 0.45]</text>\n<text text-anchor=\"middle\" x=\"2259.5\" y=\"-833.3\" font-family=\"Helvetica,sans-Serif\" font-size=\"14.00\">class = 0</text>\n</g>\n<!-- 46&#45;&gt;54 -->\n<g id=\"edge54\" class=\"edge\">\n<title>46&#45;&gt;54</title>\n<path fill=\"none\" stroke=\"black\" d=\"M2270.6,-936.91C2269.05,-926.2 2267.36,-914.62 2265.79,-903.78\"/>\n<polygon fill=\"black\" stroke=\"black\" points=\"2269.22,-903.06 2264.32,-893.67 2262.29,-904.07 2269.22,-903.06\"/>\n</g>\n<!-- 48 -->\n<g id=\"node49\" class=\"node\">\n<title>48</title>\n<polygon fill=\"#9ccef2\" stroke=\"black\" points=\"1996,-774.5 1849,-774.5 1849,-706.5 1996,-706.5 1996,-774.5\"/>\n<text text-anchor=\"middle\" x=\"1922.5\" y=\"-759.3\" font-family=\"Helvetica,sans-Serif\" font-size=\"14.00\">gini = 0.444</text>\n<text text-anchor=\"middle\" x=\"1922.5\" y=\"-744.3\" font-family=\"Helvetica,sans-Serif\" font-size=\"14.00\">samples = 0.3%</text>\n<text text-anchor=\"middle\" x=\"1922.5\" y=\"-729.3\" font-family=\"Helvetica,sans-Serif\" font-size=\"14.00\">value = [0.333, 0.667]</text>\n<text text-anchor=\"middle\" x=\"1922.5\" y=\"-714.3\" font-family=\"Helvetica,sans-Serif\" font-size=\"14.00\">class = 1</text>\n</g>\n<!-- 47&#45;&gt;48 -->\n<g id=\"edge48\" class=\"edge\">\n<title>47&#45;&gt;48</title>\n<path fill=\"none\" stroke=\"black\" d=\"M2030.25,-817.91C2013.14,-805.77 1994.41,-792.49 1977.45,-780.46\"/>\n<polygon fill=\"black\" stroke=\"black\" points=\"1979.46,-777.6 1969.27,-774.67 1975.41,-783.31 1979.46,-777.6\"/>\n</g>\n<!-- 49 -->\n<g id=\"node50\" class=\"node\">\n<title>49</title>\n<polygon fill=\"#ea975c\" stroke=\"black\" points=\"2161,-782 2014,-782 2014,-699 2161,-699 2161,-782\"/>\n<text text-anchor=\"middle\" x=\"2087.5\" y=\"-766.8\" font-family=\"Helvetica,sans-Serif\" font-size=\"14.00\">no_meal_plan &lt;= 0.5</text>\n<text text-anchor=\"middle\" x=\"2087.5\" y=\"-751.8\" font-family=\"Helvetica,sans-Serif\" font-size=\"14.00\">gini = 0.256</text>\n<text text-anchor=\"middle\" x=\"2087.5\" y=\"-736.8\" font-family=\"Helvetica,sans-Serif\" font-size=\"14.00\">samples = 2.6%</text>\n<text text-anchor=\"middle\" x=\"2087.5\" y=\"-721.8\" font-family=\"Helvetica,sans-Serif\" font-size=\"14.00\">value = [0.849, 0.151]</text>\n<text text-anchor=\"middle\" x=\"2087.5\" y=\"-706.8\" font-family=\"Helvetica,sans-Serif\" font-size=\"14.00\">class = 0</text>\n</g>\n<!-- 47&#45;&gt;49 -->\n<g id=\"edge49\" class=\"edge\">\n<title>47&#45;&gt;49</title>\n<path fill=\"none\" stroke=\"black\" d=\"M2087.5,-817.91C2087.5,-809.65 2087.5,-800.86 2087.5,-792.3\"/>\n<polygon fill=\"black\" stroke=\"black\" points=\"2091,-792.02 2087.5,-782.02 2084,-792.02 2091,-792.02\"/>\n</g>\n<!-- 50 -->\n<g id=\"node51\" class=\"node\">\n<title>50</title>\n<polygon fill=\"#e6853f\" stroke=\"black\" points=\"2038,-663 1891,-663 1891,-580 2038,-580 2038,-663\"/>\n<text text-anchor=\"middle\" x=\"1964.5\" y=\"-647.8\" font-family=\"Helvetica,sans-Serif\" font-size=\"14.00\">room_type_1 &lt;= 0.5</text>\n<text text-anchor=\"middle\" x=\"1964.5\" y=\"-632.8\" font-family=\"Helvetica,sans-Serif\" font-size=\"14.00\">gini = 0.061</text>\n<text text-anchor=\"middle\" x=\"1964.5\" y=\"-617.8\" font-family=\"Helvetica,sans-Serif\" font-size=\"14.00\">samples = 1.5%</text>\n<text text-anchor=\"middle\" x=\"1964.5\" y=\"-602.8\" font-family=\"Helvetica,sans-Serif\" font-size=\"14.00\">value = [0.969, 0.031]</text>\n<text text-anchor=\"middle\" x=\"1964.5\" y=\"-587.8\" font-family=\"Helvetica,sans-Serif\" font-size=\"14.00\">class = 0</text>\n</g>\n<!-- 49&#45;&gt;50 -->\n<g id=\"edge50\" class=\"edge\">\n<title>49&#45;&gt;50</title>\n<path fill=\"none\" stroke=\"black\" d=\"M2044.83,-698.91C2035,-689.56 2024.46,-679.54 2014.36,-669.93\"/>\n<polygon fill=\"black\" stroke=\"black\" points=\"2016.76,-667.38 2007.1,-663.02 2011.93,-672.45 2016.76,-667.38\"/>\n</g>\n<!-- 53 -->\n<g id=\"node54\" class=\"node\">\n<title>53</title>\n<polygon fill=\"#f2c09c\" stroke=\"black\" points=\"2203,-655.5 2056,-655.5 2056,-587.5 2203,-587.5 2203,-655.5\"/>\n<text text-anchor=\"middle\" x=\"2129.5\" y=\"-640.3\" font-family=\"Helvetica,sans-Serif\" font-size=\"14.00\">gini = 0.444</text>\n<text text-anchor=\"middle\" x=\"2129.5\" y=\"-625.3\" font-family=\"Helvetica,sans-Serif\" font-size=\"14.00\">samples = 1.0%</text>\n<text text-anchor=\"middle\" x=\"2129.5\" y=\"-610.3\" font-family=\"Helvetica,sans-Serif\" font-size=\"14.00\">value = [0.667, 0.333]</text>\n<text text-anchor=\"middle\" x=\"2129.5\" y=\"-595.3\" font-family=\"Helvetica,sans-Serif\" font-size=\"14.00\">class = 0</text>\n</g>\n<!-- 49&#45;&gt;53 -->\n<g id=\"edge53\" class=\"edge\">\n<title>49&#45;&gt;53</title>\n<path fill=\"none\" stroke=\"black\" d=\"M2102.07,-698.91C2105.99,-687.98 2110.25,-676.14 2114.21,-665.11\"/>\n<polygon fill=\"black\" stroke=\"black\" points=\"2117.51,-666.26 2117.59,-655.67 2110.92,-663.9 2117.51,-666.26\"/>\n</g>\n<!-- 51 -->\n<g id=\"node52\" class=\"node\">\n<title>51</title>\n<polygon fill=\"#ea9a61\" stroke=\"black\" points=\"1950,-536.5 1803,-536.5 1803,-468.5 1950,-468.5 1950,-536.5\"/>\n<text text-anchor=\"middle\" x=\"1876.5\" y=\"-521.3\" font-family=\"Helvetica,sans-Serif\" font-size=\"14.00\">gini = 0.278</text>\n<text text-anchor=\"middle\" x=\"1876.5\" y=\"-506.3\" font-family=\"Helvetica,sans-Serif\" font-size=\"14.00\">samples = 0.3%</text>\n<text text-anchor=\"middle\" x=\"1876.5\" y=\"-491.3\" font-family=\"Helvetica,sans-Serif\" font-size=\"14.00\">value = [0.833, 0.167]</text>\n<text text-anchor=\"middle\" x=\"1876.5\" y=\"-476.3\" font-family=\"Helvetica,sans-Serif\" font-size=\"14.00\">class = 0</text>\n</g>\n<!-- 50&#45;&gt;51 -->\n<g id=\"edge51\" class=\"edge\">\n<title>50&#45;&gt;51</title>\n<path fill=\"none\" stroke=\"black\" d=\"M1933.97,-579.91C1925.42,-568.54 1916.12,-556.18 1907.54,-544.77\"/>\n<polygon fill=\"black\" stroke=\"black\" points=\"1910.25,-542.55 1901.45,-536.67 1904.66,-546.76 1910.25,-542.55\"/>\n</g>\n<!-- 52 -->\n<g id=\"node53\" class=\"node\">\n<title>52</title>\n<polygon fill=\"#e58139\" stroke=\"black\" points=\"2085,-536.5 1968,-536.5 1968,-468.5 2085,-468.5 2085,-536.5\"/>\n<text text-anchor=\"middle\" x=\"2026.5\" y=\"-521.3\" font-family=\"Helvetica,sans-Serif\" font-size=\"14.00\">gini = 0.0</text>\n<text text-anchor=\"middle\" x=\"2026.5\" y=\"-506.3\" font-family=\"Helvetica,sans-Serif\" font-size=\"14.00\">samples = 1.3%</text>\n<text text-anchor=\"middle\" x=\"2026.5\" y=\"-491.3\" font-family=\"Helvetica,sans-Serif\" font-size=\"14.00\">value = [1.0, 0.0]</text>\n<text text-anchor=\"middle\" x=\"2026.5\" y=\"-476.3\" font-family=\"Helvetica,sans-Serif\" font-size=\"14.00\">class = 0</text>\n</g>\n<!-- 50&#45;&gt;52 -->\n<g id=\"edge52\" class=\"edge\">\n<title>50&#45;&gt;52</title>\n<path fill=\"none\" stroke=\"black\" d=\"M1986.01,-579.91C1991.86,-568.87 1998.2,-556.9 2004.1,-545.77\"/>\n<polygon fill=\"black\" stroke=\"black\" points=\"2007.33,-547.14 2008.92,-536.67 2001.15,-543.86 2007.33,-547.14\"/>\n</g>\n<!-- 56 -->\n<g id=\"node57\" class=\"node\">\n<title>56</title>\n<polygon fill=\"#a8d4f4\" stroke=\"black\" points=\"2491,-901 2344,-901 2344,-818 2491,-818 2491,-901\"/>\n<text text-anchor=\"middle\" x=\"2417.5\" y=\"-885.8\" font-family=\"Helvetica,sans-Serif\" font-size=\"14.00\">arrival_day &lt;= 3.5</text>\n<text text-anchor=\"middle\" x=\"2417.5\" y=\"-870.8\" font-family=\"Helvetica,sans-Serif\" font-size=\"14.00\">gini = 0.46</text>\n<text text-anchor=\"middle\" x=\"2417.5\" y=\"-855.8\" font-family=\"Helvetica,sans-Serif\" font-size=\"14.00\">samples = 3.8%</text>\n<text text-anchor=\"middle\" x=\"2417.5\" y=\"-840.8\" font-family=\"Helvetica,sans-Serif\" font-size=\"14.00\">value = [0.359, 0.641]</text>\n<text text-anchor=\"middle\" x=\"2417.5\" y=\"-825.8\" font-family=\"Helvetica,sans-Serif\" font-size=\"14.00\">class = 1</text>\n</g>\n<!-- 55&#45;&gt;56 -->\n<g id=\"edge56\" class=\"edge\">\n<title>55&#45;&gt;56</title>\n<path fill=\"none\" stroke=\"black\" d=\"M2449.5,-936.91C2445.93,-928.38 2442.12,-919.28 2438.42,-910.46\"/>\n<polygon fill=\"black\" stroke=\"black\" points=\"2441.56,-908.89 2434.47,-901.02 2435.1,-911.6 2441.56,-908.89\"/>\n</g>\n<!-- 65 -->\n<g id=\"node66\" class=\"node\">\n<title>65</title>\n<polygon fill=\"#f4caac\" stroke=\"black\" points=\"2685.5,-901 2509.5,-901 2509.5,-818 2685.5,-818 2685.5,-901\"/>\n<text text-anchor=\"middle\" x=\"2597.5\" y=\"-885.8\" font-family=\"Helvetica,sans-Serif\" font-size=\"14.00\">no_of_week_nights &lt;= 2.5</text>\n<text text-anchor=\"middle\" x=\"2597.5\" y=\"-870.8\" font-family=\"Helvetica,sans-Serif\" font-size=\"14.00\">gini = 0.464</text>\n<text text-anchor=\"middle\" x=\"2597.5\" y=\"-855.8\" font-family=\"Helvetica,sans-Serif\" font-size=\"14.00\">samples = 1.5%</text>\n<text text-anchor=\"middle\" x=\"2597.5\" y=\"-840.8\" font-family=\"Helvetica,sans-Serif\" font-size=\"14.00\">value = [0.633, 0.367]</text>\n<text text-anchor=\"middle\" x=\"2597.5\" y=\"-825.8\" font-family=\"Helvetica,sans-Serif\" font-size=\"14.00\">class = 0</text>\n</g>\n<!-- 55&#45;&gt;65 -->\n<g id=\"edge65\" class=\"edge\">\n<title>55&#45;&gt;65</title>\n<path fill=\"none\" stroke=\"black\" d=\"M2511.95,-936.91C2522.42,-927.56 2533.64,-917.54 2544.4,-907.93\"/>\n<polygon fill=\"black\" stroke=\"black\" points=\"2547,-910.29 2552.13,-901.02 2542.34,-905.07 2547,-910.29\"/>\n</g>\n<!-- 57 -->\n<g id=\"node58\" class=\"node\">\n<title>57</title>\n<polygon fill=\"#f2c09c\" stroke=\"black\" points=\"2326,-774.5 2179,-774.5 2179,-706.5 2326,-706.5 2326,-774.5\"/>\n<text text-anchor=\"middle\" x=\"2252.5\" y=\"-759.3\" font-family=\"Helvetica,sans-Serif\" font-size=\"14.00\">gini = 0.444</text>\n<text text-anchor=\"middle\" x=\"2252.5\" y=\"-744.3\" font-family=\"Helvetica,sans-Serif\" font-size=\"14.00\">samples = 0.7%</text>\n<text text-anchor=\"middle\" x=\"2252.5\" y=\"-729.3\" font-family=\"Helvetica,sans-Serif\" font-size=\"14.00\">value = [0.667, 0.333]</text>\n<text text-anchor=\"middle\" x=\"2252.5\" y=\"-714.3\" font-family=\"Helvetica,sans-Serif\" font-size=\"14.00\">class = 0</text>\n</g>\n<!-- 56&#45;&gt;57 -->\n<g id=\"edge57\" class=\"edge\">\n<title>56&#45;&gt;57</title>\n<path fill=\"none\" stroke=\"black\" d=\"M2360.25,-817.91C2343.14,-805.77 2324.41,-792.49 2307.45,-780.46\"/>\n<polygon fill=\"black\" stroke=\"black\" points=\"2309.46,-777.6 2299.27,-774.67 2305.41,-783.31 2309.46,-777.6\"/>\n</g>\n<!-- 58 -->\n<g id=\"node59\" class=\"node\">\n<title>58</title>\n<polygon fill=\"#88c4ef\" stroke=\"black\" points=\"2491,-782 2344,-782 2344,-699 2491,-699 2491,-782\"/>\n<text text-anchor=\"middle\" x=\"2417.5\" y=\"-766.8\" font-family=\"Helvetica,sans-Serif\" font-size=\"14.00\">arrival_month &lt;= 4.5</text>\n<text text-anchor=\"middle\" x=\"2417.5\" y=\"-751.8\" font-family=\"Helvetica,sans-Serif\" font-size=\"14.00\">gini = 0.408</text>\n<text text-anchor=\"middle\" x=\"2417.5\" y=\"-736.8\" font-family=\"Helvetica,sans-Serif\" font-size=\"14.00\">samples = 3.1%</text>\n<text text-anchor=\"middle\" x=\"2417.5\" y=\"-721.8\" font-family=\"Helvetica,sans-Serif\" font-size=\"14.00\">value = [0.286, 0.714]</text>\n<text text-anchor=\"middle\" x=\"2417.5\" y=\"-706.8\" font-family=\"Helvetica,sans-Serif\" font-size=\"14.00\">class = 1</text>\n</g>\n<!-- 56&#45;&gt;58 -->\n<g id=\"edge58\" class=\"edge\">\n<title>56&#45;&gt;58</title>\n<path fill=\"none\" stroke=\"black\" d=\"M2417.5,-817.91C2417.5,-809.65 2417.5,-800.86 2417.5,-792.3\"/>\n<polygon fill=\"black\" stroke=\"black\" points=\"2421,-792.02 2417.5,-782.02 2414,-792.02 2421,-792.02\"/>\n</g>\n<!-- 59 -->\n<g id=\"node60\" class=\"node\">\n<title>59</title>\n<polygon fill=\"#bddef6\" stroke=\"black\" points=\"2387,-663 2262,-663 2262,-580 2387,-580 2387,-663\"/>\n<text text-anchor=\"middle\" x=\"2324.5\" y=\"-647.8\" font-family=\"Helvetica,sans-Serif\" font-size=\"14.00\">arrival_day &lt;= 6.5</text>\n<text text-anchor=\"middle\" x=\"2324.5\" y=\"-632.8\" font-family=\"Helvetica,sans-Serif\" font-size=\"14.00\">gini = 0.48</text>\n<text text-anchor=\"middle\" x=\"2324.5\" y=\"-617.8\" font-family=\"Helvetica,sans-Serif\" font-size=\"14.00\">samples = 1.5%</text>\n<text text-anchor=\"middle\" x=\"2324.5\" y=\"-602.8\" font-family=\"Helvetica,sans-Serif\" font-size=\"14.00\">value = [0.4, 0.6]</text>\n<text text-anchor=\"middle\" x=\"2324.5\" y=\"-587.8\" font-family=\"Helvetica,sans-Serif\" font-size=\"14.00\">class = 1</text>\n</g>\n<!-- 58&#45;&gt;59 -->\n<g id=\"edge59\" class=\"edge\">\n<title>58&#45;&gt;59</title>\n<path fill=\"none\" stroke=\"black\" d=\"M2385.23,-698.91C2378.09,-689.92 2370.46,-680.32 2363.09,-671.05\"/>\n<polygon fill=\"black\" stroke=\"black\" points=\"2365.67,-668.67 2356.71,-663.02 2360.19,-673.03 2365.67,-668.67\"/>\n</g>\n<!-- 62 -->\n<g id=\"node63\" class=\"node\">\n<title>62</title>\n<polygon fill=\"#65b3eb\" stroke=\"black\" points=\"2556,-663 2409,-663 2409,-580 2556,-580 2556,-663\"/>\n<text text-anchor=\"middle\" x=\"2482.5\" y=\"-647.8\" font-family=\"Helvetica,sans-Serif\" font-size=\"14.00\">lead_time &lt;= 63.5</text>\n<text text-anchor=\"middle\" x=\"2482.5\" y=\"-632.8\" font-family=\"Helvetica,sans-Serif\" font-size=\"14.00\">gini = 0.298</text>\n<text text-anchor=\"middle\" x=\"2482.5\" y=\"-617.8\" font-family=\"Helvetica,sans-Serif\" font-size=\"14.00\">samples = 1.6%</text>\n<text text-anchor=\"middle\" x=\"2482.5\" y=\"-602.8\" font-family=\"Helvetica,sans-Serif\" font-size=\"14.00\">value = [0.182, 0.818]</text>\n<text text-anchor=\"middle\" x=\"2482.5\" y=\"-587.8\" font-family=\"Helvetica,sans-Serif\" font-size=\"14.00\">class = 1</text>\n</g>\n<!-- 58&#45;&gt;62 -->\n<g id=\"edge62\" class=\"edge\">\n<title>58&#45;&gt;62</title>\n<path fill=\"none\" stroke=\"black\" d=\"M2440.05,-698.91C2444.89,-690.2 2450.06,-680.9 2455.06,-671.89\"/>\n<polygon fill=\"black\" stroke=\"black\" points=\"2458.19,-673.46 2459.99,-663.02 2452.07,-670.06 2458.19,-673.46\"/>\n</g>\n<!-- 60 -->\n<g id=\"node61\" class=\"node\">\n<title>60</title>\n<polygon fill=\"#399de5\" stroke=\"black\" points=\"2240,-536.5 2123,-536.5 2123,-468.5 2240,-468.5 2240,-536.5\"/>\n<text text-anchor=\"middle\" x=\"2181.5\" y=\"-521.3\" font-family=\"Helvetica,sans-Serif\" font-size=\"14.00\">gini = 0.0</text>\n<text text-anchor=\"middle\" x=\"2181.5\" y=\"-506.3\" font-family=\"Helvetica,sans-Serif\" font-size=\"14.00\">samples = 0.2%</text>\n<text text-anchor=\"middle\" x=\"2181.5\" y=\"-491.3\" font-family=\"Helvetica,sans-Serif\" font-size=\"14.00\">value = [0.0, 1.0]</text>\n<text text-anchor=\"middle\" x=\"2181.5\" y=\"-476.3\" font-family=\"Helvetica,sans-Serif\" font-size=\"14.00\">class = 1</text>\n</g>\n<!-- 59&#45;&gt;60 -->\n<g id=\"edge60\" class=\"edge\">\n<title>59&#45;&gt;60</title>\n<path fill=\"none\" stroke=\"black\" d=\"M2274.89,-579.91C2260.32,-567.99 2244.41,-554.98 2229.92,-543.12\"/>\n<polygon fill=\"black\" stroke=\"black\" points=\"2231.99,-540.29 2222.04,-536.67 2227.56,-545.71 2231.99,-540.29\"/>\n</g>\n<!-- 61 -->\n<g id=\"node62\" class=\"node\">\n<title>61</title>\n<polygon fill=\"#f0f7fd\" stroke=\"black\" points=\"2390.5,-536.5 2258.5,-536.5 2258.5,-468.5 2390.5,-468.5 2390.5,-536.5\"/>\n<text text-anchor=\"middle\" x=\"2324.5\" y=\"-521.3\" font-family=\"Helvetica,sans-Serif\" font-size=\"14.00\">gini = 0.499</text>\n<text text-anchor=\"middle\" x=\"2324.5\" y=\"-506.3\" font-family=\"Helvetica,sans-Serif\" font-size=\"14.00\">samples = 1.2%</text>\n<text text-anchor=\"middle\" x=\"2324.5\" y=\"-491.3\" font-family=\"Helvetica,sans-Serif\" font-size=\"14.00\">value = [0.48, 0.52]</text>\n<text text-anchor=\"middle\" x=\"2324.5\" y=\"-476.3\" font-family=\"Helvetica,sans-Serif\" font-size=\"14.00\">class = 1</text>\n</g>\n<!-- 59&#45;&gt;61 -->\n<g id=\"edge61\" class=\"edge\">\n<title>59&#45;&gt;61</title>\n<path fill=\"none\" stroke=\"black\" d=\"M2324.5,-579.91C2324.5,-569.2 2324.5,-557.62 2324.5,-546.78\"/>\n<polygon fill=\"black\" stroke=\"black\" points=\"2328,-546.67 2324.5,-536.67 2321,-546.67 2328,-546.67\"/>\n</g>\n<!-- 63 -->\n<g id=\"node64\" class=\"node\">\n<title>63</title>\n<polygon fill=\"#a7d3f3\" stroke=\"black\" points=\"2556,-536.5 2409,-536.5 2409,-468.5 2556,-468.5 2556,-536.5\"/>\n<text text-anchor=\"middle\" x=\"2482.5\" y=\"-521.3\" font-family=\"Helvetica,sans-Serif\" font-size=\"14.00\">gini = 0.459</text>\n<text text-anchor=\"middle\" x=\"2482.5\" y=\"-506.3\" font-family=\"Helvetica,sans-Serif\" font-size=\"14.00\">samples = 0.7%</text>\n<text text-anchor=\"middle\" x=\"2482.5\" y=\"-491.3\" font-family=\"Helvetica,sans-Serif\" font-size=\"14.00\">value = [0.357, 0.643]</text>\n<text text-anchor=\"middle\" x=\"2482.5\" y=\"-476.3\" font-family=\"Helvetica,sans-Serif\" font-size=\"14.00\">class = 1</text>\n</g>\n<!-- 62&#45;&gt;63 -->\n<g id=\"edge63\" class=\"edge\">\n<title>62&#45;&gt;63</title>\n<path fill=\"none\" stroke=\"black\" d=\"M2482.5,-579.91C2482.5,-569.2 2482.5,-557.62 2482.5,-546.78\"/>\n<polygon fill=\"black\" stroke=\"black\" points=\"2486,-546.67 2482.5,-536.67 2479,-546.67 2486,-546.67\"/>\n</g>\n<!-- 64 -->\n<g id=\"node65\" class=\"node\">\n<title>64</title>\n<polygon fill=\"#44a2e6\" stroke=\"black\" points=\"2721,-536.5 2574,-536.5 2574,-468.5 2721,-468.5 2721,-536.5\"/>\n<text text-anchor=\"middle\" x=\"2647.5\" y=\"-521.3\" font-family=\"Helvetica,sans-Serif\" font-size=\"14.00\">gini = 0.1</text>\n<text text-anchor=\"middle\" x=\"2647.5\" y=\"-506.3\" font-family=\"Helvetica,sans-Serif\" font-size=\"14.00\">samples = 0.9%</text>\n<text text-anchor=\"middle\" x=\"2647.5\" y=\"-491.3\" font-family=\"Helvetica,sans-Serif\" font-size=\"14.00\">value = [0.053, 0.947]</text>\n<text text-anchor=\"middle\" x=\"2647.5\" y=\"-476.3\" font-family=\"Helvetica,sans-Serif\" font-size=\"14.00\">class = 1</text>\n</g>\n<!-- 62&#45;&gt;64 -->\n<g id=\"edge64\" class=\"edge\">\n<title>62&#45;&gt;64</title>\n<path fill=\"none\" stroke=\"black\" d=\"M2539.75,-579.91C2556.86,-567.77 2575.59,-554.49 2592.55,-542.46\"/>\n<polygon fill=\"black\" stroke=\"black\" points=\"2594.59,-545.31 2600.73,-536.67 2590.54,-539.6 2594.59,-545.31\"/>\n</g>\n<!-- 66 -->\n<g id=\"node67\" class=\"node\">\n<title>66</title>\n<polygon fill=\"#bddef6\" stroke=\"black\" points=\"2626,-774.5 2509,-774.5 2509,-706.5 2626,-706.5 2626,-774.5\"/>\n<text text-anchor=\"middle\" x=\"2567.5\" y=\"-759.3\" font-family=\"Helvetica,sans-Serif\" font-size=\"14.00\">gini = 0.48</text>\n<text text-anchor=\"middle\" x=\"2567.5\" y=\"-744.3\" font-family=\"Helvetica,sans-Serif\" font-size=\"14.00\">samples = 0.7%</text>\n<text text-anchor=\"middle\" x=\"2567.5\" y=\"-729.3\" font-family=\"Helvetica,sans-Serif\" font-size=\"14.00\">value = [0.4, 0.6]</text>\n<text text-anchor=\"middle\" x=\"2567.5\" y=\"-714.3\" font-family=\"Helvetica,sans-Serif\" font-size=\"14.00\">class = 1</text>\n</g>\n<!-- 65&#45;&gt;66 -->\n<g id=\"edge66\" class=\"edge\">\n<title>65&#45;&gt;66</title>\n<path fill=\"none\" stroke=\"black\" d=\"M2587.09,-817.91C2584.32,-807.09 2581.31,-795.38 2578.51,-784.44\"/>\n<polygon fill=\"black\" stroke=\"black\" points=\"2581.88,-783.48 2576,-774.67 2575.1,-785.22 2581.88,-783.48\"/>\n</g>\n<!-- 67 -->\n<g id=\"node68\" class=\"node\">\n<title>67</title>\n<polygon fill=\"#e99457\" stroke=\"black\" points=\"2791,-774.5 2644,-774.5 2644,-706.5 2791,-706.5 2791,-774.5\"/>\n<text text-anchor=\"middle\" x=\"2717.5\" y=\"-759.3\" font-family=\"Helvetica,sans-Serif\" font-size=\"14.00\">gini = 0.231</text>\n<text text-anchor=\"middle\" x=\"2717.5\" y=\"-744.3\" font-family=\"Helvetica,sans-Serif\" font-size=\"14.00\">samples = 0.7%</text>\n<text text-anchor=\"middle\" x=\"2717.5\" y=\"-729.3\" font-family=\"Helvetica,sans-Serif\" font-size=\"14.00\">value = [0.867, 0.133]</text>\n<text text-anchor=\"middle\" x=\"2717.5\" y=\"-714.3\" font-family=\"Helvetica,sans-Serif\" font-size=\"14.00\">class = 0</text>\n</g>\n<!-- 65&#45;&gt;67 -->\n<g id=\"edge67\" class=\"edge\">\n<title>65&#45;&gt;67</title>\n<path fill=\"none\" stroke=\"black\" d=\"M2639.13,-817.91C2651.13,-806.21 2664.21,-793.46 2676.19,-781.78\"/>\n<polygon fill=\"black\" stroke=\"black\" points=\"2678.77,-784.15 2683.48,-774.67 2673.88,-779.14 2678.77,-784.15\"/>\n</g>\n<!-- 69 -->\n<g id=\"node70\" class=\"node\">\n<title>69</title>\n<polygon fill=\"#e58139\" stroke=\"black\" points=\"2731,-1012.5 2614,-1012.5 2614,-944.5 2731,-944.5 2731,-1012.5\"/>\n<text text-anchor=\"middle\" x=\"2672.5\" y=\"-997.3\" font-family=\"Helvetica,sans-Serif\" font-size=\"14.00\">gini = 0.0</text>\n<text text-anchor=\"middle\" x=\"2672.5\" y=\"-982.3\" font-family=\"Helvetica,sans-Serif\" font-size=\"14.00\">samples = 0.3%</text>\n<text text-anchor=\"middle\" x=\"2672.5\" y=\"-967.3\" font-family=\"Helvetica,sans-Serif\" font-size=\"14.00\">value = [1.0, 0.0]</text>\n<text text-anchor=\"middle\" x=\"2672.5\" y=\"-952.3\" font-family=\"Helvetica,sans-Serif\" font-size=\"14.00\">class = 0</text>\n</g>\n<!-- 68&#45;&gt;69 -->\n<g id=\"edge69\" class=\"edge\">\n<title>68&#45;&gt;69</title>\n<path fill=\"none\" stroke=\"black\" d=\"M2672.5,-1055.91C2672.5,-1045.2 2672.5,-1033.62 2672.5,-1022.78\"/>\n<polygon fill=\"black\" stroke=\"black\" points=\"2676,-1022.67 2672.5,-1012.67 2669,-1022.67 2676,-1022.67\"/>\n</g>\n<!-- 70 -->\n<g id=\"node71\" class=\"node\">\n<title>70</title>\n<polygon fill=\"#89c5ef\" stroke=\"black\" points=\"2996.5,-1020 2766.5,-1020 2766.5,-937 2996.5,-937 2996.5,-1020\"/>\n<text text-anchor=\"middle\" x=\"2881.5\" y=\"-1004.8\" font-family=\"Helvetica,sans-Serif\" font-size=\"14.00\">required_car_parking_space &lt;= 0.5</text>\n<text text-anchor=\"middle\" x=\"2881.5\" y=\"-989.8\" font-family=\"Helvetica,sans-Serif\" font-size=\"14.00\">gini = 0.41</text>\n<text text-anchor=\"middle\" x=\"2881.5\" y=\"-974.8\" font-family=\"Helvetica,sans-Serif\" font-size=\"14.00\">samples = 8.8%</text>\n<text text-anchor=\"middle\" x=\"2881.5\" y=\"-959.8\" font-family=\"Helvetica,sans-Serif\" font-size=\"14.00\">value = [0.287, 0.713]</text>\n<text text-anchor=\"middle\" x=\"2881.5\" y=\"-944.8\" font-family=\"Helvetica,sans-Serif\" font-size=\"14.00\">class = 1</text>\n</g>\n<!-- 68&#45;&gt;70 -->\n<g id=\"edge70\" class=\"edge\">\n<title>68&#45;&gt;70</title>\n<path fill=\"none\" stroke=\"black\" d=\"M2745.01,-1055.91C2762.84,-1045.92 2782.05,-1035.17 2800.27,-1024.98\"/>\n<polygon fill=\"black\" stroke=\"black\" points=\"2802.1,-1027.96 2809.12,-1020.02 2798.68,-1021.85 2802.1,-1027.96\"/>\n</g>\n<!-- 71 -->\n<g id=\"node72\" class=\"node\">\n<title>71</title>\n<polygon fill=\"#80c0ee\" stroke=\"black\" points=\"2955,-901 2808,-901 2808,-818 2955,-818 2955,-901\"/>\n<text text-anchor=\"middle\" x=\"2881.5\" y=\"-885.8\" font-family=\"Helvetica,sans-Serif\" font-size=\"14.00\">arrival_month &lt;= 4.5</text>\n<text text-anchor=\"middle\" x=\"2881.5\" y=\"-870.8\" font-family=\"Helvetica,sans-Serif\" font-size=\"14.00\">gini = 0.388</text>\n<text text-anchor=\"middle\" x=\"2881.5\" y=\"-855.8\" font-family=\"Helvetica,sans-Serif\" font-size=\"14.00\">samples = 8.5%</text>\n<text text-anchor=\"middle\" x=\"2881.5\" y=\"-840.8\" font-family=\"Helvetica,sans-Serif\" font-size=\"14.00\">value = [0.263, 0.737]</text>\n<text text-anchor=\"middle\" x=\"2881.5\" y=\"-825.8\" font-family=\"Helvetica,sans-Serif\" font-size=\"14.00\">class = 1</text>\n</g>\n<!-- 70&#45;&gt;71 -->\n<g id=\"edge71\" class=\"edge\">\n<title>70&#45;&gt;71</title>\n<path fill=\"none\" stroke=\"black\" d=\"M2881.5,-936.91C2881.5,-928.65 2881.5,-919.86 2881.5,-911.3\"/>\n<polygon fill=\"black\" stroke=\"black\" points=\"2885,-911.02 2881.5,-901.02 2878,-911.02 2885,-911.02\"/>\n</g>\n<!-- 90 -->\n<g id=\"node91\" class=\"node\">\n<title>90</title>\n<polygon fill=\"#e58139\" stroke=\"black\" points=\"3090,-893.5 2973,-893.5 2973,-825.5 3090,-825.5 3090,-893.5\"/>\n<text text-anchor=\"middle\" x=\"3031.5\" y=\"-878.3\" font-family=\"Helvetica,sans-Serif\" font-size=\"14.00\">gini = 0.0</text>\n<text text-anchor=\"middle\" x=\"3031.5\" y=\"-863.3\" font-family=\"Helvetica,sans-Serif\" font-size=\"14.00\">samples = 0.3%</text>\n<text text-anchor=\"middle\" x=\"3031.5\" y=\"-848.3\" font-family=\"Helvetica,sans-Serif\" font-size=\"14.00\">value = [1.0, 0.0]</text>\n<text text-anchor=\"middle\" x=\"3031.5\" y=\"-833.3\" font-family=\"Helvetica,sans-Serif\" font-size=\"14.00\">class = 0</text>\n</g>\n<!-- 70&#45;&gt;90 -->\n<g id=\"edge90\" class=\"edge\">\n<title>70&#45;&gt;90</title>\n<path fill=\"none\" stroke=\"black\" d=\"M2933.54,-936.91C2948.82,-924.99 2965.51,-911.98 2980.71,-900.12\"/>\n<polygon fill=\"black\" stroke=\"black\" points=\"2983.25,-902.58 2988.98,-893.67 2978.94,-897.06 2983.25,-902.58\"/>\n</g>\n<!-- 72 -->\n<g id=\"node73\" class=\"node\">\n<title>72</title>\n<polygon fill=\"#40a0e6\" stroke=\"black\" points=\"2956,-782 2809,-782 2809,-699 2956,-699 2956,-782\"/>\n<text text-anchor=\"middle\" x=\"2882.5\" y=\"-766.8\" font-family=\"Helvetica,sans-Serif\" font-size=\"14.00\">lead_time &lt;= 8.0</text>\n<text text-anchor=\"middle\" x=\"2882.5\" y=\"-751.8\" font-family=\"Helvetica,sans-Serif\" font-size=\"14.00\">gini = 0.062</text>\n<text text-anchor=\"middle\" x=\"2882.5\" y=\"-736.8\" font-family=\"Helvetica,sans-Serif\" font-size=\"14.00\">samples = 1.5%</text>\n<text text-anchor=\"middle\" x=\"2882.5\" y=\"-721.8\" font-family=\"Helvetica,sans-Serif\" font-size=\"14.00\">value = [0.032, 0.968]</text>\n<text text-anchor=\"middle\" x=\"2882.5\" y=\"-706.8\" font-family=\"Helvetica,sans-Serif\" font-size=\"14.00\">class = 1</text>\n</g>\n<!-- 71&#45;&gt;72 -->\n<g id=\"edge72\" class=\"edge\">\n<title>71&#45;&gt;72</title>\n<path fill=\"none\" stroke=\"black\" d=\"M2881.85,-817.91C2881.92,-809.65 2881.99,-800.86 2882.07,-792.3\"/>\n<polygon fill=\"black\" stroke=\"black\" points=\"2885.57,-792.05 2882.15,-782.02 2878.57,-791.99 2885.57,-792.05\"/>\n</g>\n<!-- 75 -->\n<g id=\"node76\" class=\"node\">\n<title>75</title>\n<polygon fill=\"#93caf1\" stroke=\"black\" points=\"3123,-782 2974,-782 2974,-699 3123,-699 3123,-782\"/>\n<text text-anchor=\"middle\" x=\"3048.5\" y=\"-766.8\" font-family=\"Helvetica,sans-Serif\" font-size=\"14.00\">arrival_month &lt;= 10.5</text>\n<text text-anchor=\"middle\" x=\"3048.5\" y=\"-751.8\" font-family=\"Helvetica,sans-Serif\" font-size=\"14.00\">gini = 0.43</text>\n<text text-anchor=\"middle\" x=\"3048.5\" y=\"-736.8\" font-family=\"Helvetica,sans-Serif\" font-size=\"14.00\">samples = 7.0%</text>\n<text text-anchor=\"middle\" x=\"3048.5\" y=\"-721.8\" font-family=\"Helvetica,sans-Serif\" font-size=\"14.00\">value = [0.312, 0.688]</text>\n<text text-anchor=\"middle\" x=\"3048.5\" y=\"-706.8\" font-family=\"Helvetica,sans-Serif\" font-size=\"14.00\">class = 1</text>\n</g>\n<!-- 71&#45;&gt;75 -->\n<g id=\"edge75\" class=\"edge\">\n<title>71&#45;&gt;75</title>\n<path fill=\"none\" stroke=\"black\" d=\"M2939.44,-817.91C2953.3,-808.2 2968.2,-797.76 2982.4,-787.81\"/>\n<polygon fill=\"black\" stroke=\"black\" points=\"2984.48,-790.63 2990.66,-782.02 2980.46,-784.89 2984.48,-790.63\"/>\n</g>\n<!-- 73 -->\n<g id=\"node74\" class=\"node\">\n<title>73</title>\n<polygon fill=\"#6ab6ec\" stroke=\"black\" points=\"2806,-655.5 2689,-655.5 2689,-587.5 2806,-587.5 2806,-655.5\"/>\n<text text-anchor=\"middle\" x=\"2747.5\" y=\"-640.3\" font-family=\"Helvetica,sans-Serif\" font-size=\"14.00\">gini = 0.32</text>\n<text text-anchor=\"middle\" x=\"2747.5\" y=\"-625.3\" font-family=\"Helvetica,sans-Serif\" font-size=\"14.00\">samples = 0.2%</text>\n<text text-anchor=\"middle\" x=\"2747.5\" y=\"-610.3\" font-family=\"Helvetica,sans-Serif\" font-size=\"14.00\">value = [0.2, 0.8]</text>\n<text text-anchor=\"middle\" x=\"2747.5\" y=\"-595.3\" font-family=\"Helvetica,sans-Serif\" font-size=\"14.00\">class = 1</text>\n</g>\n<!-- 72&#45;&gt;73 -->\n<g id=\"edge73\" class=\"edge\">\n<title>72&#45;&gt;73</title>\n<path fill=\"none\" stroke=\"black\" d=\"M2835.66,-698.91C2822.04,-687.1 2807.17,-674.22 2793.6,-662.45\"/>\n<polygon fill=\"black\" stroke=\"black\" points=\"2795.62,-659.57 2785.77,-655.67 2791.03,-664.86 2795.62,-659.57\"/>\n</g>\n<!-- 74 -->\n<g id=\"node75\" class=\"node\">\n<title>74</title>\n<polygon fill=\"#399de5\" stroke=\"black\" points=\"2941,-655.5 2824,-655.5 2824,-587.5 2941,-587.5 2941,-655.5\"/>\n<text text-anchor=\"middle\" x=\"2882.5\" y=\"-640.3\" font-family=\"Helvetica,sans-Serif\" font-size=\"14.00\">gini = 0.0</text>\n<text text-anchor=\"middle\" x=\"2882.5\" y=\"-625.3\" font-family=\"Helvetica,sans-Serif\" font-size=\"14.00\">samples = 1.3%</text>\n<text text-anchor=\"middle\" x=\"2882.5\" y=\"-610.3\" font-family=\"Helvetica,sans-Serif\" font-size=\"14.00\">value = [0.0, 1.0]</text>\n<text text-anchor=\"middle\" x=\"2882.5\" y=\"-595.3\" font-family=\"Helvetica,sans-Serif\" font-size=\"14.00\">class = 1</text>\n</g>\n<!-- 72&#45;&gt;74 -->\n<g id=\"edge74\" class=\"edge\">\n<title>72&#45;&gt;74</title>\n<path fill=\"none\" stroke=\"black\" d=\"M2882.5,-698.91C2882.5,-688.2 2882.5,-676.62 2882.5,-665.78\"/>\n<polygon fill=\"black\" stroke=\"black\" points=\"2886,-665.67 2882.5,-655.67 2879,-665.67 2886,-665.67\"/>\n</g>\n<!-- 76 -->\n<g id=\"node77\" class=\"node\">\n<title>76</title>\n<polygon fill=\"#89c5f0\" stroke=\"black\" points=\"3107,-663 2960,-663 2960,-580 3107,-580 3107,-663\"/>\n<text text-anchor=\"middle\" x=\"3033.5\" y=\"-647.8\" font-family=\"Helvetica,sans-Serif\" font-size=\"14.00\">lead_time &lt;= 89.0</text>\n<text text-anchor=\"middle\" x=\"3033.5\" y=\"-632.8\" font-family=\"Helvetica,sans-Serif\" font-size=\"14.00\">gini = 0.411</text>\n<text text-anchor=\"middle\" x=\"3033.5\" y=\"-617.8\" font-family=\"Helvetica,sans-Serif\" font-size=\"14.00\">samples = 6.5%</text>\n<text text-anchor=\"middle\" x=\"3033.5\" y=\"-602.8\" font-family=\"Helvetica,sans-Serif\" font-size=\"14.00\">value = [0.289, 0.711]</text>\n<text text-anchor=\"middle\" x=\"3033.5\" y=\"-587.8\" font-family=\"Helvetica,sans-Serif\" font-size=\"14.00\">class = 1</text>\n</g>\n<!-- 75&#45;&gt;76 -->\n<g id=\"edge76\" class=\"edge\">\n<title>75&#45;&gt;76</title>\n<path fill=\"none\" stroke=\"black\" d=\"M3043.3,-698.91C3042.23,-690.56 3041.09,-681.67 3039.98,-673.02\"/>\n<polygon fill=\"black\" stroke=\"black\" points=\"3043.44,-672.49 3038.69,-663.02 3036.5,-673.38 3043.44,-672.49\"/>\n</g>\n<!-- 89 -->\n<g id=\"node90\" class=\"node\">\n<title>89</title>\n<polygon fill=\"#f2c09c\" stroke=\"black\" points=\"3272,-655.5 3125,-655.5 3125,-587.5 3272,-587.5 3272,-655.5\"/>\n<text text-anchor=\"middle\" x=\"3198.5\" y=\"-640.3\" font-family=\"Helvetica,sans-Serif\" font-size=\"14.00\">gini = 0.444</text>\n<text text-anchor=\"middle\" x=\"3198.5\" y=\"-625.3\" font-family=\"Helvetica,sans-Serif\" font-size=\"14.00\">samples = 0.4%</text>\n<text text-anchor=\"middle\" x=\"3198.5\" y=\"-610.3\" font-family=\"Helvetica,sans-Serif\" font-size=\"14.00\">value = [0.667, 0.333]</text>\n<text text-anchor=\"middle\" x=\"3198.5\" y=\"-595.3\" font-family=\"Helvetica,sans-Serif\" font-size=\"14.00\">class = 0</text>\n</g>\n<!-- 75&#45;&gt;89 -->\n<g id=\"edge89\" class=\"edge\">\n<title>75&#45;&gt;89</title>\n<path fill=\"none\" stroke=\"black\" d=\"M3100.54,-698.91C3115.82,-686.99 3132.51,-673.98 3147.71,-662.12\"/>\n<polygon fill=\"black\" stroke=\"black\" points=\"3150.25,-664.58 3155.98,-655.67 3145.94,-659.06 3150.25,-664.58\"/>\n</g>\n<!-- 77 -->\n<g id=\"node78\" class=\"node\">\n<title>77</title>\n<polygon fill=\"#6fb8ec\" stroke=\"black\" points=\"2951,-544 2804,-544 2804,-461 2951,-461 2951,-544\"/>\n<text text-anchor=\"middle\" x=\"2877.5\" y=\"-528.8\" font-family=\"Helvetica,sans-Serif\" font-size=\"14.00\">lead_time &lt;= 19.5</text>\n<text text-anchor=\"middle\" x=\"2877.5\" y=\"-513.8\" font-family=\"Helvetica,sans-Serif\" font-size=\"14.00\">gini = 0.337</text>\n<text text-anchor=\"middle\" x=\"2877.5\" y=\"-498.8\" font-family=\"Helvetica,sans-Serif\" font-size=\"14.00\">samples = 4.1%</text>\n<text text-anchor=\"middle\" x=\"2877.5\" y=\"-483.8\" font-family=\"Helvetica,sans-Serif\" font-size=\"14.00\">value = [0.214, 0.786]</text>\n<text text-anchor=\"middle\" x=\"2877.5\" y=\"-468.8\" font-family=\"Helvetica,sans-Serif\" font-size=\"14.00\">class = 1</text>\n</g>\n<!-- 76&#45;&gt;77 -->\n<g id=\"edge77\" class=\"edge\">\n<title>76&#45;&gt;77</title>\n<path fill=\"none\" stroke=\"black\" d=\"M2979.38,-579.91C2966.55,-570.29 2952.77,-559.95 2939.62,-550.09\"/>\n<polygon fill=\"black\" stroke=\"black\" points=\"2941.63,-547.22 2931.53,-544.02 2937.43,-552.82 2941.63,-547.22\"/>\n</g>\n<!-- 84 -->\n<g id=\"node85\" class=\"node\">\n<title>84</title>\n<polygon fill=\"#c4e2f7\" stroke=\"black\" points=\"3116,-544 2969,-544 2969,-461 3116,-461 3116,-544\"/>\n<text text-anchor=\"middle\" x=\"3042.5\" y=\"-528.8\" font-family=\"Helvetica,sans-Serif\" font-size=\"14.00\">lead_time &lt;= 104.5</text>\n<text text-anchor=\"middle\" x=\"3042.5\" y=\"-513.8\" font-family=\"Helvetica,sans-Serif\" font-size=\"14.00\">gini = 0.484</text>\n<text text-anchor=\"middle\" x=\"3042.5\" y=\"-498.8\" font-family=\"Helvetica,sans-Serif\" font-size=\"14.00\">samples = 2.5%</text>\n<text text-anchor=\"middle\" x=\"3042.5\" y=\"-483.8\" font-family=\"Helvetica,sans-Serif\" font-size=\"14.00\">value = [0.412, 0.588]</text>\n<text text-anchor=\"middle\" x=\"3042.5\" y=\"-468.8\" font-family=\"Helvetica,sans-Serif\" font-size=\"14.00\">class = 1</text>\n</g>\n<!-- 76&#45;&gt;84 -->\n<g id=\"edge84\" class=\"edge\">\n<title>76&#45;&gt;84</title>\n<path fill=\"none\" stroke=\"black\" d=\"M3036.62,-579.91C3037.26,-571.56 3037.95,-562.67 3038.61,-554.02\"/>\n<polygon fill=\"black\" stroke=\"black\" points=\"3042.11,-554.26 3039.38,-544.02 3035.13,-553.72 3042.11,-554.26\"/>\n</g>\n<!-- 78 -->\n<g id=\"node79\" class=\"node\">\n<title>78</title>\n<polygon fill=\"#bddef6\" stroke=\"black\" points=\"2786,-417.5 2669,-417.5 2669,-349.5 2786,-349.5 2786,-417.5\"/>\n<text text-anchor=\"middle\" x=\"2727.5\" y=\"-402.3\" font-family=\"Helvetica,sans-Serif\" font-size=\"14.00\">gini = 0.48</text>\n<text text-anchor=\"middle\" x=\"2727.5\" y=\"-387.3\" font-family=\"Helvetica,sans-Serif\" font-size=\"14.00\">samples = 1.0%</text>\n<text text-anchor=\"middle\" x=\"2727.5\" y=\"-372.3\" font-family=\"Helvetica,sans-Serif\" font-size=\"14.00\">value = [0.4, 0.6]</text>\n<text text-anchor=\"middle\" x=\"2727.5\" y=\"-357.3\" font-family=\"Helvetica,sans-Serif\" font-size=\"14.00\">class = 1</text>\n</g>\n<!-- 77&#45;&gt;78 -->\n<g id=\"edge78\" class=\"edge\">\n<title>77&#45;&gt;78</title>\n<path fill=\"none\" stroke=\"black\" d=\"M2825.46,-460.91C2810.18,-448.99 2793.49,-435.98 2778.29,-424.12\"/>\n<polygon fill=\"black\" stroke=\"black\" points=\"2780.06,-421.06 2770.02,-417.67 2775.75,-426.58 2780.06,-421.06\"/>\n</g>\n<!-- 79 -->\n<g id=\"node80\" class=\"node\">\n<title>79</title>\n<polygon fill=\"#5eafea\" stroke=\"black\" points=\"2951,-425 2804,-425 2804,-342 2951,-342 2951,-425\"/>\n<text text-anchor=\"middle\" x=\"2877.5\" y=\"-409.8\" font-family=\"Helvetica,sans-Serif\" font-size=\"14.00\">lead_time &lt;= 39.0</text>\n<text text-anchor=\"middle\" x=\"2877.5\" y=\"-394.8\" font-family=\"Helvetica,sans-Serif\" font-size=\"14.00\">gini = 0.264</text>\n<text text-anchor=\"middle\" x=\"2877.5\" y=\"-379.8\" font-family=\"Helvetica,sans-Serif\" font-size=\"14.00\">samples = 3.1%</text>\n<text text-anchor=\"middle\" x=\"2877.5\" y=\"-364.8\" font-family=\"Helvetica,sans-Serif\" font-size=\"14.00\">value = [0.156, 0.844]</text>\n<text text-anchor=\"middle\" x=\"2877.5\" y=\"-349.8\" font-family=\"Helvetica,sans-Serif\" font-size=\"14.00\">class = 1</text>\n</g>\n<!-- 77&#45;&gt;79 -->\n<g id=\"edge79\" class=\"edge\">\n<title>77&#45;&gt;79</title>\n<path fill=\"none\" stroke=\"black\" d=\"M2877.5,-460.91C2877.5,-452.65 2877.5,-443.86 2877.5,-435.3\"/>\n<polygon fill=\"black\" stroke=\"black\" points=\"2881,-435.02 2877.5,-425.02 2874,-435.02 2881,-435.02\"/>\n</g>\n<!-- 80 -->\n<g id=\"node81\" class=\"node\">\n<title>80</title>\n<polygon fill=\"#399de5\" stroke=\"black\" points=\"2861,-298.5 2744,-298.5 2744,-230.5 2861,-230.5 2861,-298.5\"/>\n<text text-anchor=\"middle\" x=\"2802.5\" y=\"-283.3\" font-family=\"Helvetica,sans-Serif\" font-size=\"14.00\">gini = 0.0</text>\n<text text-anchor=\"middle\" x=\"2802.5\" y=\"-268.3\" font-family=\"Helvetica,sans-Serif\" font-size=\"14.00\">samples = 1.0%</text>\n<text text-anchor=\"middle\" x=\"2802.5\" y=\"-253.3\" font-family=\"Helvetica,sans-Serif\" font-size=\"14.00\">value = [0.0, 1.0]</text>\n<text text-anchor=\"middle\" x=\"2802.5\" y=\"-238.3\" font-family=\"Helvetica,sans-Serif\" font-size=\"14.00\">class = 1</text>\n</g>\n<!-- 79&#45;&gt;80 -->\n<g id=\"edge80\" class=\"edge\">\n<title>79&#45;&gt;80</title>\n<path fill=\"none\" stroke=\"black\" d=\"M2851.48,-341.91C2844.26,-330.65 2836.42,-318.42 2829.17,-307.11\"/>\n<polygon fill=\"black\" stroke=\"black\" points=\"2832.1,-305.2 2823.76,-298.67 2826.21,-308.97 2832.1,-305.2\"/>\n</g>\n<!-- 81 -->\n<g id=\"node82\" class=\"node\">\n<title>81</title>\n<polygon fill=\"#73baed\" stroke=\"black\" points=\"3026,-306 2879,-306 2879,-223 3026,-223 3026,-306\"/>\n<text text-anchor=\"middle\" x=\"2952.5\" y=\"-290.8\" font-family=\"Helvetica,sans-Serif\" font-size=\"14.00\">lead_time &lt;= 61.5</text>\n<text text-anchor=\"middle\" x=\"2952.5\" y=\"-275.8\" font-family=\"Helvetica,sans-Serif\" font-size=\"14.00\">gini = 0.351</text>\n<text text-anchor=\"middle\" x=\"2952.5\" y=\"-260.8\" font-family=\"Helvetica,sans-Serif\" font-size=\"14.00\">samples = 2.1%</text>\n<text text-anchor=\"middle\" x=\"2952.5\" y=\"-245.8\" font-family=\"Helvetica,sans-Serif\" font-size=\"14.00\">value = [0.227, 0.773]</text>\n<text text-anchor=\"middle\" x=\"2952.5\" y=\"-230.8\" font-family=\"Helvetica,sans-Serif\" font-size=\"14.00\">class = 1</text>\n</g>\n<!-- 79&#45;&gt;81 -->\n<g id=\"edge81\" class=\"edge\">\n<title>79&#45;&gt;81</title>\n<path fill=\"none\" stroke=\"black\" d=\"M2903.52,-341.91C2909.16,-333.1 2915.19,-323.7 2921.02,-314.61\"/>\n<polygon fill=\"black\" stroke=\"black\" points=\"2924.07,-316.33 2926.53,-306.02 2918.18,-312.55 2924.07,-316.33\"/>\n</g>\n<!-- 82 -->\n<g id=\"node83\" class=\"node\">\n<title>82</title>\n<polygon fill=\"#c4e2f7\" stroke=\"black\" points=\"2944,-179.5 2797,-179.5 2797,-111.5 2944,-111.5 2944,-179.5\"/>\n<text text-anchor=\"middle\" x=\"2870.5\" y=\"-164.3\" font-family=\"Helvetica,sans-Serif\" font-size=\"14.00\">gini = 0.484</text>\n<text text-anchor=\"middle\" x=\"2870.5\" y=\"-149.3\" font-family=\"Helvetica,sans-Serif\" font-size=\"14.00\">samples = 0.8%</text>\n<text text-anchor=\"middle\" x=\"2870.5\" y=\"-134.3\" font-family=\"Helvetica,sans-Serif\" font-size=\"14.00\">value = [0.412, 0.588]</text>\n<text text-anchor=\"middle\" x=\"2870.5\" y=\"-119.3\" font-family=\"Helvetica,sans-Serif\" font-size=\"14.00\">class = 1</text>\n</g>\n<!-- 81&#45;&gt;82 -->\n<g id=\"edge82\" class=\"edge\">\n<title>81&#45;&gt;82</title>\n<path fill=\"none\" stroke=\"black\" d=\"M2924.05,-222.91C2916.16,-211.65 2907.59,-199.42 2899.66,-188.11\"/>\n<polygon fill=\"black\" stroke=\"black\" points=\"2902.35,-185.85 2893.75,-179.67 2896.62,-189.86 2902.35,-185.85\"/>\n</g>\n<!-- 83 -->\n<g id=\"node84\" class=\"node\">\n<title>83</title>\n<polygon fill=\"#52a9e8\" stroke=\"black\" points=\"3109,-179.5 2962,-179.5 2962,-111.5 3109,-111.5 3109,-179.5\"/>\n<text text-anchor=\"middle\" x=\"3035.5\" y=\"-164.3\" font-family=\"Helvetica,sans-Serif\" font-size=\"14.00\">gini = 0.198</text>\n<text text-anchor=\"middle\" x=\"3035.5\" y=\"-149.3\" font-family=\"Helvetica,sans-Serif\" font-size=\"14.00\">samples = 1.3%</text>\n<text text-anchor=\"middle\" x=\"3035.5\" y=\"-134.3\" font-family=\"Helvetica,sans-Serif\" font-size=\"14.00\">value = [0.111, 0.889]</text>\n<text text-anchor=\"middle\" x=\"3035.5\" y=\"-119.3\" font-family=\"Helvetica,sans-Serif\" font-size=\"14.00\">class = 1</text>\n</g>\n<!-- 81&#45;&gt;83 -->\n<g id=\"edge83\" class=\"edge\">\n<title>81&#45;&gt;83</title>\n<path fill=\"none\" stroke=\"black\" d=\"M2981.3,-222.91C2989.28,-211.65 2997.96,-199.42 3005.98,-188.11\"/>\n<polygon fill=\"black\" stroke=\"black\" points=\"3009.04,-189.85 3011.97,-179.67 3003.33,-185.8 3009.04,-189.85\"/>\n</g>\n<!-- 85 -->\n<g id=\"node86\" class=\"node\">\n<title>85</title>\n<polygon fill=\"#efb185\" stroke=\"black\" points=\"3116,-417.5 2969,-417.5 2969,-349.5 3116,-349.5 3116,-417.5\"/>\n<text text-anchor=\"middle\" x=\"3042.5\" y=\"-402.3\" font-family=\"Helvetica,sans-Serif\" font-size=\"14.00\">gini = 0.401</text>\n<text text-anchor=\"middle\" x=\"3042.5\" y=\"-387.3\" font-family=\"Helvetica,sans-Serif\" font-size=\"14.00\">samples = 0.9%</text>\n<text text-anchor=\"middle\" x=\"3042.5\" y=\"-372.3\" font-family=\"Helvetica,sans-Serif\" font-size=\"14.00\">value = [0.722, 0.278]</text>\n<text text-anchor=\"middle\" x=\"3042.5\" y=\"-357.3\" font-family=\"Helvetica,sans-Serif\" font-size=\"14.00\">class = 0</text>\n</g>\n<!-- 84&#45;&gt;85 -->\n<g id=\"edge85\" class=\"edge\">\n<title>84&#45;&gt;85</title>\n<path fill=\"none\" stroke=\"black\" d=\"M3042.5,-460.91C3042.5,-450.2 3042.5,-438.62 3042.5,-427.78\"/>\n<polygon fill=\"black\" stroke=\"black\" points=\"3046,-427.67 3042.5,-417.67 3039,-427.67 3046,-427.67\"/>\n</g>\n<!-- 86 -->\n<g id=\"node87\" class=\"node\">\n<title>86</title>\n<polygon fill=\"#78bced\" stroke=\"black\" points=\"3281,-425 3134,-425 3134,-342 3281,-342 3281,-425\"/>\n<text text-anchor=\"middle\" x=\"3207.5\" y=\"-409.8\" font-family=\"Helvetica,sans-Serif\" font-size=\"14.00\">arrival_day &lt;= 23.5</text>\n<text text-anchor=\"middle\" x=\"3207.5\" y=\"-394.8\" font-family=\"Helvetica,sans-Serif\" font-size=\"14.00\">gini = 0.367</text>\n<text text-anchor=\"middle\" x=\"3207.5\" y=\"-379.8\" font-family=\"Helvetica,sans-Serif\" font-size=\"14.00\">samples = 1.6%</text>\n<text text-anchor=\"middle\" x=\"3207.5\" y=\"-364.8\" font-family=\"Helvetica,sans-Serif\" font-size=\"14.00\">value = [0.242, 0.758]</text>\n<text text-anchor=\"middle\" x=\"3207.5\" y=\"-349.8\" font-family=\"Helvetica,sans-Serif\" font-size=\"14.00\">class = 1</text>\n</g>\n<!-- 84&#45;&gt;86 -->\n<g id=\"edge86\" class=\"edge\">\n<title>84&#45;&gt;86</title>\n<path fill=\"none\" stroke=\"black\" d=\"M3099.75,-460.91C3113.44,-451.2 3128.16,-440.76 3142.19,-430.81\"/>\n<polygon fill=\"black\" stroke=\"black\" points=\"3144.22,-433.66 3150.36,-425.02 3140.17,-427.95 3144.22,-433.66\"/>\n</g>\n<!-- 87 -->\n<g id=\"node88\" class=\"node\">\n<title>87</title>\n<polygon fill=\"#5dafea\" stroke=\"black\" points=\"3274,-298.5 3127,-298.5 3127,-230.5 3274,-230.5 3274,-298.5\"/>\n<text text-anchor=\"middle\" x=\"3200.5\" y=\"-283.3\" font-family=\"Helvetica,sans-Serif\" font-size=\"14.00\">gini = 0.26</text>\n<text text-anchor=\"middle\" x=\"3200.5\" y=\"-268.3\" font-family=\"Helvetica,sans-Serif\" font-size=\"14.00\">samples = 1.3%</text>\n<text text-anchor=\"middle\" x=\"3200.5\" y=\"-253.3\" font-family=\"Helvetica,sans-Serif\" font-size=\"14.00\">value = [0.154, 0.846]</text>\n<text text-anchor=\"middle\" x=\"3200.5\" y=\"-238.3\" font-family=\"Helvetica,sans-Serif\" font-size=\"14.00\">class = 1</text>\n</g>\n<!-- 86&#45;&gt;87 -->\n<g id=\"edge87\" class=\"edge\">\n<title>86&#45;&gt;87</title>\n<path fill=\"none\" stroke=\"black\" d=\"M3205.07,-341.91C3204.43,-331.2 3203.74,-319.62 3203.09,-308.78\"/>\n<polygon fill=\"black\" stroke=\"black\" points=\"3206.58,-308.44 3202.48,-298.67 3199.59,-308.86 3206.58,-308.44\"/>\n</g>\n<!-- 88 -->\n<g id=\"node89\" class=\"node\">\n<title>88</title>\n<polygon fill=\"#f8e0ce\" stroke=\"black\" points=\"3439,-298.5 3292,-298.5 3292,-230.5 3439,-230.5 3439,-298.5\"/>\n<text text-anchor=\"middle\" x=\"3365.5\" y=\"-283.3\" font-family=\"Helvetica,sans-Serif\" font-size=\"14.00\">gini = 0.49</text>\n<text text-anchor=\"middle\" x=\"3365.5\" y=\"-268.3\" font-family=\"Helvetica,sans-Serif\" font-size=\"14.00\">samples = 0.3%</text>\n<text text-anchor=\"middle\" x=\"3365.5\" y=\"-253.3\" font-family=\"Helvetica,sans-Serif\" font-size=\"14.00\">value = [0.571, 0.429]</text>\n<text text-anchor=\"middle\" x=\"3365.5\" y=\"-238.3\" font-family=\"Helvetica,sans-Serif\" font-size=\"14.00\">class = 0</text>\n</g>\n<!-- 86&#45;&gt;88 -->\n<g id=\"edge88\" class=\"edge\">\n<title>86&#45;&gt;88</title>\n<path fill=\"none\" stroke=\"black\" d=\"M3262.32,-341.91C3278.56,-329.88 3296.31,-316.73 3312.44,-304.79\"/>\n<polygon fill=\"black\" stroke=\"black\" points=\"3314.76,-307.43 3320.71,-298.67 3310.59,-301.81 3314.76,-307.43\"/>\n</g>\n<!-- 92 -->\n<g id=\"node93\" class=\"node\">\n<title>92</title>\n<polygon fill=\"#e78946\" stroke=\"black\" points=\"3989.5,-1377 3791.5,-1377 3791.5,-1294 3989.5,-1294 3989.5,-1377\"/>\n<text text-anchor=\"middle\" x=\"3890.5\" y=\"-1361.8\" font-family=\"Helvetica,sans-Serif\" font-size=\"14.00\">no_of_weekend_nights &lt;= 2.5</text>\n<text text-anchor=\"middle\" x=\"3890.5\" y=\"-1346.8\" font-family=\"Helvetica,sans-Serif\" font-size=\"14.00\">gini = 0.114</text>\n<text text-anchor=\"middle\" x=\"3890.5\" y=\"-1331.8\" font-family=\"Helvetica,sans-Serif\" font-size=\"14.00\">samples = 17.5%</text>\n<text text-anchor=\"middle\" x=\"3890.5\" y=\"-1316.8\" font-family=\"Helvetica,sans-Serif\" font-size=\"14.00\">value = [0.939, 0.061]</text>\n<text text-anchor=\"middle\" x=\"3890.5\" y=\"-1301.8\" font-family=\"Helvetica,sans-Serif\" font-size=\"14.00\">class = 0</text>\n</g>\n<!-- 91&#45;&gt;92 -->\n<g id=\"edge92\" class=\"edge\">\n<title>91&#45;&gt;92</title>\n<path fill=\"none\" stroke=\"black\" d=\"M3968.87,-1412.91C3959.37,-1403.65 3949.2,-1393.73 3939.43,-1384.21\"/>\n<polygon fill=\"black\" stroke=\"black\" points=\"3941.66,-1381.5 3932.06,-1377.02 3936.78,-1386.51 3941.66,-1381.5\"/>\n</g>\n<!-- 111 -->\n<g id=\"node112\" class=\"node\">\n<title>111</title>\n<polygon fill=\"#eb9e66\" stroke=\"black\" points=\"4232.5,-1377 4030.5,-1377 4030.5,-1294 4232.5,-1294 4232.5,-1377\"/>\n<text text-anchor=\"middle\" x=\"4131.5\" y=\"-1361.8\" font-family=\"Helvetica,sans-Serif\" font-size=\"14.00\">no_of_special_requests &lt;= 1.5</text>\n<text text-anchor=\"middle\" x=\"4131.5\" y=\"-1346.8\" font-family=\"Helvetica,sans-Serif\" font-size=\"14.00\">gini = 0.301</text>\n<text text-anchor=\"middle\" x=\"4131.5\" y=\"-1331.8\" font-family=\"Helvetica,sans-Serif\" font-size=\"14.00\">samples = 22.3%</text>\n<text text-anchor=\"middle\" x=\"4131.5\" y=\"-1316.8\" font-family=\"Helvetica,sans-Serif\" font-size=\"14.00\">value = [0.815, 0.185]</text>\n<text text-anchor=\"middle\" x=\"4131.5\" y=\"-1301.8\" font-family=\"Helvetica,sans-Serif\" font-size=\"14.00\">class = 0</text>\n</g>\n<!-- 91&#45;&gt;111 -->\n<g id=\"edge111\" class=\"edge\">\n<title>91&#45;&gt;111</title>\n<path fill=\"none\" stroke=\"black\" d=\"M4052.48,-1412.91C4062.05,-1403.65 4072.31,-1393.73 4082.16,-1384.21\"/>\n<polygon fill=\"black\" stroke=\"black\" points=\"4084.84,-1386.49 4089.59,-1377.02 4079.97,-1381.46 4084.84,-1386.49\"/>\n</g>\n<!-- 93 -->\n<g id=\"node94\" class=\"node\">\n<title>93</title>\n<polygon fill=\"#e68844\" stroke=\"black\" points=\"3807.5,-1258 3605.5,-1258 3605.5,-1175 3807.5,-1175 3807.5,-1258\"/>\n<text text-anchor=\"middle\" x=\"3706.5\" y=\"-1242.8\" font-family=\"Helvetica,sans-Serif\" font-size=\"14.00\">no_of_special_requests &lt;= 1.5</text>\n<text text-anchor=\"middle\" x=\"3706.5\" y=\"-1227.8\" font-family=\"Helvetica,sans-Serif\" font-size=\"14.00\">gini = 0.101</text>\n<text text-anchor=\"middle\" x=\"3706.5\" y=\"-1212.8\" font-family=\"Helvetica,sans-Serif\" font-size=\"14.00\">samples = 17.2%</text>\n<text text-anchor=\"middle\" x=\"3706.5\" y=\"-1197.8\" font-family=\"Helvetica,sans-Serif\" font-size=\"14.00\">value = [0.947, 0.053]</text>\n<text text-anchor=\"middle\" x=\"3706.5\" y=\"-1182.8\" font-family=\"Helvetica,sans-Serif\" font-size=\"14.00\">class = 0</text>\n</g>\n<!-- 92&#45;&gt;93 -->\n<g id=\"edge93\" class=\"edge\">\n<title>92&#45;&gt;93</title>\n<path fill=\"none\" stroke=\"black\" d=\"M3826.66,-1293.91C3811.25,-1284.11 3794.67,-1273.56 3778.89,-1263.53\"/>\n<polygon fill=\"black\" stroke=\"black\" points=\"3780.54,-1260.43 3770.23,-1258.02 3776.79,-1266.34 3780.54,-1260.43\"/>\n</g>\n<!-- 110 -->\n<g id=\"node111\" class=\"node\">\n<title>110</title>\n<polygon fill=\"#ffffff\" stroke=\"black\" points=\"3949,-1250.5 3832,-1250.5 3832,-1182.5 3949,-1182.5 3949,-1250.5\"/>\n<text text-anchor=\"middle\" x=\"3890.5\" y=\"-1235.3\" font-family=\"Helvetica,sans-Serif\" font-size=\"14.00\">gini = 0.5</text>\n<text text-anchor=\"middle\" x=\"3890.5\" y=\"-1220.3\" font-family=\"Helvetica,sans-Serif\" font-size=\"14.00\">samples = 0.3%</text>\n<text text-anchor=\"middle\" x=\"3890.5\" y=\"-1205.3\" font-family=\"Helvetica,sans-Serif\" font-size=\"14.00\">value = [0.5, 0.5]</text>\n<text text-anchor=\"middle\" x=\"3890.5\" y=\"-1190.3\" font-family=\"Helvetica,sans-Serif\" font-size=\"14.00\">class = 0</text>\n</g>\n<!-- 92&#45;&gt;110 -->\n<g id=\"edge110\" class=\"edge\">\n<title>92&#45;&gt;110</title>\n<path fill=\"none\" stroke=\"black\" d=\"M3890.5,-1293.91C3890.5,-1283.2 3890.5,-1271.62 3890.5,-1260.78\"/>\n<polygon fill=\"black\" stroke=\"black\" points=\"3894,-1260.67 3890.5,-1250.67 3887,-1260.67 3894,-1260.67\"/>\n</g>\n<!-- 94 -->\n<g id=\"node95\" class=\"node\">\n<title>94</title>\n<polygon fill=\"#e78c4a\" stroke=\"black\" points=\"3627,-1139 3428,-1139 3428,-1056 3627,-1056 3627,-1139\"/>\n<text text-anchor=\"middle\" x=\"3527.5\" y=\"-1123.8\" font-family=\"Helvetica,sans-Serif\" font-size=\"14.00\">avg_price_per_room &lt;= 96.45</text>\n<text text-anchor=\"middle\" x=\"3527.5\" y=\"-1108.8\" font-family=\"Helvetica,sans-Serif\" font-size=\"14.00\">gini = 0.147</text>\n<text text-anchor=\"middle\" x=\"3527.5\" y=\"-1093.8\" font-family=\"Helvetica,sans-Serif\" font-size=\"14.00\">samples = 11.5%</text>\n<text text-anchor=\"middle\" x=\"3527.5\" y=\"-1078.8\" font-family=\"Helvetica,sans-Serif\" font-size=\"14.00\">value = [0.92, 0.08]</text>\n<text text-anchor=\"middle\" x=\"3527.5\" y=\"-1063.8\" font-family=\"Helvetica,sans-Serif\" font-size=\"14.00\">class = 0</text>\n</g>\n<!-- 93&#45;&gt;94 -->\n<g id=\"edge94\" class=\"edge\">\n<title>93&#45;&gt;94</title>\n<path fill=\"none\" stroke=\"black\" d=\"M3644.4,-1174.91C3629.4,-1165.11 3613.27,-1154.56 3597.93,-1144.53\"/>\n<polygon fill=\"black\" stroke=\"black\" points=\"3599.78,-1141.56 3589.49,-1139.02 3595.95,-1147.42 3599.78,-1141.56\"/>\n</g>\n<!-- 109 -->\n<g id=\"node110\" class=\"node\">\n<title>109</title>\n<polygon fill=\"#e58139\" stroke=\"black\" points=\"3765,-1131.5 3648,-1131.5 3648,-1063.5 3765,-1063.5 3765,-1131.5\"/>\n<text text-anchor=\"middle\" x=\"3706.5\" y=\"-1116.3\" font-family=\"Helvetica,sans-Serif\" font-size=\"14.00\">gini = 0.0</text>\n<text text-anchor=\"middle\" x=\"3706.5\" y=\"-1101.3\" font-family=\"Helvetica,sans-Serif\" font-size=\"14.00\">samples = 5.7%</text>\n<text text-anchor=\"middle\" x=\"3706.5\" y=\"-1086.3\" font-family=\"Helvetica,sans-Serif\" font-size=\"14.00\">value = [1.0, 0.0]</text>\n<text text-anchor=\"middle\" x=\"3706.5\" y=\"-1071.3\" font-family=\"Helvetica,sans-Serif\" font-size=\"14.00\">class = 0</text>\n</g>\n<!-- 93&#45;&gt;109 -->\n<g id=\"edge109\" class=\"edge\">\n<title>93&#45;&gt;109</title>\n<path fill=\"none\" stroke=\"black\" d=\"M3706.5,-1174.91C3706.5,-1164.2 3706.5,-1152.62 3706.5,-1141.78\"/>\n<polygon fill=\"black\" stroke=\"black\" points=\"3710,-1141.67 3706.5,-1131.67 3703,-1141.67 3710,-1141.67\"/>\n</g>\n<!-- 95 -->\n<g id=\"node96\" class=\"node\">\n<title>95</title>\n<polygon fill=\"#e6843d\" stroke=\"black\" points=\"3405,-1020 3258,-1020 3258,-937 3405,-937 3405,-1020\"/>\n<text text-anchor=\"middle\" x=\"3331.5\" y=\"-1004.8\" font-family=\"Helvetica,sans-Serif\" font-size=\"14.00\">meal_plan_1 &lt;= 0.5</text>\n<text text-anchor=\"middle\" x=\"3331.5\" y=\"-989.8\" font-family=\"Helvetica,sans-Serif\" font-size=\"14.00\">gini = 0.043</text>\n<text text-anchor=\"middle\" x=\"3331.5\" y=\"-974.8\" font-family=\"Helvetica,sans-Serif\" font-size=\"14.00\">samples = 4.4%</text>\n<text text-anchor=\"middle\" x=\"3331.5\" y=\"-959.8\" font-family=\"Helvetica,sans-Serif\" font-size=\"14.00\">value = [0.978, 0.022]</text>\n<text text-anchor=\"middle\" x=\"3331.5\" y=\"-944.8\" font-family=\"Helvetica,sans-Serif\" font-size=\"14.00\">class = 0</text>\n</g>\n<!-- 94&#45;&gt;95 -->\n<g id=\"edge95\" class=\"edge\">\n<title>94&#45;&gt;95</title>\n<path fill=\"none\" stroke=\"black\" d=\"M3459.5,-1055.91C3442.93,-1046.02 3425.09,-1035.37 3408.15,-1025.25\"/>\n<polygon fill=\"black\" stroke=\"black\" points=\"3409.76,-1022.14 3399.38,-1020.02 3406.17,-1028.15 3409.76,-1022.14\"/>\n</g>\n<!-- 98 -->\n<g id=\"node99\" class=\"node\">\n<title>98</title>\n<polygon fill=\"#e89153\" stroke=\"black\" points=\"3630.5,-1020 3424.5,-1020 3424.5,-937 3630.5,-937 3630.5,-1020\"/>\n<text text-anchor=\"middle\" x=\"3527.5\" y=\"-1004.8\" font-family=\"Helvetica,sans-Serif\" font-size=\"14.00\">avg_price_per_room &lt;= 99.375</text>\n<text text-anchor=\"middle\" x=\"3527.5\" y=\"-989.8\" font-family=\"Helvetica,sans-Serif\" font-size=\"14.00\">gini = 0.205</text>\n<text text-anchor=\"middle\" x=\"3527.5\" y=\"-974.8\" font-family=\"Helvetica,sans-Serif\" font-size=\"14.00\">samples = 7.1%</text>\n<text text-anchor=\"middle\" x=\"3527.5\" y=\"-959.8\" font-family=\"Helvetica,sans-Serif\" font-size=\"14.00\">value = [0.884, 0.116]</text>\n<text text-anchor=\"middle\" x=\"3527.5\" y=\"-944.8\" font-family=\"Helvetica,sans-Serif\" font-size=\"14.00\">class = 0</text>\n</g>\n<!-- 94&#45;&gt;98 -->\n<g id=\"edge98\" class=\"edge\">\n<title>94&#45;&gt;98</title>\n<path fill=\"none\" stroke=\"black\" d=\"M3527.5,-1055.91C3527.5,-1047.65 3527.5,-1038.86 3527.5,-1030.3\"/>\n<polygon fill=\"black\" stroke=\"black\" points=\"3531,-1030.02 3527.5,-1020.02 3524,-1030.02 3531,-1030.02\"/>\n</g>\n<!-- 96 -->\n<g id=\"node97\" class=\"node\">\n<title>96</title>\n<polygon fill=\"#e78c4b\" stroke=\"black\" points=\"3255,-893.5 3108,-893.5 3108,-825.5 3255,-825.5 3255,-893.5\"/>\n<text text-anchor=\"middle\" x=\"3181.5\" y=\"-878.3\" font-family=\"Helvetica,sans-Serif\" font-size=\"14.00\">gini = 0.153</text>\n<text text-anchor=\"middle\" x=\"3181.5\" y=\"-863.3\" font-family=\"Helvetica,sans-Serif\" font-size=\"14.00\">samples = 1.2%</text>\n<text text-anchor=\"middle\" x=\"3181.5\" y=\"-848.3\" font-family=\"Helvetica,sans-Serif\" font-size=\"14.00\">value = [0.917, 0.083]</text>\n<text text-anchor=\"middle\" x=\"3181.5\" y=\"-833.3\" font-family=\"Helvetica,sans-Serif\" font-size=\"14.00\">class = 0</text>\n</g>\n<!-- 95&#45;&gt;96 -->\n<g id=\"edge96\" class=\"edge\">\n<title>95&#45;&gt;96</title>\n<path fill=\"none\" stroke=\"black\" d=\"M3279.46,-936.91C3264.18,-924.99 3247.49,-911.98 3232.29,-900.12\"/>\n<polygon fill=\"black\" stroke=\"black\" points=\"3234.06,-897.06 3224.02,-893.67 3229.75,-902.58 3234.06,-897.06\"/>\n</g>\n<!-- 97 -->\n<g id=\"node98\" class=\"node\">\n<title>97</title>\n<polygon fill=\"#e58139\" stroke=\"black\" points=\"3390,-893.5 3273,-893.5 3273,-825.5 3390,-825.5 3390,-893.5\"/>\n<text text-anchor=\"middle\" x=\"3331.5\" y=\"-878.3\" font-family=\"Helvetica,sans-Serif\" font-size=\"14.00\">gini = 0.0</text>\n<text text-anchor=\"middle\" x=\"3331.5\" y=\"-863.3\" font-family=\"Helvetica,sans-Serif\" font-size=\"14.00\">samples = 3.2%</text>\n<text text-anchor=\"middle\" x=\"3331.5\" y=\"-848.3\" font-family=\"Helvetica,sans-Serif\" font-size=\"14.00\">value = [1.0, 0.0]</text>\n<text text-anchor=\"middle\" x=\"3331.5\" y=\"-833.3\" font-family=\"Helvetica,sans-Serif\" font-size=\"14.00\">class = 0</text>\n</g>\n<!-- 95&#45;&gt;97 -->\n<g id=\"edge97\" class=\"edge\">\n<title>95&#45;&gt;97</title>\n<path fill=\"none\" stroke=\"black\" d=\"M3331.5,-936.91C3331.5,-926.2 3331.5,-914.62 3331.5,-903.78\"/>\n<polygon fill=\"black\" stroke=\"black\" points=\"3335,-903.67 3331.5,-893.67 3328,-903.67 3335,-903.67\"/>\n</g>\n<!-- 99 -->\n<g id=\"node100\" class=\"node\">\n<title>99</title>\n<polygon fill=\"#f6d5bd\" stroke=\"black\" points=\"3525,-893.5 3408,-893.5 3408,-825.5 3525,-825.5 3525,-893.5\"/>\n<text text-anchor=\"middle\" x=\"3466.5\" y=\"-878.3\" font-family=\"Helvetica,sans-Serif\" font-size=\"14.00\">gini = 0.48</text>\n<text text-anchor=\"middle\" x=\"3466.5\" y=\"-863.3\" font-family=\"Helvetica,sans-Serif\" font-size=\"14.00\">samples = 0.5%</text>\n<text text-anchor=\"middle\" x=\"3466.5\" y=\"-848.3\" font-family=\"Helvetica,sans-Serif\" font-size=\"14.00\">value = [0.6, 0.4]</text>\n<text text-anchor=\"middle\" x=\"3466.5\" y=\"-833.3\" font-family=\"Helvetica,sans-Serif\" font-size=\"14.00\">class = 0</text>\n</g>\n<!-- 98&#45;&gt;99 -->\n<g id=\"edge99\" class=\"edge\">\n<title>98&#45;&gt;99</title>\n<path fill=\"none\" stroke=\"black\" d=\"M3506.34,-936.91C3500.58,-925.87 3494.34,-913.9 3488.54,-902.77\"/>\n<polygon fill=\"black\" stroke=\"black\" points=\"3491.52,-900.92 3483.79,-893.67 3485.31,-904.15 3491.52,-900.92\"/>\n</g>\n<!-- 100 -->\n<g id=\"node101\" class=\"node\">\n<title>100</title>\n<polygon fill=\"#e88e4e\" stroke=\"black\" points=\"3690,-901 3543,-901 3543,-818 3690,-818 3690,-901\"/>\n<text text-anchor=\"middle\" x=\"3616.5\" y=\"-885.8\" font-family=\"Helvetica,sans-Serif\" font-size=\"14.00\">lead_time &lt;= 4.5</text>\n<text text-anchor=\"middle\" x=\"3616.5\" y=\"-870.8\" font-family=\"Helvetica,sans-Serif\" font-size=\"14.00\">gini = 0.172</text>\n<text text-anchor=\"middle\" x=\"3616.5\" y=\"-855.8\" font-family=\"Helvetica,sans-Serif\" font-size=\"14.00\">samples = 6.6%</text>\n<text text-anchor=\"middle\" x=\"3616.5\" y=\"-840.8\" font-family=\"Helvetica,sans-Serif\" font-size=\"14.00\">value = [0.905, 0.095]</text>\n<text text-anchor=\"middle\" x=\"3616.5\" y=\"-825.8\" font-family=\"Helvetica,sans-Serif\" font-size=\"14.00\">class = 0</text>\n</g>\n<!-- 98&#45;&gt;100 -->\n<g id=\"edge100\" class=\"edge\">\n<title>98&#45;&gt;100</title>\n<path fill=\"none\" stroke=\"black\" d=\"M3558.38,-936.91C3565.21,-927.92 3572.52,-918.32 3579.57,-909.05\"/>\n<polygon fill=\"black\" stroke=\"black\" points=\"3582.41,-911.1 3585.68,-901.02 3576.84,-906.86 3582.41,-911.1\"/>\n</g>\n<!-- 101 -->\n<g id=\"node102\" class=\"node\">\n<title>101</title>\n<polygon fill=\"#e58139\" stroke=\"black\" points=\"3522,-774.5 3405,-774.5 3405,-706.5 3522,-706.5 3522,-774.5\"/>\n<text text-anchor=\"middle\" x=\"3463.5\" y=\"-759.3\" font-family=\"Helvetica,sans-Serif\" font-size=\"14.00\">gini = 0.0</text>\n<text text-anchor=\"middle\" x=\"3463.5\" y=\"-744.3\" font-family=\"Helvetica,sans-Serif\" font-size=\"14.00\">samples = 2.2%</text>\n<text text-anchor=\"middle\" x=\"3463.5\" y=\"-729.3\" font-family=\"Helvetica,sans-Serif\" font-size=\"14.00\">value = [1.0, 0.0]</text>\n<text text-anchor=\"middle\" x=\"3463.5\" y=\"-714.3\" font-family=\"Helvetica,sans-Serif\" font-size=\"14.00\">class = 0</text>\n</g>\n<!-- 100&#45;&gt;101 -->\n<g id=\"edge101\" class=\"edge\">\n<title>100&#45;&gt;101</title>\n<path fill=\"none\" stroke=\"black\" d=\"M3563.42,-817.91C3547.69,-805.88 3530.5,-792.73 3514.88,-780.79\"/>\n<polygon fill=\"black\" stroke=\"black\" points=\"3516.94,-777.96 3506.87,-774.67 3512.69,-783.52 3516.94,-777.96\"/>\n</g>\n<!-- 102 -->\n<g id=\"node103\" class=\"node\">\n<title>102</title>\n<polygon fill=\"#e9965a\" stroke=\"black\" points=\"3687,-782 3540,-782 3540,-699 3687,-699 3687,-782\"/>\n<text text-anchor=\"middle\" x=\"3613.5\" y=\"-766.8\" font-family=\"Helvetica,sans-Serif\" font-size=\"14.00\">lead_time &lt;= 11.5</text>\n<text text-anchor=\"middle\" x=\"3613.5\" y=\"-751.8\" font-family=\"Helvetica,sans-Serif\" font-size=\"14.00\">gini = 0.243</text>\n<text text-anchor=\"middle\" x=\"3613.5\" y=\"-736.8\" font-family=\"Helvetica,sans-Serif\" font-size=\"14.00\">samples = 4.5%</text>\n<text text-anchor=\"middle\" x=\"3613.5\" y=\"-721.8\" font-family=\"Helvetica,sans-Serif\" font-size=\"14.00\">value = [0.859, 0.141]</text>\n<text text-anchor=\"middle\" x=\"3613.5\" y=\"-706.8\" font-family=\"Helvetica,sans-Serif\" font-size=\"14.00\">class = 0</text>\n</g>\n<!-- 100&#45;&gt;102 -->\n<g id=\"edge102\" class=\"edge\">\n<title>100&#45;&gt;102</title>\n<path fill=\"none\" stroke=\"black\" d=\"M3615.46,-817.91C3615.25,-809.56 3615.02,-800.67 3614.8,-792.02\"/>\n<polygon fill=\"black\" stroke=\"black\" points=\"3618.29,-791.93 3614.54,-782.02 3611.3,-792.11 3618.29,-791.93\"/>\n</g>\n<!-- 103 -->\n<g id=\"node104\" class=\"node\">\n<title>103</title>\n<polygon fill=\"#f0b58b\" stroke=\"black\" points=\"3439,-663 3292,-663 3292,-580 3439,-580 3439,-663\"/>\n<text text-anchor=\"middle\" x=\"3365.5\" y=\"-647.8\" font-family=\"Helvetica,sans-Serif\" font-size=\"14.00\">lead_time &lt;= 9.5</text>\n<text text-anchor=\"middle\" x=\"3365.5\" y=\"-632.8\" font-family=\"Helvetica,sans-Serif\" font-size=\"14.00\">gini = 0.415</text>\n<text text-anchor=\"middle\" x=\"3365.5\" y=\"-617.8\" font-family=\"Helvetica,sans-Serif\" font-size=\"14.00\">samples = 1.6%</text>\n<text text-anchor=\"middle\" x=\"3365.5\" y=\"-602.8\" font-family=\"Helvetica,sans-Serif\" font-size=\"14.00\">value = [0.706, 0.294]</text>\n<text text-anchor=\"middle\" x=\"3365.5\" y=\"-587.8\" font-family=\"Helvetica,sans-Serif\" font-size=\"14.00\">class = 0</text>\n</g>\n<!-- 102&#45;&gt;103 -->\n<g id=\"edge103\" class=\"edge\">\n<title>102&#45;&gt;103</title>\n<path fill=\"none\" stroke=\"black\" d=\"M3539.77,-703.43C3536.64,-701.93 3533.54,-700.45 3530.5,-699 3503.85,-686.32 3474.66,-672.7 3448.34,-660.52\"/>\n<polygon fill=\"black\" stroke=\"black\" points=\"3449.7,-657.29 3439.16,-656.27 3446.77,-663.65 3449.7,-657.29\"/>\n</g>\n<!-- 106 -->\n<g id=\"node107\" class=\"node\">\n<title>106</title>\n<polygon fill=\"#e68844\" stroke=\"black\" points=\"3712.5,-663 3514.5,-663 3514.5,-580 3712.5,-580 3712.5,-663\"/>\n<text text-anchor=\"middle\" x=\"3613.5\" y=\"-647.8\" font-family=\"Helvetica,sans-Serif\" font-size=\"14.00\">no_of_weekend_nights &lt;= 0.5</text>\n<text text-anchor=\"middle\" x=\"3613.5\" y=\"-632.8\" font-family=\"Helvetica,sans-Serif\" font-size=\"14.00\">gini = 0.098</text>\n<text text-anchor=\"middle\" x=\"3613.5\" y=\"-617.8\" font-family=\"Helvetica,sans-Serif\" font-size=\"14.00\">samples = 2.8%</text>\n<text text-anchor=\"middle\" x=\"3613.5\" y=\"-602.8\" font-family=\"Helvetica,sans-Serif\" font-size=\"14.00\">value = [0.948, 0.052]</text>\n<text text-anchor=\"middle\" x=\"3613.5\" y=\"-587.8\" font-family=\"Helvetica,sans-Serif\" font-size=\"14.00\">class = 0</text>\n</g>\n<!-- 102&#45;&gt;106 -->\n<g id=\"edge106\" class=\"edge\">\n<title>102&#45;&gt;106</title>\n<path fill=\"none\" stroke=\"black\" d=\"M3613.5,-698.91C3613.5,-690.65 3613.5,-681.86 3613.5,-673.3\"/>\n<polygon fill=\"black\" stroke=\"black\" points=\"3617,-673.02 3613.5,-663.02 3610,-673.02 3617,-673.02\"/>\n</g>\n<!-- 104 -->\n<g id=\"node105\" class=\"node\">\n<title>104</title>\n<polygon fill=\"#ea995f\" stroke=\"black\" points=\"3273.5,-536.5 3141.5,-536.5 3141.5,-468.5 3273.5,-468.5 3273.5,-536.5\"/>\n<text text-anchor=\"middle\" x=\"3207.5\" y=\"-521.3\" font-family=\"Helvetica,sans-Serif\" font-size=\"14.00\">gini = 0.269</text>\n<text text-anchor=\"middle\" x=\"3207.5\" y=\"-506.3\" font-family=\"Helvetica,sans-Serif\" font-size=\"14.00\">samples = 1.2%</text>\n<text text-anchor=\"middle\" x=\"3207.5\" y=\"-491.3\" font-family=\"Helvetica,sans-Serif\" font-size=\"14.00\">value = [0.84, 0.16]</text>\n<text text-anchor=\"middle\" x=\"3207.5\" y=\"-476.3\" font-family=\"Helvetica,sans-Serif\" font-size=\"14.00\">class = 0</text>\n</g>\n<!-- 103&#45;&gt;104 -->\n<g id=\"edge104\" class=\"edge\">\n<title>103&#45;&gt;104</title>\n<path fill=\"none\" stroke=\"black\" d=\"M3310.68,-579.91C3294.44,-567.88 3276.69,-554.73 3260.56,-542.79\"/>\n<polygon fill=\"black\" stroke=\"black\" points=\"3262.41,-539.81 3252.29,-536.67 3258.24,-545.43 3262.41,-539.81\"/>\n</g>\n<!-- 105 -->\n<g id=\"node106\" class=\"node\">\n<title>105</title>\n<polygon fill=\"#9ccef2\" stroke=\"black\" points=\"3439,-536.5 3292,-536.5 3292,-468.5 3439,-468.5 3439,-536.5\"/>\n<text text-anchor=\"middle\" x=\"3365.5\" y=\"-521.3\" font-family=\"Helvetica,sans-Serif\" font-size=\"14.00\">gini = 0.444</text>\n<text text-anchor=\"middle\" x=\"3365.5\" y=\"-506.3\" font-family=\"Helvetica,sans-Serif\" font-size=\"14.00\">samples = 0.4%</text>\n<text text-anchor=\"middle\" x=\"3365.5\" y=\"-491.3\" font-family=\"Helvetica,sans-Serif\" font-size=\"14.00\">value = [0.333, 0.667]</text>\n<text text-anchor=\"middle\" x=\"3365.5\" y=\"-476.3\" font-family=\"Helvetica,sans-Serif\" font-size=\"14.00\">class = 1</text>\n</g>\n<!-- 103&#45;&gt;105 -->\n<g id=\"edge105\" class=\"edge\">\n<title>103&#45;&gt;105</title>\n<path fill=\"none\" stroke=\"black\" d=\"M3365.5,-579.91C3365.5,-569.2 3365.5,-557.62 3365.5,-546.78\"/>\n<polygon fill=\"black\" stroke=\"black\" points=\"3369,-546.67 3365.5,-536.67 3362,-546.67 3369,-546.67\"/>\n</g>\n<!-- 107 -->\n<g id=\"node108\" class=\"node\">\n<title>107</title>\n<polygon fill=\"#e58139\" stroke=\"black\" points=\"3574,-536.5 3457,-536.5 3457,-468.5 3574,-468.5 3574,-536.5\"/>\n<text text-anchor=\"middle\" x=\"3515.5\" y=\"-521.3\" font-family=\"Helvetica,sans-Serif\" font-size=\"14.00\">gini = 0.0</text>\n<text text-anchor=\"middle\" x=\"3515.5\" y=\"-506.3\" font-family=\"Helvetica,sans-Serif\" font-size=\"14.00\">samples = 1.5%</text>\n<text text-anchor=\"middle\" x=\"3515.5\" y=\"-491.3\" font-family=\"Helvetica,sans-Serif\" font-size=\"14.00\">value = [1.0, 0.0]</text>\n<text text-anchor=\"middle\" x=\"3515.5\" y=\"-476.3\" font-family=\"Helvetica,sans-Serif\" font-size=\"14.00\">class = 0</text>\n</g>\n<!-- 106&#45;&gt;107 -->\n<g id=\"edge107\" class=\"edge\">\n<title>106&#45;&gt;107</title>\n<path fill=\"none\" stroke=\"black\" d=\"M3579.5,-579.91C3569.89,-568.43 3559.42,-555.94 3549.79,-544.44\"/>\n<polygon fill=\"black\" stroke=\"black\" points=\"3552.39,-542.09 3543.28,-536.67 3547.02,-546.58 3552.39,-542.09\"/>\n</g>\n<!-- 108 -->\n<g id=\"node109\" class=\"node\">\n<title>108</title>\n<polygon fill=\"#e89153\" stroke=\"black\" points=\"3739,-536.5 3592,-536.5 3592,-468.5 3739,-468.5 3739,-536.5\"/>\n<text text-anchor=\"middle\" x=\"3665.5\" y=\"-521.3\" font-family=\"Helvetica,sans-Serif\" font-size=\"14.00\">gini = 0.204</text>\n<text text-anchor=\"middle\" x=\"3665.5\" y=\"-506.3\" font-family=\"Helvetica,sans-Serif\" font-size=\"14.00\">samples = 1.3%</text>\n<text text-anchor=\"middle\" x=\"3665.5\" y=\"-491.3\" font-family=\"Helvetica,sans-Serif\" font-size=\"14.00\">value = [0.885, 0.115]</text>\n<text text-anchor=\"middle\" x=\"3665.5\" y=\"-476.3\" font-family=\"Helvetica,sans-Serif\" font-size=\"14.00\">class = 0</text>\n</g>\n<!-- 106&#45;&gt;108 -->\n<g id=\"edge108\" class=\"edge\">\n<title>106&#45;&gt;108</title>\n<path fill=\"none\" stroke=\"black\" d=\"M3631.54,-579.91C3636.4,-568.98 3641.66,-557.14 3646.56,-546.11\"/>\n<polygon fill=\"black\" stroke=\"black\" points=\"3649.9,-547.23 3650.76,-536.67 3643.5,-544.38 3649.9,-547.23\"/>\n</g>\n<!-- 112 -->\n<g id=\"node113\" class=\"node\">\n<title>112</title>\n<polygon fill=\"#eda775\" stroke=\"black\" points=\"4205,-1258 4058,-1258 4058,-1175 4205,-1175 4205,-1258\"/>\n<text text-anchor=\"middle\" x=\"4131.5\" y=\"-1242.8\" font-family=\"Helvetica,sans-Serif\" font-size=\"14.00\">Online &lt;= 0.5</text>\n<text text-anchor=\"middle\" x=\"4131.5\" y=\"-1227.8\" font-family=\"Helvetica,sans-Serif\" font-size=\"14.00\">gini = 0.358</text>\n<text text-anchor=\"middle\" x=\"4131.5\" y=\"-1212.8\" font-family=\"Helvetica,sans-Serif\" font-size=\"14.00\">samples = 15.1%</text>\n<text text-anchor=\"middle\" x=\"4131.5\" y=\"-1197.8\" font-family=\"Helvetica,sans-Serif\" font-size=\"14.00\">value = [0.766, 0.234]</text>\n<text text-anchor=\"middle\" x=\"4131.5\" y=\"-1182.8\" font-family=\"Helvetica,sans-Serif\" font-size=\"14.00\">class = 0</text>\n</g>\n<!-- 111&#45;&gt;112 -->\n<g id=\"edge112\" class=\"edge\">\n<title>111&#45;&gt;112</title>\n<path fill=\"none\" stroke=\"black\" d=\"M4131.5,-1293.91C4131.5,-1285.65 4131.5,-1276.86 4131.5,-1268.3\"/>\n<polygon fill=\"black\" stroke=\"black\" points=\"4135,-1268.02 4131.5,-1258.02 4128,-1268.02 4135,-1268.02\"/>\n</g>\n<!-- 145 -->\n<g id=\"node146\" class=\"node\">\n<title>145</title>\n<polygon fill=\"#e78c4a\" stroke=\"black\" points=\"4405,-1258 4258,-1258 4258,-1175 4405,-1175 4405,-1258\"/>\n<text text-anchor=\"middle\" x=\"4331.5\" y=\"-1242.8\" font-family=\"Helvetica,sans-Serif\" font-size=\"14.00\">arrival_day &lt;= 27.5</text>\n<text text-anchor=\"middle\" x=\"4331.5\" y=\"-1227.8\" font-family=\"Helvetica,sans-Serif\" font-size=\"14.00\">gini = 0.149</text>\n<text text-anchor=\"middle\" x=\"4331.5\" y=\"-1212.8\" font-family=\"Helvetica,sans-Serif\" font-size=\"14.00\">samples = 7.2%</text>\n<text text-anchor=\"middle\" x=\"4331.5\" y=\"-1197.8\" font-family=\"Helvetica,sans-Serif\" font-size=\"14.00\">value = [0.919, 0.081]</text>\n<text text-anchor=\"middle\" x=\"4331.5\" y=\"-1182.8\" font-family=\"Helvetica,sans-Serif\" font-size=\"14.00\">class = 0</text>\n</g>\n<!-- 111&#45;&gt;145 -->\n<g id=\"edge145\" class=\"edge\">\n<title>111&#45;&gt;145</title>\n<path fill=\"none\" stroke=\"black\" d=\"M4200.89,-1293.91C4217.8,-1284.02 4236,-1273.37 4253.29,-1263.25\"/>\n<polygon fill=\"black\" stroke=\"black\" points=\"4255.37,-1266.09 4262.23,-1258.02 4251.83,-1260.05 4255.37,-1266.09\"/>\n</g>\n<!-- 113 -->\n<g id=\"node114\" class=\"node\">\n<title>113</title>\n<polygon fill=\"#e58139\" stroke=\"black\" points=\"4052,-1131.5 3935,-1131.5 3935,-1063.5 4052,-1063.5 4052,-1131.5\"/>\n<text text-anchor=\"middle\" x=\"3993.5\" y=\"-1116.3\" font-family=\"Helvetica,sans-Serif\" font-size=\"14.00\">gini = 0.0</text>\n<text text-anchor=\"middle\" x=\"3993.5\" y=\"-1101.3\" font-family=\"Helvetica,sans-Serif\" font-size=\"14.00\">samples = 1.5%</text>\n<text text-anchor=\"middle\" x=\"3993.5\" y=\"-1086.3\" font-family=\"Helvetica,sans-Serif\" font-size=\"14.00\">value = [1.0, 0.0]</text>\n<text text-anchor=\"middle\" x=\"3993.5\" y=\"-1071.3\" font-family=\"Helvetica,sans-Serif\" font-size=\"14.00\">class = 0</text>\n</g>\n<!-- 112&#45;&gt;113 -->\n<g id=\"edge113\" class=\"edge\">\n<title>112&#45;&gt;113</title>\n<path fill=\"none\" stroke=\"black\" d=\"M4083.62,-1174.91C4069.7,-1163.1 4054.5,-1150.22 4040.62,-1138.45\"/>\n<polygon fill=\"black\" stroke=\"black\" points=\"4042.51,-1135.46 4032.62,-1131.67 4037.98,-1140.8 4042.51,-1135.46\"/>\n</g>\n<!-- 114 -->\n<g id=\"node115\" class=\"node\">\n<title>114</title>\n<polygon fill=\"#eead7f\" stroke=\"black\" points=\"4217,-1139 4070,-1139 4070,-1056 4217,-1056 4217,-1139\"/>\n<text text-anchor=\"middle\" x=\"4143.5\" y=\"-1123.8\" font-family=\"Helvetica,sans-Serif\" font-size=\"14.00\">no_of_adults &lt;= 2.5</text>\n<text text-anchor=\"middle\" x=\"4143.5\" y=\"-1108.8\" font-family=\"Helvetica,sans-Serif\" font-size=\"14.00\">gini = 0.385</text>\n<text text-anchor=\"middle\" x=\"4143.5\" y=\"-1093.8\" font-family=\"Helvetica,sans-Serif\" font-size=\"14.00\">samples = 13.6%</text>\n<text text-anchor=\"middle\" x=\"4143.5\" y=\"-1078.8\" font-family=\"Helvetica,sans-Serif\" font-size=\"14.00\">value = [0.739, 0.261]</text>\n<text text-anchor=\"middle\" x=\"4143.5\" y=\"-1063.8\" font-family=\"Helvetica,sans-Serif\" font-size=\"14.00\">class = 0</text>\n</g>\n<!-- 112&#45;&gt;114 -->\n<g id=\"edge114\" class=\"edge\">\n<title>112&#45;&gt;114</title>\n<path fill=\"none\" stroke=\"black\" d=\"M4135.66,-1174.91C4136.52,-1166.56 4137.43,-1157.67 4138.32,-1149.02\"/>\n<polygon fill=\"black\" stroke=\"black\" points=\"4141.81,-1149.33 4139.34,-1139.02 4134.84,-1148.61 4141.81,-1149.33\"/>\n</g>\n<!-- 115 -->\n<g id=\"node116\" class=\"node\">\n<title>115</title>\n<polygon fill=\"#eda978\" stroke=\"black\" points=\"4067,-1020 3934,-1020 3934,-937 4067,-937 4067,-1020\"/>\n<text text-anchor=\"middle\" x=\"4000.5\" y=\"-1004.8\" font-family=\"Helvetica,sans-Serif\" font-size=\"14.00\">arrival_day &lt;= 11.5</text>\n<text text-anchor=\"middle\" x=\"4000.5\" y=\"-989.8\" font-family=\"Helvetica,sans-Serif\" font-size=\"14.00\">gini = 0.365</text>\n<text text-anchor=\"middle\" x=\"4000.5\" y=\"-974.8\" font-family=\"Helvetica,sans-Serif\" font-size=\"14.00\">samples = 12.5%</text>\n<text text-anchor=\"middle\" x=\"4000.5\" y=\"-959.8\" font-family=\"Helvetica,sans-Serif\" font-size=\"14.00\">value = [0.76, 0.24]</text>\n<text text-anchor=\"middle\" x=\"4000.5\" y=\"-944.8\" font-family=\"Helvetica,sans-Serif\" font-size=\"14.00\">class = 0</text>\n</g>\n<!-- 114&#45;&gt;115 -->\n<g id=\"edge115\" class=\"edge\">\n<title>114&#45;&gt;115</title>\n<path fill=\"none\" stroke=\"black\" d=\"M4093.89,-1055.91C4082.24,-1046.38 4069.74,-1036.15 4057.79,-1026.37\"/>\n<polygon fill=\"black\" stroke=\"black\" points=\"4059.98,-1023.64 4050.03,-1020.02 4055.55,-1029.06 4059.98,-1023.64\"/>\n</g>\n<!-- 144 -->\n<g id=\"node145\" class=\"node\">\n<title>144</title>\n<polygon fill=\"#ffffff\" stroke=\"black\" points=\"4202,-1012.5 4085,-1012.5 4085,-944.5 4202,-944.5 4202,-1012.5\"/>\n<text text-anchor=\"middle\" x=\"4143.5\" y=\"-997.3\" font-family=\"Helvetica,sans-Serif\" font-size=\"14.00\">gini = 0.5</text>\n<text text-anchor=\"middle\" x=\"4143.5\" y=\"-982.3\" font-family=\"Helvetica,sans-Serif\" font-size=\"14.00\">samples = 1.1%</text>\n<text text-anchor=\"middle\" x=\"4143.5\" y=\"-967.3\" font-family=\"Helvetica,sans-Serif\" font-size=\"14.00\">value = [0.5, 0.5]</text>\n<text text-anchor=\"middle\" x=\"4143.5\" y=\"-952.3\" font-family=\"Helvetica,sans-Serif\" font-size=\"14.00\">class = 0</text>\n</g>\n<!-- 114&#45;&gt;144 -->\n<g id=\"edge144\" class=\"edge\">\n<title>114&#45;&gt;144</title>\n<path fill=\"none\" stroke=\"black\" d=\"M4143.5,-1055.91C4143.5,-1045.2 4143.5,-1033.62 4143.5,-1022.78\"/>\n<polygon fill=\"black\" stroke=\"black\" points=\"4147,-1022.67 4143.5,-1012.67 4140,-1022.67 4147,-1022.67\"/>\n</g>\n<!-- 116 -->\n<g id=\"node117\" class=\"node\">\n<title>116</title>\n<polygon fill=\"#f2bf9a\" stroke=\"black\" points=\"4049,-901 3916,-901 3916,-818 4049,-818 4049,-901\"/>\n<text text-anchor=\"middle\" x=\"3982.5\" y=\"-885.8\" font-family=\"Helvetica,sans-Serif\" font-size=\"14.00\">arrival_day &lt;= 10.5</text>\n<text text-anchor=\"middle\" x=\"3982.5\" y=\"-870.8\" font-family=\"Helvetica,sans-Serif\" font-size=\"14.00\">gini = 0.442</text>\n<text text-anchor=\"middle\" x=\"3982.5\" y=\"-855.8\" font-family=\"Helvetica,sans-Serif\" font-size=\"14.00\">samples = 4.7%</text>\n<text text-anchor=\"middle\" x=\"3982.5\" y=\"-840.8\" font-family=\"Helvetica,sans-Serif\" font-size=\"14.00\">value = [0.67, 0.33]</text>\n<text text-anchor=\"middle\" x=\"3982.5\" y=\"-825.8\" font-family=\"Helvetica,sans-Serif\" font-size=\"14.00\">class = 0</text>\n</g>\n<!-- 115&#45;&gt;116 -->\n<g id=\"edge116\" class=\"edge\">\n<title>115&#45;&gt;116</title>\n<path fill=\"none\" stroke=\"black\" d=\"M3994.25,-936.91C3992.97,-928.56 3991.6,-919.67 3990.27,-911.02\"/>\n<polygon fill=\"black\" stroke=\"black\" points=\"3993.71,-910.37 3988.73,-901.02 3986.8,-911.44 3993.71,-910.37\"/>\n</g>\n<!-- 127 -->\n<g id=\"node128\" class=\"node\">\n<title>127</title>\n<polygon fill=\"#eb9e66\" stroke=\"black\" points=\"4243.5,-901 4067.5,-901 4067.5,-818 4243.5,-818 4243.5,-901\"/>\n<text text-anchor=\"middle\" x=\"4155.5\" y=\"-885.8\" font-family=\"Helvetica,sans-Serif\" font-size=\"14.00\">no_of_week_nights &lt;= 0.5</text>\n<text text-anchor=\"middle\" x=\"4155.5\" y=\"-870.8\" font-family=\"Helvetica,sans-Serif\" font-size=\"14.00\">gini = 0.303</text>\n<text text-anchor=\"middle\" x=\"4155.5\" y=\"-855.8\" font-family=\"Helvetica,sans-Serif\" font-size=\"14.00\">samples = 7.8%</text>\n<text text-anchor=\"middle\" x=\"4155.5\" y=\"-840.8\" font-family=\"Helvetica,sans-Serif\" font-size=\"14.00\">value = [0.814, 0.186]</text>\n<text text-anchor=\"middle\" x=\"4155.5\" y=\"-825.8\" font-family=\"Helvetica,sans-Serif\" font-size=\"14.00\">class = 0</text>\n</g>\n<!-- 115&#45;&gt;127 -->\n<g id=\"edge127\" class=\"edge\">\n<title>115&#45;&gt;127</title>\n<path fill=\"none\" stroke=\"black\" d=\"M4054.28,-936.91C4067.02,-927.29 4080.71,-916.95 4093.78,-907.09\"/>\n<polygon fill=\"black\" stroke=\"black\" points=\"4095.95,-909.84 4101.82,-901.02 4091.73,-904.25 4095.95,-909.84\"/>\n</g>\n<!-- 117 -->\n<g id=\"node118\" class=\"node\">\n<title>117</title>\n<polygon fill=\"#f0b68c\" stroke=\"black\" points=\"3917.5,-782 3741.5,-782 3741.5,-699 3917.5,-699 3917.5,-782\"/>\n<text text-anchor=\"middle\" x=\"3829.5\" y=\"-766.8\" font-family=\"Helvetica,sans-Serif\" font-size=\"14.00\">no_of_week_nights &lt;= 3.5</text>\n<text text-anchor=\"middle\" x=\"3829.5\" y=\"-751.8\" font-family=\"Helvetica,sans-Serif\" font-size=\"14.00\">gini = 0.416</text>\n<text text-anchor=\"middle\" x=\"3829.5\" y=\"-736.8\" font-family=\"Helvetica,sans-Serif\" font-size=\"14.00\">samples = 4.3%</text>\n<text text-anchor=\"middle\" x=\"3829.5\" y=\"-721.8\" font-family=\"Helvetica,sans-Serif\" font-size=\"14.00\">value = [0.705, 0.295]</text>\n<text text-anchor=\"middle\" x=\"3829.5\" y=\"-706.8\" font-family=\"Helvetica,sans-Serif\" font-size=\"14.00\">class = 0</text>\n</g>\n<!-- 116&#45;&gt;117 -->\n<g id=\"edge117\" class=\"edge\">\n<title>116&#45;&gt;117</title>\n<path fill=\"none\" stroke=\"black\" d=\"M3929.42,-817.91C3916.96,-808.38 3903.58,-798.15 3890.79,-788.37\"/>\n<polygon fill=\"black\" stroke=\"black\" points=\"3892.56,-785.32 3882.49,-782.02 3888.31,-790.88 3892.56,-785.32\"/>\n</g>\n<!-- 126 -->\n<g id=\"node127\" class=\"node\">\n<title>126</title>\n<polygon fill=\"#9ccef2\" stroke=\"black\" points=\"4083,-774.5 3936,-774.5 3936,-706.5 4083,-706.5 4083,-774.5\"/>\n<text text-anchor=\"middle\" x=\"4009.5\" y=\"-759.3\" font-family=\"Helvetica,sans-Serif\" font-size=\"14.00\">gini = 0.444</text>\n<text text-anchor=\"middle\" x=\"4009.5\" y=\"-744.3\" font-family=\"Helvetica,sans-Serif\" font-size=\"14.00\">samples = 0.4%</text>\n<text text-anchor=\"middle\" x=\"4009.5\" y=\"-729.3\" font-family=\"Helvetica,sans-Serif\" font-size=\"14.00\">value = [0.333, 0.667]</text>\n<text text-anchor=\"middle\" x=\"4009.5\" y=\"-714.3\" font-family=\"Helvetica,sans-Serif\" font-size=\"14.00\">class = 1</text>\n</g>\n<!-- 116&#45;&gt;126 -->\n<g id=\"edge126\" class=\"edge\">\n<title>116&#45;&gt;126</title>\n<path fill=\"none\" stroke=\"black\" d=\"M3991.87,-817.91C3994.36,-807.09 3997.07,-795.38 3999.59,-784.44\"/>\n<polygon fill=\"black\" stroke=\"black\" points=\"4003.01,-785.2 4001.85,-774.67 3996.19,-783.62 4003.01,-785.2\"/>\n</g>\n<!-- 118 -->\n<g id=\"node119\" class=\"node\">\n<title>118</title>\n<polygon fill=\"#eda977\" stroke=\"black\" points=\"3930,-663 3731,-663 3731,-580 3930,-580 3930,-663\"/>\n<text text-anchor=\"middle\" x=\"3830.5\" y=\"-647.8\" font-family=\"Helvetica,sans-Serif\" font-size=\"14.00\">avg_price_per_room &lt;= 106.3</text>\n<text text-anchor=\"middle\" x=\"3830.5\" y=\"-632.8\" font-family=\"Helvetica,sans-Serif\" font-size=\"14.00\">gini = 0.364</text>\n<text text-anchor=\"middle\" x=\"3830.5\" y=\"-617.8\" font-family=\"Helvetica,sans-Serif\" font-size=\"14.00\">samples = 3.4%</text>\n<text text-anchor=\"middle\" x=\"3830.5\" y=\"-602.8\" font-family=\"Helvetica,sans-Serif\" font-size=\"14.00\">value = [0.761, 0.239]</text>\n<text text-anchor=\"middle\" x=\"3830.5\" y=\"-587.8\" font-family=\"Helvetica,sans-Serif\" font-size=\"14.00\">class = 0</text>\n</g>\n<!-- 117&#45;&gt;118 -->\n<g id=\"edge118\" class=\"edge\">\n<title>117&#45;&gt;118</title>\n<path fill=\"none\" stroke=\"black\" d=\"M3829.85,-698.91C3829.92,-690.65 3829.99,-681.86 3830.07,-673.3\"/>\n<polygon fill=\"black\" stroke=\"black\" points=\"3833.57,-673.05 3830.15,-663.02 3826.57,-672.99 3833.57,-673.05\"/>\n</g>\n<!-- 125 -->\n<g id=\"node126\" class=\"node\">\n<title>125</title>\n<polygon fill=\"#e9f4fc\" stroke=\"black\" points=\"4095,-655.5 3948,-655.5 3948,-587.5 4095,-587.5 4095,-655.5\"/>\n<text text-anchor=\"middle\" x=\"4021.5\" y=\"-640.3\" font-family=\"Helvetica,sans-Serif\" font-size=\"14.00\">gini = 0.498</text>\n<text text-anchor=\"middle\" x=\"4021.5\" y=\"-625.3\" font-family=\"Helvetica,sans-Serif\" font-size=\"14.00\">samples = 0.8%</text>\n<text text-anchor=\"middle\" x=\"4021.5\" y=\"-610.3\" font-family=\"Helvetica,sans-Serif\" font-size=\"14.00\">value = [0.471, 0.529]</text>\n<text text-anchor=\"middle\" x=\"4021.5\" y=\"-595.3\" font-family=\"Helvetica,sans-Serif\" font-size=\"14.00\">class = 1</text>\n</g>\n<!-- 117&#45;&gt;125 -->\n<g id=\"edge125\" class=\"edge\">\n<title>117&#45;&gt;125</title>\n<path fill=\"none\" stroke=\"black\" d=\"M3896.11,-698.91C3916.3,-686.6 3938.41,-673.13 3958.37,-660.97\"/>\n<polygon fill=\"black\" stroke=\"black\" points=\"3960.35,-663.86 3967.07,-655.67 3956.71,-657.88 3960.35,-663.86\"/>\n</g>\n<!-- 119 -->\n<g id=\"node120\" class=\"node\">\n<title>119</title>\n<polygon fill=\"#e88d4c\" stroke=\"black\" points=\"3904,-544 3757,-544 3757,-461 3904,-461 3904,-544\"/>\n<text text-anchor=\"middle\" x=\"3830.5\" y=\"-528.8\" font-family=\"Helvetica,sans-Serif\" font-size=\"14.00\">lead_time &lt;= 110.5</text>\n<text text-anchor=\"middle\" x=\"3830.5\" y=\"-513.8\" font-family=\"Helvetica,sans-Serif\" font-size=\"14.00\">gini = 0.161</text>\n<text text-anchor=\"middle\" x=\"3830.5\" y=\"-498.8\" font-family=\"Helvetica,sans-Serif\" font-size=\"14.00\">samples = 1.6%</text>\n<text text-anchor=\"middle\" x=\"3830.5\" y=\"-483.8\" font-family=\"Helvetica,sans-Serif\" font-size=\"14.00\">value = [0.912, 0.088]</text>\n<text text-anchor=\"middle\" x=\"3830.5\" y=\"-468.8\" font-family=\"Helvetica,sans-Serif\" font-size=\"14.00\">class = 0</text>\n</g>\n<!-- 118&#45;&gt;119 -->\n<g id=\"edge119\" class=\"edge\">\n<title>118&#45;&gt;119</title>\n<path fill=\"none\" stroke=\"black\" d=\"M3830.5,-579.91C3830.5,-571.65 3830.5,-562.86 3830.5,-554.3\"/>\n<polygon fill=\"black\" stroke=\"black\" points=\"3834,-554.02 3830.5,-544.02 3827,-554.02 3834,-554.02\"/>\n</g>\n<!-- 122 -->\n<g id=\"node123\" class=\"node\">\n<title>122</title>\n<polygon fill=\"#f5ceb2\" stroke=\"black\" points=\"4128.5,-544 3922.5,-544 3922.5,-461 4128.5,-461 4128.5,-544\"/>\n<text text-anchor=\"middle\" x=\"4025.5\" y=\"-528.8\" font-family=\"Helvetica,sans-Serif\" font-size=\"14.00\">avg_price_per_room &lt;= 112.05</text>\n<text text-anchor=\"middle\" x=\"4025.5\" y=\"-513.8\" font-family=\"Helvetica,sans-Serif\" font-size=\"14.00\">gini = 0.47</text>\n<text text-anchor=\"middle\" x=\"4025.5\" y=\"-498.8\" font-family=\"Helvetica,sans-Serif\" font-size=\"14.00\">samples = 1.8%</text>\n<text text-anchor=\"middle\" x=\"4025.5\" y=\"-483.8\" font-family=\"Helvetica,sans-Serif\" font-size=\"14.00\">value = [0.622, 0.378]</text>\n<text text-anchor=\"middle\" x=\"4025.5\" y=\"-468.8\" font-family=\"Helvetica,sans-Serif\" font-size=\"14.00\">class = 0</text>\n</g>\n<!-- 118&#45;&gt;122 -->\n<g id=\"edge122\" class=\"edge\">\n<title>118&#45;&gt;122</title>\n<path fill=\"none\" stroke=\"black\" d=\"M3898.15,-579.91C3914.64,-570.02 3932.39,-559.37 3949.24,-549.25\"/>\n<polygon fill=\"black\" stroke=\"black\" points=\"3951.19,-552.17 3957.97,-544.02 3947.59,-546.16 3951.19,-552.17\"/>\n</g>\n<!-- 120 -->\n<g id=\"node121\" class=\"node\">\n<title>120</title>\n<polygon fill=\"#e68640\" stroke=\"black\" points=\"3746,-417.5 3599,-417.5 3599,-349.5 3746,-349.5 3746,-417.5\"/>\n<text text-anchor=\"middle\" x=\"3672.5\" y=\"-402.3\" font-family=\"Helvetica,sans-Serif\" font-size=\"14.00\">gini = 0.069</text>\n<text text-anchor=\"middle\" x=\"3672.5\" y=\"-387.3\" font-family=\"Helvetica,sans-Serif\" font-size=\"14.00\">samples = 1.4%</text>\n<text text-anchor=\"middle\" x=\"3672.5\" y=\"-372.3\" font-family=\"Helvetica,sans-Serif\" font-size=\"14.00\">value = [0.964, 0.036]</text>\n<text text-anchor=\"middle\" x=\"3672.5\" y=\"-357.3\" font-family=\"Helvetica,sans-Serif\" font-size=\"14.00\">class = 0</text>\n</g>\n<!-- 119&#45;&gt;120 -->\n<g id=\"edge120\" class=\"edge\">\n<title>119&#45;&gt;120</title>\n<path fill=\"none\" stroke=\"black\" d=\"M3775.68,-460.91C3759.44,-448.88 3741.69,-435.73 3725.56,-423.79\"/>\n<polygon fill=\"black\" stroke=\"black\" points=\"3727.41,-420.81 3717.29,-417.67 3723.24,-426.43 3727.41,-420.81\"/>\n</g>\n<!-- 121 -->\n<g id=\"node122\" class=\"node\">\n<title>121</title>\n<polygon fill=\"#f2c09c\" stroke=\"black\" points=\"3911,-417.5 3764,-417.5 3764,-349.5 3911,-349.5 3911,-417.5\"/>\n<text text-anchor=\"middle\" x=\"3837.5\" y=\"-402.3\" font-family=\"Helvetica,sans-Serif\" font-size=\"14.00\">gini = 0.444</text>\n<text text-anchor=\"middle\" x=\"3837.5\" y=\"-387.3\" font-family=\"Helvetica,sans-Serif\" font-size=\"14.00\">samples = 0.3%</text>\n<text text-anchor=\"middle\" x=\"3837.5\" y=\"-372.3\" font-family=\"Helvetica,sans-Serif\" font-size=\"14.00\">value = [0.667, 0.333]</text>\n<text text-anchor=\"middle\" x=\"3837.5\" y=\"-357.3\" font-family=\"Helvetica,sans-Serif\" font-size=\"14.00\">class = 0</text>\n</g>\n<!-- 119&#45;&gt;121 -->\n<g id=\"edge121\" class=\"edge\">\n<title>119&#45;&gt;121</title>\n<path fill=\"none\" stroke=\"black\" d=\"M3832.93,-460.91C3833.57,-450.2 3834.26,-438.62 3834.91,-427.78\"/>\n<polygon fill=\"black\" stroke=\"black\" points=\"3838.41,-427.86 3835.52,-417.67 3831.42,-427.44 3838.41,-427.86\"/>\n</g>\n<!-- 123 -->\n<g id=\"node124\" class=\"node\">\n<title>123</title>\n<polygon fill=\"#55abe9\" stroke=\"black\" points=\"4091,-417.5 3944,-417.5 3944,-349.5 4091,-349.5 4091,-417.5\"/>\n<text text-anchor=\"middle\" x=\"4017.5\" y=\"-402.3\" font-family=\"Helvetica,sans-Serif\" font-size=\"14.00\">gini = 0.219</text>\n<text text-anchor=\"middle\" x=\"4017.5\" y=\"-387.3\" font-family=\"Helvetica,sans-Serif\" font-size=\"14.00\">samples = 0.4%</text>\n<text text-anchor=\"middle\" x=\"4017.5\" y=\"-372.3\" font-family=\"Helvetica,sans-Serif\" font-size=\"14.00\">value = [0.125, 0.875]</text>\n<text text-anchor=\"middle\" x=\"4017.5\" y=\"-357.3\" font-family=\"Helvetica,sans-Serif\" font-size=\"14.00\">class = 1</text>\n</g>\n<!-- 122&#45;&gt;123 -->\n<g id=\"edge123\" class=\"edge\">\n<title>122&#45;&gt;123</title>\n<path fill=\"none\" stroke=\"black\" d=\"M4022.72,-460.91C4021.99,-450.2 4021.2,-438.62 4020.46,-427.78\"/>\n<polygon fill=\"black\" stroke=\"black\" points=\"4023.94,-427.4 4019.77,-417.67 4016.96,-427.88 4023.94,-427.4\"/>\n</g>\n<!-- 124 -->\n<g id=\"node125\" class=\"node\">\n<title>124</title>\n<polygon fill=\"#eda978\" stroke=\"black\" points=\"4256,-417.5 4109,-417.5 4109,-349.5 4256,-349.5 4256,-417.5\"/>\n<text text-anchor=\"middle\" x=\"4182.5\" y=\"-402.3\" font-family=\"Helvetica,sans-Serif\" font-size=\"14.00\">gini = 0.366</text>\n<text text-anchor=\"middle\" x=\"4182.5\" y=\"-387.3\" font-family=\"Helvetica,sans-Serif\" font-size=\"14.00\">samples = 1.4%</text>\n<text text-anchor=\"middle\" x=\"4182.5\" y=\"-372.3\" font-family=\"Helvetica,sans-Serif\" font-size=\"14.00\">value = [0.759, 0.241]</text>\n<text text-anchor=\"middle\" x=\"4182.5\" y=\"-357.3\" font-family=\"Helvetica,sans-Serif\" font-size=\"14.00\">class = 0</text>\n</g>\n<!-- 122&#45;&gt;124 -->\n<g id=\"edge124\" class=\"edge\">\n<title>122&#45;&gt;124</title>\n<path fill=\"none\" stroke=\"black\" d=\"M4079.97,-460.91C4096.11,-448.88 4113.75,-435.73 4129.78,-423.79\"/>\n<polygon fill=\"black\" stroke=\"black\" points=\"4132.07,-426.45 4137.99,-417.67 4127.88,-420.84 4132.07,-426.45\"/>\n</g>\n<!-- 128 -->\n<g id=\"node129\" class=\"node\">\n<title>128</title>\n<polygon fill=\"#9ccef2\" stroke=\"black\" points=\"4248,-774.5 4101,-774.5 4101,-706.5 4248,-706.5 4248,-774.5\"/>\n<text text-anchor=\"middle\" x=\"4174.5\" y=\"-759.3\" font-family=\"Helvetica,sans-Serif\" font-size=\"14.00\">gini = 0.444</text>\n<text text-anchor=\"middle\" x=\"4174.5\" y=\"-744.3\" font-family=\"Helvetica,sans-Serif\" font-size=\"14.00\">samples = 0.3%</text>\n<text text-anchor=\"middle\" x=\"4174.5\" y=\"-729.3\" font-family=\"Helvetica,sans-Serif\" font-size=\"14.00\">value = [0.333, 0.667]</text>\n<text text-anchor=\"middle\" x=\"4174.5\" y=\"-714.3\" font-family=\"Helvetica,sans-Serif\" font-size=\"14.00\">class = 1</text>\n</g>\n<!-- 127&#45;&gt;128 -->\n<g id=\"edge128\" class=\"edge\">\n<title>127&#45;&gt;128</title>\n<path fill=\"none\" stroke=\"black\" d=\"M4162.09,-817.91C4163.83,-807.2 4165.71,-795.62 4167.47,-784.78\"/>\n<polygon fill=\"black\" stroke=\"black\" points=\"4170.97,-785.1 4169.11,-774.67 4164.06,-783.98 4170.97,-785.1\"/>\n</g>\n<!-- 129 -->\n<g id=\"node130\" class=\"node\">\n<title>129</title>\n<polygon fill=\"#ea9a61\" stroke=\"black\" points=\"4413,-782 4266,-782 4266,-699 4413,-699 4413,-782\"/>\n<text text-anchor=\"middle\" x=\"4339.5\" y=\"-766.8\" font-family=\"Helvetica,sans-Serif\" font-size=\"14.00\">lead_time &lt;= 116.5</text>\n<text text-anchor=\"middle\" x=\"4339.5\" y=\"-751.8\" font-family=\"Helvetica,sans-Serif\" font-size=\"14.00\">gini = 0.279</text>\n<text text-anchor=\"middle\" x=\"4339.5\" y=\"-736.8\" font-family=\"Helvetica,sans-Serif\" font-size=\"14.00\">samples = 7.5%</text>\n<text text-anchor=\"middle\" x=\"4339.5\" y=\"-721.8\" font-family=\"Helvetica,sans-Serif\" font-size=\"14.00\">value = [0.832, 0.168]</text>\n<text text-anchor=\"middle\" x=\"4339.5\" y=\"-706.8\" font-family=\"Helvetica,sans-Serif\" font-size=\"14.00\">class = 0</text>\n</g>\n<!-- 127&#45;&gt;129 -->\n<g id=\"edge129\" class=\"edge\">\n<title>127&#45;&gt;129</title>\n<path fill=\"none\" stroke=\"black\" d=\"M4219.34,-817.91C4234.75,-808.11 4251.33,-797.56 4267.11,-787.53\"/>\n<polygon fill=\"black\" stroke=\"black\" points=\"4269.21,-790.34 4275.77,-782.02 4265.46,-784.43 4269.21,-790.34\"/>\n</g>\n<!-- 130 -->\n<g id=\"node131\" class=\"node\">\n<title>130</title>\n<polygon fill=\"#e99558\" stroke=\"black\" points=\"4394.5,-663 4218.5,-663 4218.5,-580 4394.5,-580 4394.5,-663\"/>\n<text text-anchor=\"middle\" x=\"4306.5\" y=\"-647.8\" font-family=\"Helvetica,sans-Serif\" font-size=\"14.00\">no_of_week_nights &lt;= 1.5</text>\n<text text-anchor=\"middle\" x=\"4306.5\" y=\"-632.8\" font-family=\"Helvetica,sans-Serif\" font-size=\"14.00\">gini = 0.233</text>\n<text text-anchor=\"middle\" x=\"4306.5\" y=\"-617.8\" font-family=\"Helvetica,sans-Serif\" font-size=\"14.00\">samples = 6.5%</text>\n<text text-anchor=\"middle\" x=\"4306.5\" y=\"-602.8\" font-family=\"Helvetica,sans-Serif\" font-size=\"14.00\">value = [0.866, 0.134]</text>\n<text text-anchor=\"middle\" x=\"4306.5\" y=\"-587.8\" font-family=\"Helvetica,sans-Serif\" font-size=\"14.00\">class = 0</text>\n</g>\n<!-- 129&#45;&gt;130 -->\n<g id=\"edge130\" class=\"edge\">\n<title>129&#45;&gt;130</title>\n<path fill=\"none\" stroke=\"black\" d=\"M4328.05,-698.91C4325.67,-690.47 4323.13,-681.48 4320.67,-672.74\"/>\n<polygon fill=\"black\" stroke=\"black\" points=\"4324.01,-671.7 4317.93,-663.02 4317.28,-673.6 4324.01,-671.7\"/>\n</g>\n<!-- 143 -->\n<g id=\"node144\" class=\"node\">\n<title>143</title>\n<polygon fill=\"#f5cfb3\" stroke=\"black\" points=\"4560,-655.5 4413,-655.5 4413,-587.5 4560,-587.5 4560,-655.5\"/>\n<text text-anchor=\"middle\" x=\"4486.5\" y=\"-640.3\" font-family=\"Helvetica,sans-Serif\" font-size=\"14.00\">gini = 0.472</text>\n<text text-anchor=\"middle\" x=\"4486.5\" y=\"-625.3\" font-family=\"Helvetica,sans-Serif\" font-size=\"14.00\">samples = 1.0%</text>\n<text text-anchor=\"middle\" x=\"4486.5\" y=\"-610.3\" font-family=\"Helvetica,sans-Serif\" font-size=\"14.00\">value = [0.619, 0.381]</text>\n<text text-anchor=\"middle\" x=\"4486.5\" y=\"-595.3\" font-family=\"Helvetica,sans-Serif\" font-size=\"14.00\">class = 0</text>\n</g>\n<!-- 129&#45;&gt;143 -->\n<g id=\"edge143\" class=\"edge\">\n<title>129&#45;&gt;143</title>\n<path fill=\"none\" stroke=\"black\" d=\"M4390.5,-698.91C4405.47,-686.99 4421.83,-673.98 4436.72,-662.12\"/>\n<polygon fill=\"black\" stroke=\"black\" points=\"4439.18,-664.63 4444.83,-655.67 4434.82,-659.16 4439.18,-664.63\"/>\n</g>\n<!-- 131 -->\n<g id=\"node132\" class=\"node\">\n<title>131</title>\n<polygon fill=\"#e58139\" stroke=\"black\" points=\"4348,-536.5 4231,-536.5 4231,-468.5 4348,-468.5 4348,-536.5\"/>\n<text text-anchor=\"middle\" x=\"4289.5\" y=\"-521.3\" font-family=\"Helvetica,sans-Serif\" font-size=\"14.00\">gini = 0.0</text>\n<text text-anchor=\"middle\" x=\"4289.5\" y=\"-506.3\" font-family=\"Helvetica,sans-Serif\" font-size=\"14.00\">samples = 1.7%</text>\n<text text-anchor=\"middle\" x=\"4289.5\" y=\"-491.3\" font-family=\"Helvetica,sans-Serif\" font-size=\"14.00\">value = [1.0, 0.0]</text>\n<text text-anchor=\"middle\" x=\"4289.5\" y=\"-476.3\" font-family=\"Helvetica,sans-Serif\" font-size=\"14.00\">class = 0</text>\n</g>\n<!-- 130&#45;&gt;131 -->\n<g id=\"edge131\" class=\"edge\">\n<title>130&#45;&gt;131</title>\n<path fill=\"none\" stroke=\"black\" d=\"M4300.6,-579.91C4299.05,-569.2 4297.36,-557.62 4295.79,-546.78\"/>\n<polygon fill=\"black\" stroke=\"black\" points=\"4299.22,-546.06 4294.32,-536.67 4292.29,-547.07 4299.22,-546.06\"/>\n</g>\n<!-- 132 -->\n<g id=\"node133\" class=\"node\">\n<title>132</title>\n<polygon fill=\"#eb9d65\" stroke=\"black\" points=\"4513,-544 4366,-544 4366,-461 4513,-461 4513,-544\"/>\n<text text-anchor=\"middle\" x=\"4439.5\" y=\"-528.8\" font-family=\"Helvetica,sans-Serif\" font-size=\"14.00\">lead_time &lt;= 81.5</text>\n<text text-anchor=\"middle\" x=\"4439.5\" y=\"-513.8\" font-family=\"Helvetica,sans-Serif\" font-size=\"14.00\">gini = 0.298</text>\n<text text-anchor=\"middle\" x=\"4439.5\" y=\"-498.8\" font-family=\"Helvetica,sans-Serif\" font-size=\"14.00\">samples = 4.8%</text>\n<text text-anchor=\"middle\" x=\"4439.5\" y=\"-483.8\" font-family=\"Helvetica,sans-Serif\" font-size=\"14.00\">value = [0.818, 0.182]</text>\n<text text-anchor=\"middle\" x=\"4439.5\" y=\"-468.8\" font-family=\"Helvetica,sans-Serif\" font-size=\"14.00\">class = 0</text>\n</g>\n<!-- 130&#45;&gt;132 -->\n<g id=\"edge132\" class=\"edge\">\n<title>130&#45;&gt;132</title>\n<path fill=\"none\" stroke=\"black\" d=\"M4352.64,-579.91C4363.37,-570.47 4374.88,-560.34 4385.9,-550.65\"/>\n<polygon fill=\"black\" stroke=\"black\" points=\"4388.24,-553.25 4393.44,-544.02 4383.62,-548 4388.24,-553.25\"/>\n</g>\n<!-- 133 -->\n<g id=\"node134\" class=\"node\">\n<title>133</title>\n<polygon fill=\"#eeaa7a\" stroke=\"black\" points=\"4496,-425 4349,-425 4349,-342 4496,-342 4496,-425\"/>\n<text text-anchor=\"middle\" x=\"4422.5\" y=\"-409.8\" font-family=\"Helvetica,sans-Serif\" font-size=\"14.00\">lead_time &lt;= 67.5</text>\n<text text-anchor=\"middle\" x=\"4422.5\" y=\"-394.8\" font-family=\"Helvetica,sans-Serif\" font-size=\"14.00\">gini = 0.371</text>\n<text text-anchor=\"middle\" x=\"4422.5\" y=\"-379.8\" font-family=\"Helvetica,sans-Serif\" font-size=\"14.00\">samples = 3.3%</text>\n<text text-anchor=\"middle\" x=\"4422.5\" y=\"-364.8\" font-family=\"Helvetica,sans-Serif\" font-size=\"14.00\">value = [0.754, 0.246]</text>\n<text text-anchor=\"middle\" x=\"4422.5\" y=\"-349.8\" font-family=\"Helvetica,sans-Serif\" font-size=\"14.00\">class = 0</text>\n</g>\n<!-- 132&#45;&gt;133 -->\n<g id=\"edge133\" class=\"edge\">\n<title>132&#45;&gt;133</title>\n<path fill=\"none\" stroke=\"black\" d=\"M4433.6,-460.91C4432.39,-452.56 4431.1,-443.67 4429.84,-435.02\"/>\n<polygon fill=\"black\" stroke=\"black\" points=\"4433.29,-434.41 4428.39,-425.02 4426.36,-435.42 4433.29,-434.41\"/>\n</g>\n<!-- 140 -->\n<g id=\"node141\" class=\"node\">\n<title>140</title>\n<polygon fill=\"#e68540\" stroke=\"black\" points=\"4713,-425 4514,-425 4514,-342 4713,-342 4713,-425\"/>\n<text text-anchor=\"middle\" x=\"4613.5\" y=\"-409.8\" font-family=\"Helvetica,sans-Serif\" font-size=\"14.00\">avg_price_per_room &lt;= 74.47</text>\n<text text-anchor=\"middle\" x=\"4613.5\" y=\"-394.8\" font-family=\"Helvetica,sans-Serif\" font-size=\"14.00\">gini = 0.064</text>\n<text text-anchor=\"middle\" x=\"4613.5\" y=\"-379.8\" font-family=\"Helvetica,sans-Serif\" font-size=\"14.00\">samples = 1.5%</text>\n<text text-anchor=\"middle\" x=\"4613.5\" y=\"-364.8\" font-family=\"Helvetica,sans-Serif\" font-size=\"14.00\">value = [0.967, 0.033]</text>\n<text text-anchor=\"middle\" x=\"4613.5\" y=\"-349.8\" font-family=\"Helvetica,sans-Serif\" font-size=\"14.00\">class = 0</text>\n</g>\n<!-- 132&#45;&gt;140 -->\n<g id=\"edge140\" class=\"edge\">\n<title>132&#45;&gt;140</title>\n<path fill=\"none\" stroke=\"black\" d=\"M4499.87,-460.91C4514.31,-451.2 4529.83,-440.76 4544.63,-430.81\"/>\n<polygon fill=\"black\" stroke=\"black\" points=\"4546.89,-433.51 4553.24,-425.02 4542.99,-427.7 4546.89,-433.51\"/>\n</g>\n<!-- 134 -->\n<g id=\"node135\" class=\"node\">\n<title>134</title>\n<polygon fill=\"#ea985d\" stroke=\"black\" points=\"4341,-306 4194,-306 4194,-223 4341,-223 4341,-306\"/>\n<text text-anchor=\"middle\" x=\"4267.5\" y=\"-290.8\" font-family=\"Helvetica,sans-Serif\" font-size=\"14.00\">lead_time &lt;= 45.0</text>\n<text text-anchor=\"middle\" x=\"4267.5\" y=\"-275.8\" font-family=\"Helvetica,sans-Serif\" font-size=\"14.00\">gini = 0.26</text>\n<text text-anchor=\"middle\" x=\"4267.5\" y=\"-260.8\" font-family=\"Helvetica,sans-Serif\" font-size=\"14.00\">samples = 2.5%</text>\n<text text-anchor=\"middle\" x=\"4267.5\" y=\"-245.8\" font-family=\"Helvetica,sans-Serif\" font-size=\"14.00\">value = [0.846, 0.154]</text>\n<text text-anchor=\"middle\" x=\"4267.5\" y=\"-230.8\" font-family=\"Helvetica,sans-Serif\" font-size=\"14.00\">class = 0</text>\n</g>\n<!-- 133&#45;&gt;134 -->\n<g id=\"edge134\" class=\"edge\">\n<title>133&#45;&gt;134</title>\n<path fill=\"none\" stroke=\"black\" d=\"M4368.72,-341.91C4355.98,-332.29 4342.29,-321.95 4329.22,-312.09\"/>\n<polygon fill=\"black\" stroke=\"black\" points=\"4331.27,-309.25 4321.18,-306.02 4327.05,-314.84 4331.27,-309.25\"/>\n</g>\n<!-- 139 -->\n<g id=\"node140\" class=\"node\">\n<title>139</title>\n<polygon fill=\"#e9f4fc\" stroke=\"black\" points=\"4506,-298.5 4359,-298.5 4359,-230.5 4506,-230.5 4506,-298.5\"/>\n<text text-anchor=\"middle\" x=\"4432.5\" y=\"-283.3\" font-family=\"Helvetica,sans-Serif\" font-size=\"14.00\">gini = 0.498</text>\n<text text-anchor=\"middle\" x=\"4432.5\" y=\"-268.3\" font-family=\"Helvetica,sans-Serif\" font-size=\"14.00\">samples = 0.8%</text>\n<text text-anchor=\"middle\" x=\"4432.5\" y=\"-253.3\" font-family=\"Helvetica,sans-Serif\" font-size=\"14.00\">value = [0.471, 0.529]</text>\n<text text-anchor=\"middle\" x=\"4432.5\" y=\"-238.3\" font-family=\"Helvetica,sans-Serif\" font-size=\"14.00\">class = 1</text>\n</g>\n<!-- 133&#45;&gt;139 -->\n<g id=\"edge139\" class=\"edge\">\n<title>133&#45;&gt;139</title>\n<path fill=\"none\" stroke=\"black\" d=\"M4425.97,-341.91C4426.88,-331.2 4427.87,-319.62 4428.8,-308.78\"/>\n<polygon fill=\"black\" stroke=\"black\" points=\"4432.3,-308.93 4429.67,-298.67 4425.33,-308.33 4432.3,-308.93\"/>\n</g>\n<!-- 135 -->\n<g id=\"node136\" class=\"node\">\n<title>135</title>\n<polygon fill=\"#f2c09c\" stroke=\"black\" points=\"4245,-179.5 4098,-179.5 4098,-111.5 4245,-111.5 4245,-179.5\"/>\n<text text-anchor=\"middle\" x=\"4171.5\" y=\"-164.3\" font-family=\"Helvetica,sans-Serif\" font-size=\"14.00\">gini = 0.444</text>\n<text text-anchor=\"middle\" x=\"4171.5\" y=\"-149.3\" font-family=\"Helvetica,sans-Serif\" font-size=\"14.00\">samples = 1.0%</text>\n<text text-anchor=\"middle\" x=\"4171.5\" y=\"-134.3\" font-family=\"Helvetica,sans-Serif\" font-size=\"14.00\">value = [0.667, 0.333]</text>\n<text text-anchor=\"middle\" x=\"4171.5\" y=\"-119.3\" font-family=\"Helvetica,sans-Serif\" font-size=\"14.00\">class = 0</text>\n</g>\n<!-- 134&#45;&gt;135 -->\n<g id=\"edge135\" class=\"edge\">\n<title>134&#45;&gt;135</title>\n<path fill=\"none\" stroke=\"black\" d=\"M4234.19,-222.91C4224.78,-211.43 4214.53,-198.94 4205.09,-187.44\"/>\n<polygon fill=\"black\" stroke=\"black\" points=\"4207.76,-185.18 4198.71,-179.67 4202.35,-189.62 4207.76,-185.18\"/>\n</g>\n<!-- 136 -->\n<g id=\"node137\" class=\"node\">\n<title>136</title>\n<polygon fill=\"#e68540\" stroke=\"black\" points=\"4462,-187 4263,-187 4263,-104 4462,-104 4462,-187\"/>\n<text text-anchor=\"middle\" x=\"4362.5\" y=\"-171.8\" font-family=\"Helvetica,sans-Serif\" font-size=\"14.00\">avg_price_per_room &lt;= 81.25</text>\n<text text-anchor=\"middle\" x=\"4362.5\" y=\"-156.8\" font-family=\"Helvetica,sans-Serif\" font-size=\"14.00\">gini = 0.062</text>\n<text text-anchor=\"middle\" x=\"4362.5\" y=\"-141.8\" font-family=\"Helvetica,sans-Serif\" font-size=\"14.00\">samples = 1.5%</text>\n<text text-anchor=\"middle\" x=\"4362.5\" y=\"-126.8\" font-family=\"Helvetica,sans-Serif\" font-size=\"14.00\">value = [0.968, 0.032]</text>\n<text text-anchor=\"middle\" x=\"4362.5\" y=\"-111.8\" font-family=\"Helvetica,sans-Serif\" font-size=\"14.00\">class = 0</text>\n</g>\n<!-- 134&#45;&gt;136 -->\n<g id=\"edge136\" class=\"edge\">\n<title>134&#45;&gt;136</title>\n<path fill=\"none\" stroke=\"black\" d=\"M4300.46,-222.91C4307.75,-213.92 4315.56,-204.32 4323.08,-195.05\"/>\n<polygon fill=\"black\" stroke=\"black\" points=\"4326.01,-196.99 4329.6,-187.02 4320.58,-192.58 4326.01,-196.99\"/>\n</g>\n<!-- 137 -->\n<g id=\"node138\" class=\"node\">\n<title>137</title>\n<polygon fill=\"#eca06a\" stroke=\"black\" points=\"4354,-68 4237,-68 4237,0 4354,0 4354,-68\"/>\n<text text-anchor=\"middle\" x=\"4295.5\" y=\"-52.8\" font-family=\"Helvetica,sans-Serif\" font-size=\"14.00\">gini = 0.32</text>\n<text text-anchor=\"middle\" x=\"4295.5\" y=\"-37.8\" font-family=\"Helvetica,sans-Serif\" font-size=\"14.00\">samples = 0.2%</text>\n<text text-anchor=\"middle\" x=\"4295.5\" y=\"-22.8\" font-family=\"Helvetica,sans-Serif\" font-size=\"14.00\">value = [0.8, 0.2]</text>\n<text text-anchor=\"middle\" x=\"4295.5\" y=\"-7.8\" font-family=\"Helvetica,sans-Serif\" font-size=\"14.00\">class = 0</text>\n</g>\n<!-- 136&#45;&gt;137 -->\n<g id=\"edge137\" class=\"edge\">\n<title>136&#45;&gt;137</title>\n<path fill=\"none\" stroke=\"black\" d=\"M4337.55,-103.73C4332.19,-94.97 4326.52,-85.7 4321.14,-76.91\"/>\n<polygon fill=\"black\" stroke=\"black\" points=\"4324.08,-75 4315.88,-68.3 4318.11,-78.66 4324.08,-75\"/>\n</g>\n<!-- 138 -->\n<g id=\"node139\" class=\"node\">\n<title>138</title>\n<polygon fill=\"#e58139\" stroke=\"black\" points=\"4489,-68 4372,-68 4372,0 4489,0 4489,-68\"/>\n<text text-anchor=\"middle\" x=\"4430.5\" y=\"-52.8\" font-family=\"Helvetica,sans-Serif\" font-size=\"14.00\">gini = 0.0</text>\n<text text-anchor=\"middle\" x=\"4430.5\" y=\"-37.8\" font-family=\"Helvetica,sans-Serif\" font-size=\"14.00\">samples = 1.3%</text>\n<text text-anchor=\"middle\" x=\"4430.5\" y=\"-22.8\" font-family=\"Helvetica,sans-Serif\" font-size=\"14.00\">value = [1.0, 0.0]</text>\n<text text-anchor=\"middle\" x=\"4430.5\" y=\"-7.8\" font-family=\"Helvetica,sans-Serif\" font-size=\"14.00\">class = 0</text>\n</g>\n<!-- 136&#45;&gt;138 -->\n<g id=\"edge138\" class=\"edge\">\n<title>136&#45;&gt;138</title>\n<path fill=\"none\" stroke=\"black\" d=\"M4387.82,-103.73C4393.26,-94.97 4399.01,-85.7 4404.48,-76.91\"/>\n<polygon fill=\"black\" stroke=\"black\" points=\"4407.52,-78.64 4409.82,-68.3 4401.57,-74.95 4407.52,-78.64\"/>\n</g>\n<!-- 141 -->\n<g id=\"node142\" class=\"node\">\n<title>141</title>\n<polygon fill=\"#eca06a\" stroke=\"black\" points=\"4661,-298.5 4544,-298.5 4544,-230.5 4661,-230.5 4661,-298.5\"/>\n<text text-anchor=\"middle\" x=\"4602.5\" y=\"-283.3\" font-family=\"Helvetica,sans-Serif\" font-size=\"14.00\">gini = 0.32</text>\n<text text-anchor=\"middle\" x=\"4602.5\" y=\"-268.3\" font-family=\"Helvetica,sans-Serif\" font-size=\"14.00\">samples = 0.2%</text>\n<text text-anchor=\"middle\" x=\"4602.5\" y=\"-253.3\" font-family=\"Helvetica,sans-Serif\" font-size=\"14.00\">value = [0.8, 0.2]</text>\n<text text-anchor=\"middle\" x=\"4602.5\" y=\"-238.3\" font-family=\"Helvetica,sans-Serif\" font-size=\"14.00\">class = 0</text>\n</g>\n<!-- 140&#45;&gt;141 -->\n<g id=\"edge141\" class=\"edge\">\n<title>140&#45;&gt;141</title>\n<path fill=\"none\" stroke=\"black\" d=\"M4609.68,-341.91C4608.68,-331.2 4607.59,-319.62 4606.57,-308.78\"/>\n<polygon fill=\"black\" stroke=\"black\" points=\"4610.04,-308.3 4605.62,-298.67 4603.07,-308.95 4610.04,-308.3\"/>\n</g>\n<!-- 142 -->\n<g id=\"node143\" class=\"node\">\n<title>142</title>\n<polygon fill=\"#e58139\" stroke=\"black\" points=\"4796,-298.5 4679,-298.5 4679,-230.5 4796,-230.5 4796,-298.5\"/>\n<text text-anchor=\"middle\" x=\"4737.5\" y=\"-283.3\" font-family=\"Helvetica,sans-Serif\" font-size=\"14.00\">gini = 0.0</text>\n<text text-anchor=\"middle\" x=\"4737.5\" y=\"-268.3\" font-family=\"Helvetica,sans-Serif\" font-size=\"14.00\">samples = 1.2%</text>\n<text text-anchor=\"middle\" x=\"4737.5\" y=\"-253.3\" font-family=\"Helvetica,sans-Serif\" font-size=\"14.00\">value = [1.0, 0.0]</text>\n<text text-anchor=\"middle\" x=\"4737.5\" y=\"-238.3\" font-family=\"Helvetica,sans-Serif\" font-size=\"14.00\">class = 0</text>\n</g>\n<!-- 140&#45;&gt;142 -->\n<g id=\"edge142\" class=\"edge\">\n<title>140&#45;&gt;142</title>\n<path fill=\"none\" stroke=\"black\" d=\"M4656.52,-341.91C4668.92,-330.21 4682.43,-317.46 4694.81,-305.78\"/>\n<polygon fill=\"black\" stroke=\"black\" points=\"4697.48,-308.08 4702.35,-298.67 4692.67,-302.98 4697.48,-308.08\"/>\n</g>\n<!-- 146 -->\n<g id=\"node147\" class=\"node\">\n<title>146</title>\n<polygon fill=\"#e78945\" stroke=\"black\" points=\"4405,-1139 4258,-1139 4258,-1056 4405,-1056 4405,-1139\"/>\n<text text-anchor=\"middle\" x=\"4331.5\" y=\"-1123.8\" font-family=\"Helvetica,sans-Serif\" font-size=\"14.00\">lead_time &lt;= 90.5</text>\n<text text-anchor=\"middle\" x=\"4331.5\" y=\"-1108.8\" font-family=\"Helvetica,sans-Serif\" font-size=\"14.00\">gini = 0.111</text>\n<text text-anchor=\"middle\" x=\"4331.5\" y=\"-1093.8\" font-family=\"Helvetica,sans-Serif\" font-size=\"14.00\">samples = 6.6%</text>\n<text text-anchor=\"middle\" x=\"4331.5\" y=\"-1078.8\" font-family=\"Helvetica,sans-Serif\" font-size=\"14.00\">value = [0.941, 0.059]</text>\n<text text-anchor=\"middle\" x=\"4331.5\" y=\"-1063.8\" font-family=\"Helvetica,sans-Serif\" font-size=\"14.00\">class = 0</text>\n</g>\n<!-- 145&#45;&gt;146 -->\n<g id=\"edge146\" class=\"edge\">\n<title>145&#45;&gt;146</title>\n<path fill=\"none\" stroke=\"black\" d=\"M4331.5,-1174.91C4331.5,-1166.65 4331.5,-1157.86 4331.5,-1149.3\"/>\n<polygon fill=\"black\" stroke=\"black\" points=\"4335,-1149.02 4331.5,-1139.02 4328,-1149.02 4335,-1149.02\"/>\n</g>\n<!-- 153 -->\n<g id=\"node154\" class=\"node\">\n<title>153</title>\n<polygon fill=\"#f2c09c\" stroke=\"black\" points=\"4570,-1131.5 4423,-1131.5 4423,-1063.5 4570,-1063.5 4570,-1131.5\"/>\n<text text-anchor=\"middle\" x=\"4496.5\" y=\"-1116.3\" font-family=\"Helvetica,sans-Serif\" font-size=\"14.00\">gini = 0.444</text>\n<text text-anchor=\"middle\" x=\"4496.5\" y=\"-1101.3\" font-family=\"Helvetica,sans-Serif\" font-size=\"14.00\">samples = 0.6%</text>\n<text text-anchor=\"middle\" x=\"4496.5\" y=\"-1086.3\" font-family=\"Helvetica,sans-Serif\" font-size=\"14.00\">value = [0.667, 0.333]</text>\n<text text-anchor=\"middle\" x=\"4496.5\" y=\"-1071.3\" font-family=\"Helvetica,sans-Serif\" font-size=\"14.00\">class = 0</text>\n</g>\n<!-- 145&#45;&gt;153 -->\n<g id=\"edge153\" class=\"edge\">\n<title>145&#45;&gt;153</title>\n<path fill=\"none\" stroke=\"black\" d=\"M4388.75,-1174.91C4405.86,-1162.77 4424.59,-1149.49 4441.55,-1137.46\"/>\n<polygon fill=\"black\" stroke=\"black\" points=\"4443.59,-1140.31 4449.73,-1131.67 4439.54,-1134.6 4443.59,-1140.31\"/>\n</g>\n<!-- 147 -->\n<g id=\"node148\" class=\"node\">\n<title>147</title>\n<polygon fill=\"#e5823b\" stroke=\"black\" points=\"4409,-1020 4262,-1020 4262,-937 4409,-937 4409,-1020\"/>\n<text text-anchor=\"middle\" x=\"4335.5\" y=\"-1004.8\" font-family=\"Helvetica,sans-Serif\" font-size=\"14.00\">lead_time &lt;= 33.5</text>\n<text text-anchor=\"middle\" x=\"4335.5\" y=\"-989.8\" font-family=\"Helvetica,sans-Serif\" font-size=\"14.00\">gini = 0.022</text>\n<text text-anchor=\"middle\" x=\"4335.5\" y=\"-974.8\" font-family=\"Helvetica,sans-Serif\" font-size=\"14.00\">samples = 4.3%</text>\n<text text-anchor=\"middle\" x=\"4335.5\" y=\"-959.8\" font-family=\"Helvetica,sans-Serif\" font-size=\"14.00\">value = [0.989, 0.011]</text>\n<text text-anchor=\"middle\" x=\"4335.5\" y=\"-944.8\" font-family=\"Helvetica,sans-Serif\" font-size=\"14.00\">class = 0</text>\n</g>\n<!-- 146&#45;&gt;147 -->\n<g id=\"edge147\" class=\"edge\">\n<title>146&#45;&gt;147</title>\n<path fill=\"none\" stroke=\"black\" d=\"M4332.89,-1055.91C4333.17,-1047.56 4333.48,-1038.67 4333.77,-1030.02\"/>\n<polygon fill=\"black\" stroke=\"black\" points=\"4337.27,-1030.13 4334.11,-1020.02 4330.27,-1029.9 4337.27,-1030.13\"/>\n</g>\n<!-- 150 -->\n<g id=\"node151\" class=\"node\">\n<title>150</title>\n<polygon fill=\"#e9975b\" stroke=\"black\" points=\"4709,-1020 4562,-1020 4562,-937 4709,-937 4709,-1020\"/>\n<text text-anchor=\"middle\" x=\"4635.5\" y=\"-1004.8\" font-family=\"Helvetica,sans-Serif\" font-size=\"14.00\">arrival_month &lt;= 8.5</text>\n<text text-anchor=\"middle\" x=\"4635.5\" y=\"-989.8\" font-family=\"Helvetica,sans-Serif\" font-size=\"14.00\">gini = 0.249</text>\n<text text-anchor=\"middle\" x=\"4635.5\" y=\"-974.8\" font-family=\"Helvetica,sans-Serif\" font-size=\"14.00\">samples = 2.3%</text>\n<text text-anchor=\"middle\" x=\"4635.5\" y=\"-959.8\" font-family=\"Helvetica,sans-Serif\" font-size=\"14.00\">value = [0.854, 0.146]</text>\n<text text-anchor=\"middle\" x=\"4635.5\" y=\"-944.8\" font-family=\"Helvetica,sans-Serif\" font-size=\"14.00\">class = 0</text>\n</g>\n<!-- 146&#45;&gt;150 -->\n<g id=\"edge150\" class=\"edge\">\n<title>146&#45;&gt;150</title>\n<path fill=\"none\" stroke=\"black\" d=\"M4405.05,-1059.62C4407.89,-1058.37 4410.72,-1057.16 4413.5,-1056 4458.61,-1037.18 4510.17,-1019.2 4552.24,-1005.41\"/>\n<polygon fill=\"black\" stroke=\"black\" points=\"4553.46,-1008.69 4561.89,-1002.27 4551.29,-1002.04 4553.46,-1008.69\"/>\n</g>\n<!-- 148 -->\n<g id=\"node149\" class=\"node\">\n<title>148</title>\n<polygon fill=\"#e9965a\" stroke=\"black\" points=\"4409,-893.5 4262,-893.5 4262,-825.5 4409,-825.5 4409,-893.5\"/>\n<text text-anchor=\"middle\" x=\"4335.5\" y=\"-878.3\" font-family=\"Helvetica,sans-Serif\" font-size=\"14.00\">gini = 0.245</text>\n<text text-anchor=\"middle\" x=\"4335.5\" y=\"-863.3\" font-family=\"Helvetica,sans-Serif\" font-size=\"14.00\">samples = 0.3%</text>\n<text text-anchor=\"middle\" x=\"4335.5\" y=\"-848.3\" font-family=\"Helvetica,sans-Serif\" font-size=\"14.00\">value = [0.857, 0.143]</text>\n<text text-anchor=\"middle\" x=\"4335.5\" y=\"-833.3\" font-family=\"Helvetica,sans-Serif\" font-size=\"14.00\">class = 0</text>\n</g>\n<!-- 147&#45;&gt;148 -->\n<g id=\"edge148\" class=\"edge\">\n<title>147&#45;&gt;148</title>\n<path fill=\"none\" stroke=\"black\" d=\"M4335.5,-936.91C4335.5,-926.2 4335.5,-914.62 4335.5,-903.78\"/>\n<polygon fill=\"black\" stroke=\"black\" points=\"4339,-903.67 4335.5,-893.67 4332,-903.67 4339,-903.67\"/>\n</g>\n<!-- 149 -->\n<g id=\"node150\" class=\"node\">\n<title>149</title>\n<polygon fill=\"#e58139\" stroke=\"black\" points=\"4544,-893.5 4427,-893.5 4427,-825.5 4544,-825.5 4544,-893.5\"/>\n<text text-anchor=\"middle\" x=\"4485.5\" y=\"-878.3\" font-family=\"Helvetica,sans-Serif\" font-size=\"14.00\">gini = 0.0</text>\n<text text-anchor=\"middle\" x=\"4485.5\" y=\"-863.3\" font-family=\"Helvetica,sans-Serif\" font-size=\"14.00\">samples = 3.9%</text>\n<text text-anchor=\"middle\" x=\"4485.5\" y=\"-848.3\" font-family=\"Helvetica,sans-Serif\" font-size=\"14.00\">value = [1.0, 0.0]</text>\n<text text-anchor=\"middle\" x=\"4485.5\" y=\"-833.3\" font-family=\"Helvetica,sans-Serif\" font-size=\"14.00\">class = 0</text>\n</g>\n<!-- 147&#45;&gt;149 -->\n<g id=\"edge149\" class=\"edge\">\n<title>147&#45;&gt;149</title>\n<path fill=\"none\" stroke=\"black\" d=\"M4387.54,-936.91C4402.82,-924.99 4419.51,-911.98 4434.71,-900.12\"/>\n<polygon fill=\"black\" stroke=\"black\" points=\"4437.25,-902.58 4442.98,-893.67 4432.94,-897.06 4437.25,-902.58\"/>\n</g>\n<!-- 151 -->\n<g id=\"node152\" class=\"node\">\n<title>151</title>\n<polygon fill=\"#e68640\" stroke=\"black\" points=\"4709,-893.5 4562,-893.5 4562,-825.5 4709,-825.5 4709,-893.5\"/>\n<text text-anchor=\"middle\" x=\"4635.5\" y=\"-878.3\" font-family=\"Helvetica,sans-Serif\" font-size=\"14.00\">gini = 0.069</text>\n<text text-anchor=\"middle\" x=\"4635.5\" y=\"-863.3\" font-family=\"Helvetica,sans-Serif\" font-size=\"14.00\">samples = 1.4%</text>\n<text text-anchor=\"middle\" x=\"4635.5\" y=\"-848.3\" font-family=\"Helvetica,sans-Serif\" font-size=\"14.00\">value = [0.964, 0.036]</text>\n<text text-anchor=\"middle\" x=\"4635.5\" y=\"-833.3\" font-family=\"Helvetica,sans-Serif\" font-size=\"14.00\">class = 0</text>\n</g>\n<!-- 150&#45;&gt;151 -->\n<g id=\"edge151\" class=\"edge\">\n<title>150&#45;&gt;151</title>\n<path fill=\"none\" stroke=\"black\" d=\"M4635.5,-936.91C4635.5,-926.2 4635.5,-914.62 4635.5,-903.78\"/>\n<polygon fill=\"black\" stroke=\"black\" points=\"4639,-903.67 4635.5,-893.67 4632,-903.67 4639,-903.67\"/>\n</g>\n<!-- 152 -->\n<g id=\"node153\" class=\"node\">\n<title>152</title>\n<polygon fill=\"#f0b78e\" stroke=\"black\" points=\"4844,-893.5 4727,-893.5 4727,-825.5 4844,-825.5 4844,-893.5\"/>\n<text text-anchor=\"middle\" x=\"4785.5\" y=\"-878.3\" font-family=\"Helvetica,sans-Serif\" font-size=\"14.00\">gini = 0.42</text>\n<text text-anchor=\"middle\" x=\"4785.5\" y=\"-863.3\" font-family=\"Helvetica,sans-Serif\" font-size=\"14.00\">samples = 1.0%</text>\n<text text-anchor=\"middle\" x=\"4785.5\" y=\"-848.3\" font-family=\"Helvetica,sans-Serif\" font-size=\"14.00\">value = [0.7, 0.3]</text>\n<text text-anchor=\"middle\" x=\"4785.5\" y=\"-833.3\" font-family=\"Helvetica,sans-Serif\" font-size=\"14.00\">class = 0</text>\n</g>\n<!-- 150&#45;&gt;152 -->\n<g id=\"edge152\" class=\"edge\">\n<title>150&#45;&gt;152</title>\n<path fill=\"none\" stroke=\"black\" d=\"M4687.54,-936.91C4702.82,-924.99 4719.51,-911.98 4734.71,-900.12\"/>\n<polygon fill=\"black\" stroke=\"black\" points=\"4737.25,-902.58 4742.98,-893.67 4732.94,-897.06 4737.25,-902.58\"/>\n</g>\n<!-- 155 -->\n<g id=\"node156\" class=\"node\">\n<title>155</title>\n<polygon fill=\"#e7f3fc\" stroke=\"black\" points=\"5199.5,-1496 4997.5,-1496 4997.5,-1413 5199.5,-1413 5199.5,-1496\"/>\n<text text-anchor=\"middle\" x=\"5098.5\" y=\"-1480.8\" font-family=\"Helvetica,sans-Serif\" font-size=\"14.00\">no_of_special_requests &lt;= 0.5</text>\n<text text-anchor=\"middle\" x=\"5098.5\" y=\"-1465.8\" font-family=\"Helvetica,sans-Serif\" font-size=\"14.00\">gini = 0.498</text>\n<text text-anchor=\"middle\" x=\"5098.5\" y=\"-1450.8\" font-family=\"Helvetica,sans-Serif\" font-size=\"14.00\">samples = 11.4%</text>\n<text text-anchor=\"middle\" x=\"5098.5\" y=\"-1435.8\" font-family=\"Helvetica,sans-Serif\" font-size=\"14.00\">value = [0.468, 0.532]</text>\n<text text-anchor=\"middle\" x=\"5098.5\" y=\"-1420.8\" font-family=\"Helvetica,sans-Serif\" font-size=\"14.00\">class = 1</text>\n</g>\n<!-- 154&#45;&gt;155 -->\n<g id=\"edge155\" class=\"edge\">\n<title>154&#45;&gt;155</title>\n<path fill=\"none\" stroke=\"black\" d=\"M5098.5,-1531.91C5098.5,-1523.65 5098.5,-1514.86 5098.5,-1506.3\"/>\n<polygon fill=\"black\" stroke=\"black\" points=\"5102,-1506.02 5098.5,-1496.02 5095,-1506.02 5102,-1506.02\"/>\n</g>\n<!-- 178 -->\n<g id=\"node179\" class=\"node\">\n<title>178</title>\n<polygon fill=\"#44a2e6\" stroke=\"black\" points=\"5590,-1496 5441,-1496 5441,-1413 5590,-1413 5590,-1496\"/>\n<text text-anchor=\"middle\" x=\"5515.5\" y=\"-1480.8\" font-family=\"Helvetica,sans-Serif\" font-size=\"14.00\">arrival_month &lt;= 11.5</text>\n<text text-anchor=\"middle\" x=\"5515.5\" y=\"-1465.8\" font-family=\"Helvetica,sans-Serif\" font-size=\"14.00\">gini = 0.1</text>\n<text text-anchor=\"middle\" x=\"5515.5\" y=\"-1450.8\" font-family=\"Helvetica,sans-Serif\" font-size=\"14.00\">samples = 9.2%</text>\n<text text-anchor=\"middle\" x=\"5515.5\" y=\"-1435.8\" font-family=\"Helvetica,sans-Serif\" font-size=\"14.00\">value = [0.053, 0.947]</text>\n<text text-anchor=\"middle\" x=\"5515.5\" y=\"-1420.8\" font-family=\"Helvetica,sans-Serif\" font-size=\"14.00\">class = 1</text>\n</g>\n<!-- 154&#45;&gt;178 -->\n<g id=\"edge178\" class=\"edge\">\n<title>154&#45;&gt;178</title>\n<path fill=\"none\" stroke=\"black\" d=\"M5201.58,-1543.58C5272.12,-1523.79 5364.51,-1497.86 5430.77,-1479.27\"/>\n<polygon fill=\"black\" stroke=\"black\" points=\"5432.08,-1482.54 5440.76,-1476.47 5430.19,-1475.8 5432.08,-1482.54\"/>\n</g>\n<!-- 156 -->\n<g id=\"node157\" class=\"node\">\n<title>156</title>\n<polygon fill=\"#a7d3f3\" stroke=\"black\" points=\"5074,-1377 4927,-1377 4927,-1294 5074,-1294 5074,-1377\"/>\n<text text-anchor=\"middle\" x=\"5000.5\" y=\"-1361.8\" font-family=\"Helvetica,sans-Serif\" font-size=\"14.00\">Offline &lt;= 0.5</text>\n<text text-anchor=\"middle\" x=\"5000.5\" y=\"-1346.8\" font-family=\"Helvetica,sans-Serif\" font-size=\"14.00\">gini = 0.459</text>\n<text text-anchor=\"middle\" x=\"5000.5\" y=\"-1331.8\" font-family=\"Helvetica,sans-Serif\" font-size=\"14.00\">samples = 7.7%</text>\n<text text-anchor=\"middle\" x=\"5000.5\" y=\"-1316.8\" font-family=\"Helvetica,sans-Serif\" font-size=\"14.00\">value = [0.356, 0.644]</text>\n<text text-anchor=\"middle\" x=\"5000.5\" y=\"-1301.8\" font-family=\"Helvetica,sans-Serif\" font-size=\"14.00\">class = 1</text>\n</g>\n<!-- 155&#45;&gt;156 -->\n<g id=\"edge156\" class=\"edge\">\n<title>155&#45;&gt;156</title>\n<path fill=\"none\" stroke=\"black\" d=\"M5064.5,-1412.91C5056.9,-1403.83 5048.76,-1394.12 5040.93,-1384.77\"/>\n<polygon fill=\"black\" stroke=\"black\" points=\"5043.54,-1382.44 5034.44,-1377.02 5038.18,-1386.93 5043.54,-1382.44\"/>\n</g>\n<!-- 171 -->\n<g id=\"node172\" class=\"node\">\n<title>171</title>\n<polygon fill=\"#f0b58b\" stroke=\"black\" points=\"5296.5,-1377 5098.5,-1377 5098.5,-1294 5296.5,-1294 5296.5,-1377\"/>\n<text text-anchor=\"middle\" x=\"5197.5\" y=\"-1361.8\" font-family=\"Helvetica,sans-Serif\" font-size=\"14.00\">no_of_weekend_nights &lt;= 0.5</text>\n<text text-anchor=\"middle\" x=\"5197.5\" y=\"-1346.8\" font-family=\"Helvetica,sans-Serif\" font-size=\"14.00\">gini = 0.415</text>\n<text text-anchor=\"middle\" x=\"5197.5\" y=\"-1331.8\" font-family=\"Helvetica,sans-Serif\" font-size=\"14.00\">samples = 3.6%</text>\n<text text-anchor=\"middle\" x=\"5197.5\" y=\"-1316.8\" font-family=\"Helvetica,sans-Serif\" font-size=\"14.00\">value = [0.707, 0.293]</text>\n<text text-anchor=\"middle\" x=\"5197.5\" y=\"-1301.8\" font-family=\"Helvetica,sans-Serif\" font-size=\"14.00\">class = 0</text>\n</g>\n<!-- 155&#45;&gt;171 -->\n<g id=\"edge171\" class=\"edge\">\n<title>155&#45;&gt;171</title>\n<path fill=\"none\" stroke=\"black\" d=\"M5132.85,-1412.91C5140.53,-1403.83 5148.74,-1394.12 5156.66,-1384.77\"/>\n<polygon fill=\"black\" stroke=\"black\" points=\"5159.43,-1386.92 5163.21,-1377.02 5154.08,-1382.39 5159.43,-1386.92\"/>\n</g>\n<!-- 157 -->\n<g id=\"node158\" class=\"node\">\n<title>157</title>\n<polygon fill=\"#3c9fe5\" stroke=\"black\" points=\"4870,-1258 4723,-1258 4723,-1175 4870,-1175 4870,-1258\"/>\n<text text-anchor=\"middle\" x=\"4796.5\" y=\"-1242.8\" font-family=\"Helvetica,sans-Serif\" font-size=\"14.00\">arrival_day &lt;= 26.5</text>\n<text text-anchor=\"middle\" x=\"4796.5\" y=\"-1227.8\" font-family=\"Helvetica,sans-Serif\" font-size=\"14.00\">gini = 0.033</text>\n<text text-anchor=\"middle\" x=\"4796.5\" y=\"-1212.8\" font-family=\"Helvetica,sans-Serif\" font-size=\"14.00\">samples = 2.9%</text>\n<text text-anchor=\"middle\" x=\"4796.5\" y=\"-1197.8\" font-family=\"Helvetica,sans-Serif\" font-size=\"14.00\">value = [0.017, 0.983]</text>\n<text text-anchor=\"middle\" x=\"4796.5\" y=\"-1182.8\" font-family=\"Helvetica,sans-Serif\" font-size=\"14.00\">class = 1</text>\n</g>\n<!-- 156&#45;&gt;157 -->\n<g id=\"edge157\" class=\"edge\">\n<title>156&#45;&gt;157</title>\n<path fill=\"none\" stroke=\"black\" d=\"M4929.72,-1293.91C4912.48,-1284.02 4893.91,-1273.37 4876.28,-1263.25\"/>\n<polygon fill=\"black\" stroke=\"black\" points=\"4877.57,-1259.96 4867.15,-1258.02 4874.08,-1266.03 4877.57,-1259.96\"/>\n</g>\n<!-- 160 -->\n<g id=\"node161\" class=\"node\">\n<title>160</title>\n<polygon fill=\"#fae6d8\" stroke=\"black\" points=\"5074,-1258 4927,-1258 4927,-1175 5074,-1175 5074,-1258\"/>\n<text text-anchor=\"middle\" x=\"5000.5\" y=\"-1242.8\" font-family=\"Helvetica,sans-Serif\" font-size=\"14.00\">no_of_adults &lt;= 1.5</text>\n<text text-anchor=\"middle\" x=\"5000.5\" y=\"-1227.8\" font-family=\"Helvetica,sans-Serif\" font-size=\"14.00\">gini = 0.494</text>\n<text text-anchor=\"middle\" x=\"5000.5\" y=\"-1212.8\" font-family=\"Helvetica,sans-Serif\" font-size=\"14.00\">samples = 4.9%</text>\n<text text-anchor=\"middle\" x=\"5000.5\" y=\"-1197.8\" font-family=\"Helvetica,sans-Serif\" font-size=\"14.00\">value = [0.554, 0.446]</text>\n<text text-anchor=\"middle\" x=\"5000.5\" y=\"-1182.8\" font-family=\"Helvetica,sans-Serif\" font-size=\"14.00\">class = 0</text>\n</g>\n<!-- 156&#45;&gt;160 -->\n<g id=\"edge160\" class=\"edge\">\n<title>156&#45;&gt;160</title>\n<path fill=\"none\" stroke=\"black\" d=\"M5000.5,-1293.91C5000.5,-1285.65 5000.5,-1276.86 5000.5,-1268.3\"/>\n<polygon fill=\"black\" stroke=\"black\" points=\"5004,-1268.02 5000.5,-1258.02 4997,-1268.02 5004,-1268.02\"/>\n</g>\n<!-- 158 -->\n<g id=\"node159\" class=\"node\">\n<title>158</title>\n<polygon fill=\"#399de5\" stroke=\"black\" points=\"4705,-1131.5 4588,-1131.5 4588,-1063.5 4705,-1063.5 4705,-1131.5\"/>\n<text text-anchor=\"middle\" x=\"4646.5\" y=\"-1116.3\" font-family=\"Helvetica,sans-Serif\" font-size=\"14.00\">gini = 0.0</text>\n<text text-anchor=\"middle\" x=\"4646.5\" y=\"-1101.3\" font-family=\"Helvetica,sans-Serif\" font-size=\"14.00\">samples = 2.5%</text>\n<text text-anchor=\"middle\" x=\"4646.5\" y=\"-1086.3\" font-family=\"Helvetica,sans-Serif\" font-size=\"14.00\">value = [0.0, 1.0]</text>\n<text text-anchor=\"middle\" x=\"4646.5\" y=\"-1071.3\" font-family=\"Helvetica,sans-Serif\" font-size=\"14.00\">class = 1</text>\n</g>\n<!-- 157&#45;&gt;158 -->\n<g id=\"edge158\" class=\"edge\">\n<title>157&#45;&gt;158</title>\n<path fill=\"none\" stroke=\"black\" d=\"M4744.46,-1174.91C4729.18,-1162.99 4712.49,-1149.98 4697.29,-1138.12\"/>\n<polygon fill=\"black\" stroke=\"black\" points=\"4699.06,-1135.06 4689.02,-1131.67 4694.75,-1140.58 4699.06,-1135.06\"/>\n</g>\n<!-- 159 -->\n<g id=\"node160\" class=\"node\">\n<title>159</title>\n<polygon fill=\"#55abe9\" stroke=\"black\" points=\"4870,-1131.5 4723,-1131.5 4723,-1063.5 4870,-1063.5 4870,-1131.5\"/>\n<text text-anchor=\"middle\" x=\"4796.5\" y=\"-1116.3\" font-family=\"Helvetica,sans-Serif\" font-size=\"14.00\">gini = 0.219</text>\n<text text-anchor=\"middle\" x=\"4796.5\" y=\"-1101.3\" font-family=\"Helvetica,sans-Serif\" font-size=\"14.00\">samples = 0.4%</text>\n<text text-anchor=\"middle\" x=\"4796.5\" y=\"-1086.3\" font-family=\"Helvetica,sans-Serif\" font-size=\"14.00\">value = [0.125, 0.875]</text>\n<text text-anchor=\"middle\" x=\"4796.5\" y=\"-1071.3\" font-family=\"Helvetica,sans-Serif\" font-size=\"14.00\">class = 1</text>\n</g>\n<!-- 157&#45;&gt;159 -->\n<g id=\"edge159\" class=\"edge\">\n<title>157&#45;&gt;159</title>\n<path fill=\"none\" stroke=\"black\" d=\"M4796.5,-1174.91C4796.5,-1164.2 4796.5,-1152.62 4796.5,-1141.78\"/>\n<polygon fill=\"black\" stroke=\"black\" points=\"4800,-1141.67 4796.5,-1131.67 4793,-1141.67 4800,-1141.67\"/>\n</g>\n<!-- 161 -->\n<g id=\"node162\" class=\"node\">\n<title>161</title>\n<polygon fill=\"#e78946\" stroke=\"black\" points=\"5035,-1139 4888,-1139 4888,-1056 5035,-1056 5035,-1139\"/>\n<text text-anchor=\"middle\" x=\"4961.5\" y=\"-1123.8\" font-family=\"Helvetica,sans-Serif\" font-size=\"14.00\">arrival_day &lt;= 14.5</text>\n<text text-anchor=\"middle\" x=\"4961.5\" y=\"-1108.8\" font-family=\"Helvetica,sans-Serif\" font-size=\"14.00\">gini = 0.117</text>\n<text text-anchor=\"middle\" x=\"4961.5\" y=\"-1093.8\" font-family=\"Helvetica,sans-Serif\" font-size=\"14.00\">samples = 1.5%</text>\n<text text-anchor=\"middle\" x=\"4961.5\" y=\"-1078.8\" font-family=\"Helvetica,sans-Serif\" font-size=\"14.00\">value = [0.938, 0.062]</text>\n<text text-anchor=\"middle\" x=\"4961.5\" y=\"-1063.8\" font-family=\"Helvetica,sans-Serif\" font-size=\"14.00\">class = 0</text>\n</g>\n<!-- 160&#45;&gt;161 -->\n<g id=\"edge161\" class=\"edge\">\n<title>160&#45;&gt;161</title>\n<path fill=\"none\" stroke=\"black\" d=\"M4986.97,-1174.91C4984.16,-1166.47 4981.16,-1157.48 4978.25,-1148.74\"/>\n<polygon fill=\"black\" stroke=\"black\" points=\"4981.49,-1147.4 4975.01,-1139.02 4974.85,-1149.61 4981.49,-1147.4\"/>\n</g>\n<!-- 164 -->\n<g id=\"node165\" class=\"node\">\n<title>164</title>\n<polygon fill=\"#b1d8f5\" stroke=\"black\" points=\"5252,-1139 5053,-1139 5053,-1056 5252,-1056 5252,-1139\"/>\n<text text-anchor=\"middle\" x=\"5152.5\" y=\"-1123.8\" font-family=\"Helvetica,sans-Serif\" font-size=\"14.00\">avg_price_per_room &lt;= 83.44</text>\n<text text-anchor=\"middle\" x=\"5152.5\" y=\"-1108.8\" font-family=\"Helvetica,sans-Serif\" font-size=\"14.00\">gini = 0.47</text>\n<text text-anchor=\"middle\" x=\"5152.5\" y=\"-1093.8\" font-family=\"Helvetica,sans-Serif\" font-size=\"14.00\">samples = 3.3%</text>\n<text text-anchor=\"middle\" x=\"5152.5\" y=\"-1078.8\" font-family=\"Helvetica,sans-Serif\" font-size=\"14.00\">value = [0.377, 0.623]</text>\n<text text-anchor=\"middle\" x=\"5152.5\" y=\"-1063.8\" font-family=\"Helvetica,sans-Serif\" font-size=\"14.00\">class = 1</text>\n</g>\n<!-- 160&#45;&gt;164 -->\n<g id=\"edge164\" class=\"edge\">\n<title>160&#45;&gt;164</title>\n<path fill=\"none\" stroke=\"black\" d=\"M5053.24,-1174.91C5065.62,-1165.38 5078.91,-1155.15 5091.61,-1145.37\"/>\n<polygon fill=\"black\" stroke=\"black\" points=\"5094.07,-1147.89 5099.86,-1139.02 5089.8,-1142.35 5094.07,-1147.89\"/>\n</g>\n<!-- 162 -->\n<g id=\"node163\" class=\"node\">\n<title>162</title>\n<polygon fill=\"#eb9d65\" stroke=\"black\" points=\"4881,-1012.5 4734,-1012.5 4734,-944.5 4881,-944.5 4881,-1012.5\"/>\n<text text-anchor=\"middle\" x=\"4807.5\" y=\"-997.3\" font-family=\"Helvetica,sans-Serif\" font-size=\"14.00\">gini = 0.298</text>\n<text text-anchor=\"middle\" x=\"4807.5\" y=\"-982.3\" font-family=\"Helvetica,sans-Serif\" font-size=\"14.00\">samples = 0.5%</text>\n<text text-anchor=\"middle\" x=\"4807.5\" y=\"-967.3\" font-family=\"Helvetica,sans-Serif\" font-size=\"14.00\">value = [0.818, 0.182]</text>\n<text text-anchor=\"middle\" x=\"4807.5\" y=\"-952.3\" font-family=\"Helvetica,sans-Serif\" font-size=\"14.00\">class = 0</text>\n</g>\n<!-- 161&#45;&gt;162 -->\n<g id=\"edge162\" class=\"edge\">\n<title>161&#45;&gt;162</title>\n<path fill=\"none\" stroke=\"black\" d=\"M4908.07,-1055.91C4892.24,-1043.88 4874.94,-1030.73 4859.22,-1018.79\"/>\n<polygon fill=\"black\" stroke=\"black\" points=\"4861.24,-1015.93 4851.16,-1012.67 4857,-1021.5 4861.24,-1015.93\"/>\n</g>\n<!-- 163 -->\n<g id=\"node164\" class=\"node\">\n<title>163</title>\n<polygon fill=\"#e58139\" stroke=\"black\" points=\"5016,-1012.5 4899,-1012.5 4899,-944.5 5016,-944.5 5016,-1012.5\"/>\n<text text-anchor=\"middle\" x=\"4957.5\" y=\"-997.3\" font-family=\"Helvetica,sans-Serif\" font-size=\"14.00\">gini = 0.0</text>\n<text text-anchor=\"middle\" x=\"4957.5\" y=\"-982.3\" font-family=\"Helvetica,sans-Serif\" font-size=\"14.00\">samples = 1.0%</text>\n<text text-anchor=\"middle\" x=\"4957.5\" y=\"-967.3\" font-family=\"Helvetica,sans-Serif\" font-size=\"14.00\">value = [1.0, 0.0]</text>\n<text text-anchor=\"middle\" x=\"4957.5\" y=\"-952.3\" font-family=\"Helvetica,sans-Serif\" font-size=\"14.00\">class = 0</text>\n</g>\n<!-- 161&#45;&gt;163 -->\n<g id=\"edge163\" class=\"edge\">\n<title>161&#45;&gt;163</title>\n<path fill=\"none\" stroke=\"black\" d=\"M4960.11,-1055.91C4959.75,-1045.2 4959.35,-1033.62 4958.98,-1022.78\"/>\n<polygon fill=\"black\" stroke=\"black\" points=\"4962.47,-1022.54 4958.63,-1012.67 4955.48,-1022.78 4962.47,-1022.54\"/>\n</g>\n<!-- 165 -->\n<g id=\"node166\" class=\"node\">\n<title>165</title>\n<polygon fill=\"#f7d8c2\" stroke=\"black\" points=\"5181,-1020 5034,-1020 5034,-937 5181,-937 5181,-1020\"/>\n<text text-anchor=\"middle\" x=\"5107.5\" y=\"-1004.8\" font-family=\"Helvetica,sans-Serif\" font-size=\"14.00\">arrival_day &lt;= 9.5</text>\n<text text-anchor=\"middle\" x=\"5107.5\" y=\"-989.8\" font-family=\"Helvetica,sans-Serif\" font-size=\"14.00\">gini = 0.483</text>\n<text text-anchor=\"middle\" x=\"5107.5\" y=\"-974.8\" font-family=\"Helvetica,sans-Serif\" font-size=\"14.00\">samples = 2.1%</text>\n<text text-anchor=\"middle\" x=\"5107.5\" y=\"-959.8\" font-family=\"Helvetica,sans-Serif\" font-size=\"14.00\">value = [0.591, 0.409]</text>\n<text text-anchor=\"middle\" x=\"5107.5\" y=\"-944.8\" font-family=\"Helvetica,sans-Serif\" font-size=\"14.00\">class = 0</text>\n</g>\n<!-- 164&#45;&gt;165 -->\n<g id=\"edge165\" class=\"edge\">\n<title>164&#45;&gt;165</title>\n<path fill=\"none\" stroke=\"black\" d=\"M5136.89,-1055.91C5133.61,-1047.38 5130.11,-1038.28 5126.71,-1029.46\"/>\n<polygon fill=\"black\" stroke=\"black\" points=\"5129.94,-1028.1 5123.08,-1020.02 5123.41,-1030.61 5129.94,-1028.1\"/>\n</g>\n<!-- 170 -->\n<g id=\"node171\" class=\"node\">\n<title>170</title>\n<polygon fill=\"#399de5\" stroke=\"black\" points=\"5316,-1012.5 5199,-1012.5 5199,-944.5 5316,-944.5 5316,-1012.5\"/>\n<text text-anchor=\"middle\" x=\"5257.5\" y=\"-997.3\" font-family=\"Helvetica,sans-Serif\" font-size=\"14.00\">gini = 0.0</text>\n<text text-anchor=\"middle\" x=\"5257.5\" y=\"-982.3\" font-family=\"Helvetica,sans-Serif\" font-size=\"14.00\">samples = 1.2%</text>\n<text text-anchor=\"middle\" x=\"5257.5\" y=\"-967.3\" font-family=\"Helvetica,sans-Serif\" font-size=\"14.00\">value = [0.0, 1.0]</text>\n<text text-anchor=\"middle\" x=\"5257.5\" y=\"-952.3\" font-family=\"Helvetica,sans-Serif\" font-size=\"14.00\">class = 1</text>\n</g>\n<!-- 164&#45;&gt;170 -->\n<g id=\"edge170\" class=\"edge\">\n<title>164&#45;&gt;170</title>\n<path fill=\"none\" stroke=\"black\" d=\"M5188.93,-1055.91C5199.33,-1044.32 5210.66,-1031.7 5221.05,-1020.11\"/>\n<polygon fill=\"black\" stroke=\"black\" points=\"5223.66,-1022.45 5227.73,-1012.67 5218.45,-1017.77 5223.66,-1022.45\"/>\n</g>\n<!-- 166 -->\n<g id=\"node167\" class=\"node\">\n<title>166</title>\n<polygon fill=\"#e58139\" stroke=\"black\" points=\"5078,-893.5 4961,-893.5 4961,-825.5 5078,-825.5 5078,-893.5\"/>\n<text text-anchor=\"middle\" x=\"5019.5\" y=\"-878.3\" font-family=\"Helvetica,sans-Serif\" font-size=\"14.00\">gini = 0.0</text>\n<text text-anchor=\"middle\" x=\"5019.5\" y=\"-863.3\" font-family=\"Helvetica,sans-Serif\" font-size=\"14.00\">samples = 0.4%</text>\n<text text-anchor=\"middle\" x=\"5019.5\" y=\"-848.3\" font-family=\"Helvetica,sans-Serif\" font-size=\"14.00\">value = [1.0, 0.0]</text>\n<text text-anchor=\"middle\" x=\"5019.5\" y=\"-833.3\" font-family=\"Helvetica,sans-Serif\" font-size=\"14.00\">class = 0</text>\n</g>\n<!-- 165&#45;&gt;166 -->\n<g id=\"edge166\" class=\"edge\">\n<title>165&#45;&gt;166</title>\n<path fill=\"none\" stroke=\"black\" d=\"M5076.97,-936.91C5068.42,-925.54 5059.12,-913.18 5050.54,-901.77\"/>\n<polygon fill=\"black\" stroke=\"black\" points=\"5053.25,-899.55 5044.45,-893.67 5047.66,-903.76 5053.25,-899.55\"/>\n</g>\n<!-- 167 -->\n<g id=\"node168\" class=\"node\">\n<title>167</title>\n<polygon fill=\"#ffffff\" stroke=\"black\" points=\"5294.5,-901 5096.5,-901 5096.5,-818 5294.5,-818 5294.5,-901\"/>\n<text text-anchor=\"middle\" x=\"5195.5\" y=\"-885.8\" font-family=\"Helvetica,sans-Serif\" font-size=\"14.00\">no_of_weekend_nights &lt;= 0.5</text>\n<text text-anchor=\"middle\" x=\"5195.5\" y=\"-870.8\" font-family=\"Helvetica,sans-Serif\" font-size=\"14.00\">gini = 0.5</text>\n<text text-anchor=\"middle\" x=\"5195.5\" y=\"-855.8\" font-family=\"Helvetica,sans-Serif\" font-size=\"14.00\">samples = 1.7%</text>\n<text text-anchor=\"middle\" x=\"5195.5\" y=\"-840.8\" font-family=\"Helvetica,sans-Serif\" font-size=\"14.00\">value = [0.5, 0.5]</text>\n<text text-anchor=\"middle\" x=\"5195.5\" y=\"-825.8\" font-family=\"Helvetica,sans-Serif\" font-size=\"14.00\">class = 0</text>\n</g>\n<!-- 165&#45;&gt;167 -->\n<g id=\"edge167\" class=\"edge\">\n<title>165&#45;&gt;167</title>\n<path fill=\"none\" stroke=\"black\" d=\"M5138.03,-936.91C5144.79,-927.92 5152.02,-918.32 5158.98,-909.05\"/>\n<polygon fill=\"black\" stroke=\"black\" points=\"5161.81,-911.12 5165.02,-901.02 5156.21,-906.91 5161.81,-911.12\"/>\n</g>\n<!-- 168 -->\n<g id=\"node169\" class=\"node\">\n<title>168</title>\n<polygon fill=\"#8bc6f0\" stroke=\"black\" points=\"5186,-774.5 5039,-774.5 5039,-706.5 5186,-706.5 5186,-774.5\"/>\n<text text-anchor=\"middle\" x=\"5112.5\" y=\"-759.3\" font-family=\"Helvetica,sans-Serif\" font-size=\"14.00\">gini = 0.415</text>\n<text text-anchor=\"middle\" x=\"5112.5\" y=\"-744.3\" font-family=\"Helvetica,sans-Serif\" font-size=\"14.00\">samples = 0.8%</text>\n<text text-anchor=\"middle\" x=\"5112.5\" y=\"-729.3\" font-family=\"Helvetica,sans-Serif\" font-size=\"14.00\">value = [0.294, 0.706]</text>\n<text text-anchor=\"middle\" x=\"5112.5\" y=\"-714.3\" font-family=\"Helvetica,sans-Serif\" font-size=\"14.00\">class = 1</text>\n</g>\n<!-- 167&#45;&gt;168 -->\n<g id=\"edge168\" class=\"edge\">\n<title>167&#45;&gt;168</title>\n<path fill=\"none\" stroke=\"black\" d=\"M5166.7,-817.91C5158.72,-806.65 5150.04,-794.42 5142.02,-783.11\"/>\n<polygon fill=\"black\" stroke=\"black\" points=\"5144.67,-780.8 5136.03,-774.67 5138.96,-784.85 5144.67,-780.8\"/>\n</g>\n<!-- 169 -->\n<g id=\"node170\" class=\"node\">\n<title>169</title>\n<polygon fill=\"#f1bb94\" stroke=\"black\" points=\"5351,-774.5 5204,-774.5 5204,-706.5 5351,-706.5 5351,-774.5\"/>\n<text text-anchor=\"middle\" x=\"5277.5\" y=\"-759.3\" font-family=\"Helvetica,sans-Serif\" font-size=\"14.00\">gini = 0.432</text>\n<text text-anchor=\"middle\" x=\"5277.5\" y=\"-744.3\" font-family=\"Helvetica,sans-Serif\" font-size=\"14.00\">samples = 0.9%</text>\n<text text-anchor=\"middle\" x=\"5277.5\" y=\"-729.3\" font-family=\"Helvetica,sans-Serif\" font-size=\"14.00\">value = [0.684, 0.316]</text>\n<text text-anchor=\"middle\" x=\"5277.5\" y=\"-714.3\" font-family=\"Helvetica,sans-Serif\" font-size=\"14.00\">class = 0</text>\n</g>\n<!-- 167&#45;&gt;169 -->\n<g id=\"edge169\" class=\"edge\">\n<title>167&#45;&gt;169</title>\n<path fill=\"none\" stroke=\"black\" d=\"M5223.95,-817.91C5231.84,-806.65 5240.41,-794.42 5248.34,-783.11\"/>\n<polygon fill=\"black\" stroke=\"black\" points=\"5251.38,-784.86 5254.25,-774.67 5245.65,-780.85 5251.38,-784.86\"/>\n</g>\n<!-- 172 -->\n<g id=\"node173\" class=\"node\">\n<title>172</title>\n<polygon fill=\"#a7d3f3\" stroke=\"black\" points=\"5271,-1250.5 5124,-1250.5 5124,-1182.5 5271,-1182.5 5271,-1250.5\"/>\n<text text-anchor=\"middle\" x=\"5197.5\" y=\"-1235.3\" font-family=\"Helvetica,sans-Serif\" font-size=\"14.00\">gini = 0.459</text>\n<text text-anchor=\"middle\" x=\"5197.5\" y=\"-1220.3\" font-family=\"Helvetica,sans-Serif\" font-size=\"14.00\">samples = 1.4%</text>\n<text text-anchor=\"middle\" x=\"5197.5\" y=\"-1205.3\" font-family=\"Helvetica,sans-Serif\" font-size=\"14.00\">value = [0.357, 0.643]</text>\n<text text-anchor=\"middle\" x=\"5197.5\" y=\"-1190.3\" font-family=\"Helvetica,sans-Serif\" font-size=\"14.00\">class = 1</text>\n</g>\n<!-- 171&#45;&gt;172 -->\n<g id=\"edge172\" class=\"edge\">\n<title>171&#45;&gt;172</title>\n<path fill=\"none\" stroke=\"black\" d=\"M5197.5,-1293.91C5197.5,-1283.2 5197.5,-1271.62 5197.5,-1260.78\"/>\n<polygon fill=\"black\" stroke=\"black\" points=\"5201,-1260.67 5197.5,-1250.67 5194,-1260.67 5201,-1260.67\"/>\n</g>\n<!-- 173 -->\n<g id=\"node174\" class=\"node\">\n<title>173</title>\n<polygon fill=\"#e78d4b\" stroke=\"black\" points=\"5439,-1258 5292,-1258 5292,-1175 5439,-1175 5439,-1258\"/>\n<text text-anchor=\"middle\" x=\"5365.5\" y=\"-1242.8\" font-family=\"Helvetica,sans-Serif\" font-size=\"14.00\">arrival_day &lt;= 28.0</text>\n<text text-anchor=\"middle\" x=\"5365.5\" y=\"-1227.8\" font-family=\"Helvetica,sans-Serif\" font-size=\"14.00\">gini = 0.156</text>\n<text text-anchor=\"middle\" x=\"5365.5\" y=\"-1212.8\" font-family=\"Helvetica,sans-Serif\" font-size=\"14.00\">samples = 2.3%</text>\n<text text-anchor=\"middle\" x=\"5365.5\" y=\"-1197.8\" font-family=\"Helvetica,sans-Serif\" font-size=\"14.00\">value = [0.915, 0.085]</text>\n<text text-anchor=\"middle\" x=\"5365.5\" y=\"-1182.8\" font-family=\"Helvetica,sans-Serif\" font-size=\"14.00\">class = 0</text>\n</g>\n<!-- 171&#45;&gt;173 -->\n<g id=\"edge173\" class=\"edge\">\n<title>171&#45;&gt;173</title>\n<path fill=\"none\" stroke=\"black\" d=\"M5255.79,-1293.91C5269.73,-1284.2 5284.72,-1273.76 5299,-1263.81\"/>\n<polygon fill=\"black\" stroke=\"black\" points=\"5301.11,-1266.61 5307.32,-1258.02 5297.11,-1260.86 5301.11,-1266.61\"/>\n</g>\n<!-- 174 -->\n<g id=\"node175\" class=\"node\">\n<title>174</title>\n<polygon fill=\"#e6843e\" stroke=\"black\" points=\"5443,-1139 5296,-1139 5296,-1056 5443,-1056 5443,-1139\"/>\n<text text-anchor=\"middle\" x=\"5369.5\" y=\"-1123.8\" font-family=\"Helvetica,sans-Serif\" font-size=\"14.00\">lead_time &lt;= 263.0</text>\n<text text-anchor=\"middle\" x=\"5369.5\" y=\"-1108.8\" font-family=\"Helvetica,sans-Serif\" font-size=\"14.00\">gini = 0.05</text>\n<text text-anchor=\"middle\" x=\"5369.5\" y=\"-1093.8\" font-family=\"Helvetica,sans-Serif\" font-size=\"14.00\">samples = 1.9%</text>\n<text text-anchor=\"middle\" x=\"5369.5\" y=\"-1078.8\" font-family=\"Helvetica,sans-Serif\" font-size=\"14.00\">value = [0.974, 0.026]</text>\n<text text-anchor=\"middle\" x=\"5369.5\" y=\"-1063.8\" font-family=\"Helvetica,sans-Serif\" font-size=\"14.00\">class = 0</text>\n</g>\n<!-- 173&#45;&gt;174 -->\n<g id=\"edge174\" class=\"edge\">\n<title>173&#45;&gt;174</title>\n<path fill=\"none\" stroke=\"black\" d=\"M5366.89,-1174.91C5367.17,-1166.56 5367.48,-1157.67 5367.77,-1149.02\"/>\n<polygon fill=\"black\" stroke=\"black\" points=\"5371.27,-1149.13 5368.11,-1139.02 5364.27,-1148.9 5371.27,-1149.13\"/>\n</g>\n<!-- 177 -->\n<g id=\"node178\" class=\"node\">\n<title>177</title>\n<polygon fill=\"#f5cdb0\" stroke=\"black\" points=\"5608,-1131.5 5461,-1131.5 5461,-1063.5 5608,-1063.5 5608,-1131.5\"/>\n<text text-anchor=\"middle\" x=\"5534.5\" y=\"-1116.3\" font-family=\"Helvetica,sans-Serif\" font-size=\"14.00\">gini = 0.469</text>\n<text text-anchor=\"middle\" x=\"5534.5\" y=\"-1101.3\" font-family=\"Helvetica,sans-Serif\" font-size=\"14.00\">samples = 0.4%</text>\n<text text-anchor=\"middle\" x=\"5534.5\" y=\"-1086.3\" font-family=\"Helvetica,sans-Serif\" font-size=\"14.00\">value = [0.625, 0.375]</text>\n<text text-anchor=\"middle\" x=\"5534.5\" y=\"-1071.3\" font-family=\"Helvetica,sans-Serif\" font-size=\"14.00\">class = 0</text>\n</g>\n<!-- 173&#45;&gt;177 -->\n<g id=\"edge177\" class=\"edge\">\n<title>173&#45;&gt;177</title>\n<path fill=\"none\" stroke=\"black\" d=\"M5424.13,-1174.91C5441.67,-1162.77 5460.84,-1149.49 5478.22,-1137.46\"/>\n<polygon fill=\"black\" stroke=\"black\" points=\"5480.36,-1140.24 5486.59,-1131.67 5476.38,-1134.48 5480.36,-1140.24\"/>\n</g>\n<!-- 175 -->\n<g id=\"node176\" class=\"node\">\n<title>175</title>\n<polygon fill=\"#e58139\" stroke=\"black\" points=\"5451,-1012.5 5334,-1012.5 5334,-944.5 5451,-944.5 5451,-1012.5\"/>\n<text text-anchor=\"middle\" x=\"5392.5\" y=\"-997.3\" font-family=\"Helvetica,sans-Serif\" font-size=\"14.00\">gini = 0.0</text>\n<text text-anchor=\"middle\" x=\"5392.5\" y=\"-982.3\" font-family=\"Helvetica,sans-Serif\" font-size=\"14.00\">samples = 1.6%</text>\n<text text-anchor=\"middle\" x=\"5392.5\" y=\"-967.3\" font-family=\"Helvetica,sans-Serif\" font-size=\"14.00\">value = [1.0, 0.0]</text>\n<text text-anchor=\"middle\" x=\"5392.5\" y=\"-952.3\" font-family=\"Helvetica,sans-Serif\" font-size=\"14.00\">class = 0</text>\n</g>\n<!-- 174&#45;&gt;175 -->\n<g id=\"edge175\" class=\"edge\">\n<title>174&#45;&gt;175</title>\n<path fill=\"none\" stroke=\"black\" d=\"M5377.48,-1055.91C5379.58,-1045.2 5381.86,-1033.62 5383.99,-1022.78\"/>\n<polygon fill=\"black\" stroke=\"black\" points=\"5387.49,-1023.15 5385.98,-1012.67 5380.62,-1021.8 5387.49,-1023.15\"/>\n</g>\n<!-- 176 -->\n<g id=\"node177\" class=\"node\">\n<title>176</title>\n<polygon fill=\"#eca06a\" stroke=\"black\" points=\"5586,-1012.5 5469,-1012.5 5469,-944.5 5586,-944.5 5586,-1012.5\"/>\n<text text-anchor=\"middle\" x=\"5527.5\" y=\"-997.3\" font-family=\"Helvetica,sans-Serif\" font-size=\"14.00\">gini = 0.32</text>\n<text text-anchor=\"middle\" x=\"5527.5\" y=\"-982.3\" font-family=\"Helvetica,sans-Serif\" font-size=\"14.00\">samples = 0.2%</text>\n<text text-anchor=\"middle\" x=\"5527.5\" y=\"-967.3\" font-family=\"Helvetica,sans-Serif\" font-size=\"14.00\">value = [0.8, 0.2]</text>\n<text text-anchor=\"middle\" x=\"5527.5\" y=\"-952.3\" font-family=\"Helvetica,sans-Serif\" font-size=\"14.00\">class = 0</text>\n</g>\n<!-- 174&#45;&gt;176 -->\n<g id=\"edge176\" class=\"edge\">\n<title>174&#45;&gt;176</title>\n<path fill=\"none\" stroke=\"black\" d=\"M5424.32,-1055.91C5440.56,-1043.88 5458.31,-1030.73 5474.44,-1018.79\"/>\n<polygon fill=\"black\" stroke=\"black\" points=\"5476.76,-1021.43 5482.71,-1012.67 5472.59,-1015.81 5476.76,-1021.43\"/>\n</g>\n<!-- 179 -->\n<g id=\"node180\" class=\"node\">\n<title>179</title>\n<polygon fill=\"#40a0e6\" stroke=\"black\" points=\"5589,-1377 5442,-1377 5442,-1294 5589,-1294 5589,-1377\"/>\n<text text-anchor=\"middle\" x=\"5515.5\" y=\"-1361.8\" font-family=\"Helvetica,sans-Serif\" font-size=\"14.00\">lead_time &lt;= 150.5</text>\n<text text-anchor=\"middle\" x=\"5515.5\" y=\"-1346.8\" font-family=\"Helvetica,sans-Serif\" font-size=\"14.00\">gini = 0.063</text>\n<text text-anchor=\"middle\" x=\"5515.5\" y=\"-1331.8\" font-family=\"Helvetica,sans-Serif\" font-size=\"14.00\">samples = 8.9%</text>\n<text text-anchor=\"middle\" x=\"5515.5\" y=\"-1316.8\" font-family=\"Helvetica,sans-Serif\" font-size=\"14.00\">value = [0.033, 0.967]</text>\n<text text-anchor=\"middle\" x=\"5515.5\" y=\"-1301.8\" font-family=\"Helvetica,sans-Serif\" font-size=\"14.00\">class = 1</text>\n</g>\n<!-- 178&#45;&gt;179 -->\n<g id=\"edge179\" class=\"edge\">\n<title>178&#45;&gt;179</title>\n<path fill=\"none\" stroke=\"black\" d=\"M5515.5,-1412.91C5515.5,-1404.65 5515.5,-1395.86 5515.5,-1387.3\"/>\n<polygon fill=\"black\" stroke=\"black\" points=\"5519,-1387.02 5515.5,-1377.02 5512,-1387.02 5519,-1387.02\"/>\n</g>\n<!-- 184 -->\n<g id=\"node185\" class=\"node\">\n<title>184</title>\n<polygon fill=\"#eca06a\" stroke=\"black\" points=\"5724,-1369.5 5607,-1369.5 5607,-1301.5 5724,-1301.5 5724,-1369.5\"/>\n<text text-anchor=\"middle\" x=\"5665.5\" y=\"-1354.3\" font-family=\"Helvetica,sans-Serif\" font-size=\"14.00\">gini = 0.32</text>\n<text text-anchor=\"middle\" x=\"5665.5\" y=\"-1339.3\" font-family=\"Helvetica,sans-Serif\" font-size=\"14.00\">samples = 0.2%</text>\n<text text-anchor=\"middle\" x=\"5665.5\" y=\"-1324.3\" font-family=\"Helvetica,sans-Serif\" font-size=\"14.00\">value = [0.8, 0.2]</text>\n<text text-anchor=\"middle\" x=\"5665.5\" y=\"-1309.3\" font-family=\"Helvetica,sans-Serif\" font-size=\"14.00\">class = 0</text>\n</g>\n<!-- 178&#45;&gt;184 -->\n<g id=\"edge184\" class=\"edge\">\n<title>178&#45;&gt;184</title>\n<path fill=\"none\" stroke=\"black\" d=\"M5567.54,-1412.91C5582.82,-1400.99 5599.51,-1387.98 5614.71,-1376.12\"/>\n<polygon fill=\"black\" stroke=\"black\" points=\"5617.25,-1378.58 5622.98,-1369.67 5612.94,-1373.06 5617.25,-1378.58\"/>\n</g>\n<!-- 180 -->\n<g id=\"node181\" class=\"node\">\n<title>180</title>\n<polygon fill=\"#ffffff\" stroke=\"black\" points=\"5574,-1250.5 5457,-1250.5 5457,-1182.5 5574,-1182.5 5574,-1250.5\"/>\n<text text-anchor=\"middle\" x=\"5515.5\" y=\"-1235.3\" font-family=\"Helvetica,sans-Serif\" font-size=\"14.00\">gini = 0.5</text>\n<text text-anchor=\"middle\" x=\"5515.5\" y=\"-1220.3\" font-family=\"Helvetica,sans-Serif\" font-size=\"14.00\">samples = 0.3%</text>\n<text text-anchor=\"middle\" x=\"5515.5\" y=\"-1205.3\" font-family=\"Helvetica,sans-Serif\" font-size=\"14.00\">value = [0.5, 0.5]</text>\n<text text-anchor=\"middle\" x=\"5515.5\" y=\"-1190.3\" font-family=\"Helvetica,sans-Serif\" font-size=\"14.00\">class = 0</text>\n</g>\n<!-- 179&#45;&gt;180 -->\n<g id=\"edge180\" class=\"edge\">\n<title>179&#45;&gt;180</title>\n<path fill=\"none\" stroke=\"black\" d=\"M5515.5,-1293.91C5515.5,-1283.2 5515.5,-1271.62 5515.5,-1260.78\"/>\n<polygon fill=\"black\" stroke=\"black\" points=\"5519,-1260.67 5515.5,-1250.67 5512,-1260.67 5519,-1260.67\"/>\n</g>\n<!-- 181 -->\n<g id=\"node182\" class=\"node\">\n<title>181</title>\n<polygon fill=\"#3c9fe5\" stroke=\"black\" points=\"5794.5,-1258 5592.5,-1258 5592.5,-1175 5794.5,-1175 5794.5,-1258\"/>\n<text text-anchor=\"middle\" x=\"5693.5\" y=\"-1242.8\" font-family=\"Helvetica,sans-Serif\" font-size=\"14.00\">no_of_special_requests &lt;= 1.5</text>\n<text text-anchor=\"middle\" x=\"5693.5\" y=\"-1227.8\" font-family=\"Helvetica,sans-Serif\" font-size=\"14.00\">gini = 0.033</text>\n<text text-anchor=\"middle\" x=\"5693.5\" y=\"-1212.8\" font-family=\"Helvetica,sans-Serif\" font-size=\"14.00\">samples = 8.6%</text>\n<text text-anchor=\"middle\" x=\"5693.5\" y=\"-1197.8\" font-family=\"Helvetica,sans-Serif\" font-size=\"14.00\">value = [0.017, 0.983]</text>\n<text text-anchor=\"middle\" x=\"5693.5\" y=\"-1182.8\" font-family=\"Helvetica,sans-Serif\" font-size=\"14.00\">class = 1</text>\n</g>\n<!-- 179&#45;&gt;181 -->\n<g id=\"edge181\" class=\"edge\">\n<title>179&#45;&gt;181</title>\n<path fill=\"none\" stroke=\"black\" d=\"M5577.26,-1293.91C5592.17,-1284.11 5608.21,-1273.56 5623.47,-1263.53\"/>\n<polygon fill=\"black\" stroke=\"black\" points=\"5625.42,-1266.44 5631.85,-1258.02 5621.57,-1260.59 5625.42,-1266.44\"/>\n</g>\n<!-- 182 -->\n<g id=\"node183\" class=\"node\">\n<title>182</title>\n<polygon fill=\"#399de5\" stroke=\"black\" points=\"5749,-1131.5 5632,-1131.5 5632,-1063.5 5749,-1063.5 5749,-1131.5\"/>\n<text text-anchor=\"middle\" x=\"5690.5\" y=\"-1116.3\" font-family=\"Helvetica,sans-Serif\" font-size=\"14.00\">gini = 0.0</text>\n<text text-anchor=\"middle\" x=\"5690.5\" y=\"-1101.3\" font-family=\"Helvetica,sans-Serif\" font-size=\"14.00\">samples = 7.7%</text>\n<text text-anchor=\"middle\" x=\"5690.5\" y=\"-1086.3\" font-family=\"Helvetica,sans-Serif\" font-size=\"14.00\">value = [0.0, 1.0]</text>\n<text text-anchor=\"middle\" x=\"5690.5\" y=\"-1071.3\" font-family=\"Helvetica,sans-Serif\" font-size=\"14.00\">class = 1</text>\n</g>\n<!-- 181&#45;&gt;182 -->\n<g id=\"edge182\" class=\"edge\">\n<title>181&#45;&gt;182</title>\n<path fill=\"none\" stroke=\"black\" d=\"M5692.46,-1174.91C5692.18,-1164.2 5691.89,-1152.62 5691.61,-1141.78\"/>\n<polygon fill=\"black\" stroke=\"black\" points=\"5695.11,-1141.57 5691.35,-1131.67 5688.11,-1141.75 5695.11,-1141.57\"/>\n</g>\n<!-- 183 -->\n<g id=\"node184\" class=\"node\">\n<title>183</title>\n<polygon fill=\"#5caeea\" stroke=\"black\" points=\"5899.5,-1131.5 5767.5,-1131.5 5767.5,-1063.5 5899.5,-1063.5 5899.5,-1131.5\"/>\n<text text-anchor=\"middle\" x=\"5833.5\" y=\"-1116.3\" font-family=\"Helvetica,sans-Serif\" font-size=\"14.00\">gini = 0.255</text>\n<text text-anchor=\"middle\" x=\"5833.5\" y=\"-1101.3\" font-family=\"Helvetica,sans-Serif\" font-size=\"14.00\">samples = 1.0%</text>\n<text text-anchor=\"middle\" x=\"5833.5\" y=\"-1086.3\" font-family=\"Helvetica,sans-Serif\" font-size=\"14.00\">value = [0.15, 0.85]</text>\n<text text-anchor=\"middle\" x=\"5833.5\" y=\"-1071.3\" font-family=\"Helvetica,sans-Serif\" font-size=\"14.00\">class = 1</text>\n</g>\n<!-- 181&#45;&gt;183 -->\n<g id=\"edge183\" class=\"edge\">\n<title>181&#45;&gt;183</title>\n<path fill=\"none\" stroke=\"black\" d=\"M5742.07,-1174.91C5756.33,-1162.99 5771.91,-1149.98 5786.09,-1138.12\"/>\n<polygon fill=\"black\" stroke=\"black\" points=\"5788.38,-1140.77 5793.81,-1131.67 5783.9,-1135.39 5788.38,-1140.77\"/>\n</g>\n</g>\n</svg>\n",
            "text/plain": [
              "<graphviz.sources.Source at 0x7f976908da30>"
            ]
          },
          "metadata": {}
        }
      ]
    },
    {
      "cell_type": "code",
      "source": [
        "# Create a graph of the tree you created and by looking at the tree determine the predict the probability that this booking will be canceled.\n",
        "sample_x = {\n",
        "    \"no_of_adults\": 1,\n",
        "    \"no_of_children\": 3,\n",
        "    \"no_of_weekend_nights\": 1,\n",
        "    \"no_of_week_nights\": 0,\n",
        "    \"meal_plan_1\": 1,\n",
        "    \"meal_plan_2\": 0,\n",
        "    \"no_meal_plan\": 0,\n",
        "    \"required_car_parking_space\": 0,\n",
        "    \"room_type_1\": 0,\n",
        "    \"room_type_2\": 0,\n",
        "    \"room_type_3\": 0,\n",
        "    \"room_type_4\": 1,\n",
        "    \"room_type_5\": 0,\n",
        "    \"room_type_6\": 0,\n",
        "    \"lead_time\": 149,\n",
        "    \"arrival_year\": 2018,\n",
        "    \"arrival_month\": 9,\n",
        "    \"arrival_day\": 30,\n",
        "    \"Aviation\": 0,\n",
        "    \"Complementary\": 0,\n",
        "    \"Corporate\": 0,\n",
        "    \"Offline\": 0,\n",
        "    \"Online\": 1,\n",
        "    \"repeated_guest\": 0,\n",
        "    \"no_of_previous_cancellations\": 0,\n",
        "    \"no_of_previous_bookings_not_canceled\": 0,\n",
        "    \"avg_price_per_room\": 149.4,\n",
        "    \"no_of_special_requests\": 1\n",
        "}\n",
        "sample_x = pd.DataFrame.from_dict(sample_x, orient='index').T\n",
        "ans = M.predict_proba(sample_x)\n",
        "ans[0][1]"
      ],
      "metadata": {
        "colab": {
          "base_uri": "https://localhost:8080/"
        },
        "id": "k6ypBI3vnxvQ",
        "outputId": "e3857cc9-4bda-4031-b90e-cfe2131005a4"
      },
      "execution_count": 364,
      "outputs": [
        {
          "output_type": "execute_result",
          "data": {
            "text/plain": [
              "0.5"
            ]
          },
          "metadata": {},
          "execution_count": 364
        }
      ]
    },
    {
      "cell_type": "markdown",
      "source": [
        "**Question7**"
      ],
      "metadata": {
        "id": "H8niBq8HnCgO"
      }
    },
    {
      "cell_type": "code",
      "source": [
        "def generate_by_thresholds(data, threshold):\n",
        "    data = M.predict_proba(data)\n",
        "    predict = [1 if i >= threshold else 0 for i in data[:, 1]]\n",
        "    return predict\n",
        "\n",
        "\n",
        "threshold = 0.65\n",
        "train_predict = generate_by_thresholds(X_train, threshold)\n",
        "test_predict = generate_by_thresholds(X_test, threshold)"
      ],
      "metadata": {
        "id": "lcfiVJH_q6Xo"
      },
      "execution_count": 365,
      "outputs": []
    },
    {
      "cell_type": "code",
      "source": [
        "# confusion matrix of train\n",
        "pd.crosstab(index=y_train, columns=train_predict)\n",
        "# the row is actual value\n",
        "# the col is predict value"
      ],
      "metadata": {
        "colab": {
          "base_uri": "https://localhost:8080/",
          "height": 143
        },
        "id": "4G3QaGeaqEFh",
        "outputId": "a8c09243-eb3f-4759-dce6-de4f298125f4"
      },
      "execution_count": 366,
      "outputs": [
        {
          "output_type": "execute_result",
          "data": {
            "text/plain": [
              "col_0        0    1\n",
              "canceled           \n",
              "0         1341   36\n",
              "1          252  436"
            ],
            "text/html": [
              "\n",
              "  <div id=\"df-d8fd141a-be11-4e6d-a06a-4d1f1ca8d566\">\n",
              "    <div class=\"colab-df-container\">\n",
              "      <div>\n",
              "<style scoped>\n",
              "    .dataframe tbody tr th:only-of-type {\n",
              "        vertical-align: middle;\n",
              "    }\n",
              "\n",
              "    .dataframe tbody tr th {\n",
              "        vertical-align: top;\n",
              "    }\n",
              "\n",
              "    .dataframe thead th {\n",
              "        text-align: right;\n",
              "    }\n",
              "</style>\n",
              "<table border=\"1\" class=\"dataframe\">\n",
              "  <thead>\n",
              "    <tr style=\"text-align: right;\">\n",
              "      <th>col_0</th>\n",
              "      <th>0</th>\n",
              "      <th>1</th>\n",
              "    </tr>\n",
              "    <tr>\n",
              "      <th>canceled</th>\n",
              "      <th></th>\n",
              "      <th></th>\n",
              "    </tr>\n",
              "  </thead>\n",
              "  <tbody>\n",
              "    <tr>\n",
              "      <th>0</th>\n",
              "      <td>1341</td>\n",
              "      <td>36</td>\n",
              "    </tr>\n",
              "    <tr>\n",
              "      <th>1</th>\n",
              "      <td>252</td>\n",
              "      <td>436</td>\n",
              "    </tr>\n",
              "  </tbody>\n",
              "</table>\n",
              "</div>\n",
              "      <button class=\"colab-df-convert\" onclick=\"convertToInteractive('df-d8fd141a-be11-4e6d-a06a-4d1f1ca8d566')\"\n",
              "              title=\"Convert this dataframe to an interactive table.\"\n",
              "              style=\"display:none;\">\n",
              "        \n",
              "  <svg xmlns=\"http://www.w3.org/2000/svg\" height=\"24px\"viewBox=\"0 0 24 24\"\n",
              "       width=\"24px\">\n",
              "    <path d=\"M0 0h24v24H0V0z\" fill=\"none\"/>\n",
              "    <path d=\"M18.56 5.44l.94 2.06.94-2.06 2.06-.94-2.06-.94-.94-2.06-.94 2.06-2.06.94zm-11 1L8.5 8.5l.94-2.06 2.06-.94-2.06-.94L8.5 2.5l-.94 2.06-2.06.94zm10 10l.94 2.06.94-2.06 2.06-.94-2.06-.94-.94-2.06-.94 2.06-2.06.94z\"/><path d=\"M17.41 7.96l-1.37-1.37c-.4-.4-.92-.59-1.43-.59-.52 0-1.04.2-1.43.59L10.3 9.45l-7.72 7.72c-.78.78-.78 2.05 0 2.83L4 21.41c.39.39.9.59 1.41.59.51 0 1.02-.2 1.41-.59l7.78-7.78 2.81-2.81c.8-.78.8-2.07 0-2.86zM5.41 20L4 18.59l7.72-7.72 1.47 1.35L5.41 20z\"/>\n",
              "  </svg>\n",
              "      </button>\n",
              "      \n",
              "  <style>\n",
              "    .colab-df-container {\n",
              "      display:flex;\n",
              "      flex-wrap:wrap;\n",
              "      gap: 12px;\n",
              "    }\n",
              "\n",
              "    .colab-df-convert {\n",
              "      background-color: #E8F0FE;\n",
              "      border: none;\n",
              "      border-radius: 50%;\n",
              "      cursor: pointer;\n",
              "      display: none;\n",
              "      fill: #1967D2;\n",
              "      height: 32px;\n",
              "      padding: 0 0 0 0;\n",
              "      width: 32px;\n",
              "    }\n",
              "\n",
              "    .colab-df-convert:hover {\n",
              "      background-color: #E2EBFA;\n",
              "      box-shadow: 0px 1px 2px rgba(60, 64, 67, 0.3), 0px 1px 3px 1px rgba(60, 64, 67, 0.15);\n",
              "      fill: #174EA6;\n",
              "    }\n",
              "\n",
              "    [theme=dark] .colab-df-convert {\n",
              "      background-color: #3B4455;\n",
              "      fill: #D2E3FC;\n",
              "    }\n",
              "\n",
              "    [theme=dark] .colab-df-convert:hover {\n",
              "      background-color: #434B5C;\n",
              "      box-shadow: 0px 1px 3px 1px rgba(0, 0, 0, 0.15);\n",
              "      filter: drop-shadow(0px 1px 2px rgba(0, 0, 0, 0.3));\n",
              "      fill: #FFFFFF;\n",
              "    }\n",
              "  </style>\n",
              "\n",
              "      <script>\n",
              "        const buttonEl =\n",
              "          document.querySelector('#df-d8fd141a-be11-4e6d-a06a-4d1f1ca8d566 button.colab-df-convert');\n",
              "        buttonEl.style.display =\n",
              "          google.colab.kernel.accessAllowed ? 'block' : 'none';\n",
              "\n",
              "        async function convertToInteractive(key) {\n",
              "          const element = document.querySelector('#df-d8fd141a-be11-4e6d-a06a-4d1f1ca8d566');\n",
              "          const dataTable =\n",
              "            await google.colab.kernel.invokeFunction('convertToInteractive',\n",
              "                                                     [key], {});\n",
              "          if (!dataTable) return;\n",
              "\n",
              "          const docLinkHtml = 'Like what you see? Visit the ' +\n",
              "            '<a target=\"_blank\" href=https://colab.research.google.com/notebooks/data_table.ipynb>data table notebook</a>'\n",
              "            + ' to learn more about interactive tables.';\n",
              "          element.innerHTML = '';\n",
              "          dataTable['output_type'] = 'display_data';\n",
              "          await google.colab.output.renderOutput(dataTable, element);\n",
              "          const docLink = document.createElement('div');\n",
              "          docLink.innerHTML = docLinkHtml;\n",
              "          element.appendChild(docLink);\n",
              "        }\n",
              "      </script>\n",
              "    </div>\n",
              "  </div>\n",
              "  "
            ]
          },
          "metadata": {},
          "execution_count": 366
        }
      ]
    },
    {
      "cell_type": "code",
      "source": [
        "# confusion matrix of test\n",
        "confusion = pd.crosstab(index=y_test, columns=test_predict)\n",
        "confusion\n",
        "# the row is real value\n",
        "# the col is predict value"
      ],
      "metadata": {
        "colab": {
          "base_uri": "https://localhost:8080/",
          "height": 143
        },
        "id": "TBznmsFlqVWJ",
        "outputId": "1aa034f1-c858-478d-840f-eaa7b0d7968a"
      },
      "execution_count": 367,
      "outputs": [
        {
          "output_type": "execute_result",
          "data": {
            "text/plain": [
              "col_0       0    1\n",
              "canceled          \n",
              "0         528   41\n",
              "1         151  166"
            ],
            "text/html": [
              "\n",
              "  <div id=\"df-b45d59bc-dbcc-4580-b643-846b34d66936\">\n",
              "    <div class=\"colab-df-container\">\n",
              "      <div>\n",
              "<style scoped>\n",
              "    .dataframe tbody tr th:only-of-type {\n",
              "        vertical-align: middle;\n",
              "    }\n",
              "\n",
              "    .dataframe tbody tr th {\n",
              "        vertical-align: top;\n",
              "    }\n",
              "\n",
              "    .dataframe thead th {\n",
              "        text-align: right;\n",
              "    }\n",
              "</style>\n",
              "<table border=\"1\" class=\"dataframe\">\n",
              "  <thead>\n",
              "    <tr style=\"text-align: right;\">\n",
              "      <th>col_0</th>\n",
              "      <th>0</th>\n",
              "      <th>1</th>\n",
              "    </tr>\n",
              "    <tr>\n",
              "      <th>canceled</th>\n",
              "      <th></th>\n",
              "      <th></th>\n",
              "    </tr>\n",
              "  </thead>\n",
              "  <tbody>\n",
              "    <tr>\n",
              "      <th>0</th>\n",
              "      <td>528</td>\n",
              "      <td>41</td>\n",
              "    </tr>\n",
              "    <tr>\n",
              "      <th>1</th>\n",
              "      <td>151</td>\n",
              "      <td>166</td>\n",
              "    </tr>\n",
              "  </tbody>\n",
              "</table>\n",
              "</div>\n",
              "      <button class=\"colab-df-convert\" onclick=\"convertToInteractive('df-b45d59bc-dbcc-4580-b643-846b34d66936')\"\n",
              "              title=\"Convert this dataframe to an interactive table.\"\n",
              "              style=\"display:none;\">\n",
              "        \n",
              "  <svg xmlns=\"http://www.w3.org/2000/svg\" height=\"24px\"viewBox=\"0 0 24 24\"\n",
              "       width=\"24px\">\n",
              "    <path d=\"M0 0h24v24H0V0z\" fill=\"none\"/>\n",
              "    <path d=\"M18.56 5.44l.94 2.06.94-2.06 2.06-.94-2.06-.94-.94-2.06-.94 2.06-2.06.94zm-11 1L8.5 8.5l.94-2.06 2.06-.94-2.06-.94L8.5 2.5l-.94 2.06-2.06.94zm10 10l.94 2.06.94-2.06 2.06-.94-2.06-.94-.94-2.06-.94 2.06-2.06.94z\"/><path d=\"M17.41 7.96l-1.37-1.37c-.4-.4-.92-.59-1.43-.59-.52 0-1.04.2-1.43.59L10.3 9.45l-7.72 7.72c-.78.78-.78 2.05 0 2.83L4 21.41c.39.39.9.59 1.41.59.51 0 1.02-.2 1.41-.59l7.78-7.78 2.81-2.81c.8-.78.8-2.07 0-2.86zM5.41 20L4 18.59l7.72-7.72 1.47 1.35L5.41 20z\"/>\n",
              "  </svg>\n",
              "      </button>\n",
              "      \n",
              "  <style>\n",
              "    .colab-df-container {\n",
              "      display:flex;\n",
              "      flex-wrap:wrap;\n",
              "      gap: 12px;\n",
              "    }\n",
              "\n",
              "    .colab-df-convert {\n",
              "      background-color: #E8F0FE;\n",
              "      border: none;\n",
              "      border-radius: 50%;\n",
              "      cursor: pointer;\n",
              "      display: none;\n",
              "      fill: #1967D2;\n",
              "      height: 32px;\n",
              "      padding: 0 0 0 0;\n",
              "      width: 32px;\n",
              "    }\n",
              "\n",
              "    .colab-df-convert:hover {\n",
              "      background-color: #E2EBFA;\n",
              "      box-shadow: 0px 1px 2px rgba(60, 64, 67, 0.3), 0px 1px 3px 1px rgba(60, 64, 67, 0.15);\n",
              "      fill: #174EA6;\n",
              "    }\n",
              "\n",
              "    [theme=dark] .colab-df-convert {\n",
              "      background-color: #3B4455;\n",
              "      fill: #D2E3FC;\n",
              "    }\n",
              "\n",
              "    [theme=dark] .colab-df-convert:hover {\n",
              "      background-color: #434B5C;\n",
              "      box-shadow: 0px 1px 3px 1px rgba(0, 0, 0, 0.15);\n",
              "      filter: drop-shadow(0px 1px 2px rgba(0, 0, 0, 0.3));\n",
              "      fill: #FFFFFF;\n",
              "    }\n",
              "  </style>\n",
              "\n",
              "      <script>\n",
              "        const buttonEl =\n",
              "          document.querySelector('#df-b45d59bc-dbcc-4580-b643-846b34d66936 button.colab-df-convert');\n",
              "        buttonEl.style.display =\n",
              "          google.colab.kernel.accessAllowed ? 'block' : 'none';\n",
              "\n",
              "        async function convertToInteractive(key) {\n",
              "          const element = document.querySelector('#df-b45d59bc-dbcc-4580-b643-846b34d66936');\n",
              "          const dataTable =\n",
              "            await google.colab.kernel.invokeFunction('convertToInteractive',\n",
              "                                                     [key], {});\n",
              "          if (!dataTable) return;\n",
              "\n",
              "          const docLinkHtml = 'Like what you see? Visit the ' +\n",
              "            '<a target=\"_blank\" href=https://colab.research.google.com/notebooks/data_table.ipynb>data table notebook</a>'\n",
              "            + ' to learn more about interactive tables.';\n",
              "          element.innerHTML = '';\n",
              "          dataTable['output_type'] = 'display_data';\n",
              "          await google.colab.output.renderOutput(dataTable, element);\n",
              "          const docLink = document.createElement('div');\n",
              "          docLink.innerHTML = docLinkHtml;\n",
              "          element.appendChild(docLink);\n",
              "        }\n",
              "      </script>\n",
              "    </div>\n",
              "  </div>\n",
              "  "
            ]
          },
          "metadata": {},
          "execution_count": 367
        }
      ]
    },
    {
      "cell_type": "code",
      "source": [
        "# How many reservations are canceled in the testing set?\n",
        "sum(y_test)"
      ],
      "metadata": {
        "colab": {
          "base_uri": "https://localhost:8080/"
        },
        "id": "j8F-fOWmrXvX",
        "outputId": "09607aaf-f8d1-4990-f299-4695863da302"
      },
      "execution_count": 368,
      "outputs": [
        {
          "output_type": "execute_result",
          "data": {
            "text/plain": [
              "317"
            ]
          },
          "metadata": {},
          "execution_count": 368
        }
      ]
    },
    {
      "cell_type": "code",
      "source": [
        "# How many reservations are predicted to be canceled and indeed get canceled in the testing set?\n",
        "confusion[1][1]"
      ],
      "metadata": {
        "colab": {
          "base_uri": "https://localhost:8080/"
        },
        "id": "Nct8MJRutAzn",
        "outputId": "db653add-f7cb-4827-bfbb-4019e7f1eb5a"
      },
      "execution_count": 369,
      "outputs": [
        {
          "output_type": "execute_result",
          "data": {
            "text/plain": [
              "166"
            ]
          },
          "metadata": {},
          "execution_count": 369
        }
      ]
    },
    {
      "cell_type": "code",
      "source": [
        "# How many reservations are predicted to be canceled but actually were not canceled in the testing set?\n",
        "confusion[1][0]"
      ],
      "metadata": {
        "colab": {
          "base_uri": "https://localhost:8080/"
        },
        "id": "MCfGPCnttGRq",
        "outputId": "bc0f498f-326e-4680-8c2c-ca4bc48bff71"
      },
      "execution_count": 370,
      "outputs": [
        {
          "output_type": "execute_result",
          "data": {
            "text/plain": [
              "41"
            ]
          },
          "metadata": {},
          "execution_count": 370
        }
      ]
    },
    {
      "cell_type": "code",
      "source": [
        "# What is the proportion of not canceled reservations that our model incorrectly classifies as canceled? Round yoru answer to the second decimal place, answer format 0.xx\n",
        "round(confusion[1][0] / (confusion[0][0] + confusion[1][0]), 2)"
      ],
      "metadata": {
        "colab": {
          "base_uri": "https://localhost:8080/"
        },
        "id": "r2aaxqfttPQ9",
        "outputId": "6f0bb3fa-e086-4ada-8a6d-b70a1e72661a"
      },
      "execution_count": 371,
      "outputs": [
        {
          "output_type": "execute_result",
          "data": {
            "text/plain": [
              "0.07"
            ]
          },
          "metadata": {},
          "execution_count": 371
        }
      ]
    },
    {
      "cell_type": "code",
      "source": [
        "# What is the proportion of canceled reservations that our model incorrectly classifies as non-canceled? Round yoru answer to the second decimal place, answer format 0.xx\n",
        "round(confusion[0][1] / (confusion[0][1] + confusion[1][1]), 2)"
      ],
      "metadata": {
        "colab": {
          "base_uri": "https://localhost:8080/"
        },
        "id": "OGHfPj4Ytg8H",
        "outputId": "7683cdcb-bbc5-46fc-a651-7c91980dced2"
      },
      "execution_count": 372,
      "outputs": [
        {
          "output_type": "execute_result",
          "data": {
            "text/plain": [
              "0.48"
            ]
          },
          "metadata": {},
          "execution_count": 372
        }
      ]
    },
    {
      "cell_type": "markdown",
      "source": [
        "**Question8**"
      ],
      "metadata": {
        "id": "mLydVo0QoEK0"
      }
    },
    {
      "cell_type": "code",
      "source": [
        "#75% of predicted cancellations will be double-booked.\n",
        "#The profit per room per night is $270.\n",
        "#Upgrading the customer's booking in case of a double-booked room costs $100, leading to a reduced profit of $170 per night for both rooms.\n",
        "\n",
        "#Assumptions:\n",
        "#TP (True Positives): Canceled bookings correctly identified\n",
        "#FP (False Positives): Non-canceled bookings incorrectly identified as canceled\n",
        "#TN (True Negatives): Non-canceled bookings correctly identified\n",
        "#FN (False Negatives): Canceled bookings incorrectly identified as non-canceled\n",
        "\n",
        "TP = confusion.loc[1,1]   #predict cancel, actually canceled\n",
        "FP = confusion.loc[0,1]   #predict cancel, not canceled\n",
        "TN = confusion.loc[0,0]   #predict not cancel, actually not cancel\n",
        "FN = confusion.loc[1,0]   #predict not cancel, canceled\n",
        "\n",
        "profit = (TP * 0.75 * 270) + (TN * 270) + (FP * 0.75 * 170) + (FP * 0.25 * 270) + (FN * 0)\n",
        "profit\n",
        "\n",
        "#(FP * 0.25 * $270): the profit generated from FP (incorrectly predicted cancellations) that were not double-booked. \n",
        "#Since only 75% of predicted cancellations are double-booked, 25% are not double-booked. Multiply the number of false positives (FP) by 0.25 and then by the profit per room ($270)."
      ],
      "metadata": {
        "colab": {
          "base_uri": "https://localhost:8080/"
        },
        "id": "7lw0XAPK5rvs",
        "outputId": "01638b74-7772-40f1-d645-247822961d0e"
      },
      "execution_count": 373,
      "outputs": [
        {
          "output_type": "execute_result",
          "data": {
            "text/plain": [
              "184170.0"
            ]
          },
          "metadata": {},
          "execution_count": 373
        }
      ]
    },
    {
      "cell_type": "code",
      "source": [
        "#profit without model = 270*not canceled + 0*canceled   \n",
        "#Actual Profit = (Total Non-Canceled Bookings * $270) + (Total Canceled Bookings * $0)  = (TN + FP) * $270 \n",
        "\n",
        "actual_profit = 270*(FP+TN)\n",
        "actual_profit"
      ],
      "metadata": {
        "colab": {
          "base_uri": "https://localhost:8080/"
        },
        "id": "HZCq5P_dOqsY",
        "outputId": "8fe272b4-ee15-40cc-f204-adc562e226d9"
      },
      "execution_count": 374,
      "outputs": [
        {
          "output_type": "execute_result",
          "data": {
            "text/plain": [
              "153630"
            ]
          },
          "metadata": {},
          "execution_count": 374
        }
      ]
    },
    {
      "cell_type": "markdown",
      "source": [
        "**Question9**"
      ],
      "metadata": {
        "id": "vVu5C077oT3A"
      }
    },
    {
      "cell_type": "code",
      "source": [
        "# Which of the following thresholds (cut-off probabilities) generates the largest profit?\n",
        "# 0.4 0.8 0.6 0.2\n",
        "thresholds = [0.2, 0.4, 0.6, 0.8]\n",
        "\n",
        "confusion = pd.crosstab(index = y_test, columns = (M.predict_proba(X_test)[:,1] >= 0.8)*1,\\\n",
        "                              margins = True, margins_name='Total',rownames=['Actual'],colnames=['Predicted'])\n",
        "confusionMatrix\n",
        "TP = confusion.loc[1,1]   #predict cancel, actually canceled\n",
        "FP = confusion.loc[0,1]   #predict cancel, not canceled\n",
        "TN = confusion.loc[0,0]   #predict not cancel, actually not cancel\n",
        "FN = confusion.loc[1,0]   #predict not cancel, canceled\n",
        "\n",
        "profit = (TP * 0.75 * 270) + (TN * 270) + (FP * 0.75 * 170) + (FP * 0.25 * 270) + (FN * 0)\n",
        "profit"
      ],
      "metadata": {
        "colab": {
          "base_uri": "https://localhost:8080/"
        },
        "id": "f1CI5vJXmxO4",
        "outputId": "d8f487e2-b5ff-48d4-bfb5-7fdb516abbdf"
      },
      "execution_count": 375,
      "outputs": [
        {
          "output_type": "execute_result",
          "data": {
            "text/plain": [
              "182587.5"
            ]
          },
          "metadata": {},
          "execution_count": 375
        }
      ]
    },
    {
      "cell_type": "code",
      "source": [
        "confusion = pd.crosstab(index = y_test, columns = (M.predict_proba(X_test)[:,1] >= 0.6)*1,\\\n",
        "                              margins = True, margins_name='Total',rownames=['Actual'],colnames=['Predicted'])\n",
        "confusionMatrix\n",
        "TP = confusion.loc[1,1]   #predict cancel, actually canceled\n",
        "FP = confusion.loc[0,1]   #predict cancel, not canceled\n",
        "TN = confusion.loc[0,0]   #predict not cancel, actually not cancel\n",
        "FN = confusion.loc[1,0]   #predict not cancel, canceled\n",
        "\n",
        "profit = (TP * 0.75 * 270) + (TN * 270) + (FP * 0.75 * 170) + (FP * 0.25 * 270) + (FN * 0)\n",
        "profit"
      ],
      "metadata": {
        "colab": {
          "base_uri": "https://localhost:8080/"
        },
        "id": "kFP7xPiVnNd5",
        "outputId": "108906e8-834f-45d6-a9b1-b0a2a0b2cbb6"
      },
      "execution_count": 376,
      "outputs": [
        {
          "output_type": "execute_result",
          "data": {
            "text/plain": [
              "187320.0"
            ]
          },
          "metadata": {},
          "execution_count": 376
        }
      ]
    },
    {
      "cell_type": "code",
      "source": [
        "confusion = pd.crosstab(index = y_test, columns = (M.predict_proba(X_test)[:,1] >= 0.4)*1,\\\n",
        "                              margins = True, margins_name='Total',rownames=['Actual'],colnames=['Predicted'])\n",
        "confusionMatrix\n",
        "TP = confusion.loc[1,1]   #predict cancel, actually canceled\n",
        "FP = confusion.loc[0,1]   #predict cancel, not canceled\n",
        "TN = confusion.loc[0,0]   #predict not cancel, actually not cancel\n",
        "FN = confusion.loc[1,0]   #predict not cancel, canceled\n",
        "\n",
        "profit = (TP * 0.75 * 270) + (TN * 270) + (FP * 0.75 * 170) + (FP * 0.25 * 270) + (FN * 0)\n",
        "profit"
      ],
      "metadata": {
        "colab": {
          "base_uri": "https://localhost:8080/"
        },
        "id": "9-zQghX6w7U5",
        "outputId": "0ebd1c18-cf21-40be-c6b2-d3892b9961a3"
      },
      "execution_count": 377,
      "outputs": [
        {
          "output_type": "execute_result",
          "data": {
            "text/plain": [
              "192037.5"
            ]
          },
          "metadata": {},
          "execution_count": 377
        }
      ]
    },
    {
      "cell_type": "code",
      "source": [
        "confusion = pd.crosstab(index = y_test, columns = (M.predict_proba(X_test)[:,1] >= 0.2)*1,\\\n",
        "                              margins = True, margins_name='Total',rownames=['Actual'],colnames=['Predicted'])\n",
        "confusionMatrix\n",
        "TP = confusion.loc[1,1]   #predict cancel, actually canceled\n",
        "FP = confusion.loc[0,1]   #predict cancel, not canceled\n",
        "TN = confusion.loc[0,0]   #predict not cancel, actually not cancel\n",
        "FN = confusion.loc[1,0]   #predict not cancel, canceled\n",
        "\n",
        "profit = (TP * 0.75 * 270) + (TN * 270) + (FP * 0.75 * 170) + (FP * 0.25 * 270) + (FN * 0)\n",
        "profit"
      ],
      "metadata": {
        "colab": {
          "base_uri": "https://localhost:8080/"
        },
        "id": "Zh4IfEYfw5N8",
        "outputId": "5578877d-f652-490e-b1db-8ca320bfa676"
      },
      "execution_count": 378,
      "outputs": [
        {
          "output_type": "execute_result",
          "data": {
            "text/plain": [
              "196057.5"
            ]
          },
          "metadata": {},
          "execution_count": 378
        }
      ]
    },
    {
      "cell_type": "markdown",
      "source": [
        "**Question10**"
      ],
      "metadata": {
        "id": "UMtbSqFbob9v"
      }
    },
    {
      "cell_type": "code",
      "source": [
        "# What cut-off probability was used by your coworker in creating their confusion matrix?\n",
        "# 0.36 0.47 0.81 0.18 None of the above\n",
        "thresholds = [0.36, 0.47, 0.81, 0.18]\n",
        "for threshold in thresholds:\n",
        "    print(\"threshold:{}\".format(threshold))\n",
        "    test_predict = generate_by_thresholds(X_test, threshold)\n",
        "    print(pd.crosstab(index=y_test, columns=test_predict))"
      ],
      "metadata": {
        "id": "_TAQ3nHW6O9X",
        "colab": {
          "base_uri": "https://localhost:8080/"
        },
        "outputId": "3230907f-c1d1-41d2-99bc-56852c9dee4f"
      },
      "execution_count": 379,
      "outputs": [
        {
          "output_type": "stream",
          "name": "stdout",
          "text": [
            "threshold:0.36\n",
            "col_0       0    1\n",
            "canceled          \n",
            "0         476   93\n",
            "1          88  229\n",
            "threshold:0.47\n",
            "col_0       0    1\n",
            "canceled          \n",
            "0         496   73\n",
            "1         102  215\n",
            "threshold:0.81\n",
            "col_0       0    1\n",
            "canceled          \n",
            "0         542   27\n",
            "1         164  153\n",
            "threshold:0.18\n",
            "col_0       0    1\n",
            "canceled          \n",
            "0         367  202\n",
            "1          34  283\n"
          ]
        }
      ]
    },
    {
      "cell_type": "markdown",
      "source": [
        "**Question11**"
      ],
      "metadata": {
        "id": "LmFP_ihbog3Q"
      }
    },
    {
      "cell_type": "code",
      "source": [
        "# Consider 100 equidistant thresholds in the interval between 0 and 1. Which threshold yields the highest accuracy on the testing set?\n",
        "# What is the corresponding highest accuracy (proportion of correct classifications) (round your answer to the second decimal place, answer format 0.xx)\n",
        "thresholds = np.linspace(0,1,100)\n",
        "AccuracyScores = [round(metrics.accuracy_score(y_true = y_test, y_pred = (M.predict_proba(X_test)[:,1] >= threshold)*1)*100,2) for threshold in thresholds]\n",
        "thresholds[AccuracyScores == max(AccuracyScores)][0]\n"
      ],
      "metadata": {
        "colab": {
          "base_uri": "https://localhost:8080/"
        },
        "id": "UCXpefrPhKLz",
        "outputId": "31301d58-a669-45e5-fc09-b679c297ec85"
      },
      "execution_count": 380,
      "outputs": [
        {
          "output_type": "execute_result",
          "data": {
            "text/plain": [
              "0.4545454545454546"
            ]
          },
          "metadata": {},
          "execution_count": 380
        }
      ]
    },
    {
      "cell_type": "code",
      "source": [
        "max(AccuracyScores)\n",
        "#0.8025"
      ],
      "metadata": {
        "colab": {
          "base_uri": "https://localhost:8080/"
        },
        "id": "Z-7z4pYqjDUy",
        "outputId": "0856bd24-29da-4ef9-a12a-c4131ae34a3f"
      },
      "execution_count": 381,
      "outputs": [
        {
          "output_type": "execute_result",
          "data": {
            "text/plain": [
              "80.25"
            ]
          },
          "metadata": {},
          "execution_count": 381
        }
      ]
    },
    {
      "cell_type": "code",
      "source": [
        "# For the threshold that yields the highest accuracy, provide the estimated profit on the testing set  (round your answer to the second decimal place)\n",
        "confusion = pd.crosstab(index = y_test, columns = (M.predict_proba(X_test)[:,1] >= 0.45)*1,\\\n",
        "                              margins = True, margins_name='Total',rownames=['Actual'],colnames=['Predicted'])\n",
        "confusion"
      ],
      "metadata": {
        "colab": {
          "base_uri": "https://localhost:8080/",
          "height": 175
        },
        "id": "L1lNOcBIjlWG",
        "outputId": "41072b5b-5dd2-4753-ddb2-49e30e93a002"
      },
      "execution_count": 382,
      "outputs": [
        {
          "output_type": "execute_result",
          "data": {
            "text/plain": [
              "Predicted    0    1  Total\n",
              "Actual                    \n",
              "0          486   83    569\n",
              "1          102  215    317\n",
              "Total      588  298    886"
            ],
            "text/html": [
              "\n",
              "  <div id=\"df-5be7f996-a08e-4928-910b-3ac30a6526ae\">\n",
              "    <div class=\"colab-df-container\">\n",
              "      <div>\n",
              "<style scoped>\n",
              "    .dataframe tbody tr th:only-of-type {\n",
              "        vertical-align: middle;\n",
              "    }\n",
              "\n",
              "    .dataframe tbody tr th {\n",
              "        vertical-align: top;\n",
              "    }\n",
              "\n",
              "    .dataframe thead th {\n",
              "        text-align: right;\n",
              "    }\n",
              "</style>\n",
              "<table border=\"1\" class=\"dataframe\">\n",
              "  <thead>\n",
              "    <tr style=\"text-align: right;\">\n",
              "      <th>Predicted</th>\n",
              "      <th>0</th>\n",
              "      <th>1</th>\n",
              "      <th>Total</th>\n",
              "    </tr>\n",
              "    <tr>\n",
              "      <th>Actual</th>\n",
              "      <th></th>\n",
              "      <th></th>\n",
              "      <th></th>\n",
              "    </tr>\n",
              "  </thead>\n",
              "  <tbody>\n",
              "    <tr>\n",
              "      <th>0</th>\n",
              "      <td>486</td>\n",
              "      <td>83</td>\n",
              "      <td>569</td>\n",
              "    </tr>\n",
              "    <tr>\n",
              "      <th>1</th>\n",
              "      <td>102</td>\n",
              "      <td>215</td>\n",
              "      <td>317</td>\n",
              "    </tr>\n",
              "    <tr>\n",
              "      <th>Total</th>\n",
              "      <td>588</td>\n",
              "      <td>298</td>\n",
              "      <td>886</td>\n",
              "    </tr>\n",
              "  </tbody>\n",
              "</table>\n",
              "</div>\n",
              "      <button class=\"colab-df-convert\" onclick=\"convertToInteractive('df-5be7f996-a08e-4928-910b-3ac30a6526ae')\"\n",
              "              title=\"Convert this dataframe to an interactive table.\"\n",
              "              style=\"display:none;\">\n",
              "        \n",
              "  <svg xmlns=\"http://www.w3.org/2000/svg\" height=\"24px\"viewBox=\"0 0 24 24\"\n",
              "       width=\"24px\">\n",
              "    <path d=\"M0 0h24v24H0V0z\" fill=\"none\"/>\n",
              "    <path d=\"M18.56 5.44l.94 2.06.94-2.06 2.06-.94-2.06-.94-.94-2.06-.94 2.06-2.06.94zm-11 1L8.5 8.5l.94-2.06 2.06-.94-2.06-.94L8.5 2.5l-.94 2.06-2.06.94zm10 10l.94 2.06.94-2.06 2.06-.94-2.06-.94-.94-2.06-.94 2.06-2.06.94z\"/><path d=\"M17.41 7.96l-1.37-1.37c-.4-.4-.92-.59-1.43-.59-.52 0-1.04.2-1.43.59L10.3 9.45l-7.72 7.72c-.78.78-.78 2.05 0 2.83L4 21.41c.39.39.9.59 1.41.59.51 0 1.02-.2 1.41-.59l7.78-7.78 2.81-2.81c.8-.78.8-2.07 0-2.86zM5.41 20L4 18.59l7.72-7.72 1.47 1.35L5.41 20z\"/>\n",
              "  </svg>\n",
              "      </button>\n",
              "      \n",
              "  <style>\n",
              "    .colab-df-container {\n",
              "      display:flex;\n",
              "      flex-wrap:wrap;\n",
              "      gap: 12px;\n",
              "    }\n",
              "\n",
              "    .colab-df-convert {\n",
              "      background-color: #E8F0FE;\n",
              "      border: none;\n",
              "      border-radius: 50%;\n",
              "      cursor: pointer;\n",
              "      display: none;\n",
              "      fill: #1967D2;\n",
              "      height: 32px;\n",
              "      padding: 0 0 0 0;\n",
              "      width: 32px;\n",
              "    }\n",
              "\n",
              "    .colab-df-convert:hover {\n",
              "      background-color: #E2EBFA;\n",
              "      box-shadow: 0px 1px 2px rgba(60, 64, 67, 0.3), 0px 1px 3px 1px rgba(60, 64, 67, 0.15);\n",
              "      fill: #174EA6;\n",
              "    }\n",
              "\n",
              "    [theme=dark] .colab-df-convert {\n",
              "      background-color: #3B4455;\n",
              "      fill: #D2E3FC;\n",
              "    }\n",
              "\n",
              "    [theme=dark] .colab-df-convert:hover {\n",
              "      background-color: #434B5C;\n",
              "      box-shadow: 0px 1px 3px 1px rgba(0, 0, 0, 0.15);\n",
              "      filter: drop-shadow(0px 1px 2px rgba(0, 0, 0, 0.3));\n",
              "      fill: #FFFFFF;\n",
              "    }\n",
              "  </style>\n",
              "\n",
              "      <script>\n",
              "        const buttonEl =\n",
              "          document.querySelector('#df-5be7f996-a08e-4928-910b-3ac30a6526ae button.colab-df-convert');\n",
              "        buttonEl.style.display =\n",
              "          google.colab.kernel.accessAllowed ? 'block' : 'none';\n",
              "\n",
              "        async function convertToInteractive(key) {\n",
              "          const element = document.querySelector('#df-5be7f996-a08e-4928-910b-3ac30a6526ae');\n",
              "          const dataTable =\n",
              "            await google.colab.kernel.invokeFunction('convertToInteractive',\n",
              "                                                     [key], {});\n",
              "          if (!dataTable) return;\n",
              "\n",
              "          const docLinkHtml = 'Like what you see? Visit the ' +\n",
              "            '<a target=\"_blank\" href=https://colab.research.google.com/notebooks/data_table.ipynb>data table notebook</a>'\n",
              "            + ' to learn more about interactive tables.';\n",
              "          element.innerHTML = '';\n",
              "          dataTable['output_type'] = 'display_data';\n",
              "          await google.colab.output.renderOutput(dataTable, element);\n",
              "          const docLink = document.createElement('div');\n",
              "          docLink.innerHTML = docLinkHtml;\n",
              "          element.appendChild(docLink);\n",
              "        }\n",
              "      </script>\n",
              "    </div>\n",
              "  </div>\n",
              "  "
            ]
          },
          "metadata": {},
          "execution_count": 382
        }
      ]
    },
    {
      "cell_type": "code",
      "source": [
        "# For the threshold that yields the highest accuracy, provide the estimated profit on the testing set  (round your answer to the second decimal place)\n",
        "confusion = pd.crosstab(index = y_test, columns = (M.predict_proba(X_test)[:,1] >= 0.45)*1,\\\n",
        "                              margins = True, margins_name='Total',rownames=['Actual'],colnames=['Predicted'])\n",
        "confusionMatrix\n",
        "TP = confusion.loc[1,1]   #predict cancel, actually canceled\n",
        "FP = confusion.loc[0,1]   #predict cancel, not canceled\n",
        "TN = confusion.loc[0,0]   #predict not cancel, actually not cancel\n",
        "FN = confusion.loc[1,0]   #predict not cancel, canceled\n",
        "\n",
        "profit = (TP * 0.75 * 270) + (TN * 270) + (FP * 0.75 * 170) + (FP * 0.25 * 270) + (FN * 0)\n",
        "profit"
      ],
      "metadata": {
        "colab": {
          "base_uri": "https://localhost:8080/"
        },
        "id": "1tD8Cif5kXs-",
        "outputId": "442434cf-9a7e-40bd-cd3d-2f967206f9f5"
      },
      "execution_count": 383,
      "outputs": [
        {
          "output_type": "execute_result",
          "data": {
            "text/plain": [
              "190942.5"
            ]
          },
          "metadata": {},
          "execution_count": 383
        }
      ]
    }
  ]
}
