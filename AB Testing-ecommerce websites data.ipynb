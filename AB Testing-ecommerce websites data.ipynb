{
  "nbformat": 4,
  "nbformat_minor": 0,
  "metadata": {
    "colab": {
      "provenance": []
    },
    "kernelspec": {
      "name": "python3",
      "display_name": "Python 3"
    },
    "language_info": {
      "name": "python"
    }
  },
  "cells": [
    {
      "cell_type": "code",
      "execution_count": 1,
      "metadata": {
        "id": "4_mD3fxVBSTV"
      },
      "outputs": [],
      "source": [
        "import pandas as pd\n",
        "from statsmodels.stats.weightstats import ztest\n",
        "import math\n",
        "from statsmodels.stats.power import NormalIndPower\n",
        "import numpy as np\n"
      ]
    },
    {
      "cell_type": "code",
      "source": [
        "df = pd.read_excel('https://github.com/robertasgabrys/DSO559/blob/main/websites.xlsx?raw=true')\n",
        "df.head()\n",
        "df.tail()\n",
        "\n",
        "#3719"
      ],
      "metadata": {
        "colab": {
          "base_uri": "https://localhost:8080/",
          "height": 206
        },
        "id": "l5FYGDQSBWjy",
        "outputId": "ee1efdfe-8bef-48b3-d5c8-73fe5b5bf4e4"
      },
      "execution_count": 2,
      "outputs": [
        {
          "output_type": "execute_result",
          "data": {
            "text/plain": [
              "      Visitor   Weekday Page_Viewed Add_To_Cart\n",
              "3714   114277  Thursday           A          No\n",
              "3715   596191  Saturday           C          No\n",
              "3716   715677  Thursday           C          No\n",
              "3717   288314  Thursday           A          No\n",
              "3718   633896  Saturday           C          No"
            ],
            "text/html": [
              "\n",
              "  <div id=\"df-4d4b4b3c-4959-493c-8fd6-fc8e8c432e71\">\n",
              "    <div class=\"colab-df-container\">\n",
              "      <div>\n",
              "<style scoped>\n",
              "    .dataframe tbody tr th:only-of-type {\n",
              "        vertical-align: middle;\n",
              "    }\n",
              "\n",
              "    .dataframe tbody tr th {\n",
              "        vertical-align: top;\n",
              "    }\n",
              "\n",
              "    .dataframe thead th {\n",
              "        text-align: right;\n",
              "    }\n",
              "</style>\n",
              "<table border=\"1\" class=\"dataframe\">\n",
              "  <thead>\n",
              "    <tr style=\"text-align: right;\">\n",
              "      <th></th>\n",
              "      <th>Visitor</th>\n",
              "      <th>Weekday</th>\n",
              "      <th>Page_Viewed</th>\n",
              "      <th>Add_To_Cart</th>\n",
              "    </tr>\n",
              "  </thead>\n",
              "  <tbody>\n",
              "    <tr>\n",
              "      <th>3714</th>\n",
              "      <td>114277</td>\n",
              "      <td>Thursday</td>\n",
              "      <td>A</td>\n",
              "      <td>No</td>\n",
              "    </tr>\n",
              "    <tr>\n",
              "      <th>3715</th>\n",
              "      <td>596191</td>\n",
              "      <td>Saturday</td>\n",
              "      <td>C</td>\n",
              "      <td>No</td>\n",
              "    </tr>\n",
              "    <tr>\n",
              "      <th>3716</th>\n",
              "      <td>715677</td>\n",
              "      <td>Thursday</td>\n",
              "      <td>C</td>\n",
              "      <td>No</td>\n",
              "    </tr>\n",
              "    <tr>\n",
              "      <th>3717</th>\n",
              "      <td>288314</td>\n",
              "      <td>Thursday</td>\n",
              "      <td>A</td>\n",
              "      <td>No</td>\n",
              "    </tr>\n",
              "    <tr>\n",
              "      <th>3718</th>\n",
              "      <td>633896</td>\n",
              "      <td>Saturday</td>\n",
              "      <td>C</td>\n",
              "      <td>No</td>\n",
              "    </tr>\n",
              "  </tbody>\n",
              "</table>\n",
              "</div>\n",
              "      <button class=\"colab-df-convert\" onclick=\"convertToInteractive('df-4d4b4b3c-4959-493c-8fd6-fc8e8c432e71')\"\n",
              "              title=\"Convert this dataframe to an interactive table.\"\n",
              "              style=\"display:none;\">\n",
              "        \n",
              "  <svg xmlns=\"http://www.w3.org/2000/svg\" height=\"24px\"viewBox=\"0 0 24 24\"\n",
              "       width=\"24px\">\n",
              "    <path d=\"M0 0h24v24H0V0z\" fill=\"none\"/>\n",
              "    <path d=\"M18.56 5.44l.94 2.06.94-2.06 2.06-.94-2.06-.94-.94-2.06-.94 2.06-2.06.94zm-11 1L8.5 8.5l.94-2.06 2.06-.94-2.06-.94L8.5 2.5l-.94 2.06-2.06.94zm10 10l.94 2.06.94-2.06 2.06-.94-2.06-.94-.94-2.06-.94 2.06-2.06.94z\"/><path d=\"M17.41 7.96l-1.37-1.37c-.4-.4-.92-.59-1.43-.59-.52 0-1.04.2-1.43.59L10.3 9.45l-7.72 7.72c-.78.78-.78 2.05 0 2.83L4 21.41c.39.39.9.59 1.41.59.51 0 1.02-.2 1.41-.59l7.78-7.78 2.81-2.81c.8-.78.8-2.07 0-2.86zM5.41 20L4 18.59l7.72-7.72 1.47 1.35L5.41 20z\"/>\n",
              "  </svg>\n",
              "      </button>\n",
              "      \n",
              "  <style>\n",
              "    .colab-df-container {\n",
              "      display:flex;\n",
              "      flex-wrap:wrap;\n",
              "      gap: 12px;\n",
              "    }\n",
              "\n",
              "    .colab-df-convert {\n",
              "      background-color: #E8F0FE;\n",
              "      border: none;\n",
              "      border-radius: 50%;\n",
              "      cursor: pointer;\n",
              "      display: none;\n",
              "      fill: #1967D2;\n",
              "      height: 32px;\n",
              "      padding: 0 0 0 0;\n",
              "      width: 32px;\n",
              "    }\n",
              "\n",
              "    .colab-df-convert:hover {\n",
              "      background-color: #E2EBFA;\n",
              "      box-shadow: 0px 1px 2px rgba(60, 64, 67, 0.3), 0px 1px 3px 1px rgba(60, 64, 67, 0.15);\n",
              "      fill: #174EA6;\n",
              "    }\n",
              "\n",
              "    [theme=dark] .colab-df-convert {\n",
              "      background-color: #3B4455;\n",
              "      fill: #D2E3FC;\n",
              "    }\n",
              "\n",
              "    [theme=dark] .colab-df-convert:hover {\n",
              "      background-color: #434B5C;\n",
              "      box-shadow: 0px 1px 3px 1px rgba(0, 0, 0, 0.15);\n",
              "      filter: drop-shadow(0px 1px 2px rgba(0, 0, 0, 0.3));\n",
              "      fill: #FFFFFF;\n",
              "    }\n",
              "  </style>\n",
              "\n",
              "      <script>\n",
              "        const buttonEl =\n",
              "          document.querySelector('#df-4d4b4b3c-4959-493c-8fd6-fc8e8c432e71 button.colab-df-convert');\n",
              "        buttonEl.style.display =\n",
              "          google.colab.kernel.accessAllowed ? 'block' : 'none';\n",
              "\n",
              "        async function convertToInteractive(key) {\n",
              "          const element = document.querySelector('#df-4d4b4b3c-4959-493c-8fd6-fc8e8c432e71');\n",
              "          const dataTable =\n",
              "            await google.colab.kernel.invokeFunction('convertToInteractive',\n",
              "                                                     [key], {});\n",
              "          if (!dataTable) return;\n",
              "\n",
              "          const docLinkHtml = 'Like what you see? Visit the ' +\n",
              "            '<a target=\"_blank\" href=https://colab.research.google.com/notebooks/data_table.ipynb>data table notebook</a>'\n",
              "            + ' to learn more about interactive tables.';\n",
              "          element.innerHTML = '';\n",
              "          dataTable['output_type'] = 'display_data';\n",
              "          await google.colab.output.renderOutput(dataTable, element);\n",
              "          const docLink = document.createElement('div');\n",
              "          docLink.innerHTML = docLinkHtml;\n",
              "          element.appendChild(docLink);\n",
              "        }\n",
              "      </script>\n",
              "    </div>\n",
              "  </div>\n",
              "  "
            ]
          },
          "metadata": {},
          "execution_count": 2
        }
      ]
    },
    {
      "cell_type": "code",
      "source": [
        "df.loc[df['Add_To_Cart'] == 'No','Add_To_Cart'] = 0\n",
        "df.loc[df['Add_To_Cart'] == 'Yes','Add_To_Cart'] = 1"
      ],
      "metadata": {
        "id": "gVaLHldyBiMU"
      },
      "execution_count": 3,
      "outputs": []
    },
    {
      "cell_type": "code",
      "source": [
        "# Is design A better than C?\n",
        "# HO: the new Design A is not better than old C\n",
        "ztest(x1 = df.loc[df['Page_Viewed'] == 'A','Add_To_Cart'] , x2 = df.loc[df['Page_Viewed'] == 'C','Add_To_Cart'],alternative='larger')[1]\n",
        "# since the p-value > 0.05, not statistically significant, we fail to reject the null hypothesis, -> A is not better than C"
      ],
      "metadata": {
        "colab": {
          "base_uri": "https://localhost:8080/"
        },
        "id": "-aL3bKRUFdAO",
        "outputId": "eef86f0a-8189-4e8c-a963-d556c5c83568"
      },
      "execution_count": 11,
      "outputs": [
        {
          "output_type": "execute_result",
          "data": {
            "text/plain": [
              "0.9672450456728674"
            ]
          },
          "metadata": {},
          "execution_count": 11
        }
      ]
    },
    {
      "cell_type": "code",
      "source": [
        "# Is design B better than C?\n",
        "# HO: the new Design B is not better than old C\n",
        "ztest(x1 = df.loc[df['Page_Viewed'] == 'B','Add_To_Cart'] , x2 = df.loc[df['Page_Viewed'] == 'C','Add_To_Cart'],alternative='larger')[1]\n",
        "# since the pvalue > 0.05 -> B is not better than C"
      ],
      "metadata": {
        "colab": {
          "base_uri": "https://localhost:8080/"
        },
        "id": "zfSRx1-c5RNd",
        "outputId": "5358303b-90a9-47e0-ef04-fb63139719b0"
      },
      "execution_count": 12,
      "outputs": [
        {
          "output_type": "execute_result",
          "data": {
            "text/plain": [
              "0.3785297165890318"
            ]
          },
          "metadata": {},
          "execution_count": 12
        }
      ]
    },
    {
      "cell_type": "code",
      "source": [
        "# Weekday = Monday\n",
        "# Is A better than C?\n",
        "ztest(x1 = df.loc[(df['Page_Viewed'] == 'A') & (df['Weekday'] == 'Monday'),'Add_To_Cart'] ,\\\n",
        "      x2 = df.loc[(df['Page_Viewed'] == 'C') & (df['Weekday'] == 'Monday'),'Add_To_Cart'],alternative='larger')[1]\n",
        "# Conclusion: A is NOT better than C for Monday"
      ],
      "metadata": {
        "colab": {
          "base_uri": "https://localhost:8080/"
        },
        "id": "TV8Wwt2r60dD",
        "outputId": "0ca2453b-041d-4b0e-cbe0-7fca660f15a2"
      },
      "execution_count": 14,
      "outputs": [
        {
          "output_type": "execute_result",
          "data": {
            "text/plain": [
              "0.42876926611004257"
            ]
          },
          "metadata": {},
          "execution_count": 14
        }
      ]
    },
    {
      "cell_type": "code",
      "source": [
        "# Weekday = Monday\n",
        "# Is A better than C?\n",
        "ztest(x1 = df.loc[(df['Page_Viewed'] == 'A') & (df['Weekday'] == 'Tuesday'),'Add_To_Cart'] ,\\\n",
        "      x2 = df.loc[(df['Page_Viewed'] == 'C') & (df['Weekday'] == 'Tuesday'),'Add_To_Cart'],alternative='larger')[1]\n",
        "# Conclusion: A is NOT better than C for Monday"
      ],
      "metadata": {
        "colab": {
          "base_uri": "https://localhost:8080/"
        },
        "id": "ebR-zyzl75DG",
        "outputId": "977365f7-74ae-411b-aa7b-d4ae0b1bce3c"
      },
      "execution_count": 15,
      "outputs": [
        {
          "output_type": "execute_result",
          "data": {
            "text/plain": [
              "0.7670868002306268"
            ]
          },
          "metadata": {},
          "execution_count": 15
        }
      ]
    },
    {
      "cell_type": "code",
      "source": [
        "# Weekday = Monday\n",
        "# Is A better than C?\n",
        "ztest(x1 = df.loc[(df['Page_Viewed'] == 'A') & (df['Weekday'] == 'Wednesday'),'Add_To_Cart'] ,\\\n",
        "      x2 = df.loc[(df['Page_Viewed'] == 'C') & (df['Weekday'] == 'Wednesday'),'Add_To_Cart'],alternative='larger')[1]\n",
        "# Conclusion: A is NOT better than C for Monday"
      ],
      "metadata": {
        "colab": {
          "base_uri": "https://localhost:8080/"
        },
        "id": "5DK33knQ8Gqg",
        "outputId": "6df976b7-090f-47ef-c5a7-445b1733623d"
      },
      "execution_count": 16,
      "outputs": [
        {
          "output_type": "execute_result",
          "data": {
            "text/plain": [
              "0.4973372067897947"
            ]
          },
          "metadata": {},
          "execution_count": 16
        }
      ]
    },
    {
      "cell_type": "code",
      "source": [
        "# Weekday = Monday\n",
        "# Is A better than C?\n",
        "ztest(x1 = df.loc[(df['Page_Viewed'] == 'A') & (df['Weekday'] == 'Thursday'),'Add_To_Cart'] ,\\\n",
        "      x2 = df.loc[(df['Page_Viewed'] == 'C') & (df['Weekday'] == 'Thursday'),'Add_To_Cart'],alternative='larger')[1]\n",
        "# Conclusion: A is NOT better than C for Monday"
      ],
      "metadata": {
        "colab": {
          "base_uri": "https://localhost:8080/"
        },
        "id": "V9Aa2zAv8M2N",
        "outputId": "bedae10d-872b-4856-c8a8-d915e94d47af"
      },
      "execution_count": 17,
      "outputs": [
        {
          "output_type": "execute_result",
          "data": {
            "text/plain": [
              "0.5458113079509391"
            ]
          },
          "metadata": {},
          "execution_count": 17
        }
      ]
    },
    {
      "cell_type": "code",
      "source": [
        "# Weekday = Monday\n",
        "# Is A better than C?\n",
        "ztest(x1 = df.loc[(df['Page_Viewed'] == 'A') & (df['Weekday'] == 'Friday'),'Add_To_Cart'] ,\\\n",
        "      x2 = df.loc[(df['Page_Viewed'] == 'C') & (df['Weekday'] == 'Friday'),'Add_To_Cart'],alternative='larger')[1]\n",
        "# Conclusion: A is NOT better than C for Monday"
      ],
      "metadata": {
        "colab": {
          "base_uri": "https://localhost:8080/"
        },
        "id": "A6niKztc8QgE",
        "outputId": "5fefaf16-8f53-4862-ac7d-0ec9b88e0f11"
      },
      "execution_count": 18,
      "outputs": [
        {
          "output_type": "execute_result",
          "data": {
            "text/plain": [
              "0.988444749856935"
            ]
          },
          "metadata": {},
          "execution_count": 18
        }
      ]
    },
    {
      "cell_type": "code",
      "source": [
        "# Weekday = Monday\n",
        "# Is A better than C?\n",
        "ztest(x1 = df.loc[(df['Page_Viewed'] == 'A') & (df['Weekday'] == 'Saturday'),'Add_To_Cart'] ,\\\n",
        "      x2 = df.loc[(df['Page_Viewed'] == 'C') & (df['Weekday'] == 'Saturday'),'Add_To_Cart'],alternative='larger')[1]\n",
        "# Conclusion: A is NOT better than C for Monday"
      ],
      "metadata": {
        "colab": {
          "base_uri": "https://localhost:8080/"
        },
        "id": "Na37t8x18S8J",
        "outputId": "a7ad2e12-882b-4033-f512-fd7e9a8d59b8"
      },
      "execution_count": 19,
      "outputs": [
        {
          "output_type": "execute_result",
          "data": {
            "text/plain": [
              "0.8537695827982934"
            ]
          },
          "metadata": {},
          "execution_count": 19
        }
      ]
    },
    {
      "cell_type": "code",
      "source": [
        "# Weekday = Monday\n",
        "# Is A better than C?\n",
        "ztest(x1 = df.loc[(df['Page_Viewed'] == 'A') & (df['Weekday'] == 'Sunday'),'Add_To_Cart'] ,\\\n",
        "      x2 = df.loc[(df['Page_Viewed'] == 'C') & (df['Weekday'] == 'Sunday'),'Add_To_Cart'],alternative='larger')[1]\n",
        "# Conclusion: A is NOT better than C for Monday"
      ],
      "metadata": {
        "colab": {
          "base_uri": "https://localhost:8080/"
        },
        "id": "fRl7N1n28V9S",
        "outputId": "f61cb8d3-ab66-4cf2-eda5-b3d81803062e"
      },
      "execution_count": 20,
      "outputs": [
        {
          "output_type": "execute_result",
          "data": {
            "text/plain": [
              "0.7304748042266589"
            ]
          },
          "metadata": {},
          "execution_count": 20
        }
      ]
    },
    {
      "cell_type": "code",
      "source": [
        "# Weekday = Monday\n",
        "# Is B better than C?\n",
        "ztest(x1 = df.loc[(df['Page_Viewed'] == 'B') & (df['Weekday'] == 'Sunday'),'Add_To_Cart'] ,\\\n",
        "      x2 = df.loc[(df['Page_Viewed'] == 'C') & (df['Weekday'] == 'Sunday'),'Add_To_Cart'],alternative='larger')[1]\n",
        "# Conclusion: B is NOT better than C for Monday"
      ],
      "metadata": {
        "colab": {
          "base_uri": "https://localhost:8080/"
        },
        "id": "dXFYeCHe8YV-",
        "outputId": "bd87fe65-2c5b-4284-f413-e6c777442100"
      },
      "execution_count": 21,
      "outputs": [
        {
          "output_type": "execute_result",
          "data": {
            "text/plain": [
              "0.5217975954510238"
            ]
          },
          "metadata": {},
          "execution_count": 21
        }
      ]
    },
    {
      "cell_type": "code",
      "source": [
        "# Weekday = Monday\n",
        "# Is B better than C?\n",
        "ztest(x1 = df.loc[(df['Page_Viewed'] == 'B') & (df['Weekday'] == 'Monday'),'Add_To_Cart'] ,\\\n",
        "      x2 = df.loc[(df['Page_Viewed'] == 'C') & (df['Weekday'] == 'Monday'),'Add_To_Cart'],alternative='larger')[1]\n",
        "# Conclusion: B is NOT better than C for Monday"
      ],
      "metadata": {
        "colab": {
          "base_uri": "https://localhost:8080/"
        },
        "id": "Akt_vX0e8eGM",
        "outputId": "5d2fcb96-000e-408d-e538-9cf3551ff6db"
      },
      "execution_count": 23,
      "outputs": [
        {
          "output_type": "execute_result",
          "data": {
            "text/plain": [
              "0.28178446527819606"
            ]
          },
          "metadata": {},
          "execution_count": 23
        }
      ]
    },
    {
      "cell_type": "code",
      "source": [
        "# Weekday = Monday\n",
        "# Is B better than C?\n",
        "ztest(x1 = df.loc[(df['Page_Viewed'] == 'B') & (df['Weekday'] == 'Tuesday'),'Add_To_Cart'] ,\\\n",
        "      x2 = df.loc[(df['Page_Viewed'] == 'C') & (df['Weekday'] == 'Tuesday'),'Add_To_Cart'],alternative='larger')[1]\n",
        "# Conclusion: B is NOT better than C for Monday"
      ],
      "metadata": {
        "colab": {
          "base_uri": "https://localhost:8080/"
        },
        "id": "nvpglh6_8ipZ",
        "outputId": "3651c307-cc09-4677-da04-01bd1d218528"
      },
      "execution_count": 24,
      "outputs": [
        {
          "output_type": "execute_result",
          "data": {
            "text/plain": [
              "0.3129762682384125"
            ]
          },
          "metadata": {},
          "execution_count": 24
        }
      ]
    },
    {
      "cell_type": "code",
      "source": [
        "# Weekday = Monday\n",
        "# Is B better than C?\n",
        "ztest(x1 = df.loc[(df['Page_Viewed'] == 'B') & (df['Weekday'] == 'Wednesday'),'Add_To_Cart'] ,\\\n",
        "      x2 = df.loc[(df['Page_Viewed'] == 'C') & (df['Weekday'] == 'Wednesday'),'Add_To_Cart'],alternative='larger')[1]\n",
        "# Conclusion: B is NOT better than C for Monday"
      ],
      "metadata": {
        "colab": {
          "base_uri": "https://localhost:8080/"
        },
        "id": "ijyDjQX68pfh",
        "outputId": "1cf51d09-002a-44d8-c642-a071c585b3ba"
      },
      "execution_count": 25,
      "outputs": [
        {
          "output_type": "execute_result",
          "data": {
            "text/plain": [
              "0.22339871573770365"
            ]
          },
          "metadata": {},
          "execution_count": 25
        }
      ]
    },
    {
      "cell_type": "code",
      "source": [
        "# Weekday = Monday\n",
        "# Is B better than C?\n",
        "ztest(x1 = df.loc[(df['Page_Viewed'] == 'B') & (df['Weekday'] == 'Thursday'),'Add_To_Cart'] ,\\\n",
        "      x2 = df.loc[(df['Page_Viewed'] == 'C') & (df['Weekday'] == 'Thursday'),'Add_To_Cart'],alternative='larger')[1]\n",
        "# Conclusion: B is NOT better than C for Monday"
      ],
      "metadata": {
        "colab": {
          "base_uri": "https://localhost:8080/"
        },
        "id": "jVQYIQmE8szV",
        "outputId": "23f5ce2c-a6ed-4998-d3aa-21a14fcb3cc3"
      },
      "execution_count": 26,
      "outputs": [
        {
          "output_type": "execute_result",
          "data": {
            "text/plain": [
              "0.44914633573703683"
            ]
          },
          "metadata": {},
          "execution_count": 26
        }
      ]
    },
    {
      "cell_type": "code",
      "source": [
        "# Weekday = Monday\n",
        "# Is B better than C?\n",
        "ztest(x1 = df.loc[(df['Page_Viewed'] == 'B') & (df['Weekday'] == 'Friday'),'Add_To_Cart'] ,\\\n",
        "      x2 = df.loc[(df['Page_Viewed'] == 'C') & (df['Weekday'] == 'Friday'),'Add_To_Cart'],alternative='larger')[1]\n",
        "# Conclusion: B is NOT better than C for Monday"
      ],
      "metadata": {
        "colab": {
          "base_uri": "https://localhost:8080/"
        },
        "id": "KLmWwHpd8vOq",
        "outputId": "3113fbf9-4d4d-40cb-fbd4-6354cc44317f"
      },
      "execution_count": 27,
      "outputs": [
        {
          "output_type": "execute_result",
          "data": {
            "text/plain": [
              "0.8792685212147959"
            ]
          },
          "metadata": {},
          "execution_count": 27
        }
      ]
    },
    {
      "cell_type": "code",
      "source": [
        "# Weekday = Monday\n",
        "# Is B better than C?\n",
        "ztest(x1 = df.loc[(df['Page_Viewed'] == 'B') & (df['Weekday'] == 'Saturday'),'Add_To_Cart'] ,\\\n",
        "      x2 = df.loc[(df['Page_Viewed'] == 'C') & (df['Weekday'] == 'Saturday'),'Add_To_Cart'],alternative='larger')[1]\n",
        "# Conclusion: B is NOT better than C for Monday"
      ],
      "metadata": {
        "colab": {
          "base_uri": "https://localhost:8080/"
        },
        "id": "p4GtGkzC8yCz",
        "outputId": "0cc54fec-3305-4f8f-bcff-d298bc7f4515"
      },
      "execution_count": 28,
      "outputs": [
        {
          "output_type": "execute_result",
          "data": {
            "text/plain": [
              "0.3928605178280038"
            ]
          },
          "metadata": {},
          "execution_count": 28
        }
      ]
    },
    {
      "cell_type": "code",
      "source": [
        "base_line = df.loc[df['Page_Viewed']=='C','Add_To_Cart'].mean() *100\n",
        "base_line"
      ],
      "metadata": {
        "colab": {
          "base_uri": "https://localhost:8080/"
        },
        "id": "MYNu5Atw808J",
        "outputId": "23d651e4-c5e4-4e47-8665-e5d154f1f5d6"
      },
      "execution_count": 29,
      "outputs": [
        {
          "output_type": "execute_result",
          "data": {
            "text/plain": [
              "3.8430089942763694"
            ]
          },
          "metadata": {},
          "execution_count": 29
        }
      ]
    },
    {
      "cell_type": "code",
      "source": [
        "rate_A = df.loc[df['Page_Viewed']=='A','Add_To_Cart'].mean() *100\n",
        "rate_A"
      ],
      "metadata": {
        "colab": {
          "base_uri": "https://localhost:8080/"
        },
        "id": "CfJJpE5B-GXc",
        "outputId": "725a6a2d-cd64-42ef-abff-2d7d4d331a87"
      },
      "execution_count": 31,
      "outputs": [
        {
          "output_type": "execute_result",
          "data": {
            "text/plain": [
              "2.5347506132461164"
            ]
          },
          "metadata": {},
          "execution_count": 31
        }
      ]
    },
    {
      "cell_type": "code",
      "source": [
        "rate_B = df.loc[df['Page_Viewed']=='B','Add_To_Cart'].mean() *100\n",
        "rate_B"
      ],
      "metadata": {
        "colab": {
          "base_uri": "https://localhost:8080/"
        },
        "id": "BEWjEV_w-bvF",
        "outputId": "b0ac3d20-ffb3-4747-fe81-ffc53756168f"
      },
      "execution_count": 33,
      "outputs": [
        {
          "output_type": "execute_result",
          "data": {
            "text/plain": [
              "4.08483896307934"
            ]
          },
          "metadata": {},
          "execution_count": 33
        }
      ]
    },
    {
      "cell_type": "code",
      "source": [],
      "metadata": {
        "id": "QdplDhLY-h6I"
      },
      "execution_count": null,
      "outputs": []
    }
  ]
}
