{
 "cells": [
  {
   "cell_type": "markdown",
   "metadata": {},
   "source": [
    "# Module 3: EDA (part 2) and Data Wrangling (part1)"
   ]
  },
  {
   "cell_type": "code",
   "execution_count": null,
   "metadata": {},
   "outputs": [],
   "source": [
    "# import necessary packages for this module\n",
    "import pandas as pd\n",
    "import matplotlib.pyplot as plt\n",
    "import seaborn as sns\n",
    "\n",
    "plt.style.use(\"ggplot\") #ggplot2 is a powerful data visualization package in R"
   ]
  },
  {
   "cell_type": "code",
   "execution_count": null,
   "metadata": {
    "scrolled": true
   },
   "outputs": [],
   "source": [
    "# read cardio data\n",
    "\n"
   ]
  },
  {
   "cell_type": "markdown",
   "metadata": {},
   "source": [
    "#### 3.1. Bivariate Distributions\n",
    "\n",
    "numerical $\\times$ categorical variables:\n",
    "\n",
    "- Boxplots & its variations\n",
    "- Barplots\n",
    "\n",
    "\n",
    "\n",
    "numerical $\\times$ numerical variables:\n",
    "\n",
    "- Scatterplots\n",
    "- Hexbin scatterplots\n",
    "\n",
    "\n",
    "\n",
    "categorical $\\times$ categorical variables:\n",
    "\n",
    "- Heatmap"
   ]
  },
  {
   "cell_type": "markdown",
   "metadata": {},
   "source": [
    "**3.1.1 Bivariate Distributions: One numerical and one categorical variables**\n"
   ]
  },
  {
   "cell_type": "code",
   "execution_count": null,
   "metadata": {},
   "outputs": [],
   "source": [
    "cardio.head()"
   ]
  },
  {
   "cell_type": "markdown",
   "metadata": {},
   "source": [
    "*- Bivariate Distributions: Box plots and its variations*"
   ]
  },
  {
   "cell_type": "code",
   "execution_count": null,
   "metadata": {},
   "outputs": [],
   "source": [
    "# Interaction: Product x Age\n",
    "\n",
    "# We can see that the TM195 and TM498 products are used by almost all ages (15-50)\n",
    "# The TM498 product is used mostly by customers who are in their 20's and early 30's\n",
    "# The median age of customers who uses all products is arounf 25\n",
    "\n"
   ]
  },
  {
   "cell_type": "code",
   "execution_count": null,
   "metadata": {},
   "outputs": [],
   "source": []
  },
  {
   "cell_type": "code",
   "execution_count": null,
   "metadata": {},
   "outputs": [],
   "source": [
    "# Interaction: Product x Income\n",
    "\n",
    "# We can see that prodcut TM798 is baught by customer with high income compared to the other two products\n",
    "# The other two products (TM195 and TM498) are mostly bought by people of lower income (less than 70K with majority less than 55K)\n",
    "\n"
   ]
  },
  {
   "cell_type": "code",
   "execution_count": null,
   "metadata": {},
   "outputs": [],
   "source": [
    "# Interaction: Product x Miles\n",
    "\n",
    "# It seems that people who expect to walk/run more miles per week are using the product TM798 \n",
    "# 75% expects to move more than 140 miles per week\n",
    "# Customers who baught TM195 and TM498 expect to walk/run less per than 140 miles per week\n",
    "\n"
   ]
  },
  {
   "cell_type": "code",
   "execution_count": null,
   "metadata": {},
   "outputs": [],
   "source": [
    "# Interaction: Fitness x Age\n",
    "\n",
    "# Customers who rated themselves very low on fitness are in their 20's mostly\n",
    "# That does not mean that all customers in their 20's rated themselves low\n",
    "\n"
   ]
  },
  {
   "cell_type": "code",
   "execution_count": null,
   "metadata": {},
   "outputs": [],
   "source": [
    "# Interaction: Fitness x Income\n",
    "\n",
    "# Customers with higher income rated themselves highly on fitness (very athlete!)\n",
    "# Almost all customers who rated themselves 1-4 has lower income (70K and below) \n",
    "# Almost 50% of those who gave themselves full score (5) earn above 75K\n",
    "\n"
   ]
  },
  {
   "cell_type": "code",
   "execution_count": null,
   "metadata": {},
   "outputs": [],
   "source": [
    "# Interaction: Fitness x Miles\n",
    "\n",
    "# There is an clear positive corrlation between fitness ratings and the number of miles customers expect to walk/run\n",
    "# Customers who rated themselves as \"athletes\" expect to run a lot of miles (more than 75% expect to walk/run more than 150 miles per week)\n",
    "\n"
   ]
  },
  {
   "cell_type": "markdown",
   "metadata": {},
   "source": [
    "Notice that I could have done more for the following interactions (please don't leave any variable behind!)\n",
    "\n",
    "- Age x Gender\n",
    "- Income x Gender\n",
    "- Miles x Gender \n",
    "\n",
    "\n",
    "- Age x Education\n",
    "- Income x Education\n",
    "- Miles x Education\n",
    "\n",
    "\n",
    "- Age x MaritalStatus\n",
    "- Income x MaritalStatus\n",
    "- Miles x MaritalStatus\n",
    "\n",
    "- Age x Usage\n",
    "- Income x Usage\n",
    "- Miles x Usage"
   ]
  },
  {
   "cell_type": "code",
   "execution_count": null,
   "metadata": {
    "scrolled": false
   },
   "outputs": [],
   "source": [
    "# Example on how to use boxplot variations to show interaction between categorical and numerical variable\n"
   ]
  },
  {
   "cell_type": "markdown",
   "metadata": {},
   "source": [
    "*- Bivariate Distributions: Barplots:*\n",
    "\n",
    "A bar plot represents an estimate of central tendency for a numeric variable with the height of each rectangle and provides some indication of the uncertainty around that estimate using error bars. The x-axis represents the levels of a given categorical variable, and the y-axis represents the central tendency of a numeric variable.\n",
    "\n",
    "It is also important to keep in mind that a bar plot shows only the mean (or other estimator) value, but in many cases it may be more informative to show the distribution of values at each level of the categorical variables. In that case, other approaches such as a box or violin plot may be more appropriate.\n",
    "\n",
    "https://seaborn.pydata.org/generated/seaborn.barplot.html"
   ]
  },
  {
   "cell_type": "code",
   "execution_count": null,
   "metadata": {},
   "outputs": [],
   "source": []
  },
  {
   "cell_type": "code",
   "execution_count": null,
   "metadata": {},
   "outputs": [],
   "source": [
    "# by default, the barplot shows us a 95% confidence interval (ci) for the estimated average for \"Income\" variable\n",
    "\n"
   ]
  },
  {
   "cell_type": "code",
   "execution_count": null,
   "metadata": {},
   "outputs": [],
   "source": [
    "# We can get rid of the ci around the mean value as follows\n",
    "\n"
   ]
  },
  {
   "cell_type": "markdown",
   "metadata": {},
   "source": [
    "**3.1.2 Bivariate Distributions: One numerical vs. one numerical variables**\n",
    "\n",
    "- Scatterplots\n",
    "- Hexbin scatterplots\n"
   ]
  },
  {
   "cell_type": "markdown",
   "metadata": {},
   "source": [
    "*- Bivariate Distributions: Scatterplots:*\n",
    "\n",
    "\n",
    "https://seaborn.pydata.org/generated/seaborn.scatterplot.html"
   ]
  },
  {
   "cell_type": "code",
   "execution_count": null,
   "metadata": {},
   "outputs": [],
   "source": [
    "# Age x Miles\n",
    "\n",
    "# Here we don't see a clear relationship between the age of customers and the miles they expect to walk/run per week\n",
    "# We can see however, that customers among different ages expect to walk/run below 200 miles except for few outlier \n",
    "# customers (age btween 25 and 35). These customers expects to walk/run more than 200 miles per week.\n",
    "\n"
   ]
  },
  {
   "cell_type": "code",
   "execution_count": null,
   "metadata": {},
   "outputs": [],
   "source": [
    "# Age x Income\n",
    "\n",
    "# we can see that their is a positive linear trend between Age and Income. As age increases, we tend to see an\n",
    "# an increase in salary\n",
    "\n"
   ]
  },
  {
   "cell_type": "markdown",
   "metadata": {},
   "source": [
    "*- Bivariate Distributions: Hexbin plots:*\n",
    "\n",
    "This kind of plot is very useful when we have large dataset, and the points are overlapping with each other when we create a scatter plot\n",
    "\n",
    "https://seaborn.pydata.org/generated/seaborn.jointplot.html"
   ]
  },
  {
   "cell_type": "code",
   "execution_count": null,
   "metadata": {},
   "outputs": [],
   "source": [
    "# This hexbin plot tells us that there is a linear trend. In addition, it shows us that most of our customers\n",
    "# are young (20-30 years old), will income on the lower range (30K-50K).\n",
    "\n",
    "# In addition, the jointplot shows us the marginal distributions of each of the numeric variables\n",
    "\n"
   ]
  },
  {
   "cell_type": "code",
   "execution_count": null,
   "metadata": {},
   "outputs": [],
   "source": [
    "# Other forms of Joint plots\n",
    "\n"
   ]
  },
  {
   "cell_type": "code",
   "execution_count": null,
   "metadata": {},
   "outputs": [],
   "source": [
    "# Other forms of Joint plots\n",
    "\n",
    "\n"
   ]
  },
  {
   "cell_type": "markdown",
   "metadata": {},
   "source": [
    "**3.1.3 Bivariate Distributions: One categorical and one categorical variables**\n"
   ]
  },
  {
   "cell_type": "markdown",
   "metadata": {},
   "source": [
    "*- Bivariate Distributions: Heatmap*\n",
    "\n",
    "The best way to visualize the relationship between two categorical variables is to use a heatmap that shows the crosstabluation among the different levels of the categorical variables. \n",
    "\n",
    "\n",
    "https://seaborn.pydata.org/generated/seaborn.heatmap.html"
   ]
  },
  {
   "cell_type": "code",
   "execution_count": null,
   "metadata": {},
   "outputs": [],
   "source": [
    "# Cross tabulation for two categorical variables\n",
    "\n",
    "\n"
   ]
  },
  {
   "cell_type": "code",
   "execution_count": null,
   "metadata": {},
   "outputs": [],
   "source": [
    "# save the cross tabluation into a variable\n",
    "# note that the result of running a cross tabulation is saved into a DataFrame data structure (that's how seaborn expects the data)\n",
    "\n",
    "\n"
   ]
  },
  {
   "cell_type": "code",
   "execution_count": null,
   "metadata": {},
   "outputs": [],
   "source": [
    "# notice that the default color map might not be intutive. In the previous graph, we see\n",
    "# that large numerbers are assigned to lighter colors, and small numbers are assigned to darker colors\n",
    "# we generally tend to think in an oposit way (darker = more , ligher = less)\n",
    "\n",
    "# so, we can use a different color map. In this case, I am using 'YlGnBu'\n",
    "# we will cover color in more details later in the semeser, but for not please refer to the following website to \n",
    "# select the color map you need for your visualization\n",
    "\n",
    "# https://matplotlib.org/3.1.1/gallery/color/colormap_reference.html \n",
    "\n"
   ]
  },
  {
   "cell_type": "code",
   "execution_count": null,
   "metadata": {},
   "outputs": [],
   "source": [
    "\n"
   ]
  },
  {
   "cell_type": "code",
   "execution_count": null,
   "metadata": {},
   "outputs": [],
   "source": [
    "# In the heatmap case, we need to use sequential colors where low numbers are represented with a light color\n",
    "# and the high number are represented with a darker color \n",
    "\n"
   ]
  },
  {
   "cell_type": "markdown",
   "metadata": {},
   "source": [
    "#### 5.5 Multivariate Distributions\n",
    "\n",
    "More than three numerical variables\n",
    "\n",
    "- Pairplot\n",
    "- Correlation heatmap\n",
    "\n",
    "Two categorical variables and one numerical variable\n",
    "\n",
    "- Pointplots\n",
    "- Boxplot for the numerical variable acoss the different levels in the categorical variable, and use color of the box to represent a the second categorical variable\n",
    "\n",
    "\n",
    "Two numerical and one categorical variables\n",
    "\n",
    "- Scatterplot for the numerical variables, and use color of the point for one of the categorical variable\n",
    "- Scatterplot for the numerical variables, and use size of the point for one of the categorical variable\n",
    "- Scatterplot for the numerical variables, and use shape of the point for one of the categorical variable\n",
    "\n",
    "\n",
    "Two numerical and two categorical variables\n",
    "\n",
    "- Scatterplot for the numerical variables, and use color for one of the categorical variable and size for the other\n",
    "\n",
    "Any combination of variables\n",
    "\n",
    "- Facet plots"
   ]
  },
  {
   "cell_type": "markdown",
   "metadata": {},
   "source": [
    "**5.5.1 More than three numerical variables**\n",
    "\n",
    "- Pairplot\n",
    "- Correlation heatmap"
   ]
  },
  {
   "cell_type": "code",
   "execution_count": null,
   "metadata": {},
   "outputs": [],
   "source": [
    "# pairplot\n",
    "\n",
    "\n"
   ]
  },
  {
   "cell_type": "code",
   "execution_count": null,
   "metadata": {},
   "outputs": [],
   "source": [
    "# correlation heatmap\n",
    "\n",
    "\n"
   ]
  },
  {
   "cell_type": "code",
   "execution_count": null,
   "metadata": {},
   "outputs": [],
   "source": [
    "\n"
   ]
  },
  {
   "cell_type": "markdown",
   "metadata": {},
   "source": [
    "**5.5.2 Two categorical variables and one numerical variable**\n",
    "\n",
    "- Pointplots\n",
    "- Boxplot for the numerical variable acoss the different levels in the categorical variable, and use color of the box to represent a the second categorical variable\n"
   ]
  },
  {
   "cell_type": "code",
   "execution_count": null,
   "metadata": {},
   "outputs": [],
   "source": [
    "# pointplots \n",
    "# This function also encodes the value of the estimate with height on the other axis, \n",
    "# but rather than showing a full bar, it plots the point estimate and confidence interval. \n",
    "# Additionally, `pointplot()` connects points from the same hue category. \n",
    "# This makes it easy to see how the main relationship is changing as a function of the hue semantic,\n",
    "# because your eyes are quite good at picking up on differences of slopes:\n",
    "\n",
    "# https://seaborn.pydata.org/generated/seaborn.pointplot.html\n",
    "\n"
   ]
  },
  {
   "cell_type": "code",
   "execution_count": null,
   "metadata": {},
   "outputs": [],
   "source": [
    "# boxplots\n",
    "\n"
   ]
  },
  {
   "cell_type": "markdown",
   "metadata": {},
   "source": [
    "**5.5.3 Two numerical and one categorical variables**\n",
    "\n",
    "- Scatterplot for the numerical variables, and use color of the point for one of the categorical variable\n",
    "- Scatterplot for the numerical variables, and use size of the point for one of the categorical variable\n",
    "- Scatterplot for the numerical variables, and use shape of the point for one of the categorical variable\n"
   ]
  },
  {
   "cell_type": "code",
   "execution_count": null,
   "metadata": {},
   "outputs": [],
   "source": [
    "# using color \n",
    "\n"
   ]
  },
  {
   "cell_type": "code",
   "execution_count": null,
   "metadata": {},
   "outputs": [],
   "source": [
    "# using size \n",
    "\n"
   ]
  },
  {
   "cell_type": "markdown",
   "metadata": {},
   "source": [
    "**5.5.4 Two numerical and two categorical variables**\n",
    "\n",
    "- Scatterplot for the numerical variables, and use color for one of the categorical variable and size for the other\n"
   ]
  },
  {
   "cell_type": "code",
   "execution_count": null,
   "metadata": {},
   "outputs": [],
   "source": [
    "# using  color and size  \n",
    "\n"
   ]
  },
  {
   "cell_type": "markdown",
   "metadata": {},
   "source": [
    "**5.5.5 Any combination of variables (Facet plots)**\n",
    "\n",
    "- Facet plots"
   ]
  },
  {
   "cell_type": "code",
   "execution_count": null,
   "metadata": {},
   "outputs": [],
   "source": [
    "\n"
   ]
  },
  {
   "cell_type": "code",
   "execution_count": null,
   "metadata": {},
   "outputs": [],
   "source": [
    "\n"
   ]
  },
  {
   "cell_type": "code",
   "execution_count": null,
   "metadata": {},
   "outputs": [],
   "source": [
    "\n"
   ]
  },
  {
   "cell_type": "code",
   "execution_count": null,
   "metadata": {},
   "outputs": [],
   "source": [
    "\n"
   ]
  },
  {
   "cell_type": "markdown",
   "metadata": {},
   "source": [
    "# Data Wrangling (part 1)\n",
    "\n"
   ]
  },
  {
   "cell_type": "markdown",
   "metadata": {},
   "source": [
    "**Sources:** \n",
    "\n",
    "- Data Science for Marketing Analytics, by Tommy Blanchard, Debasish Behera, and Pranshu Bhatnagar. Packt Publishing, 2019.\n",
    "- https://medium.com/analytics-vidhya/split-apply-combine-strategy-for-data-mining-4fd6e2a0cc99\n",
    "- https://www.datacamp.com/community/tutorials/pandas-split-apply-combine-groupby\n",
    "\n",
    "### Outline\n",
    "\n",
    "1. Reading (and writing) data from different file formats\n",
    "\n",
    "1. Data Manipulation\n",
    "    - **select** a specific variable or set of variables, a row or a set of rows using indexes.\n",
    "    - **filter** rows to obtain a subest of a dataframe based on a given condition\n",
    "    - **arrange** the dataframe by index or variable\n",
    "    - **group** the data by the levels of a given categorical variable and perform analysis on each group seperately\n",
    "    - **mutate** and transform a variable into a new variable \n",
    "    - **summarise** and reduce a variable to a summary variable (e.g median).\n",
    "\n",
    "2. Data Visualiztion\n",
    "\n",
    "\n",
    "**Learning Objectives**\n",
    "\n",
    "- Create `pandas` `DataFrame` in `Python`\n",
    "- Slice, aggregrate, filter, and sort `pandas` `DataFrames`\n",
    "- Apply transformations and functions (built-in and custom) to `DataFrames`\n",
    "- Join `DataFrames`, handle missing values, and combine different data sources"
   ]
  },
  {
   "cell_type": "code",
   "execution_count": null,
   "metadata": {
    "scrolled": true
   },
   "outputs": [],
   "source": [
    "# import necessary packages\n",
    "import pandas as pd\n",
    "import matplotlib.pyplot as plt\n",
    "import seaborn as sns\n",
    "\n",
    "plt.style.use(\"ggplot\")"
   ]
  },
  {
   "cell_type": "markdown",
   "metadata": {},
   "source": [
    "## <font color='firebrick'>  1. Importing and Exporting Data\n",
    "\n",
    "`pandas` provide data scientists with differen methods and APIs (application programming interface) to read data from different sources. The following table shows some of the interfaces:\n",
    "\n",
    "|**Data Source**|**Read Function**|**Write Function**| **Data Type**|\n",
    "|:--------------|:----------------|:-----------------|:-------------|\n",
    "csv | `read_csv()` | `to_csv()` | structured\n",
    "JSON | `read_json()` | `to_json()` | semi-unstructured\n",
    "XML | `read_xml()` | `to_xml()` | semi-structured\n",
    "Excel | `read_excel()` | `to_excel()` | structured\n",
    "Python Pickle File Format | `read_pickle()` | `to_pickle()` | Python object"
   ]
  },
  {
   "cell_type": "code",
   "execution_count": null,
   "metadata": {},
   "outputs": [],
   "source": [
    "# read the sales.csv data\n",
    "\n",
    "\n"
   ]
  },
  {
   "cell_type": "code",
   "execution_count": null,
   "metadata": {},
   "outputs": [],
   "source": [
    "# add some paramters\n",
    "\n",
    "# read only the first 4 rows from the data file\n",
    "\n"
   ]
  },
  {
   "cell_type": "code",
   "execution_count": null,
   "metadata": {},
   "outputs": [],
   "source": [
    "# read only the first 4 rows from the data file\n",
    "\n",
    "# index is by default numeric starting at 0\n",
    "# if we have variable in our dataset that has unique values\n",
    "# such as an Id or date, then can use it as an index\n",
    "\n",
    "# In the following case, I will use `Product line` as an index when \n",
    "# I read my file. Notice that this variable does not have unique values\n",
    "# for each observation, but I am using it here for the purpose of showing \n",
    "# how to use a column from a dataset as an index column\n",
    "\n",
    "\n"
   ]
  },
  {
   "cell_type": "code",
   "execution_count": null,
   "metadata": {},
   "outputs": [],
   "source": [
    "# we can also request to read only specific columns from the data file\n",
    "# in this example, we will read only three columns from the \n",
    "# file (year, product line, and product type)\n",
    "\n"
   ]
  },
  {
   "cell_type": "markdown",
   "metadata": {},
   "source": [
    "### <font color='blue'>  DIY-1: Read JSON Files </font>\n",
    "\n",
    "\n",
    "1. Watch this 1-min YouTube video that describes the structure of JSON files quickly (https://www.youtube.com/watch?v=7mj-p1Os6QA).\n",
    "\n",
    "2. Read the `user_info.json` file into Python, and save the data in a variable called `mydata`. \n",
    "\n",
    "3. What is the type of the variable `mydata`?\n",
    "\n",
    "4. Print the first 3 observations from the variable `mydata`."
   ]
  },
  {
   "cell_type": "code",
   "execution_count": null,
   "metadata": {},
   "outputs": [],
   "source": []
  },
  {
   "cell_type": "code",
   "execution_count": null,
   "metadata": {},
   "outputs": [],
   "source": [
    "# read_json return a pandas DataFrame object. \n",
    "# we can use the head() method for DataFrame to find the first three obs.\n",
    "\n"
   ]
  },
  {
   "cell_type": "code",
   "execution_count": null,
   "metadata": {},
   "outputs": [],
   "source": [
    "\n",
    "\n",
    "    "
   ]
  },
  {
   "cell_type": "code",
   "execution_count": null,
   "metadata": {},
   "outputs": [],
   "source": [
    "\n"
   ]
  },
  {
   "cell_type": "code",
   "execution_count": null,
   "metadata": {},
   "outputs": [],
   "source": [
    "\n"
   ]
  },
  {
   "cell_type": "markdown",
   "metadata": {},
   "source": [
    "## <font color='firebrick'> 2. Selecting Data"
   ]
  },
  {
   "cell_type": "code",
   "execution_count": null,
   "metadata": {},
   "outputs": [],
   "source": [
    "# read the sales.csv dataset and save in a variable called sales\n",
    "\n",
    "\n",
    "\n"
   ]
  },
  {
   "cell_type": "markdown",
   "metadata": {},
   "source": [
    "|**Operation**|**Syntax**|**Result**|\n",
    "|:--------------|:----------------|:-----------------|\n",
    "Select a column | `df['colname']` | Series\n",
    "Select multiple columns | `df[['colname1', 'colname2', ...]]` | DataFrame\n",
    "Select a row by integer index location | `df.iloc[index_location]` | Series\n",
    "Slice rows |`df.iloc[start_index:end_index+1]`| DataFrame\n",
    "Select multiple columns by index location |`df.iloc[,start_index:end_index+1]`| DataFrame\n",
    "Slice rows and select multiple columns by index location | `df.iloc[start_index:end_index+1, start_index:end_index+1]`| DataFrame"
   ]
  },
  {
   "cell_type": "markdown",
   "metadata": {},
   "source": [
    "#### 2.1 Selecting a column"
   ]
  },
  {
   "cell_type": "code",
   "execution_count": null,
   "metadata": {},
   "outputs": [],
   "source": [
    "# Selecting a column\n",
    "\n",
    "# What is the total revenue for all years?\n",
    "\n",
    "\n",
    "\n"
   ]
  },
  {
   "cell_type": "code",
   "execution_count": null,
   "metadata": {},
   "outputs": [],
   "source": [
    "\n"
   ]
  },
  {
   "cell_type": "code",
   "execution_count": null,
   "metadata": {},
   "outputs": [],
   "source": [
    "\n"
   ]
  },
  {
   "cell_type": "markdown",
   "metadata": {},
   "source": [
    "#### 2.2 Selecting multiple columns using column names"
   ]
  },
  {
   "cell_type": "code",
   "execution_count": null,
   "metadata": {},
   "outputs": [],
   "source": [
    "# Selecting multiple columns \n",
    "\n",
    "# Create a mini dataframe that has the values for the \n",
    "# Product, Revenue, and Planned revenue\n",
    "\n",
    "\n"
   ]
  },
  {
   "cell_type": "code",
   "execution_count": null,
   "metadata": {},
   "outputs": [],
   "source": [
    "## What is the total revenue and planned revenue for all sales?\n",
    "\n",
    "\n"
   ]
  },
  {
   "cell_type": "code",
   "execution_count": null,
   "metadata": {},
   "outputs": [],
   "source": [
    "## What is the max revenue and max planned revenue across all sales?\n",
    "\n",
    "\n"
   ]
  },
  {
   "cell_type": "markdown",
   "metadata": {},
   "source": [
    "#### 2.3 Selecting a row by index location"
   ]
  },
  {
   "cell_type": "code",
   "execution_count": null,
   "metadata": {
    "scrolled": true
   },
   "outputs": [],
   "source": [
    "# List all the information about the 3rd sale in the dataset\n",
    "# i.e. select the 3rd row or observation\n",
    "\n",
    "# the index starts at 0, so the third observation has index = 2\n",
    "\n",
    "\n"
   ]
  },
  {
   "cell_type": "code",
   "execution_count": null,
   "metadata": {},
   "outputs": [],
   "source": [
    "# select obs number 1000\n",
    "\n"
   ]
  },
  {
   "cell_type": "markdown",
   "metadata": {},
   "source": [
    "#### 2.4 Slicing a subset of the dataset"
   ]
  },
  {
   "cell_type": "code",
   "execution_count": null,
   "metadata": {},
   "outputs": [],
   "source": [
    "\n"
   ]
  },
  {
   "cell_type": "code",
   "execution_count": null,
   "metadata": {},
   "outputs": [],
   "source": [
    "# List all the information about the first 10 elements\n",
    "\n",
    "# df.iloc[start_index:end_index+1]\n",
    "\n",
    "\n"
   ]
  },
  {
   "cell_type": "code",
   "execution_count": null,
   "metadata": {},
   "outputs": [],
   "source": [
    "# List all the information about the all elements starting with the third\n",
    "# observation, until (and including) the 10th observation\n",
    "\n",
    "\n"
   ]
  },
  {
   "cell_type": "code",
   "execution_count": null,
   "metadata": {},
   "outputs": [],
   "source": [
    "# List all the information about the all elements starting with the third\n",
    "# observation, until the last observation\n",
    "\n",
    "\n"
   ]
  },
  {
   "cell_type": "code",
   "execution_count": null,
   "metadata": {},
   "outputs": [],
   "source": [
    "# OR\n",
    "\n"
   ]
  },
  {
   "cell_type": "markdown",
   "metadata": {},
   "source": [
    "#### 2.5 Select multiple columns using indexes of columns"
   ]
  },
  {
   "cell_type": "code",
   "execution_count": null,
   "metadata": {
    "scrolled": true
   },
   "outputs": [],
   "source": [
    "# Using indexing techniques, create a mini dataframe that has \n",
    "# the values for the Product, Revenue, and Planned revenue\n",
    "\n",
    "\n"
   ]
  },
  {
   "cell_type": "code",
   "execution_count": null,
   "metadata": {
    "scrolled": true
   },
   "outputs": [],
   "source": [
    "# Using indexing techniques, create a mini dataframe that has \n",
    "# the values for the first 4 columns\n",
    "\n",
    "\n",
    "\n"
   ]
  },
  {
   "cell_type": "markdown",
   "metadata": {},
   "source": [
    "### <font color='blue'>  DIY-2: Slicing and dicing datasets </font>\n",
    "\n",
    "Create a mini dataset (1st half of the original dataset) that contains the columns Year, Product, Revenue, and Planned Revenue.\n",
    "\n"
   ]
  },
  {
   "cell_type": "code",
   "execution_count": null,
   "metadata": {},
   "outputs": [],
   "source": [
    "\n"
   ]
  },
  {
   "cell_type": "code",
   "execution_count": null,
   "metadata": {},
   "outputs": [],
   "source": [
    "# OR we can only use indexes\n"
   ]
  },
  {
   "cell_type": "markdown",
   "metadata": {},
   "source": [
    "## <font color='firebrick'> 3. Filtering Data based on a Condition\n",
    "    \n",
    "So far, we have being selecting specific variables on observations based on their indicies. \n",
    "    \n",
    "In many cases, we want to select a subset of our observations based on a specific conidition. e.g. Suppose we want to find the products who have sold more than 1000 per sale."
   ]
  },
  {
   "cell_type": "markdown",
   "metadata": {},
   "source": [
    "### Filtering with One Condition"
   ]
  },
  {
   "cell_type": "code",
   "execution_count": null,
   "metadata": {},
   "outputs": [],
   "source": [
    "# List all obeservations with quantity sold greater than or equal to 1000.\n",
    "\n"
   ]
  },
  {
   "cell_type": "code",
   "execution_count": null,
   "metadata": {},
   "outputs": [],
   "source": []
  },
  {
   "cell_type": "code",
   "execution_count": null,
   "metadata": {},
   "outputs": [],
   "source": [
    "# List all observations that resulted in revenue less than the planned revenue?\n",
    "\n"
   ]
  },
  {
   "cell_type": "code",
   "execution_count": null,
   "metadata": {},
   "outputs": [],
   "source": [
    "# List all product names who's revenue exceeded planned revenue\n"
   ]
  },
  {
   "cell_type": "code",
   "execution_count": null,
   "metadata": {},
   "outputs": [],
   "source": [
    "# What is the highest revenue genderated through Web sales?\n",
    "\n"
   ]
  },
  {
   "cell_type": "code",
   "execution_count": null,
   "metadata": {},
   "outputs": [],
   "source": []
  },
  {
   "cell_type": "code",
   "execution_count": null,
   "metadata": {},
   "outputs": [],
   "source": []
  },
  {
   "cell_type": "markdown",
   "metadata": {},
   "source": [
    "### Filtering with Multiple Conditions"
   ]
  },
  {
   "cell_type": "code",
   "execution_count": null,
   "metadata": {},
   "outputs": [],
   "source": [
    "# List all the sales for the 'BugShield Extreme' product that was sold in the United States\n",
    "\n"
   ]
  },
  {
   "cell_type": "code",
   "execution_count": null,
   "metadata": {},
   "outputs": [],
   "source": []
  },
  {
   "cell_type": "code",
   "execution_count": null,
   "metadata": {},
   "outputs": [],
   "source": [
    "# List all the sales that happened in both the United States and Italy\n",
    "\n"
   ]
  },
  {
   "cell_type": "markdown",
   "metadata": {},
   "source": [
    "### <font color='blue'>  DIY-3: Conditional Filtering </font>\n",
    "\n",
    "Which product had the highest revenue generated through Web Sales?\n",
    "\n"
   ]
  },
  {
   "cell_type": "code",
   "execution_count": null,
   "metadata": {},
   "outputs": [],
   "source": []
  },
  {
   "cell_type": "markdown",
   "metadata": {},
   "source": [
    "### <font color='blue'>  DIY-4: Conditional Filtering with multiple conditions </font>\n",
    "\n",
    "Come up with a question of your interest that could be answered using \n",
    "two or more coniditonal statements to filter your data.\n",
    "\n"
   ]
  },
  {
   "cell_type": "code",
   "execution_count": null,
   "metadata": {},
   "outputs": [],
   "source": []
  }
 ],
 "metadata": {
  "kernelspec": {
   "display_name": "Python 3",
   "language": "python",
   "name": "python3"
  },
  "language_info": {
   "codemirror_mode": {
    "name": "ipython",
    "version": 3
   },
   "file_extension": ".py",
   "mimetype": "text/x-python",
   "name": "python",
   "nbconvert_exporter": "python",
   "pygments_lexer": "ipython3",
   "version": "3.8.3"
  }
 },
 "nbformat": 4,
 "nbformat_minor": 4
}
