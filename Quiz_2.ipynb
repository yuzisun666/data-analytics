{
  "nbformat": 4,
  "nbformat_minor": 0,
  "metadata": {
    "colab": {
      "provenance": []
    },
    "kernelspec": {
      "name": "python3",
      "display_name": "Python 3"
    },
    "language_info": {
      "name": "python"
    }
  },
  "cells": [
    {
      "cell_type": "code",
      "execution_count": 1,
      "metadata": {
        "id": "00yZHxbAABH6"
      },
      "outputs": [],
      "source": [
        "import pandas as pd\n",
        "from statsmodels.stats.weightstats import ztest\n",
        "import math\n",
        "\n",
        "from statsmodels.stats.power import NormalIndPower\n",
        "\n",
        "import numpy as np"
      ]
    },
    {
      "cell_type": "code",
      "source": [
        "df = pd.read_excel('https://github.com/robertasgabrys/DSO559/blob/main/Campaign.xlsx?raw=true')\n",
        "df.head()"
      ],
      "metadata": {
        "colab": {
          "base_uri": "https://localhost:8080/",
          "height": 206
        },
        "id": "WBV9V-yiAF64",
        "outputId": "7ea623eb-4132-4e53-c13a-20da87f6a1ea"
      },
      "execution_count": 2,
      "outputs": [
        {
          "output_type": "execute_result",
          "data": {
            "text/plain": [
              "  Version Language     Region    Amt Signup\n",
              "0       C   French       West  16.14     No\n",
              "1      V2   French  Southwest  25.79     No\n",
              "2       C  English  Northeast  46.22     No\n",
              "3       C  Spanish  Southeast  45.50     No\n",
              "4      V1  English       West  26.83     No"
            ],
            "text/html": [
              "\n",
              "  <div id=\"df-e4e9508e-3f0d-49e1-94db-6900f9c723b3\">\n",
              "    <div class=\"colab-df-container\">\n",
              "      <div>\n",
              "<style scoped>\n",
              "    .dataframe tbody tr th:only-of-type {\n",
              "        vertical-align: middle;\n",
              "    }\n",
              "\n",
              "    .dataframe tbody tr th {\n",
              "        vertical-align: top;\n",
              "    }\n",
              "\n",
              "    .dataframe thead th {\n",
              "        text-align: right;\n",
              "    }\n",
              "</style>\n",
              "<table border=\"1\" class=\"dataframe\">\n",
              "  <thead>\n",
              "    <tr style=\"text-align: right;\">\n",
              "      <th></th>\n",
              "      <th>Version</th>\n",
              "      <th>Language</th>\n",
              "      <th>Region</th>\n",
              "      <th>Amt</th>\n",
              "      <th>Signup</th>\n",
              "    </tr>\n",
              "  </thead>\n",
              "  <tbody>\n",
              "    <tr>\n",
              "      <th>0</th>\n",
              "      <td>C</td>\n",
              "      <td>French</td>\n",
              "      <td>West</td>\n",
              "      <td>16.14</td>\n",
              "      <td>No</td>\n",
              "    </tr>\n",
              "    <tr>\n",
              "      <th>1</th>\n",
              "      <td>V2</td>\n",
              "      <td>French</td>\n",
              "      <td>Southwest</td>\n",
              "      <td>25.79</td>\n",
              "      <td>No</td>\n",
              "    </tr>\n",
              "    <tr>\n",
              "      <th>2</th>\n",
              "      <td>C</td>\n",
              "      <td>English</td>\n",
              "      <td>Northeast</td>\n",
              "      <td>46.22</td>\n",
              "      <td>No</td>\n",
              "    </tr>\n",
              "    <tr>\n",
              "      <th>3</th>\n",
              "      <td>C</td>\n",
              "      <td>Spanish</td>\n",
              "      <td>Southeast</td>\n",
              "      <td>45.50</td>\n",
              "      <td>No</td>\n",
              "    </tr>\n",
              "    <tr>\n",
              "      <th>4</th>\n",
              "      <td>V1</td>\n",
              "      <td>English</td>\n",
              "      <td>West</td>\n",
              "      <td>26.83</td>\n",
              "      <td>No</td>\n",
              "    </tr>\n",
              "  </tbody>\n",
              "</table>\n",
              "</div>\n",
              "      <button class=\"colab-df-convert\" onclick=\"convertToInteractive('df-e4e9508e-3f0d-49e1-94db-6900f9c723b3')\"\n",
              "              title=\"Convert this dataframe to an interactive table.\"\n",
              "              style=\"display:none;\">\n",
              "        \n",
              "  <svg xmlns=\"http://www.w3.org/2000/svg\" height=\"24px\"viewBox=\"0 0 24 24\"\n",
              "       width=\"24px\">\n",
              "    <path d=\"M0 0h24v24H0V0z\" fill=\"none\"/>\n",
              "    <path d=\"M18.56 5.44l.94 2.06.94-2.06 2.06-.94-2.06-.94-.94-2.06-.94 2.06-2.06.94zm-11 1L8.5 8.5l.94-2.06 2.06-.94-2.06-.94L8.5 2.5l-.94 2.06-2.06.94zm10 10l.94 2.06.94-2.06 2.06-.94-2.06-.94-.94-2.06-.94 2.06-2.06.94z\"/><path d=\"M17.41 7.96l-1.37-1.37c-.4-.4-.92-.59-1.43-.59-.52 0-1.04.2-1.43.59L10.3 9.45l-7.72 7.72c-.78.78-.78 2.05 0 2.83L4 21.41c.39.39.9.59 1.41.59.51 0 1.02-.2 1.41-.59l7.78-7.78 2.81-2.81c.8-.78.8-2.07 0-2.86zM5.41 20L4 18.59l7.72-7.72 1.47 1.35L5.41 20z\"/>\n",
              "  </svg>\n",
              "      </button>\n",
              "      \n",
              "  <style>\n",
              "    .colab-df-container {\n",
              "      display:flex;\n",
              "      flex-wrap:wrap;\n",
              "      gap: 12px;\n",
              "    }\n",
              "\n",
              "    .colab-df-convert {\n",
              "      background-color: #E8F0FE;\n",
              "      border: none;\n",
              "      border-radius: 50%;\n",
              "      cursor: pointer;\n",
              "      display: none;\n",
              "      fill: #1967D2;\n",
              "      height: 32px;\n",
              "      padding: 0 0 0 0;\n",
              "      width: 32px;\n",
              "    }\n",
              "\n",
              "    .colab-df-convert:hover {\n",
              "      background-color: #E2EBFA;\n",
              "      box-shadow: 0px 1px 2px rgba(60, 64, 67, 0.3), 0px 1px 3px 1px rgba(60, 64, 67, 0.15);\n",
              "      fill: #174EA6;\n",
              "    }\n",
              "\n",
              "    [theme=dark] .colab-df-convert {\n",
              "      background-color: #3B4455;\n",
              "      fill: #D2E3FC;\n",
              "    }\n",
              "\n",
              "    [theme=dark] .colab-df-convert:hover {\n",
              "      background-color: #434B5C;\n",
              "      box-shadow: 0px 1px 3px 1px rgba(0, 0, 0, 0.15);\n",
              "      filter: drop-shadow(0px 1px 2px rgba(0, 0, 0, 0.3));\n",
              "      fill: #FFFFFF;\n",
              "    }\n",
              "  </style>\n",
              "\n",
              "      <script>\n",
              "        const buttonEl =\n",
              "          document.querySelector('#df-e4e9508e-3f0d-49e1-94db-6900f9c723b3 button.colab-df-convert');\n",
              "        buttonEl.style.display =\n",
              "          google.colab.kernel.accessAllowed ? 'block' : 'none';\n",
              "\n",
              "        async function convertToInteractive(key) {\n",
              "          const element = document.querySelector('#df-e4e9508e-3f0d-49e1-94db-6900f9c723b3');\n",
              "          const dataTable =\n",
              "            await google.colab.kernel.invokeFunction('convertToInteractive',\n",
              "                                                     [key], {});\n",
              "          if (!dataTable) return;\n",
              "\n",
              "          const docLinkHtml = 'Like what you see? Visit the ' +\n",
              "            '<a target=\"_blank\" href=https://colab.research.google.com/notebooks/data_table.ipynb>data table notebook</a>'\n",
              "            + ' to learn more about interactive tables.';\n",
              "          element.innerHTML = '';\n",
              "          dataTable['output_type'] = 'display_data';\n",
              "          await google.colab.output.renderOutput(dataTable, element);\n",
              "          const docLink = document.createElement('div');\n",
              "          docLink.innerHTML = docLinkHtml;\n",
              "          element.appendChild(docLink);\n",
              "        }\n",
              "      </script>\n",
              "    </div>\n",
              "  </div>\n",
              "  "
            ]
          },
          "metadata": {},
          "execution_count": 2
        }
      ]
    },
    {
      "cell_type": "code",
      "source": [
        "df1 = df.loc[(df['Version']=='V1') & (df['Language']=='French') ,'Amt'].mean()\n",
        "df1"
      ],
      "metadata": {
        "colab": {
          "base_uri": "https://localhost:8080/"
        },
        "id": "Gx7dDNA3EeKJ",
        "outputId": "4a9559d2-d699-4b46-9c4f-17acc8b5e7f3"
      },
      "execution_count": 10,
      "outputs": [
        {
          "output_type": "execute_result",
          "data": {
            "text/plain": [
              "28.116947368421048"
            ]
          },
          "metadata": {},
          "execution_count": 10
        }
      ]
    },
    {
      "cell_type": "code",
      "source": [
        "# replace N Y with 0 and 1 in Share column\n",
        "df.loc[df['Signup'] == 'No','Signup'] = 0\n",
        "df.loc[df['Signup'] == 'Yes','Signup'] = 1\n",
        "df.head()"
      ],
      "metadata": {
        "colab": {
          "base_uri": "https://localhost:8080/",
          "height": 206
        },
        "id": "lcLKovYpFPUS",
        "outputId": "ddd5a1bb-de0c-474e-8ea9-8de8512cbe02"
      },
      "execution_count": 8,
      "outputs": [
        {
          "output_type": "execute_result",
          "data": {
            "text/plain": [
              "  Version Language     Region    Amt Signup\n",
              "0       C   French       West  16.14      0\n",
              "1      V2   French  Southwest  25.79      0\n",
              "2       C  English  Northeast  46.22      0\n",
              "3       C  Spanish  Southeast  45.50      0\n",
              "4      V1  English       West  26.83      0"
            ],
            "text/html": [
              "\n",
              "  <div id=\"df-833bc5cf-819b-4bec-b04e-b585d12b30cf\">\n",
              "    <div class=\"colab-df-container\">\n",
              "      <div>\n",
              "<style scoped>\n",
              "    .dataframe tbody tr th:only-of-type {\n",
              "        vertical-align: middle;\n",
              "    }\n",
              "\n",
              "    .dataframe tbody tr th {\n",
              "        vertical-align: top;\n",
              "    }\n",
              "\n",
              "    .dataframe thead th {\n",
              "        text-align: right;\n",
              "    }\n",
              "</style>\n",
              "<table border=\"1\" class=\"dataframe\">\n",
              "  <thead>\n",
              "    <tr style=\"text-align: right;\">\n",
              "      <th></th>\n",
              "      <th>Version</th>\n",
              "      <th>Language</th>\n",
              "      <th>Region</th>\n",
              "      <th>Amt</th>\n",
              "      <th>Signup</th>\n",
              "    </tr>\n",
              "  </thead>\n",
              "  <tbody>\n",
              "    <tr>\n",
              "      <th>0</th>\n",
              "      <td>C</td>\n",
              "      <td>French</td>\n",
              "      <td>West</td>\n",
              "      <td>16.14</td>\n",
              "      <td>0</td>\n",
              "    </tr>\n",
              "    <tr>\n",
              "      <th>1</th>\n",
              "      <td>V2</td>\n",
              "      <td>French</td>\n",
              "      <td>Southwest</td>\n",
              "      <td>25.79</td>\n",
              "      <td>0</td>\n",
              "    </tr>\n",
              "    <tr>\n",
              "      <th>2</th>\n",
              "      <td>C</td>\n",
              "      <td>English</td>\n",
              "      <td>Northeast</td>\n",
              "      <td>46.22</td>\n",
              "      <td>0</td>\n",
              "    </tr>\n",
              "    <tr>\n",
              "      <th>3</th>\n",
              "      <td>C</td>\n",
              "      <td>Spanish</td>\n",
              "      <td>Southeast</td>\n",
              "      <td>45.50</td>\n",
              "      <td>0</td>\n",
              "    </tr>\n",
              "    <tr>\n",
              "      <th>4</th>\n",
              "      <td>V1</td>\n",
              "      <td>English</td>\n",
              "      <td>West</td>\n",
              "      <td>26.83</td>\n",
              "      <td>0</td>\n",
              "    </tr>\n",
              "  </tbody>\n",
              "</table>\n",
              "</div>\n",
              "      <button class=\"colab-df-convert\" onclick=\"convertToInteractive('df-833bc5cf-819b-4bec-b04e-b585d12b30cf')\"\n",
              "              title=\"Convert this dataframe to an interactive table.\"\n",
              "              style=\"display:none;\">\n",
              "        \n",
              "  <svg xmlns=\"http://www.w3.org/2000/svg\" height=\"24px\"viewBox=\"0 0 24 24\"\n",
              "       width=\"24px\">\n",
              "    <path d=\"M0 0h24v24H0V0z\" fill=\"none\"/>\n",
              "    <path d=\"M18.56 5.44l.94 2.06.94-2.06 2.06-.94-2.06-.94-.94-2.06-.94 2.06-2.06.94zm-11 1L8.5 8.5l.94-2.06 2.06-.94-2.06-.94L8.5 2.5l-.94 2.06-2.06.94zm10 10l.94 2.06.94-2.06 2.06-.94-2.06-.94-.94-2.06-.94 2.06-2.06.94z\"/><path d=\"M17.41 7.96l-1.37-1.37c-.4-.4-.92-.59-1.43-.59-.52 0-1.04.2-1.43.59L10.3 9.45l-7.72 7.72c-.78.78-.78 2.05 0 2.83L4 21.41c.39.39.9.59 1.41.59.51 0 1.02-.2 1.41-.59l7.78-7.78 2.81-2.81c.8-.78.8-2.07 0-2.86zM5.41 20L4 18.59l7.72-7.72 1.47 1.35L5.41 20z\"/>\n",
              "  </svg>\n",
              "      </button>\n",
              "      \n",
              "  <style>\n",
              "    .colab-df-container {\n",
              "      display:flex;\n",
              "      flex-wrap:wrap;\n",
              "      gap: 12px;\n",
              "    }\n",
              "\n",
              "    .colab-df-convert {\n",
              "      background-color: #E8F0FE;\n",
              "      border: none;\n",
              "      border-radius: 50%;\n",
              "      cursor: pointer;\n",
              "      display: none;\n",
              "      fill: #1967D2;\n",
              "      height: 32px;\n",
              "      padding: 0 0 0 0;\n",
              "      width: 32px;\n",
              "    }\n",
              "\n",
              "    .colab-df-convert:hover {\n",
              "      background-color: #E2EBFA;\n",
              "      box-shadow: 0px 1px 2px rgba(60, 64, 67, 0.3), 0px 1px 3px 1px rgba(60, 64, 67, 0.15);\n",
              "      fill: #174EA6;\n",
              "    }\n",
              "\n",
              "    [theme=dark] .colab-df-convert {\n",
              "      background-color: #3B4455;\n",
              "      fill: #D2E3FC;\n",
              "    }\n",
              "\n",
              "    [theme=dark] .colab-df-convert:hover {\n",
              "      background-color: #434B5C;\n",
              "      box-shadow: 0px 1px 3px 1px rgba(0, 0, 0, 0.15);\n",
              "      filter: drop-shadow(0px 1px 2px rgba(0, 0, 0, 0.3));\n",
              "      fill: #FFFFFF;\n",
              "    }\n",
              "  </style>\n",
              "\n",
              "      <script>\n",
              "        const buttonEl =\n",
              "          document.querySelector('#df-833bc5cf-819b-4bec-b04e-b585d12b30cf button.colab-df-convert');\n",
              "        buttonEl.style.display =\n",
              "          google.colab.kernel.accessAllowed ? 'block' : 'none';\n",
              "\n",
              "        async function convertToInteractive(key) {\n",
              "          const element = document.querySelector('#df-833bc5cf-819b-4bec-b04e-b585d12b30cf');\n",
              "          const dataTable =\n",
              "            await google.colab.kernel.invokeFunction('convertToInteractive',\n",
              "                                                     [key], {});\n",
              "          if (!dataTable) return;\n",
              "\n",
              "          const docLinkHtml = 'Like what you see? Visit the ' +\n",
              "            '<a target=\"_blank\" href=https://colab.research.google.com/notebooks/data_table.ipynb>data table notebook</a>'\n",
              "            + ' to learn more about interactive tables.';\n",
              "          element.innerHTML = '';\n",
              "          dataTable['output_type'] = 'display_data';\n",
              "          await google.colab.output.renderOutput(dataTable, element);\n",
              "          const docLink = document.createElement('div');\n",
              "          docLink.innerHTML = docLinkHtml;\n",
              "          element.appendChild(docLink);\n",
              "        }\n",
              "      </script>\n",
              "    </div>\n",
              "  </div>\n",
              "  "
            ]
          },
          "metadata": {},
          "execution_count": 8
        }
      ]
    },
    {
      "cell_type": "code",
      "source": [
        "v1 = df.loc[(df['Version']=='V1'),'Signup'].mean() \n",
        "v1"
      ],
      "metadata": {
        "colab": {
          "base_uri": "https://localhost:8080/"
        },
        "id": "BNEsIGOpF1Jk",
        "outputId": "24169690-8480-446a-e44b-48b850c7f11f"
      },
      "execution_count": 44,
      "outputs": [
        {
          "output_type": "execute_result",
          "data": {
            "text/plain": [
              "0.11279497726780688"
            ]
          },
          "metadata": {},
          "execution_count": 44
        }
      ]
    },
    {
      "cell_type": "code",
      "source": [
        "ztest(x1 = df.loc[df['Version'] == 'V1','Signup'] , x2 = df.loc[df['Version'] == 'C','Signup'],alternative='larger')[1]\n",
        "#p value 0.00068  <0.05,  V1 is better than old"
      ],
      "metadata": {
        "colab": {
          "base_uri": "https://localhost:8080/"
        },
        "id": "ljoCdeSgGlge",
        "outputId": "d53106b1-7d4b-49ce-9752-63d9867c8c40"
      },
      "execution_count": 30,
      "outputs": [
        {
          "output_type": "execute_result",
          "data": {
            "text/plain": [
              "0.0006841645598729767"
            ]
          },
          "metadata": {},
          "execution_count": 30
        }
      ]
    },
    {
      "cell_type": "code",
      "source": [
        "ztest(x1 = df.loc[df['Version'] == 'V2','Signup'] , x2 = df.loc[df['Version'] == 'C','Signup'],alternative='larger')[1]\n",
        "#p value 0.15  >0.05, fails to prove V2 is better than old"
      ],
      "metadata": {
        "colab": {
          "base_uri": "https://localhost:8080/"
        },
        "id": "D8S_f0v5Hu13",
        "outputId": "cc65222c-4a76-42cd-bd73-04c493d27d86"
      },
      "execution_count": 31,
      "outputs": [
        {
          "output_type": "execute_result",
          "data": {
            "text/plain": [
              "0.1484628426089682"
            ]
          },
          "metadata": {},
          "execution_count": 31
        }
      ]
    },
    {
      "cell_type": "code",
      "source": [
        "df['Region'].unique()"
      ],
      "metadata": {
        "colab": {
          "base_uri": "https://localhost:8080/"
        },
        "id": "Zjy9XSo2JwOV",
        "outputId": "613e9f83-f898-44b3-fde3-7cbdec6f8d71"
      },
      "execution_count": 17,
      "outputs": [
        {
          "output_type": "execute_result",
          "data": {
            "text/plain": [
              "array(['West', 'Southwest', 'Northeast', 'Southeast', 'Midwest'],\n",
              "      dtype=object)"
            ]
          },
          "metadata": {},
          "execution_count": 17
        }
      ]
    },
    {
      "cell_type": "code",
      "source": [
        "# Region = West\n",
        "# Is V1 better than C in West?\n",
        "ztest(x1 = df.loc[(df['Version'] == 'V1') & (df['Region'] == 'West'),'Signup'] ,\\\n",
        "      x2 = df.loc[(df['Version'] == 'C') & (df['Region'] == 'West'),'Signup'],alternative='larger')[1]\n",
        "# Conclusion: V1 is NOT better than C for west > 0.05"
      ],
      "metadata": {
        "colab": {
          "base_uri": "https://localhost:8080/"
        },
        "id": "_ueToDQPJqP0",
        "outputId": "9c21e532-0f3b-40de-a9d9-ff18251731bb"
      },
      "execution_count": 18,
      "outputs": [
        {
          "output_type": "execute_result",
          "data": {
            "text/plain": [
              "0.14133220081695486"
            ]
          },
          "metadata": {},
          "execution_count": 18
        }
      ]
    },
    {
      "cell_type": "code",
      "source": [
        "# Region = West\n",
        "# Is V1 better than C in West?\n",
        "ztest(x1 = df.loc[(df['Version'] == 'V1') & (df['Region'] == 'Southwest'),'Signup'] ,\\\n",
        "      x2 = df.loc[(df['Version'] == 'C') & (df['Region'] == 'Southwest'),'Signup'],alternative='larger')[1]\n",
        "# Conclusion: V1 is NOT better than C for southwest > 0.05"
      ],
      "metadata": {
        "colab": {
          "base_uri": "https://localhost:8080/"
        },
        "id": "fxPBFOkcJ-kS",
        "outputId": "15c3c8c6-07c4-46f1-ecc8-a7b535ebb9db"
      },
      "execution_count": 19,
      "outputs": [
        {
          "output_type": "execute_result",
          "data": {
            "text/plain": [
              "0.07575379551890819"
            ]
          },
          "metadata": {},
          "execution_count": 19
        }
      ]
    },
    {
      "cell_type": "code",
      "source": [
        "# Region = West\n",
        "# Is V1 better than C in West?\n",
        "ztest(x1 = df.loc[(df['Version'] == 'V1') & (df['Region'] == 'Northeast'),'Signup'] ,\\\n",
        "      x2 = df.loc[(df['Version'] == 'C') & (df['Region'] == 'Northeast'),'Signup'],alternative='larger')[1]\n",
        "# Conclusion: V1 is NOT better than C for southwest > 0.05"
      ],
      "metadata": {
        "colab": {
          "base_uri": "https://localhost:8080/"
        },
        "id": "pIeyESiTKMOw",
        "outputId": "28421190-3156-4b7b-9a80-29a5b0d5b624"
      },
      "execution_count": 20,
      "outputs": [
        {
          "output_type": "execute_result",
          "data": {
            "text/plain": [
              "0.19261279821042981"
            ]
          },
          "metadata": {},
          "execution_count": 20
        }
      ]
    },
    {
      "cell_type": "code",
      "source": [
        "# Region = West\n",
        "# Is V1 better than C in West?\n",
        "ztest(x1 = df.loc[(df['Version'] == 'V1') & (df['Region'] == 'Southeast'),'Signup'] ,\\\n",
        "      x2 = df.loc[(df['Version'] == 'C') & (df['Region'] == 'Southeast'),'Signup'],alternative='larger')[1]\n",
        "# Conclusion: V1 is better than C for southeast < 0.05"
      ],
      "metadata": {
        "colab": {
          "base_uri": "https://localhost:8080/"
        },
        "id": "UeFWzcXmKVGd",
        "outputId": "e36cb2ab-3fad-41e4-f48c-ca1b3f1737c7"
      },
      "execution_count": 21,
      "outputs": [
        {
          "output_type": "execute_result",
          "data": {
            "text/plain": [
              "6.305858374978082e-06"
            ]
          },
          "metadata": {},
          "execution_count": 21
        }
      ]
    },
    {
      "cell_type": "code",
      "source": [
        "\n",
        "# Region = West\n",
        "# Is V1 better than C in West?\n",
        "ztest(x1 = df.loc[(df['Version'] == 'V1') & (df['Region'] == 'Midwest'),'Signup'] ,\\\n",
        "      x2 = df.loc[(df['Version'] == 'C') & (df['Region'] == 'Midwest'),'Signup'],alternative='larger')[1]\n",
        "# Conclusion: V1 is not better than C in midwest"
      ],
      "metadata": {
        "colab": {
          "base_uri": "https://localhost:8080/"
        },
        "id": "1ehZENYUKlhR",
        "outputId": "e6df99b7-f7d1-44a8-bf4f-16e6d69cc734"
      },
      "execution_count": 22,
      "outputs": [
        {
          "output_type": "execute_result",
          "data": {
            "text/plain": [
              "0.8811409161279675"
            ]
          },
          "metadata": {},
          "execution_count": 22
        }
      ]
    },
    {
      "cell_type": "code",
      "source": [],
      "metadata": {
        "id": "ksECRw2-KuG-"
      },
      "execution_count": null,
      "outputs": []
    },
    {
      "cell_type": "code",
      "source": [
        "# Region = West\n",
        "# Is V2 better than C in West?\n",
        "ztest(x1 = df.loc[(df['Version'] == 'V2') & (df['Region'] == 'West'),'Signup'] ,\\\n",
        "      x2 = df.loc[(df['Version'] == 'C') & (df['Region'] == 'West'),'Signup'],alternative='larger')[1]\n",
        "# Conclusion: V2 is NOT better than C for west"
      ],
      "metadata": {
        "colab": {
          "base_uri": "https://localhost:8080/"
        },
        "id": "HjFdqhxrH3sn",
        "outputId": "38ff369f-171b-43bf-daf8-8f08c2e581fd"
      },
      "execution_count": 14,
      "outputs": [
        {
          "output_type": "execute_result",
          "data": {
            "text/plain": [
              "0.31345472956069753"
            ]
          },
          "metadata": {},
          "execution_count": 14
        }
      ]
    },
    {
      "cell_type": "code",
      "source": [
        "# Region = 'West', 'Southwest', 'Northeast', 'Southeast', 'Midwest'\n",
        "# Is V2 better than C in West?\n",
        "ztest(x1 = df.loc[(df['Version'] == 'V2') & (df['Region'] == 'Southwest'),'Signup'] ,\\\n",
        "      x2 = df.loc[(df['Version'] == 'C') & (df['Region'] == 'Southwest'),'Signup'],alternative='larger')[1]\n",
        "# Conclusion: V2 is NOT better than C for west"
      ],
      "metadata": {
        "colab": {
          "base_uri": "https://localhost:8080/"
        },
        "id": "0-DJ3GvjJX6u",
        "outputId": "9aad9034-80ee-4dbc-eb84-14fa899fd662"
      },
      "execution_count": 23,
      "outputs": [
        {
          "output_type": "execute_result",
          "data": {
            "text/plain": [
              "0.5865661967631528"
            ]
          },
          "metadata": {},
          "execution_count": 23
        }
      ]
    },
    {
      "cell_type": "code",
      "source": [
        "# Region = West\n",
        "# Is V2 better than C in West?\n",
        "ztest(x1 = df.loc[(df['Version'] == 'V2') & (df['Region'] == 'Northeast'),'Signup'] ,\\\n",
        "      x2 = df.loc[(df['Version'] == 'C') & (df['Region'] == 'Northeast'),'Signup'],alternative='larger')[1]\n",
        "# Conclusion: V2 is better than C for mortheast  < 0.05"
      ],
      "metadata": {
        "colab": {
          "base_uri": "https://localhost:8080/"
        },
        "id": "xBpi3sTBKx4p",
        "outputId": "8b740218-b9ac-461c-eb43-4846be01f058"
      },
      "execution_count": 24,
      "outputs": [
        {
          "output_type": "execute_result",
          "data": {
            "text/plain": [
              "0.005066328065009041"
            ]
          },
          "metadata": {},
          "execution_count": 24
        }
      ]
    },
    {
      "cell_type": "code",
      "source": [
        "# Region = West\n",
        "# Is V2 better than C in West?\n",
        "ztest(x1 = df.loc[(df['Version'] == 'V2') & (df['Region'] == 'Southeast'),'Signup'] ,\\\n",
        "      x2 = df.loc[(df['Version'] == 'C') & (df['Region'] == 'Southeast'),'Signup'],alternative='larger')[1]\n",
        "# Conclusion: V2 is NOT better than C for west"
      ],
      "metadata": {
        "colab": {
          "base_uri": "https://localhost:8080/"
        },
        "id": "HUgNfWR6Ky2X",
        "outputId": "babcb78c-7784-400c-b999-1a7dc9545f89"
      },
      "execution_count": 25,
      "outputs": [
        {
          "output_type": "execute_result",
          "data": {
            "text/plain": [
              "0.6163769750275434"
            ]
          },
          "metadata": {},
          "execution_count": 25
        }
      ]
    },
    {
      "cell_type": "code",
      "source": [
        "# Region = West\n",
        "# Is V2 better than C in West?\n",
        "ztest(x1 = df.loc[(df['Version'] == 'V2') & (df['Region'] == 'Midwest'),'Signup'] ,\\\n",
        "      x2 = df.loc[(df['Version'] == 'C') & (df['Region'] == 'Midwest'),'Signup'],alternative='larger')[1]\n",
        "# Conclusion: V2 is NOT better than C for west"
      ],
      "metadata": {
        "colab": {
          "base_uri": "https://localhost:8080/"
        },
        "id": "iXd5OU9PKzAy",
        "outputId": "2d594df8-71d2-421c-fe93-2b66621471f5"
      },
      "execution_count": 26,
      "outputs": [
        {
          "output_type": "execute_result",
          "data": {
            "text/plain": [
              "0.9304467846327671"
            ]
          },
          "metadata": {},
          "execution_count": 26
        }
      ]
    },
    {
      "cell_type": "code",
      "source": [
        "df.head()"
      ],
      "metadata": {
        "colab": {
          "base_uri": "https://localhost:8080/",
          "height": 206
        },
        "id": "EQq-avT1ML7-",
        "outputId": "84fd1e45-e1b0-482d-cece-ba62e5b3cf44"
      },
      "execution_count": 27,
      "outputs": [
        {
          "output_type": "execute_result",
          "data": {
            "text/plain": [
              "  Version Language     Region    Amt Signup\n",
              "0       C   French       West  16.14      0\n",
              "1      V2   French  Southwest  25.79      0\n",
              "2       C  English  Northeast  46.22      0\n",
              "3       C  Spanish  Southeast  45.50      0\n",
              "4      V1  English       West  26.83      0"
            ],
            "text/html": [
              "\n",
              "  <div id=\"df-d2202f32-3fe2-48d5-b4e4-d4b0f2702218\">\n",
              "    <div class=\"colab-df-container\">\n",
              "      <div>\n",
              "<style scoped>\n",
              "    .dataframe tbody tr th:only-of-type {\n",
              "        vertical-align: middle;\n",
              "    }\n",
              "\n",
              "    .dataframe tbody tr th {\n",
              "        vertical-align: top;\n",
              "    }\n",
              "\n",
              "    .dataframe thead th {\n",
              "        text-align: right;\n",
              "    }\n",
              "</style>\n",
              "<table border=\"1\" class=\"dataframe\">\n",
              "  <thead>\n",
              "    <tr style=\"text-align: right;\">\n",
              "      <th></th>\n",
              "      <th>Version</th>\n",
              "      <th>Language</th>\n",
              "      <th>Region</th>\n",
              "      <th>Amt</th>\n",
              "      <th>Signup</th>\n",
              "    </tr>\n",
              "  </thead>\n",
              "  <tbody>\n",
              "    <tr>\n",
              "      <th>0</th>\n",
              "      <td>C</td>\n",
              "      <td>French</td>\n",
              "      <td>West</td>\n",
              "      <td>16.14</td>\n",
              "      <td>0</td>\n",
              "    </tr>\n",
              "    <tr>\n",
              "      <th>1</th>\n",
              "      <td>V2</td>\n",
              "      <td>French</td>\n",
              "      <td>Southwest</td>\n",
              "      <td>25.79</td>\n",
              "      <td>0</td>\n",
              "    </tr>\n",
              "    <tr>\n",
              "      <th>2</th>\n",
              "      <td>C</td>\n",
              "      <td>English</td>\n",
              "      <td>Northeast</td>\n",
              "      <td>46.22</td>\n",
              "      <td>0</td>\n",
              "    </tr>\n",
              "    <tr>\n",
              "      <th>3</th>\n",
              "      <td>C</td>\n",
              "      <td>Spanish</td>\n",
              "      <td>Southeast</td>\n",
              "      <td>45.50</td>\n",
              "      <td>0</td>\n",
              "    </tr>\n",
              "    <tr>\n",
              "      <th>4</th>\n",
              "      <td>V1</td>\n",
              "      <td>English</td>\n",
              "      <td>West</td>\n",
              "      <td>26.83</td>\n",
              "      <td>0</td>\n",
              "    </tr>\n",
              "  </tbody>\n",
              "</table>\n",
              "</div>\n",
              "      <button class=\"colab-df-convert\" onclick=\"convertToInteractive('df-d2202f32-3fe2-48d5-b4e4-d4b0f2702218')\"\n",
              "              title=\"Convert this dataframe to an interactive table.\"\n",
              "              style=\"display:none;\">\n",
              "        \n",
              "  <svg xmlns=\"http://www.w3.org/2000/svg\" height=\"24px\"viewBox=\"0 0 24 24\"\n",
              "       width=\"24px\">\n",
              "    <path d=\"M0 0h24v24H0V0z\" fill=\"none\"/>\n",
              "    <path d=\"M18.56 5.44l.94 2.06.94-2.06 2.06-.94-2.06-.94-.94-2.06-.94 2.06-2.06.94zm-11 1L8.5 8.5l.94-2.06 2.06-.94-2.06-.94L8.5 2.5l-.94 2.06-2.06.94zm10 10l.94 2.06.94-2.06 2.06-.94-2.06-.94-.94-2.06-.94 2.06-2.06.94z\"/><path d=\"M17.41 7.96l-1.37-1.37c-.4-.4-.92-.59-1.43-.59-.52 0-1.04.2-1.43.59L10.3 9.45l-7.72 7.72c-.78.78-.78 2.05 0 2.83L4 21.41c.39.39.9.59 1.41.59.51 0 1.02-.2 1.41-.59l7.78-7.78 2.81-2.81c.8-.78.8-2.07 0-2.86zM5.41 20L4 18.59l7.72-7.72 1.47 1.35L5.41 20z\"/>\n",
              "  </svg>\n",
              "      </button>\n",
              "      \n",
              "  <style>\n",
              "    .colab-df-container {\n",
              "      display:flex;\n",
              "      flex-wrap:wrap;\n",
              "      gap: 12px;\n",
              "    }\n",
              "\n",
              "    .colab-df-convert {\n",
              "      background-color: #E8F0FE;\n",
              "      border: none;\n",
              "      border-radius: 50%;\n",
              "      cursor: pointer;\n",
              "      display: none;\n",
              "      fill: #1967D2;\n",
              "      height: 32px;\n",
              "      padding: 0 0 0 0;\n",
              "      width: 32px;\n",
              "    }\n",
              "\n",
              "    .colab-df-convert:hover {\n",
              "      background-color: #E2EBFA;\n",
              "      box-shadow: 0px 1px 2px rgba(60, 64, 67, 0.3), 0px 1px 3px 1px rgba(60, 64, 67, 0.15);\n",
              "      fill: #174EA6;\n",
              "    }\n",
              "\n",
              "    [theme=dark] .colab-df-convert {\n",
              "      background-color: #3B4455;\n",
              "      fill: #D2E3FC;\n",
              "    }\n",
              "\n",
              "    [theme=dark] .colab-df-convert:hover {\n",
              "      background-color: #434B5C;\n",
              "      box-shadow: 0px 1px 3px 1px rgba(0, 0, 0, 0.15);\n",
              "      filter: drop-shadow(0px 1px 2px rgba(0, 0, 0, 0.3));\n",
              "      fill: #FFFFFF;\n",
              "    }\n",
              "  </style>\n",
              "\n",
              "      <script>\n",
              "        const buttonEl =\n",
              "          document.querySelector('#df-d2202f32-3fe2-48d5-b4e4-d4b0f2702218 button.colab-df-convert');\n",
              "        buttonEl.style.display =\n",
              "          google.colab.kernel.accessAllowed ? 'block' : 'none';\n",
              "\n",
              "        async function convertToInteractive(key) {\n",
              "          const element = document.querySelector('#df-d2202f32-3fe2-48d5-b4e4-d4b0f2702218');\n",
              "          const dataTable =\n",
              "            await google.colab.kernel.invokeFunction('convertToInteractive',\n",
              "                                                     [key], {});\n",
              "          if (!dataTable) return;\n",
              "\n",
              "          const docLinkHtml = 'Like what you see? Visit the ' +\n",
              "            '<a target=\"_blank\" href=https://colab.research.google.com/notebooks/data_table.ipynb>data table notebook</a>'\n",
              "            + ' to learn more about interactive tables.';\n",
              "          element.innerHTML = '';\n",
              "          dataTable['output_type'] = 'display_data';\n",
              "          await google.colab.output.renderOutput(dataTable, element);\n",
              "          const docLink = document.createElement('div');\n",
              "          docLink.innerHTML = docLinkHtml;\n",
              "          element.appendChild(docLink);\n",
              "        }\n",
              "      </script>\n",
              "    </div>\n",
              "  </div>\n",
              "  "
            ]
          },
          "metadata": {},
          "execution_count": 27
        }
      ]
    },
    {
      "cell_type": "code",
      "source": [
        "ztest(x1 = df.loc[df['Version'] == 'V1','Amt'] , x2 = df.loc[df['Version'] == 'C','Amt'],alternative='larger')[1]"
      ],
      "metadata": {
        "colab": {
          "base_uri": "https://localhost:8080/"
        },
        "id": "g4ES1DI8LOsJ",
        "outputId": "dfd5e5cb-53d4-41e9-d01e-42b0fda344a9"
      },
      "execution_count": 29,
      "outputs": [
        {
          "output_type": "execute_result",
          "data": {
            "text/plain": [
              "0.30154067118348127"
            ]
          },
          "metadata": {},
          "execution_count": 29
        }
      ]
    },
    {
      "cell_type": "code",
      "source": [
        "ztest(x1 = df.loc[df['Version'] == 'V2','Amt'] , x2 = df.loc[df['Version'] == 'C','Amt'],alternative='larger')[1]"
      ],
      "metadata": {
        "colab": {
          "base_uri": "https://localhost:8080/"
        },
        "id": "D-s-woXaMWmg",
        "outputId": "26beb6ad-4f25-4357-fb7c-1f15e26ea21e"
      },
      "execution_count": 33,
      "outputs": [
        {
          "output_type": "execute_result",
          "data": {
            "text/plain": [
              "0.5741166040654028"
            ]
          },
          "metadata": {},
          "execution_count": 33
        }
      ]
    },
    {
      "cell_type": "code",
      "source": [
        "# Region = 'West', 'Southwest', 'Northeast', 'Southeast', 'Midwest'\n",
        "# Is V1 better than C in West?\n",
        "ztest(x1 = df.loc[(df['Version'] == 'V1') & (df['Region'] == 'West'),'Amt'] ,\\\n",
        "      x2 = df.loc[(df['Version'] == 'C') & (df['Region'] == 'West'),'Amt'],alternative='larger')[1]\n",
        "# Conclusion: V1 is NOT better than C for west > 0.05"
      ],
      "metadata": {
        "colab": {
          "base_uri": "https://localhost:8080/"
        },
        "id": "bESkHxVjMkW7",
        "outputId": "95a38bfb-e916-416f-da5b-c367b41ea4f3"
      },
      "execution_count": 34,
      "outputs": [
        {
          "output_type": "execute_result",
          "data": {
            "text/plain": [
              "0.6265167986812902"
            ]
          },
          "metadata": {},
          "execution_count": 34
        }
      ]
    },
    {
      "cell_type": "code",
      "source": [
        "# Region = West\n",
        "# Is V1 better than C in West?\n",
        "ztest(x1 = df.loc[(df['Version'] == 'V1') & (df['Region'] == 'Southwest'),'Amt'] ,\\\n",
        "      x2 = df.loc[(df['Version'] == 'C') & (df['Region'] == 'Southwest'),'Amt'],alternative='larger')[1]\n",
        "# Conclusion: V1 is NOT better than C for west > 0.05"
      ],
      "metadata": {
        "colab": {
          "base_uri": "https://localhost:8080/"
        },
        "id": "uwNH8NKSM42M",
        "outputId": "b6ac39b8-8e87-4bf8-8b99-516882157074"
      },
      "execution_count": 35,
      "outputs": [
        {
          "output_type": "execute_result",
          "data": {
            "text/plain": [
              "0.42943238727437205"
            ]
          },
          "metadata": {},
          "execution_count": 35
        }
      ]
    },
    {
      "cell_type": "code",
      "source": [
        "# Region = West\n",
        "# Is V1 better than C in West?\n",
        "ztest(x1 = df.loc[(df['Version'] == 'V1') & (df['Region'] == 'Northeast'),'Amt'] ,\\\n",
        "      x2 = df.loc[(df['Version'] == 'C') & (df['Region'] == 'Northeast'),'Amt'],alternative='larger')[1]\n",
        "# Conclusion: V1 is NOT better than C for west > 0.05"
      ],
      "metadata": {
        "colab": {
          "base_uri": "https://localhost:8080/"
        },
        "id": "pQEvwRzrM5Pc",
        "outputId": "6db8a32d-4c39-4e3b-8e3c-1f9ab4d2a7a8"
      },
      "execution_count": 36,
      "outputs": [
        {
          "output_type": "execute_result",
          "data": {
            "text/plain": [
              "0.3481272108094268"
            ]
          },
          "metadata": {},
          "execution_count": 36
        }
      ]
    },
    {
      "cell_type": "code",
      "source": [
        "# Region = West\n",
        "# Is V1 better than C in West?\n",
        "ztest(x1 = df.loc[(df['Version'] == 'V1') & (df['Region'] == 'Southeast'),'Amt'] ,\\\n",
        "      x2 = df.loc[(df['Version'] == 'C') & (df['Region'] == 'Southeast'),'Amt'],alternative='larger')[1]\n",
        "# Conclusion: V1 is NOT better than C for west > 0.05"
      ],
      "metadata": {
        "colab": {
          "base_uri": "https://localhost:8080/"
        },
        "id": "G8XcnQBVM5br",
        "outputId": "0ff7b49c-d2a4-43b9-de71-4c439ffd07f4"
      },
      "execution_count": 37,
      "outputs": [
        {
          "output_type": "execute_result",
          "data": {
            "text/plain": [
              "0.572763151330592"
            ]
          },
          "metadata": {},
          "execution_count": 37
        }
      ]
    },
    {
      "cell_type": "code",
      "source": [
        "# Region = West\n",
        "# Is V1 better than C in West?\n",
        "ztest(x1 = df.loc[(df['Version'] == 'V1') & (df['Region'] == 'Midwest'),'Amt'] ,\\\n",
        "      x2 = df.loc[(df['Version'] == 'C') & (df['Region'] == 'Midwest'),'Amt'],alternative='larger')[1]\n",
        "# Conclusion: V1 is NOT better than C for west > 0.05"
      ],
      "metadata": {
        "colab": {
          "base_uri": "https://localhost:8080/"
        },
        "id": "Bu8N-3IlM5jg",
        "outputId": "6036a16f-74fd-4fb8-c7ef-c577cb44ead5"
      },
      "execution_count": 38,
      "outputs": [
        {
          "output_type": "execute_result",
          "data": {
            "text/plain": [
              "0.059022309670106146"
            ]
          },
          "metadata": {},
          "execution_count": 38
        }
      ]
    },
    {
      "cell_type": "code",
      "source": [],
      "metadata": {
        "id": "6Rk1WV8UM6ET"
      },
      "execution_count": null,
      "outputs": []
    },
    {
      "cell_type": "code",
      "source": [
        "# Region = west, 'Southwest', 'Northeast', 'Southeast', 'Midwest'\n",
        "# Is V2 better than C in West?\n",
        "ztest(x1 = df.loc[(df['Version'] == 'V2') & (df['Region'] == 'West'),'Amt'] ,\\\n",
        "      x2 = df.loc[(df['Version'] == 'C') & (df['Region'] == 'West'),'Amt'],alternative='larger')[1]\n",
        "# Conclusion: V2 is NOT better than C for west"
      ],
      "metadata": {
        "colab": {
          "base_uri": "https://localhost:8080/"
        },
        "id": "MBTCwtz3M6Of",
        "outputId": "c2a2d165-785c-4f27-c24f-82dd4ee11196"
      },
      "execution_count": 39,
      "outputs": [
        {
          "output_type": "execute_result",
          "data": {
            "text/plain": [
              "0.6083000910969057"
            ]
          },
          "metadata": {},
          "execution_count": 39
        }
      ]
    },
    {
      "cell_type": "code",
      "source": [
        "# Region = West\n",
        "# Is V2 better than C in West?\n",
        "ztest(x1 = df.loc[(df['Version'] == 'V2') & (df['Region'] == 'Southwest'),'Amt'] ,\\\n",
        "      x2 = df.loc[(df['Version'] == 'C') & (df['Region'] == 'Southwest'),'Amt'],alternative='larger')[1]\n",
        "# Conclusion: V2 is NOT better than C for west"
      ],
      "metadata": {
        "colab": {
          "base_uri": "https://localhost:8080/"
        },
        "id": "kAXS9ETvM6Vx",
        "outputId": "09a756a8-a6cb-4726-aba5-57b38918dd23"
      },
      "execution_count": 40,
      "outputs": [
        {
          "output_type": "execute_result",
          "data": {
            "text/plain": [
              "0.6580258646418031"
            ]
          },
          "metadata": {},
          "execution_count": 40
        }
      ]
    },
    {
      "cell_type": "code",
      "source": [
        "# Region = West\n",
        "# Is V2 better than C in West?\n",
        "ztest(x1 = df.loc[(df['Version'] == 'V2') & (df['Region'] == 'Northeast'),'Amt'] ,\\\n",
        "      x2 = df.loc[(df['Version'] == 'C') & (df['Region'] == 'Northeast'),'Amt'],alternative='larger')[1]\n",
        "# Conclusion: V2 is NOT better than C for west"
      ],
      "metadata": {
        "colab": {
          "base_uri": "https://localhost:8080/"
        },
        "id": "jGSkmmy7M6cg",
        "outputId": "aa70681a-6e6f-4227-f6fe-1f53966a1eb8"
      },
      "execution_count": 41,
      "outputs": [
        {
          "output_type": "execute_result",
          "data": {
            "text/plain": [
              "0.13296010250301316"
            ]
          },
          "metadata": {},
          "execution_count": 41
        }
      ]
    },
    {
      "cell_type": "code",
      "source": [
        "# Region = West\n",
        "# Is V2 better than C in West?\n",
        "ztest(x1 = df.loc[(df['Version'] == 'V2') & (df['Region'] == 'Southeast'),'Amt'] ,\\\n",
        "      x2 = df.loc[(df['Version'] == 'C') & (df['Region'] == 'Southeast'),'Amt'],alternative='larger')[1]\n",
        "# Conclusion: V2 is NOT better than C for west"
      ],
      "metadata": {
        "colab": {
          "base_uri": "https://localhost:8080/"
        },
        "id": "_dnS6qUUM6iw",
        "outputId": "ff58f34c-90ea-4e74-b400-e1fe930eef8f"
      },
      "execution_count": 42,
      "outputs": [
        {
          "output_type": "execute_result",
          "data": {
            "text/plain": [
              "0.8963265570670613"
            ]
          },
          "metadata": {},
          "execution_count": 42
        }
      ]
    },
    {
      "cell_type": "code",
      "source": [
        "# Region = West\n",
        "# Is V2 better than C in West?\n",
        "ztest(x1 = df.loc[(df['Version'] == 'V2') & (df['Region'] == 'Midwest'),'Amt'] ,\\\n",
        "      x2 = df.loc[(df['Version'] == 'C') & (df['Region'] == 'Midwest'),'Amt'],alternative='larger')[1]\n",
        "# Conclusion: V2 is NOT better than C for west"
      ],
      "metadata": {
        "colab": {
          "base_uri": "https://localhost:8080/"
        },
        "id": "s0aNVvbrM6pR",
        "outputId": "7881d7ff-cfd4-4c68-e00e-5d79db3625c3"
      },
      "execution_count": 43,
      "outputs": [
        {
          "output_type": "execute_result",
          "data": {
            "text/plain": [
              "0.42634751991913344"
            ]
          },
          "metadata": {},
          "execution_count": 43
        }
      ]
    },
    {
      "cell_type": "code",
      "source": [],
      "metadata": {
        "id": "f4pkxS18OH7o"
      },
      "execution_count": null,
      "outputs": []
    }
  ]
}