{
  "nbformat": 4,
  "nbformat_minor": 0,
  "metadata": {
    "colab": {
      "provenance": []
    },
    "kernelspec": {
      "name": "python3",
      "display_name": "Python 3"
    },
    "language_info": {
      "name": "python"
    }
  },
  "cells": [
    {
      "cell_type": "code",
      "execution_count": 1,
      "metadata": {
        "id": "UV2jQKa2rvVt"
      },
      "outputs": [],
      "source": [
        "import pandas as pd\n",
        "from statsmodels.stats.weightstats import ztest\n",
        "import math\n",
        "\n",
        "from statsmodels.stats.power import NormalIndPower\n",
        "\n",
        "import numpy as np"
      ]
    },
    {
      "cell_type": "code",
      "source": [
        "df = pd.read_excel('https://github.com/robertasgabrys/DSO559/blob/main/CookieCats.xlsx?raw=true')\n",
        "df.head()"
      ],
      "metadata": {
        "colab": {
          "base_uri": "https://localhost:8080/",
          "height": 206
        },
        "id": "Xy0ajSJoKSXJ",
        "outputId": "0f41d85c-deca-4f8d-cbba-7375e6b9d998"
      },
      "execution_count": 2,
      "outputs": [
        {
          "output_type": "execute_result",
          "data": {
            "text/plain": [
              "   UserID Version  Number_Of_Games Gamer_Experience Retention_1\n",
              "0     116     Old                3         Advanced          No\n",
              "1     337     Old               38     Intermediate         Yes\n",
              "2     377     New              165     Intermediate         Yes\n",
              "3     483     New                1         Advanced          No\n",
              "4     488     New              179     Intermediate         Yes"
            ],
            "text/html": [
              "\n",
              "  <div id=\"df-449f01d7-1c21-454b-b992-a37e6daf30d1\">\n",
              "    <div class=\"colab-df-container\">\n",
              "      <div>\n",
              "<style scoped>\n",
              "    .dataframe tbody tr th:only-of-type {\n",
              "        vertical-align: middle;\n",
              "    }\n",
              "\n",
              "    .dataframe tbody tr th {\n",
              "        vertical-align: top;\n",
              "    }\n",
              "\n",
              "    .dataframe thead th {\n",
              "        text-align: right;\n",
              "    }\n",
              "</style>\n",
              "<table border=\"1\" class=\"dataframe\">\n",
              "  <thead>\n",
              "    <tr style=\"text-align: right;\">\n",
              "      <th></th>\n",
              "      <th>UserID</th>\n",
              "      <th>Version</th>\n",
              "      <th>Number_Of_Games</th>\n",
              "      <th>Gamer_Experience</th>\n",
              "      <th>Retention_1</th>\n",
              "    </tr>\n",
              "  </thead>\n",
              "  <tbody>\n",
              "    <tr>\n",
              "      <th>0</th>\n",
              "      <td>116</td>\n",
              "      <td>Old</td>\n",
              "      <td>3</td>\n",
              "      <td>Advanced</td>\n",
              "      <td>No</td>\n",
              "    </tr>\n",
              "    <tr>\n",
              "      <th>1</th>\n",
              "      <td>337</td>\n",
              "      <td>Old</td>\n",
              "      <td>38</td>\n",
              "      <td>Intermediate</td>\n",
              "      <td>Yes</td>\n",
              "    </tr>\n",
              "    <tr>\n",
              "      <th>2</th>\n",
              "      <td>377</td>\n",
              "      <td>New</td>\n",
              "      <td>165</td>\n",
              "      <td>Intermediate</td>\n",
              "      <td>Yes</td>\n",
              "    </tr>\n",
              "    <tr>\n",
              "      <th>3</th>\n",
              "      <td>483</td>\n",
              "      <td>New</td>\n",
              "      <td>1</td>\n",
              "      <td>Advanced</td>\n",
              "      <td>No</td>\n",
              "    </tr>\n",
              "    <tr>\n",
              "      <th>4</th>\n",
              "      <td>488</td>\n",
              "      <td>New</td>\n",
              "      <td>179</td>\n",
              "      <td>Intermediate</td>\n",
              "      <td>Yes</td>\n",
              "    </tr>\n",
              "  </tbody>\n",
              "</table>\n",
              "</div>\n",
              "      <button class=\"colab-df-convert\" onclick=\"convertToInteractive('df-449f01d7-1c21-454b-b992-a37e6daf30d1')\"\n",
              "              title=\"Convert this dataframe to an interactive table.\"\n",
              "              style=\"display:none;\">\n",
              "        \n",
              "  <svg xmlns=\"http://www.w3.org/2000/svg\" height=\"24px\"viewBox=\"0 0 24 24\"\n",
              "       width=\"24px\">\n",
              "    <path d=\"M0 0h24v24H0V0z\" fill=\"none\"/>\n",
              "    <path d=\"M18.56 5.44l.94 2.06.94-2.06 2.06-.94-2.06-.94-.94-2.06-.94 2.06-2.06.94zm-11 1L8.5 8.5l.94-2.06 2.06-.94-2.06-.94L8.5 2.5l-.94 2.06-2.06.94zm10 10l.94 2.06.94-2.06 2.06-.94-2.06-.94-.94-2.06-.94 2.06-2.06.94z\"/><path d=\"M17.41 7.96l-1.37-1.37c-.4-.4-.92-.59-1.43-.59-.52 0-1.04.2-1.43.59L10.3 9.45l-7.72 7.72c-.78.78-.78 2.05 0 2.83L4 21.41c.39.39.9.59 1.41.59.51 0 1.02-.2 1.41-.59l7.78-7.78 2.81-2.81c.8-.78.8-2.07 0-2.86zM5.41 20L4 18.59l7.72-7.72 1.47 1.35L5.41 20z\"/>\n",
              "  </svg>\n",
              "      </button>\n",
              "      \n",
              "  <style>\n",
              "    .colab-df-container {\n",
              "      display:flex;\n",
              "      flex-wrap:wrap;\n",
              "      gap: 12px;\n",
              "    }\n",
              "\n",
              "    .colab-df-convert {\n",
              "      background-color: #E8F0FE;\n",
              "      border: none;\n",
              "      border-radius: 50%;\n",
              "      cursor: pointer;\n",
              "      display: none;\n",
              "      fill: #1967D2;\n",
              "      height: 32px;\n",
              "      padding: 0 0 0 0;\n",
              "      width: 32px;\n",
              "    }\n",
              "\n",
              "    .colab-df-convert:hover {\n",
              "      background-color: #E2EBFA;\n",
              "      box-shadow: 0px 1px 2px rgba(60, 64, 67, 0.3), 0px 1px 3px 1px rgba(60, 64, 67, 0.15);\n",
              "      fill: #174EA6;\n",
              "    }\n",
              "\n",
              "    [theme=dark] .colab-df-convert {\n",
              "      background-color: #3B4455;\n",
              "      fill: #D2E3FC;\n",
              "    }\n",
              "\n",
              "    [theme=dark] .colab-df-convert:hover {\n",
              "      background-color: #434B5C;\n",
              "      box-shadow: 0px 1px 3px 1px rgba(0, 0, 0, 0.15);\n",
              "      filter: drop-shadow(0px 1px 2px rgba(0, 0, 0, 0.3));\n",
              "      fill: #FFFFFF;\n",
              "    }\n",
              "  </style>\n",
              "\n",
              "      <script>\n",
              "        const buttonEl =\n",
              "          document.querySelector('#df-449f01d7-1c21-454b-b992-a37e6daf30d1 button.colab-df-convert');\n",
              "        buttonEl.style.display =\n",
              "          google.colab.kernel.accessAllowed ? 'block' : 'none';\n",
              "\n",
              "        async function convertToInteractive(key) {\n",
              "          const element = document.querySelector('#df-449f01d7-1c21-454b-b992-a37e6daf30d1');\n",
              "          const dataTable =\n",
              "            await google.colab.kernel.invokeFunction('convertToInteractive',\n",
              "                                                     [key], {});\n",
              "          if (!dataTable) return;\n",
              "\n",
              "          const docLinkHtml = 'Like what you see? Visit the ' +\n",
              "            '<a target=\"_blank\" href=https://colab.research.google.com/notebooks/data_table.ipynb>data table notebook</a>'\n",
              "            + ' to learn more about interactive tables.';\n",
              "          element.innerHTML = '';\n",
              "          dataTable['output_type'] = 'display_data';\n",
              "          await google.colab.output.renderOutput(dataTable, element);\n",
              "          const docLink = document.createElement('div');\n",
              "          docLink.innerHTML = docLinkHtml;\n",
              "          element.appendChild(docLink);\n",
              "        }\n",
              "      </script>\n",
              "    </div>\n",
              "  </div>\n",
              "  "
            ]
          },
          "metadata": {},
          "execution_count": 2
        }
      ]
    },
    {
      "cell_type": "code",
      "source": [
        "# replace N Y with 0 and 1 in Share column\n",
        "df.loc[df['Retention_1'] == 'No','Retention_1'] = 0\n",
        "df.loc[df['Retention_1'] == 'Yes','Retention_1'] = 1"
      ],
      "metadata": {
        "id": "m8pxcqhQKSgn"
      },
      "execution_count": 3,
      "outputs": []
    },
    {
      "cell_type": "code",
      "source": [
        "# 1\n",
        "df['Retention_1'].mean().round(2)"
      ],
      "metadata": {
        "colab": {
          "base_uri": "https://localhost:8080/"
        },
        "id": "b4iVz6CNKSkH",
        "outputId": "94db21dc-77a4-43f2-8e36-597989fdaf4e"
      },
      "execution_count": 4,
      "outputs": [
        {
          "output_type": "execute_result",
          "data": {
            "text/plain": [
              "0.3"
            ]
          },
          "metadata": {},
          "execution_count": 4
        }
      ]
    },
    {
      "cell_type": "code",
      "source": [
        "# 2\n",
        "# Question: \n",
        "# Ho: 1-day retention for new version - 1-day retention for old version <= 0\n",
        "# Ha: 1-day retention for new version - 1-day retention for old version > 0\n",
        "\n",
        "ztest(x1 = df.loc[df['Version'] == \"New\",'Retention_1'] , x2 = df.loc[df['Version'] == 'Old','Retention_1'],alternative='larger')[1].round(2)"
      ],
      "metadata": {
        "colab": {
          "base_uri": "https://localhost:8080/"
        },
        "id": "iz3mGzvqKSnH",
        "outputId": "f94983bd-8825-4518-e329-a4486ea01cdd"
      },
      "execution_count": 5,
      "outputs": [
        {
          "output_type": "execute_result",
          "data": {
            "text/plain": [
              "0.0"
            ]
          },
          "metadata": {},
          "execution_count": 5
        }
      ]
    },
    {
      "cell_type": "code",
      "source": [
        "# 3\n",
        "# Since the p-value < 0.05, reject Ho and accept Ha and conclude the new version increased 1-day retention statistically significantly than the old one. "
      ],
      "metadata": {
        "id": "95YFBVI8KSpy"
      },
      "execution_count": 6,
      "outputs": []
    },
    {
      "cell_type": "code",
      "source": [
        "# 4\n",
        "df['Gamer_Experience'].unique()"
      ],
      "metadata": {
        "colab": {
          "base_uri": "https://localhost:8080/"
        },
        "id": "-UaYCh_SKSsK",
        "outputId": "283ee6db-0311-4a0f-dc55-fbb7e30e8c81"
      },
      "execution_count": 7,
      "outputs": [
        {
          "output_type": "execute_result",
          "data": {
            "text/plain": [
              "array(['Advanced', 'Intermediate', 'Beginner'], dtype=object)"
            ]
          },
          "metadata": {},
          "execution_count": 7
        }
      ]
    },
    {
      "cell_type": "code",
      "source": [
        "print(df['Gamer_Experience'].unique()[0])\n",
        "print(ztest(x1 = df.loc[(df['Version'] == \"New\") & (df['Gamer_Experience'] == df['Gamer_Experience'].unique()[0]),'Retention_1'],\\\n",
        "      x2 = df.loc[(df['Version'] == 'Old') & (df['Gamer_Experience'] == df['Gamer_Experience'].unique()[0]),'Retention_1'],alternative='larger')[1].round(2))\n",
        "\n",
        "print(df['Gamer_Experience'].unique()[2])\n",
        "print(ztest(x1 = df.loc[(df['Version'] == \"New\") & (df['Gamer_Experience'] == df['Gamer_Experience'].unique()[2]),'Retention_1'],\\\n",
        "      x2 = df.loc[(df['Version'] == 'Old') & (df['Gamer_Experience'] == df['Gamer_Experience'].unique()[2]),'Retention_1'],alternative='larger')[1].round(2))\n",
        "\n",
        "print(df['Gamer_Experience'].unique()[1])\n",
        "print(ztest(x1 = df.loc[(df['Version'] == \"New\") & (df['Gamer_Experience'] == df['Gamer_Experience'].unique()[1]),'Retention_1'],\\\n",
        "      x2 = df.loc[(df['Version'] == 'Old') & (df['Gamer_Experience'] == df['Gamer_Experience'].unique()[1]),'Retention_1'],alternative='larger')[1].round(2))\n",
        "\n",
        "# Only for Intermediate new version is effective and increases 1-day retention statistically significantly. \n",
        "# Gamer experience is a confoundign factor. "
      ],
      "metadata": {
        "colab": {
          "base_uri": "https://localhost:8080/"
        },
        "id": "KDEZolVKKSu2",
        "outputId": "3d04872e-bc7e-409f-b2f7-3702ac8dd085"
      },
      "execution_count": 8,
      "outputs": [
        {
          "output_type": "stream",
          "name": "stdout",
          "text": [
            "Advanced\n",
            "0.11\n",
            "Beginner\n",
            "0.33\n",
            "Intermediate\n",
            "0.0\n"
          ]
        }
      ]
    }
  ]
}